{
 "cells": [
  {
   "cell_type": "code",
   "execution_count": 1,
   "metadata": {},
   "outputs": [
    {
     "name": "stdout",
     "output_type": "stream",
     "text": [
      "Tue Jul  2 14:46:41 2024       \n",
      "+-----------------------------------------------------------------------------------------+\n",
      "| NVIDIA-SMI 555.52.04              Driver Version: 555.52.04      CUDA Version: 12.5     |\n",
      "|-----------------------------------------+------------------------+----------------------+\n",
      "| GPU  Name                 Persistence-M | Bus-Id          Disp.A | Volatile Uncorr. ECC |\n",
      "| Fan  Temp   Perf          Pwr:Usage/Cap |           Memory-Usage | GPU-Util  Compute M. |\n",
      "|                                         |                        |               MIG M. |\n",
      "|=========================================+========================+======================|\n",
      "|   0  NVIDIA GeForce RTX 3060 ...    Off |   00000000:01:00.0  On |                  N/A |\n",
      "| N/A   56C    P3             22W /  100W |    5710MiB /   6144MiB |     23%      Default |\n",
      "|                                         |                        |                  N/A |\n",
      "+-----------------------------------------+------------------------+----------------------+\n",
      "                                                                                         \n",
      "+-----------------------------------------------------------------------------------------+\n",
      "| Processes:                                                                              |\n",
      "|  GPU   GI   CI        PID   Type   Process name                              GPU Memory |\n",
      "|        ID   ID                                                               Usage      |\n",
      "|=========================================================================================|\n",
      "|    0   N/A  N/A      3279      G   /usr/lib/xorg/Xorg                            149MiB |\n",
      "|    0   N/A  N/A     38149      C   ...rio/miniconda3/envs/luna/bin/python       5542MiB |\n",
      "+-----------------------------------------------------------------------------------------+\n"
     ]
    }
   ],
   "source": [
    "#########################################################################\n",
    "## COMPROBAR GPU ASIGNADA EN COLABORATORY\n",
    "#########################################################################\n",
    "gpu_info = !nvidia-smi\n",
    "gpu_info = '\\n'.join(gpu_info)\n",
    "if gpu_info.find('failed') >= 0:\n",
    "  print('Not connected to a GPU')\n",
    "else:\n",
    "  print(gpu_info)"
   ]
  },
  {
   "cell_type": "code",
   "execution_count": 2,
   "metadata": {},
   "outputs": [
    {
     "name": "stderr",
     "output_type": "stream",
     "text": [
      "2024-07-02 14:46:42.173907: I tensorflow/stream_executor/platform/default/dso_loader.cc:49] Successfully opened dynamic library libcudart.so.10.1\n"
     ]
    }
   ],
   "source": [
    "#########################################################################\n",
    "## LIBRERIAS NECESARIAS\n",
    "#########################################################################\n",
    "import tensorflow as tf\n",
    "import gymnasium as gym\n",
    "from stable_baselines3 import PPO\n",
    "from tensorflow.keras.layers import concatenate\n",
    "import numpy as np\n",
    "import keras\n",
    "import matplotlib.pyplot as plt\n",
    "from keras import layers\n",
    "from sklearn.model_selection import train_test_split\n",
    "\n",
    "import os\n",
    "from stable_baselines3.common.vec_env import DummyVecEnv"
   ]
  },
  {
   "cell_type": "code",
   "execution_count": 3,
   "metadata": {},
   "outputs": [
    {
     "name": "stdout",
     "output_type": "stream",
     "text": [
      "Num GPUs Available:  0\n"
     ]
    },
    {
     "name": "stderr",
     "output_type": "stream",
     "text": [
      "2024-07-02 14:46:46.286978: I tensorflow/compiler/jit/xla_cpu_device.cc:41] Not creating XLA devices, tf_xla_enable_xla_devices not set\n",
      "2024-07-02 14:46:46.287206: I tensorflow/stream_executor/platform/default/dso_loader.cc:49] Successfully opened dynamic library libcuda.so.1\n",
      "2024-07-02 14:46:46.297526: E tensorflow/stream_executor/cuda/cuda_driver.cc:328] failed call to cuInit: CUDA_ERROR_UNKNOWN: unknown error\n",
      "2024-07-02 14:46:46.297559: I tensorflow/stream_executor/cuda/cuda_diagnostics.cc:169] retrieving CUDA diagnostic information for host: usuario-1-0\n",
      "2024-07-02 14:46:46.297563: I tensorflow/stream_executor/cuda/cuda_diagnostics.cc:176] hostname: usuario-1-0\n",
      "2024-07-02 14:46:46.297757: I tensorflow/stream_executor/cuda/cuda_diagnostics.cc:200] libcuda reported version is: 555.52.4\n",
      "2024-07-02 14:46:46.297775: I tensorflow/stream_executor/cuda/cuda_diagnostics.cc:204] kernel reported version is: 555.52.4\n",
      "2024-07-02 14:46:46.297778: I tensorflow/stream_executor/cuda/cuda_diagnostics.cc:310] kernel version seems to match DSO: 555.52.4\n"
     ]
    }
   ],
   "source": [
    "print(\"Num GPUs Available: \", len(tf.config.experimental.list_physical_devices('GPU')))"
   ]
  },
  {
   "cell_type": "code",
   "execution_count": 4,
   "metadata": {},
   "outputs": [],
   "source": [
    "############################################################################\n",
    "## Variables globales (hiperparámetros)\n",
    "###########################################################################\n",
    "EPOCHS=1\n",
    "BATCH_SIZE=140 # Regla de tres: Tamaño del dataset experto----batch size\n",
    "\n",
    "EPISODES=10\n",
    "EPISODES_EVALUATE_G=50\n",
    "\n",
    "TOTAL_TIMESTEPS_PPO_GENERATOR=40000  # El experto en vez de 250000 tiene 20000 \n",
    "LEARNING_RATE=0.001"
   ]
  },
  {
   "cell_type": "markdown",
   "metadata": {},
   "source": [
    "# GYM Lunar Lander\n",
    "\n",
    "\n",
    "* **Entorno**:\n",
    "\n",
    "  Este entorno es un **problema clásico de optimización de trayectoria de un COHETE**. Según el principio del máximo de Pontryagin, es óptimo encender el motor a máxima potencia o apagarlo. Esta es la razón por la cual este entorno tiene acciones discretas: encender el motor o apagarlo.\n",
    "\n",
    " Existen dos versiones del entorno: discreta o continua. La plataforma de aterrizaje siempre se encuentra en las coordenadas (0,0). Las coordenadas son los primeros dos números en el vector de estado. Es posible aterrizar fuera de la plataforma de aterrizaje. El combustible es infinito, por lo que un agente puede aprender a volar y luego aterrizar en su primer intento.\n",
    "\n",
    "* **Acciones**: tenemos cuatro acciones discretas:\n",
    "\n",
    "  * **0**:No hacer nada\n",
    "  * **1**: Encender motor de orientación izquierdo\n",
    "  * **2**: Encender motor principal\n",
    "  * **3**: Encender motor de orientación derecho\n",
    "* **Observaciones**: es un vector de 8 dimensiones donde se almacenan las coordenadas (x,y), las velocidades lineales en x e y, su ángulo, su velocidad angular, y dos booleanos que representan si cada pata está en contacto con el suelo o no.\n"
   ]
  },
  {
   "cell_type": "code",
   "execution_count": 5,
   "metadata": {},
   "outputs": [],
   "source": [
    "#!cd pybox2d && python setup.py build && python setup.py install"
   ]
  },
  {
   "cell_type": "code",
   "execution_count": 6,
   "metadata": {},
   "outputs": [
    {
     "name": "stdout",
     "output_type": "stream",
     "text": [
      "4\n",
      "8\n"
     ]
    }
   ],
   "source": [
    "# Definimos el entorno\n",
    "env = gym.make(\"LunarLander-v2\")\n",
    "\n",
    "# Obtenemos el espacio de estados y acciones del entorno\n",
    "ob_space=env.observation_space\n",
    "ac_space=env.action_space\n",
    "\n",
    "# Mostramos el número de acciones del entorno\n",
    "print(env.action_space.n)\n",
    "# Mostramos el número de observaciones del entorno\n",
    "print(ob_space.shape[0])"
   ]
  },
  {
   "cell_type": "markdown",
   "metadata": {},
   "source": [
    "# Discriminador"
   ]
  },
  {
   "cell_type": "markdown",
   "metadata": {},
   "source": [
    "## Red neuronal del Discriminador"
   ]
  },
  {
   "cell_type": "code",
   "execution_count": 7,
   "metadata": {},
   "outputs": [
    {
     "name": "stdout",
     "output_type": "stream",
     "text": [
      "Model: \"discriminator_net\"\n",
      "_________________________________________________________________\n",
      "Layer (type)                 Output Shape              Param #   \n",
      "=================================================================\n",
      "layer1 (Dense)               (None, None, 10)          220       \n",
      "_________________________________________________________________\n",
      "layer2 (Dense)               (None, None, 10)          110       \n",
      "_________________________________________________________________\n",
      "layer3 (Dense)               (None, None, 10)          110       \n",
      "_________________________________________________________________\n",
      "prob (Dense)                 (None, None, 1)           11        \n",
      "=================================================================\n",
      "Total params: 451\n",
      "Trainable params: 451\n",
      "Non-trainable params: 0\n",
      "_________________________________________________________________\n"
     ]
    },
    {
     "name": "stderr",
     "output_type": "stream",
     "text": [
      "2024-07-02 14:46:46.421983: I tensorflow/core/platform/cpu_feature_guard.cc:142] This TensorFlow binary is optimized with oneAPI Deep Neural Network Library (oneDNN) to use the following CPU instructions in performance-critical operations:  SSE4.1 SSE4.2 AVX AVX2 FMA\n",
      "To enable them in other operations, rebuild TensorFlow with the appropriate compiler flags.\n",
      "2024-07-02 14:46:46.423382: I tensorflow/compiler/jit/xla_gpu_device.cc:99] Not creating XLA devices, tf_xla_enable_xla_devices not set\n"
     ]
    }
   ],
   "source": [
    "################################################################################################################################################\n",
    "# Red neuronal del Discriminador\n",
    "################################################################################################################################################\n",
    "\n",
    "# Input: secuencias [s,a,s',r] reales o sintéticas, de longitud 2*ob_space.shape[0] + ac_space.n+1.\n",
    "# Output: probabilidad de que la secuencia sea real, valor perteneciente al intervalo [0,1]\n",
    "discriminator_net=keras.Sequential(\n",
    "    [\n",
    "        keras.Input(shape=(None, 2*ob_space.shape[0] + ac_space.n+1)),\n",
    "        layers.Dense(units=10,activation=tf.nn.relu, name='layer1'),\n",
    "        layers.Dense(units=10,activation=tf.nn.relu, name='layer2'),\n",
    "        layers.Dense(units=10, activation=tf.nn.relu, name='layer3'),\n",
    "        layers.Dense(units=1, activation=tf.sigmoid, name='prob'),\n",
    "\n",
    "    ],\n",
    "    name=\"discriminator_net\"\n",
    "\n",
    ")\n",
    "discriminator_net.summary()"
   ]
  },
  {
   "cell_type": "markdown",
   "metadata": {},
   "source": [
    "## Función de pérdida del Discriminador"
   ]
  },
  {
   "cell_type": "code",
   "execution_count": 8,
   "metadata": {},
   "outputs": [],
   "source": [
    "#########################################################################################################\n",
    "# Función de pérdida del Discriminador\n",
    "#########################################################################################################\n",
    "\n",
    "# prob1=> output de la red neuronal del Discriminador cuando recibe como entrada una secuencia REAL [s,a, s', r] de la base de datos\n",
    "# prob2=> output de la red neuronal del Discriminador cuando recibe como entrada una secuencia FALSA [s,a, s', r]\n",
    "def loss_fn_D(prob1, prob2):\n",
    "\n",
    "    # Esperanza del logaritmo de la D(x)=salida de la red neuronal cuando x=entrada REAL\n",
    "    loss_expert = tf.reduce_mean(tf.math.log(tf.clip_by_value(prob1, 0.01, 1)))\n",
    "\n",
    "    # Esperanza del logaritmo de 1-D(x) donde D(x)=salida de la red neuronal cuando x=entrada FALSA\n",
    "    loss_agent = tf.reduce_mean(tf.math.log(tf.clip_by_value(1 - prob2, 0.01,1)))\n",
    "\n",
    "    loss_expert = tf.cast(loss_expert, dtype=tf.float32)\n",
    "    loss_agent = tf.cast(loss_agent, dtype=tf.float32)\n",
    "\n",
    "    loss = loss_expert + loss_agent\n",
    "\n",
    "    loss = -loss\n",
    "\n",
    "    return loss"
   ]
  },
  {
   "cell_type": "markdown",
   "metadata": {},
   "source": [
    "## Clase del Discriminador"
   ]
  },
  {
   "cell_type": "code",
   "execution_count": 9,
   "metadata": {},
   "outputs": [],
   "source": [
    "# Clase DISCRIMINADOR\n",
    "class Discriminator:\n",
    "    def __init__(self, env, discriminator_net, expert_s, expert_a, expert_s_prima, expert_r, agent_s, agent_a, agent_s_prima, agent_r):\n",
    "        # -Red neuronal del Discriminador\n",
    "        self.discriminator_net=discriminator_net\n",
    "\n",
    "        # -Experto: [s,a,s',r]\n",
    "        self.expert_s=expert_s\n",
    "        self.expert_a=expert_a\n",
    "        self.expert_s_prima=expert_s_prima\n",
    "        self.expert_r= np.array(expert_r)\n",
    "\n",
    "\n",
    "        expert_a_one_hot=tf.one_hot(self.expert_a,depth=env.action_space.n)\n",
    "        # Añadimos ruido para estabilizar el entrenamiento\n",
    "        expert_a_one_hot+= tf.random.normal(tf.shape(expert_a_one_hot), mean=0.2, stddev=0.1, dtype=tf.float32)/1.2\n",
    "        expert_s_a=tf.concat([self.expert_s,expert_a_one_hot],axis=1)\n",
    "        expert_s_a_s=tf.concat([expert_s_a, self.expert_s_prima], axis=1)\n",
    "        expert_r=self.expert_r.reshape(-1, 1)\n",
    "\n",
    "        # expert_s_a_s_r=>secuencia experta=>[s,a,s',r]\n",
    "        self.expert_s_a_s_r=tf.concat([expert_s_a_s, expert_r], axis=1)\n",
    "\n",
    "        # -Agente:  [s,a,s',r]\n",
    "        self.agent_s=agent_s\n",
    "        self.agent_a=agent_a\n",
    "        self.agent_s_prima=agent_s_prima\n",
    "        self.agent_r=np.array(agent_r)\n",
    "\n",
    "        agent_a_one_hot=tf.one_hot(self.agent_a,depth=env.action_space.n)\n",
    "        agent_a_one_hot+= tf.random.normal(tf.shape(agent_a_one_hot), mean=0.2, stddev=0.1, dtype=tf.float32)/1.2\n",
    "        agent_s_a=tf.concat([self.agent_s,agent_a_one_hot],axis=1)\n",
    "        agent_s_a_s=tf.concat([agent_s_a, self.agent_s_prima], axis=1)\n",
    "        agent_r=self.agent_r.reshape(-1, 1)\n",
    "\n",
    "        # agent_s_a_s_r=>secuencia agente=>[s,a,s',r]\n",
    "        self.agent_s_a_s_r=tf.concat([agent_s_a_s, agent_r], axis=1)\n",
    "\n",
    "        # Calculamos la salida de la red para [s,a,s',r] del experto y del agente ya que lo necesitamos para reward\n",
    "\n",
    "        # -Salida de la red neuronal Discriminador para [s,a,s',r] expertos(verdaderos)\n",
    "        self.prob_expert=self.discriminator_net(self.expert_s_a_s_r)\n",
    "\n",
    "        # -Salida  de la red neuronal Discrimiinador para [s,a,s',r] Agente(falsos)\n",
    "        self.prob_agent=self.discriminator_net(self.agent_s_a_s_r)\n",
    "\n",
    "        #-Recompensa obtenida cuando el Agente realiza [s,a,s',r] falsas\n",
    "        self.rewards=tf.math.log(tf.clip_by_value(self.prob_agent,1e-10,1)) #log(P(expert|s,a)) cuando mas grande es mejor el agente\n",
    "\n",
    "\n",
    "    def getNet(self):\n",
    "        return self.discriminator_net\n",
    "\n",
    "    def getAgent_S_A(self):\n",
    "        return self.agent_s_a\n",
    "\n",
    "    def getExpert_S_A(self):\n",
    "        return self.expert_s_a\n",
    "\n",
    "    def getProb(self):\n",
    "        return self.prob_expert, self.prob_agent\n",
    "\n",
    "    def getRewards(self):\n",
    "        return self.rewards\n"
   ]
  },
  {
   "cell_type": "markdown",
   "metadata": {},
   "source": [
    "# Generador"
   ]
  },
  {
   "cell_type": "markdown",
   "metadata": {},
   "source": [
    "## Redes neuronales del Generador"
   ]
  },
  {
   "cell_type": "code",
   "execution_count": 10,
   "metadata": {},
   "outputs": [
    {
     "name": "stdout",
     "output_type": "stream",
     "text": [
      "Model: \"generator_net_Act\"\n",
      "_________________________________________________________________\n",
      "Layer (type)                 Output Shape              Param #   \n",
      "=================================================================\n",
      "layer1 (Dense)               (None, None, 6)           54        \n",
      "_________________________________________________________________\n",
      "layer2 (Dense)               (None, None, 6)           42        \n",
      "_________________________________________________________________\n",
      "layer3 (Dense)               (None, None, 4)           28        \n",
      "_________________________________________________________________\n",
      "layer4 (Dense)               (None, None, 4)           20        \n",
      "=================================================================\n",
      "Total params: 144\n",
      "Trainable params: 144\n",
      "Non-trainable params: 0\n",
      "_________________________________________________________________\n"
     ]
    }
   ],
   "source": [
    "#####################################################################################################\n",
    "# Red neuronal del Generador donde se producen acciones\n",
    "####################################################################################################\n",
    "\n",
    "# Input: estados, listas de tamaño 8, s=[s1,s2,s3,s4,...,s8]\n",
    "# Output: acciones, listas de tamaño 4, a=[a1,a2,a3,a4]\n",
    "generator_net_Act = keras.Sequential(\n",
    "    [\n",
    "        keras.Input(shape=(None, ob_space.shape[0])),\n",
    "        layers.Dense(units=6, activation=\"sigmoid\",name='layer1'),\n",
    "        layers.Dense(units=6, activation=\"sigmoid\", name='layer2'),\n",
    "        layers.Dense(units=4, activation=\"sigmoid\", name='layer3'),\n",
    "        layers.Dense(units=ac_space.n, activation=tf.nn.softmax, name='layer4')\n",
    "\n",
    "    ],\n",
    "    name=\"generator_net_Act\"\n",
    ")\n",
    "\n",
    "generator_net_Act.summary()"
   ]
  },
  {
   "cell_type": "code",
   "execution_count": 11,
   "metadata": {},
   "outputs": [
    {
     "name": "stdout",
     "output_type": "stream",
     "text": [
      "Model: \"generator_v_preds\"\n",
      "_________________________________________________________________\n",
      "Layer (type)                 Output Shape              Param #   \n",
      "=================================================================\n",
      "layer1 (Dense)               (None, None, 6)           54        \n",
      "_________________________________________________________________\n",
      "layer2 (Dense)               (None, None, 6)           42        \n",
      "_________________________________________________________________\n",
      "layer3 (Dense)               (None, None, 1)           7         \n",
      "=================================================================\n",
      "Total params: 103\n",
      "Trainable params: 103\n",
      "Non-trainable params: 0\n",
      "_________________________________________________________________\n"
     ]
    }
   ],
   "source": [
    "#############################################################################################################\n",
    "# Red neuronal del Generador donde se producen v_pred\n",
    "#############################################################################################################\n",
    "\n",
    "# Input: estados, listas de tamaño 8, s=[s1,s2,s3,..,s8]\n",
    "# Output: v_pred, listas de tamaño 1, v_pred\n",
    "\n",
    "generator_net_v_preds=keras.Sequential(\n",
    "    [\n",
    "            keras.Input(shape=(None,ob_space.shape[0])),\n",
    "            layers.Dense(units=6, activation=\"sigmoid\",name='layer1'),\n",
    "            layers.Dense(units=6, activation=\"sigmoid\", name='layer2'),\n",
    "            layers.Dense(units=1, activation=None, name='layer3'),\n",
    "        ],\n",
    "    name=\"generator_v_preds\"\n",
    ")\n",
    "\n",
    "generator_net_v_preds.summary()"
   ]
  },
  {
   "cell_type": "markdown",
   "metadata": {},
   "source": [
    "## Función de pérdida del Generador"
   ]
  },
  {
   "cell_type": "code",
   "execution_count": 12,
   "metadata": {},
   "outputs": [],
   "source": [
    "##################################################################################################################\n",
    "# Función de pérdida del Generador: función objetivo de PPO \"clipped surrogated\"\n",
    "#################################################################################################################\n",
    "\n",
    "def loss_fn_ppo(act_probs,act_probs_old,gaes,clip_value=0.2):\n",
    "    ratios = tf.exp(tf.math.log(tf.clip_by_value(act_probs, 1e-10, 1.0))\n",
    "                    - tf.math.log(tf.clip_by_value(act_probs_old, 1e-10, 1.0)))\n",
    "\n",
    "    clipped_ratios = tf.clip_by_value(ratios,clip_value_min=1 -clip_value,clip_value_max=1 +clip_value)\n",
    "    loss_clip = tf.minimum( tf.multiply(gaes, ratios), tf.multiply(gaes, clipped_ratios))\n",
    "    loss_clip = tf.reduce_mean(loss_clip)\n",
    "\n",
    "    loss = -loss_clip\n",
    "    tf.summary.scalar('total', loss)\n",
    "\n",
    "    return loss"
   ]
  },
  {
   "cell_type": "markdown",
   "metadata": {},
   "source": [
    "## Clase del Generador"
   ]
  },
  {
   "cell_type": "code",
   "execution_count": 13,
   "metadata": {},
   "outputs": [],
   "source": [
    "#################################################################################################################\n",
    "# Clase del GENERADOR: política con su optimizador PPO\n",
    "################################################################################################################\n",
    "\n",
    "# Observesé que cada generador implementa una política distinta, por tanto, se ha decidido llamar a la clase Policy_net en lugar de generator\n",
    "class Policy_net:\n",
    "    def __init__(self, name: str, env, obs):\n",
    "        \"\"\"\n",
    "        name: string\n",
    "        env: gym env\n",
    "        obs:\n",
    "        \"\"\"\n",
    "\n",
    "        # -Entorno\n",
    "        self.env=env\n",
    "        env.reset()\n",
    "\n",
    "        # -Modelo PPO: algoritmo de Optimización de Política Proximal\n",
    "        self.model=PPO(policy=\"MlpPolicy\", env=env, verbose=0)\n",
    "\n",
    "\n",
    "        self.model.learn(total_timesteps=TOTAL_TIMESTEPS_PPO_GENERATOR)\n",
    "\n",
    "        # -Observación inicial a partir de la cual se crean las acciones iniciales haciendo uso de las redes neuronales del generador\n",
    "        self.obs=np.reshape(np.array(obs),(1,ob_space.shape[0]))\n",
    "\n",
    "        # Utilizamos las dos redes neuronales que hemos creado : generator_net_Act y generator_net_v_preds\n",
    "        # V_pred=>recompensa media de que un agente ejecute una acción\n",
    "\n",
    "        # -Acción inicial generada con red neuronal y v_pred con red neuronal\n",
    "        self.act_probs =generator_net_Act(self.obs)\n",
    "        self.v_preds = generator_net_v_preds(self.obs)\n",
    "\n",
    "        # -Accion estocástica inicial\n",
    "        self.act_stochastic = tf.random.categorical(tf.math.log(self.act_probs), num_samples=1)\n",
    "\n",
    "        # -Acción determinística inicial\n",
    "        self.act_deterministic = tf.argmax(self.act_probs, axis=1)\n",
    "\n",
    "\n",
    "\n",
    "    # Para cada estado obs me dice la acción que el agente va a ejecutar sobre el entorno junto con v_pred\n",
    "    # La elección de la acción puede ser estocástica o determinística\n",
    "    def act(self, stochastic=True):\n",
    "        if stochastic:\n",
    "            return self.act_stochastic, self.v_preds\n",
    "        else:\n",
    "            return self.act_deterministic, self.v_preds\n",
    "\n",
    "    def get_action_prob(self):\n",
    "        return self.act_probs\n",
    "\n",
    "    def get_v_preds(self):\n",
    "        return self.v_preds\n",
    "\n",
    "    def get_obs(self):\n",
    "        return self.obs\n",
    "\n",
    "    def get_model(self):\n",
    "        return self.model\n",
    "\n",
    "    # Devuelve los parámetros \\theta de la política \\pi\n",
    "    def get_trainable_variables(self):\n",
    "        return self.model.get_parameters()\n",
    "\n",
    "    # Generar [s,a,s',r] sinteticos\n",
    "    def generate_fakes(self):\n",
    "\n",
    "        ob_space = env.observation_space\n",
    "        reward = 0\n",
    "\n",
    "        # Por cada episodio\n",
    "        for iteration in range(EPISODES):\n",
    "            # Inicializo todas las variables\n",
    "            observations = []\n",
    "            actions = []\n",
    "            rewards = []\n",
    "            next_observations=[]\n",
    "\n",
    "            run_policy_steps = 0\n",
    "\n",
    "            truncated=False\n",
    "            terminated=False\n",
    "\n",
    "\n",
    "            # La primera acción de cada episodio se crea con la red neuronal\n",
    "            obs,_=env.reset()\n",
    "\n",
    "            Old_Policy = Policy_net('old_policy', env, obs=obs)\n",
    "\n",
    "            act, v_pred = Old_Policy.act(stochastic=True)\n",
    "\n",
    "            #Convertir de tensor a array\n",
    "            if type(act)=='Tensor':\n",
    "                # Crear una sesión de TensorFlow\n",
    "                sess = tf.compat.v1.Session()\n",
    "\n",
    "                # Evaluar el tensor dentro de la sesión y obtener el resultado como un objeto NumPy ndarray\n",
    "                act = sess.run(act)\n",
    "\n",
    "                # Cerrar la sesión\n",
    "                sess.close()\n",
    "\n",
    "            if isinstance(act, tf.Tensor):\n",
    "                act=act.numpy()\n",
    "\n",
    "            elif isinstance(act, np.ndarray):\n",
    "                act=act\n",
    "\n",
    "\n",
    "            action=int(act)\n",
    "\n",
    "            next_obs,reward,terminated,truncated, info=env.step(action)\n",
    "\n",
    "            truncated=False\n",
    "            terminated=False\n",
    "\n",
    "            # Tenemos una política entrenada\n",
    "            Policy = Policy_net('policy',env, obs=[next_obs])\n",
    "\n",
    "            # Por cada steps en cada episodio, mientras no se llegue a un estado terminal o un estado malo\n",
    "            while terminated!= True and truncated!= True:\n",
    "                # --Aumentar el numero de steps\n",
    "                run_policy_steps += 1\n",
    "\n",
    "                # --Política para ver la acción asociada al estado\n",
    "                # Las observaciones son un de la forma [[s_1,s_2,s_3,...,s_8]] por eso su tamaño es (1,8)\n",
    "                observations.append(next_obs)  # S_i-1\n",
    "\n",
    "                action, states_oc = Policy.get_model().predict(next_obs)\n",
    "\n",
    "                action=int(action)\n",
    "\n",
    "                # --Muevo al Agente al siguiente estado\n",
    "                next_obs,reward,terminated,truncated,info=env.step(action)\n",
    "\n",
    "                # --Actualización de variables\n",
    "                actions.append(action) # A_i-1\n",
    "                rewards.append(reward) # R_i-1\n",
    "\n",
    "                # --Si llegamos a un estado final, el juego ha finalizado!!!\n",
    "                # --Se configura el tablero de nuevo\n",
    "                if terminated== True or truncated==True:\n",
    "                    next_observations.append(next_obs)  # S_i\n",
    "                    obs = env.reset()\n",
    "                    reward = -1\n",
    "                    break\n",
    "                else:\n",
    "                    next_observations.append(next_obs)  # S_i\n",
    "                    self.obs = next_obs\n",
    "\n",
    "            # Ver si el episodio ha obtendo una recompensa total igual o superior a 195\n",
    "            if sum(rewards) >= 195:\n",
    "                success_num += 1\n",
    "                if success_num >= 100:\n",
    "                    break\n",
    "            else:\n",
    "                success_num = 0\n",
    "\n",
    "\n",
    "\n",
    "        observations = np.reshape(observations, newshape=[-1] + list(ob_space.shape))\n",
    "        next_observations = np.reshape(next_observations, newshape=[-1] + list(ob_space.shape))\n",
    "        actions = np.array(actions).astype(dtype=np.int32)\n",
    "\n",
    "\n",
    "        # Devolvemos la secuencia (S,A,S',R) junto con la política anterior y la actual política,\n",
    "        return observations, actions, next_observations, rewards, Old_Policy, Policy"
   ]
  },
  {
   "cell_type": "code",
   "execution_count": 14,
   "metadata": {},
   "outputs": [],
   "source": [
    "##########################################################################################################\n",
    "# Clase PPOTrain\n",
    "##########################################################################################################\n",
    "# Tenemos dos politica theta_i y theta_i+1\n",
    "# Almacenamos dos políticas Policy_net(cada una de ella con su PPO) y calculamos el valor gaes a partir de valores gamma, clip_value, c_1, c_2\n",
    "# Realizamos aqui el entrenamiento, cálculo de gradiente y función de pérdida del PPO para después usarlo en el generador de la GAN\n",
    "\n",
    "class PPOTrain:\n",
    "\n",
    "    def __init__(self, Policy, Old_Policy, obs, actions, rewards, gamma=0.95, clip_value=0.2, c_1=1, c_2=0.01):\n",
    "        \"\"\"\n",
    "        arg:\n",
    "            Policy\n",
    "            Old_Policy\n",
    "            gamma\n",
    "            clip_value\n",
    "            c_1 parámetro para la diferencia de valores\n",
    "            c_2 parámetro para el bonus de entropía\n",
    "        \"\"\"\n",
    "        self.Policy = Policy\n",
    "        self.Old_Policy = Old_Policy\n",
    "        self.gamma = gamma\n",
    "        self.obs=obs\n",
    "\n",
    "        self.pi_trainable = self.Policy.get_trainable_variables()\n",
    "        self.old_pi_trainable = self.Old_Policy.get_trainable_variables()\n",
    "\n",
    "\n",
    "        policy_name = \"policy\"\n",
    "        old_policy_name=\"policy\"\n",
    "\n",
    "        policy_dict_ = self.pi_trainable[policy_name]\n",
    "        old_policy_dict_=self.old_pi_trainable[old_policy_name]\n",
    "\n",
    "        self.pi=[]\n",
    "        if policy_name in self.pi_trainable and old_policy_name in self.old_pi_trainable:\n",
    "            for param_name, param_value in policy_dict_.items():\n",
    "                # Elimino los pesos que hay en old_policy\n",
    "                del old_policy_dict_[param_name]\n",
    "                # Introduzco los pesos de old_policy en policy\n",
    "                old_policy_dict_[param_name] = param_value\n",
    "                self.pi.append(param_value)\n",
    "        else:\n",
    "            print(f\"No se encontró la política con el nombre: {policy_name}\")\n",
    "\n",
    "\n",
    "        # Le asignamos old_pi_trainable=pi_trainable ya que ajustaremos unos nuevos pi_trainable\n",
    "\n",
    "\n",
    "        self.actions = actions\n",
    "        self.rewards=rewards\n",
    "        self.v_preds=self.Old_Policy.get_v_preds()\n",
    "        self.v_preds_next=self.Policy.get_v_preds()\n",
    "\n",
    "        #  generative advantage estimator(lambda = 1), ver ppo paper eq(11)\n",
    "        self.gaes =self.get_gaes(self.rewards, self.v_preds, self.v_preds_next)\n",
    "\n",
    "        act_probs =self.Policy.get_action_prob()\n",
    "        act_probs_old =self.Old_Policy.get_action_prob()\n",
    "\n",
    "        # la probabilidad de las acciones del agente cuando toma la actual política\n",
    "        act_probs = act_probs * tf.one_hot(indices=self.actions, depth=act_probs.shape[1])\n",
    "        self.act_probs = tf.reduce_sum(act_probs, axis=1)\n",
    "\n",
    "        # la probabilidad de las acciones del agente cuando toma la antigua política\n",
    "        act_probs_old = act_probs_old * tf.one_hot(indices=self.actions, depth=act_probs_old.shape[1])\n",
    "        self.act_probs_old = tf.reduce_sum(act_probs_old, axis=1)\n",
    "\n",
    "        self.loss=loss_fn_ppo(self.act_probs, self.act_probs_old, self.gaes)\n",
    "\n",
    "        self.optimizer =tf.keras.optimizers.Adam(learning_rate=LEARNING_RATE)\n",
    "\n",
    "    def loss_fn_G(self):\n",
    "        return loss_fn_ppo(self.act_probs, self.act_probs_old, self.gaes)\n",
    "\n",
    "    def get_pi_trainable(self):\n",
    "        return self.pi\n",
    "\n",
    "    def get_optimizer(self):\n",
    "        return self.optimizer\n",
    "\n",
    "    def get_OldPolicy(self):\n",
    "        return self.Old_Policy\n",
    "\n",
    "    def get_Policy(self):\n",
    "        return self.Policy\n",
    "\n",
    "    def get_gaes(self, rewards, v_preds, v_preds_next):\n",
    "        deltas = [r_t + self.gamma * v_next - v for r_t, v_next, v in zip(rewards, v_preds_next, v_preds)]\n",
    "        # calcular la estimación generative advantage (lambda = 1), ver ppo paper eq(11)\n",
    "        gaes = copy.deepcopy(deltas)\n",
    "        for t in reversed(range(len(gaes) - 1)):  # es T-1, donde T es timestep con el que se ejecuta la política\n",
    "            gaes[t] = gaes[t] + self.gamma * gaes[t + 1]\n",
    "        return gaes"
   ]
  },
  {
   "cell_type": "markdown",
   "metadata": {},
   "source": [
    "# GAIL"
   ]
  },
  {
   "cell_type": "code",
   "execution_count": 15,
   "metadata": {},
   "outputs": [],
   "source": [
    "####################################################################################################################\n",
    "# CLASE GAIL\n",
    "####################################################################################################################\n",
    "class GAN(keras.Model):\n",
    "    # Constructor\n",
    "    def __init__(self, discriminator, generator):\n",
    "        super().__init__()\n",
    "        self.discriminator = discriminator\n",
    "        self.generator=generator\n",
    "        self.i=0\n",
    "        self.d_loss_metric = keras.metrics.Mean(name=\"d_loss\")\n",
    "        self.g_loss_metric = keras.metrics.Mean(name=\"g_loss\")\n",
    "\n",
    "    # Compila el modelo GAN inicializando los optimizadores y la función de pérdida del modelo GAN\n",
    "    def compile(self,d_optimizer, loss_fn_D ):\n",
    "        super(GAN, self).compile(run_eagerly=True)\n",
    "        self.d_optimizer = d_optimizer\n",
    "        self.loss_fn_D=  loss_fn_D\n",
    "\n",
    "    # Devuelve las métricas obtenidas con el generador y discriminador\n",
    "    @property\n",
    "    def metrics(self):\n",
    "        return [self.d_loss_metric,self.g_loss_metric]\n",
    "\n",
    "    # Evaluación del Discriminador\n",
    "    def evaluate_D(self, X_test):\n",
    "        len_real = X_test.shape[0]\n",
    "\n",
    "        generate_observations, generate_actions, generate_next_observations, rewards, Old_Policy, Policy=self.generator.generate_fakes()\n",
    "\n",
    "        generate_a_one_hot=np.eye(env.action_space.n)[generate_actions]\n",
    "\n",
    "        dataset_gen1=np.concatenate([generate_observations,generate_a_one_hot],axis=1)\n",
    "\n",
    "        dataset_gen2= np.concatenate([dataset_gen1,generate_next_observations], axis=1)\n",
    "\n",
    "        rewards=np.array(rewards).reshape(-1, 1)\n",
    "\n",
    "        dataset_gen= np.concatenate([dataset_gen2,rewards], axis=1)\n",
    "\n",
    "\n",
    "        len_fakes=dataset_gen.shape[0]\n",
    "\n",
    "        # Compilamos el discriminador como CNN\n",
    "        self.discriminator.discriminator_net.compile(optimizer=self.d_optimizer, loss=self.loss_fn_D, metrics=['accuracy'])\n",
    "\n",
    "        # Evaluamos como CNN\n",
    "        loss_real, acc_real=self.discriminator.discriminator_net.evaluate(X_test, tf.ones((len_real,1)), batch_size=len_real, verbose=1)\n",
    "\n",
    "        loss_fake, acc_fake=self.discriminator.discriminator_net.evaluate(dataset_gen,tf.ones((len_fakes,1)), batch_size=len_fakes, verbose=1)\n",
    "\n",
    "        print('>Loss real: ')\n",
    "        print(loss_real)\n",
    "        print('>Loss fake: ')\n",
    "        print(loss_fake)\n",
    "\n",
    "\n",
    "    # Evaluación del generador\n",
    "    def evaluate_G(self):\n",
    "        # Definimos el entorno\n",
    "        env= gym.make('LunarLander-v2')\n",
    "\n",
    "        # Lista donde amacenaremos la recompensa acumulada de cada episodio.\n",
    "        # NUESTRO OBJETIVO: Agente aprenda a tomar las acciones que maximicen la recompensa\n",
    "        rewards=[]\n",
    "\n",
    "        # Para cada episodio, el Agente se mueve por el Entorno mediante acciones hasta llegar a un estado final\n",
    "        # siguiendo la política que se ha aprendido en el entrenamiento de la GAN\n",
    "        for episode in range(EPISODES_EVALUATE_G):\n",
    "            truncated=False\n",
    "            terminated=False\n",
    "            R=0.0\n",
    "            reward=0.0\n",
    "\n",
    "            # Estado inicial del juego\n",
    "            obs,_=env.reset()\n",
    "\n",
    "            #Interactuamos con el Entorno hasta que lleguemos a un estado final\n",
    "            while terminated!= True and truncated!=True:\n",
    "                action, _=self.generator.get_model().predict(obs)\n",
    "                obs,reward,terminated,truncated, info=env.step(int(action))\n",
    "\n",
    "                # Incremento la recompensa del episodio i al haber ejecutado el step\n",
    "                R+=reward\n",
    "\n",
    "            rewards.append(R)\n",
    "\n",
    "            # Vemos para el episodio, su recompensa acumulada que es lo que se trata de maximizar\n",
    "            print(\"Episode  {} Total reward: {}\".format(episode,R))\n",
    "\n",
    "        # Cierro el entorno\n",
    "        env.close()\n",
    "\n",
    "        # Muestro las recompensas obtenidas en cada episodio\n",
    "        indices = range(0, EPISODES_EVALUATE_G)\n",
    "        plt.plot(indices,rewards)\n",
    "        plt.show()\n",
    "\n",
    "        return np.mean(rewards)\n",
    "\n",
    "    def train_step(self, X_train):\n",
    "\n",
    "        # 1) Generamos secuencias falsas [s,a,s',r]\n",
    "        generate_observations, generate_actions, generate_next_observations, rewards, Old_Policy, Policy=self.generator.generate_fakes()\n",
    "\n",
    "        generate_a_one_hot=np.eye(env.action_space.n)[generate_actions]\n",
    "\n",
    "        if generate_observations.shape[0] == generate_a_one_hot.shape[0]:\n",
    "          dataset_gen1 = np.concatenate([generate_observations, generate_a_one_hot], axis=1)\n",
    "        else:\n",
    "          generate_a_one_hot_resized = np.resize(generate_a_one_hot, generate_observations.shape)\n",
    "          dataset_gen1 = np.concatenate([generate_observations, generate_a_one_hot_resized], axis=1)\n",
    "\n",
    "        if generate_next_observations.shape[0] == generate_a_one_hot.shape[0]:\n",
    "          dataset_gen2=np.concatenate([dataset_gen1, generate_next_observations], axis=1)\n",
    "        else:\n",
    "           generate_next_observations_new= np.resize(generate_next_observations, generate_observations.shape)\n",
    "           dataset_gen2=np.concatenate([dataset_gen1, generate_next_observations_new], axis=1)\n",
    "\n",
    "        rewards=np.array(rewards).reshape(-1,1)\n",
    "\n",
    "        dataset_gen=np.concatenate([dataset_gen2, rewards], axis=1)\n",
    "\n",
    "        # 2) Seleccionamos la muestra de datos generador con la que vamos a trabajar en este  batch de entrenamiento \n",
    "        #if len(dataset_gen) >= BATCH_SIZE: \n",
    "        random_indices = np.random.choice(len(dataset_gen), size=min(BATCH_SIZE,len(dataset_gen)), replace=False)\n",
    "        dataset_gen= dataset_gen[random_indices[0]]\n",
    "\n",
    "\n",
    "        # 3) Obtenemos las secuencias reales [s,a,s',r] de los datos de entrenamiento y las combinamos\n",
    "        dataset_gen=dataset_gen.reshape(1,-1)\n",
    "        combined_images = tf.concat([X_train, dataset_gen], axis=0)\n",
    "\n",
    "        # 4) Las etiquetas de las imagenes combinadas las tenemos que crear nosotros introduciendo algo de ruido con tf.random.uniform\n",
    "        labels = tf.concat( [tf.ones((BATCH_SIZE, 1)), tf.zeros((BATCH_SIZE, 1))], axis=0 )\n",
    "        labels += 0.05 * tf.random.uniform(tf.shape(labels))\n",
    "\n",
    "        ##############################################################################################################################################################\n",
    "        # PASO 1:  ENTRENAMIENTO DEL DISCRIMINADOR\n",
    "        #############################################################################################################################################################\n",
    "\n",
    "\n",
    "        # Entrenamiento del discriminador con las [s,a, s', r] del agente(falsas o sintéticas) y del experto (reales) combinadas, esto es,\n",
    "        # le pasamos un conjunto que tiene tanto secuencias reales como secuencias sintéticas\n",
    "        with tf.GradientTape() as tape:\n",
    "            predictions=np.zeros((2*BATCH_SIZE,6))\n",
    "            # Predicciones obtenidas con el discriminador\n",
    "            predictions = self.discriminator.discriminator_net(combined_images)\n",
    "            # Valor de la función de pérdida al comparar las predicciones con las etiquetas reales\n",
    "            d_loss = self.loss_fn_D(labels, predictions)\n",
    "\n",
    "        # Calculo del gradiente y actualización del gradiente\n",
    "        grads = tape.gradient(d_loss, self.discriminator.getNet().trainable_weights)\n",
    "\n",
    "        self.d_optimizer.apply_gradients(\n",
    "          zip(grads, self.discriminator.getNet().trainable_weights)\n",
    "        )\n",
    "\n",
    "\n",
    "\n",
    "        ################################################################################################################################################################\n",
    "        # PASO 2: ENTRENAMIENTO DEL GENERADOR=POLÍTICA\n",
    "        ###############################################################################################################################################################\n",
    "\n",
    "\n",
    "        ppotrain=PPOTrain(Policy,Old_Policy,actions=generate_actions,rewards=rewards, obs=generate_observations) #       generate_observations[0])\n",
    "\n",
    "\n",
    "        with tf.GradientTape() as tape:\n",
    "            g_loss = ppotrain.loss_fn_G()\n",
    "\n",
    "\n",
    "        g_loss = tf.cast(g_loss, dtype=tf.float32)\n",
    "\n",
    "         ############################################################################################################################################################\n",
    "\n",
    "        # Actualización de métricas del discriminador y generador\n",
    "        self.d_loss_metric.update_state(d_loss)\n",
    "        self.g_loss_metric.update_state(g_loss)\n",
    "        print(\"\\n\")\n",
    "        print(\"\\nd_loss=\",d_loss.numpy())\n",
    "        print(\"\\ng_loss=\",g_loss.numpy())\n",
    "\n",
    "        return {\"d_loss\": self.d_loss_metric.result(),\n",
    "                    \"g_loss\": self.g_loss_metric.result()}\n",
    "\n"
   ]
  },
  {
   "cell_type": "markdown",
   "metadata": {},
   "source": [
    "# Experimentación de GAIL con LunarLander"
   ]
  },
  {
   "cell_type": "markdown",
   "metadata": {},
   "source": [
    "## Experimento 1"
   ]
  },
  {
   "cell_type": "markdown",
   "metadata": {},
   "source": [
    "### Construcción de base de datos experta con 1 trayectoria "
   ]
  },
  {
   "cell_type": "code",
   "execution_count": 16,
   "metadata": {},
   "outputs": [
    {
     "name": "stdout",
     "output_type": "stream",
     "text": [
      "\n",
      "\tEstados reales: \n",
      " [[-0.00655632  1.412633   -0.6640952  ...  0.15042743  0.\n",
      "   0.        ]\n",
      " [-0.01301994  1.4137701  -0.65149987 ...  0.1017526   0.\n",
      "   0.        ]\n",
      " [-0.01941118  1.414314   -0.6424104  ...  0.06514421  0.\n",
      "   0.        ]\n",
      " ...\n",
      " [-0.46665245 -0.0082029   0.03071342 ...  0.67170596  1.\n",
      "   1.        ]\n",
      " [-0.4661541  -0.01350838  0.02066027 ...  0.635882    1.\n",
      "   1.        ]\n",
      " [-0.46567154 -0.01838761  0.02184356 ...  0.58443296  1.\n",
      "   1.        ]]\n",
      "\tAcciones reales: \n",
      " [3 3 3 ... 0 3 3]\n",
      "\n",
      "\t Estados siguientes: \n",
      " [[-0.00655632  1.412633   -0.6640952  ...  0.15042743  0.\n",
      "   0.        ]\n",
      " [-0.01301994  1.4137701  -0.65149987 ...  0.1017526   0.\n",
      "   0.        ]\n",
      " [-0.01941118  1.414314   -0.6424104  ...  0.06514421  0.\n",
      "   0.        ]\n",
      " ...\n",
      " [-0.46665245 -0.0082029   0.03071342 ...  0.67170596  1.\n",
      "   1.        ]\n",
      " [-0.4661541  -0.01350838  0.02066027 ...  0.635882    1.\n",
      "   1.        ]\n",
      " [-0.46567154 -0.01838761  0.02184356 ...  0.58443296  1.\n",
      "   1.        ]]\n",
      "\n",
      "\t Recompensas: [   0    0    0 ...   -1   -1 -100]\n"
     ]
    }
   ],
   "source": [
    "expert_observations = np.genfromtxt(\"observations_LunarLander.csv\",delimiter=\"\\t\",dtype=str)\n",
    "expert_actions = np.genfromtxt('actions_LunarLander.csv', dtype=np.int32)\n",
    "expert_next_observations = np.genfromtxt('next_observations_LunarLander.csv',delimiter=\"\\t\",dtype=str)\n",
    "expert_rewards = np.genfromtxt('rewards_LunarLander.csv', dtype=np.int32)\n",
    "expert_num_tray=np.genfromtxt('n_trayectoria_LunarLander.csv', dtype=np.int32)\n",
    "\n",
    "# Reemplazar las comas\n",
    "expert_observations = np.core.defchararray.replace(expert_observations, ',', ' ')\n",
    "\n",
    "# Reemplazar las comas\n",
    "expert_next_observations = np.core.defchararray.replace(expert_next_observations, ',', ' ')\n",
    "\n",
    "# Crear un nuevo array para almacenar los datos convertidos\n",
    "converted_observations = np.genfromtxt(expert_observations, delimiter=' ', dtype=float)\n",
    "# Crear un nuevo array para almacenar los datos convertidos\n",
    "converted_next_observations = np.genfromtxt(expert_observations, delimiter=' ', dtype=float)\n",
    "\n",
    "\n",
    "rewards=np.array(expert_rewards).reshape(-1,1)\n",
    "\n",
    "\n",
    "print(\"\\n\\tEstados reales: \\n\", converted_observations)\n",
    "print(\"\\tAcciones reales: \\n\", expert_actions)\n",
    "print(\"\\n\\t Estados siguientes: \\n\", converted_next_observations)\n",
    "print(\"\\n\\t Recompensas:\" ,expert_rewards)"
   ]
  },
  {
   "cell_type": "code",
   "execution_count": 17,
   "metadata": {},
   "outputs": [
    {
     "name": "stdout",
     "output_type": "stream",
     "text": [
      "547\n"
     ]
    }
   ],
   "source": [
    "longitud_trayectoria = np.count_nonzero(expert_num_tray == 0)\n",
    "print(longitud_trayectoria)"
   ]
  },
  {
   "cell_type": "code",
   "execution_count": 18,
   "metadata": {},
   "outputs": [],
   "source": [
    "converted_observations=converted_observations[0:longitud_trayectoria]\n",
    "expert_actions=expert_actions[0:longitud_trayectoria]\n",
    "converted_next_observations=converted_next_observations[0:longitud_trayectoria]\n",
    "expert_rewards=expert_rewards[0:longitud_trayectoria]"
   ]
  },
  {
   "cell_type": "code",
   "execution_count": 19,
   "metadata": {},
   "outputs": [],
   "source": [
    "# Construimos el dataset [s,a,s',r] reales y lo dividimos en training y test\n",
    "expert_a_one_hot=np.eye(env.action_space.n)[expert_actions]\n",
    "expert_rewards = expert_rewards.reshape(-1, 1)\n",
    "\n",
    "dataset1=np.concatenate([converted_observations,expert_a_one_hot],axis=1)\n",
    "dataset2=np.concatenate([dataset1,converted_next_observations],axis=1)\n",
    "dataset=np.concatenate([dataset2,expert_rewards],axis=1)\n"
   ]
  },
  {
   "cell_type": "code",
   "execution_count": 20,
   "metadata": {},
   "outputs": [
    {
     "name": "stdout",
     "output_type": "stream",
     "text": [
      "Nº de (ESTADOS,ACCIONES) en el conjunto de entrenamiento: 437\n",
      "Nº de (ESTADOS,ACCIONES) en el conjunto de prueba: 110\n"
     ]
    }
   ],
   "source": [
    "#############################################################################\n",
    "# DIVISIÓN TRAIN Y TEST\n",
    "##############################################################################\n",
    "\n",
    "# Divide los datos en conjuntos de entrenamiento y prueba\n",
    "X_train, X_test = train_test_split(dataset, test_size=0.2, random_state=0)\n",
    "\n",
    "\n",
    "#Imprime el número de elementos en el conjuntos de entrenamiento y prueba\n",
    "print('Nº de (ESTADOS,ACCIONES) en el conjunto de entrenamiento:', len(X_train))\n",
    "print('Nº de (ESTADOS,ACCIONES) en el conjunto de prueba:', len(X_test))"
   ]
  },
  {
   "cell_type": "code",
   "execution_count": 21,
   "metadata": {},
   "outputs": [
    {
     "name": "stderr",
     "output_type": "stream",
     "text": [
      "/home/usuario/miniconda3/envs/luna/lib/python3.9/site-packages/torch/cuda/__init__.py:118: UserWarning: CUDA initialization: CUDA unknown error - this may be due to an incorrectly set up environment, e.g. changing env variable CUDA_VISIBLE_DEVICES after program start. Setting the available devices to be zero. (Triggered internally at /opt/conda/conda-bld/pytorch_1716905969824/work/c10/cuda/CUDAFunctions.cpp:108.)\n",
      "  return torch._C._cuda_getDeviceCount() > 0\n"
     ]
    }
   ],
   "source": [
    "env= gym.make('LunarLander-v2')\n",
    "obs,_= env.reset()\n",
    "\n",
    "# Generador\n",
    "generator=Policy_net( 'policy', env, obs)\n",
    "\n",
    "# Generamos [s,a, s', r] falsas y las políticas theta_i y theta_i+1\n",
    "observations, actions, next_observations, rewards, Old_Policy, Policy=generator.generate_fakes()\n",
    "\n",
    "# Discriminador\n",
    "discriminator=Discriminator(env, discriminator_net, converted_observations, expert_actions, converted_next_observations, expert_rewards, observations, actions, next_observations, rewards)"
   ]
  },
  {
   "cell_type": "markdown",
   "metadata": {},
   "source": [
    "### Definición de GAIL"
   ]
  },
  {
   "cell_type": "code",
   "execution_count": 22,
   "metadata": {},
   "outputs": [],
   "source": [
    "gan1=GAN(discriminator=discriminator,generator=generator)"
   ]
  },
  {
   "cell_type": "markdown",
   "metadata": {},
   "source": [
    "### Compilación de GAIL"
   ]
  },
  {
   "cell_type": "code",
   "execution_count": 23,
   "metadata": {},
   "outputs": [],
   "source": [
    "tf.config.run_functions_eagerly(True)\n",
    "gan1.compile(\n",
    "    d_optimizer=tf.keras.optimizers.Adam(learning_rate=LEARNING_RATE),\n",
    "    loss_fn_D=loss_fn_D\n",
    ")"
   ]
  },
  {
   "cell_type": "markdown",
   "metadata": {},
   "source": [
    "### Entrenamiento de GAIL"
   ]
  },
  {
   "cell_type": "code",
   "execution_count": 24,
   "metadata": {},
   "outputs": [],
   "source": [
    "import copy"
   ]
  },
  {
   "cell_type": "code",
   "execution_count": 25,
   "metadata": {},
   "outputs": [
    {
     "name": "stderr",
     "output_type": "stream",
     "text": [
      "/home/usuario/miniconda3/envs/luna/lib/python3.9/site-packages/tensorflow/python/data/ops/dataset_ops.py:3503: UserWarning: Even though the tf.config.experimental_run_functions_eagerly option is set, this option does not apply to tf.data functions. tf.data functions are still traced and executed as graphs.\n",
      "  warnings.warn(\n",
      "2024-07-02 14:55:39.287438: I tensorflow/compiler/mlir/mlir_graph_optimization_pass.cc:116] None of the MLIR optimization passes are enabled (registered 2)\n",
      "2024-07-02 14:55:39.291151: I tensorflow/core/platform/profile_utils/cpu_utils.cc:112] CPU Frequency: 2688000000 Hz\n"
     ]
    },
    {
     "name": "stdout",
     "output_type": "stream",
     "text": [
      "\n",
      "\n",
      "\n",
      "d_loss= 2.6523874\n",
      "\n",
      "g_loss= 1.9720427\n",
      "1/4 [======>.......................] - ETA: 26:33 - d_loss: 2.6524 - g_loss: 1.9720\n",
      "\n",
      "\n",
      "d_loss= 2.643332\n",
      "\n",
      "g_loss= -3.341455\n",
      "2/4 [==============>...............] - ETA: 19:03 - d_loss: 2.6479 - g_loss: -0.6847\n",
      "\n",
      "\n",
      "d_loss= 2.6530137\n",
      "\n",
      "g_loss= -0.27035412\n",
      "3/4 [=====================>........] - ETA: 9:20 - d_loss: 2.6496 - g_loss: -0.5466 \n",
      "\n",
      "\n",
      "d_loss= 2.5857077\n",
      "\n",
      "g_loss= 3.8639216\n",
      "4/4 [==============================] - 2216s 562s/step - d_loss: 2.6336 - g_loss: 0.5560\n"
     ]
    }
   ],
   "source": [
    "# Deshabilitar los mensajes de información de TensorFlow\n",
    "os.environ['TF_CPP_MIN_LOG_LEVEL'] = '3'\n",
    "\n",
    "# Deshabilitar los mensajes de información de OpenAI Gym\n",
    "gym.logger.set_level(40)\n",
    "\n",
    "BATCH_SIZE=140\n",
    "\n",
    "history=gan1.fit(X_train,\n",
    "    epochs=EPOCHS, batch_size=BATCH_SIZE)\n"
   ]
  },
  {
   "cell_type": "markdown",
   "metadata": {},
   "source": [
    "### Evaluación de GAIL"
   ]
  },
  {
   "cell_type": "code",
   "execution_count": 26,
   "metadata": {},
   "outputs": [
    {
     "name": "stdout",
     "output_type": "stream",
     "text": [
      "1/1 [==============================] - 0s 57ms/step - loss: 0.7098 - accuracy: 0.5818\n",
      "1/1 [==============================] - 0s 16ms/step - loss: 0.8943 - accuracy: 0.8385\n",
      ">Loss real: \n",
      "0.7097838521003723\n",
      ">Loss fake: \n",
      "0.8942945003509521\n"
     ]
    }
   ],
   "source": [
    "# Evaluamos el Discriminador de GAIL en el TEST\n",
    "gan1.evaluate_D(X_test)\n"
   ]
  },
  {
   "cell_type": "code",
   "execution_count": 27,
   "metadata": {},
   "outputs": [
    {
     "name": "stdout",
     "output_type": "stream",
     "text": [
      "Episode  0 Total reward: 98.04129354395558\n",
      "Episode  1 Total reward: -202.8315181347553\n",
      "Episode  2 Total reward: -103.80043635746108\n",
      "Episode  3 Total reward: -125.60673613132195\n",
      "Episode  4 Total reward: 105.16378763656743\n",
      "Episode  5 Total reward: -113.71877039519029\n",
      "Episode  6 Total reward: -183.95081721614213\n",
      "Episode  7 Total reward: -124.4259511315467\n",
      "Episode  8 Total reward: -93.36321447525047\n",
      "Episode  9 Total reward: -58.250697451462386\n",
      "Episode  10 Total reward: -90.27377943348459\n",
      "Episode  11 Total reward: -0.5982304934907745\n",
      "Episode  12 Total reward: -17.675017213424155\n",
      "Episode  13 Total reward: 133.52826168564272\n",
      "Episode  14 Total reward: -73.77895002891131\n",
      "Episode  15 Total reward: 115.99684984953586\n",
      "Episode  16 Total reward: 5.860016497192103\n",
      "Episode  17 Total reward: 15.916198042197694\n",
      "Episode  18 Total reward: -60.53724552540815\n",
      "Episode  19 Total reward: -155.34370534291568\n",
      "Episode  20 Total reward: -17.033321502535486\n",
      "Episode  21 Total reward: -98.17876450385499\n",
      "Episode  22 Total reward: -201.6477876023804\n",
      "Episode  23 Total reward: 139.53115893438704\n",
      "Episode  24 Total reward: -17.430376801652585\n",
      "Episode  25 Total reward: -158.3625346648403\n",
      "Episode  26 Total reward: -130.90246040775256\n",
      "Episode  27 Total reward: 108.78352154540318\n",
      "Episode  28 Total reward: 0.3538852166447839\n",
      "Episode  29 Total reward: -177.9714166571992\n",
      "Episode  30 Total reward: -5.049494387444895\n",
      "Episode  31 Total reward: 122.87042020285529\n",
      "Episode  32 Total reward: 22.168501369840044\n",
      "Episode  33 Total reward: -84.92226956545025\n",
      "Episode  34 Total reward: -108.73769343366304\n",
      "Episode  35 Total reward: 102.65149983161086\n",
      "Episode  36 Total reward: -40.582280518144856\n",
      "Episode  37 Total reward: -84.65658275397858\n",
      "Episode  38 Total reward: -31.605373624009488\n",
      "Episode  39 Total reward: -105.12692193407102\n",
      "Episode  40 Total reward: 183.2211730746518\n",
      "Episode  41 Total reward: -184.57527284790618\n",
      "Episode  42 Total reward: -43.36584825305249\n",
      "Episode  43 Total reward: -82.63690157406519\n",
      "Episode  44 Total reward: -56.186188394821144\n",
      "Episode  45 Total reward: 107.57044973739163\n",
      "Episode  46 Total reward: -161.98394601949025\n",
      "Episode  47 Total reward: 62.93213912862441\n",
      "Episode  48 Total reward: -97.65355914392764\n",
      "Episode  49 Total reward: -27.80484163335852\n"
     ]
    },
    {
     "data": {
      "image/png": "[encoded data removed]",
      "text/plain": [
       "<Figure size 640x480 with 1 Axes>"
      ]
     },
     "metadata": {},
     "output_type": "display_data"
    },
    {
     "name": "stdout",
     "output_type": "stream",
     "text": [
      "\n",
      "Recompensa de Media: -39.91959498515727 \n",
      "\n"
     ]
    }
   ],
   "source": [
    "# Evaluamos al Generador \n",
    "rewardMean=gan1.evaluate_G()\n",
    "print('\\nRecompensa de Media:', rewardMean, '\\n')"
   ]
  },
  {
   "cell_type": "markdown",
   "metadata": {},
   "source": [
    "## Experimento 2"
   ]
  },
  {
   "cell_type": "markdown",
   "metadata": {},
   "source": [
    "### Construcción de base de datos experta con 2 trayectoria "
   ]
  },
  {
   "cell_type": "code",
   "execution_count": 28,
   "metadata": {},
   "outputs": [
    {
     "name": "stdout",
     "output_type": "stream",
     "text": [
      "\n",
      "\tEstados reales: \n",
      " [[-0.00655632  1.412633   -0.6640952  ...  0.15042743  0.\n",
      "   0.        ]\n",
      " [-0.01301994  1.4137701  -0.65149987 ...  0.1017526   0.\n",
      "   0.        ]\n",
      " [-0.01941118  1.414314   -0.6424104  ...  0.06514421  0.\n",
      "   0.        ]\n",
      " ...\n",
      " [-0.46665245 -0.0082029   0.03071342 ...  0.67170596  1.\n",
      "   1.        ]\n",
      " [-0.4661541  -0.01350838  0.02066027 ...  0.635882    1.\n",
      "   1.        ]\n",
      " [-0.46567154 -0.01838761  0.02184356 ...  0.58443296  1.\n",
      "   1.        ]]\n",
      "\tAcciones reales: \n",
      " [3 3 3 ... 0 3 3]\n",
      "\n",
      "\t Estados siguientes: \n",
      " [[-0.00655632  1.412633   -0.6640952  ...  0.15042743  0.\n",
      "   0.        ]\n",
      " [-0.01301994  1.4137701  -0.65149987 ...  0.1017526   0.\n",
      "   0.        ]\n",
      " [-0.01941118  1.414314   -0.6424104  ...  0.06514421  0.\n",
      "   0.        ]\n",
      " ...\n",
      " [-0.46665245 -0.0082029   0.03071342 ...  0.67170596  1.\n",
      "   1.        ]\n",
      " [-0.4661541  -0.01350838  0.02066027 ...  0.635882    1.\n",
      "   1.        ]\n",
      " [-0.46567154 -0.01838761  0.02184356 ...  0.58443296  1.\n",
      "   1.        ]]\n",
      "\n",
      "\t Recompensas: [   0    0    0 ...   -1   -1 -100]\n"
     ]
    }
   ],
   "source": [
    "expert_observations = np.genfromtxt(\"observations_LunarLander.csv\",delimiter=\"\\t\",dtype=str)\n",
    "expert_actions = np.genfromtxt('actions_LunarLander.csv', dtype=np.int32)\n",
    "expert_next_observations = np.genfromtxt('next_observations_LunarLander.csv',delimiter=\"\\t\",dtype=str)\n",
    "expert_rewards = np.genfromtxt('rewards_LunarLander.csv', dtype=np.int32)\n",
    "expert_num_tray=np.genfromtxt('n_trayectoria_LunarLander.csv', dtype=np.int32)\n",
    "\n",
    "# Reemplazar las comas\n",
    "expert_observations = np.core.defchararray.replace(expert_observations, ',', ' ')\n",
    "\n",
    "# Reemplazar las comas\n",
    "expert_next_observations = np.core.defchararray.replace(expert_next_observations, ',', ' ')\n",
    "\n",
    "# Crear un nuevo array para almacenar los datos convertidos\n",
    "converted_observations = np.genfromtxt(expert_observations, delimiter=' ', dtype=float)\n",
    "# Crear un nuevo array para almacenar los datos convertidos\n",
    "converted_next_observations = np.genfromtxt(expert_observations, delimiter=' ', dtype=float)\n",
    "\n",
    "\n",
    "rewards=np.array(expert_rewards).reshape(-1,1)\n",
    "\n",
    "\n",
    "print(\"\\n\\tEstados reales: \\n\", converted_observations)\n",
    "print(\"\\tAcciones reales: \\n\", expert_actions)\n",
    "print(\"\\n\\t Estados siguientes: \\n\", converted_next_observations)\n",
    "print(\"\\n\\t Recompensas:\" ,expert_rewards)"
   ]
  },
  {
   "cell_type": "code",
   "execution_count": 29,
   "metadata": {},
   "outputs": [
    {
     "name": "stdout",
     "output_type": "stream",
     "text": [
      "1127\n"
     ]
    }
   ],
   "source": [
    "longitud_trayectoria += np.count_nonzero(expert_num_tray == 1)\n",
    "print(longitud_trayectoria)"
   ]
  },
  {
   "cell_type": "code",
   "execution_count": 30,
   "metadata": {},
   "outputs": [],
   "source": [
    "converted_observations=converted_observations[0:longitud_trayectoria]\n",
    "expert_actions=expert_actions[0:longitud_trayectoria]\n",
    "converted_next_observations=converted_next_observations[0:longitud_trayectoria]\n",
    "expert_rewards=expert_rewards[0:longitud_trayectoria]"
   ]
  },
  {
   "cell_type": "code",
   "execution_count": 31,
   "metadata": {},
   "outputs": [],
   "source": [
    "# Construimos el dataset [s,a,s',r] reales y lo dividimos en training y test\n",
    "expert_a_one_hot=np.eye(env.action_space.n)[expert_actions]\n",
    "expert_rewards = expert_rewards.reshape(-1, 1)\n",
    "\n",
    "dataset1=np.concatenate([converted_observations,expert_a_one_hot],axis=1)\n",
    "dataset2=np.concatenate([dataset1,converted_next_observations],axis=1)\n",
    "dataset=np.concatenate([dataset2,expert_rewards],axis=1)\n"
   ]
  },
  {
   "cell_type": "code",
   "execution_count": 32,
   "metadata": {},
   "outputs": [
    {
     "name": "stdout",
     "output_type": "stream",
     "text": [
      "Nº de (ESTADOS,ACCIONES) en el conjunto de entrenamiento: 901\n",
      "Nº de (ESTADOS,ACCIONES) en el conjunto de prueba: 226\n"
     ]
    }
   ],
   "source": [
    "#############################################################################\n",
    "# DIVISIÓN TRAIN Y TEST\n",
    "##############################################################################\n",
    "\n",
    "# Divide los datos en conjuntos de entrenamiento y prueba\n",
    "X_train, X_test = train_test_split(dataset, test_size=0.2, random_state=0)\n",
    "\n",
    "\n",
    "#Imprime el número de elementos en el conjuntos de entrenamiento y prueba\n",
    "print('Nº de (ESTADOS,ACCIONES) en el conjunto de entrenamiento:', len(X_train))\n",
    "print('Nº de (ESTADOS,ACCIONES) en el conjunto de prueba:', len(X_test))"
   ]
  },
  {
   "cell_type": "code",
   "execution_count": 33,
   "metadata": {},
   "outputs": [],
   "source": [
    "env= gym.make('LunarLander-v2')\n",
    "obs,_= env.reset()\n",
    "\n",
    "# Generador\n",
    "generator=Policy_net( 'policy', env, obs)\n",
    "\n",
    "# Generamos [s,a, s', r] falsas y las políticas theta_i y theta_i+1\n",
    "observations, actions, next_observations, rewards, Old_Policy, Policy=generator.generate_fakes()\n",
    "\n",
    "# Discriminador\n",
    "discriminator=Discriminator(env, discriminator_net, converted_observations, expert_actions, converted_next_observations, expert_rewards, observations, actions, next_observations, rewards)"
   ]
  },
  {
   "cell_type": "markdown",
   "metadata": {},
   "source": [
    "### Definición de GAIL"
   ]
  },
  {
   "cell_type": "code",
   "execution_count": 34,
   "metadata": {},
   "outputs": [],
   "source": [
    "gan2=GAN(discriminator=discriminator,generator=generator)"
   ]
  },
  {
   "cell_type": "markdown",
   "metadata": {},
   "source": [
    "### Compilación de GAIL"
   ]
  },
  {
   "cell_type": "code",
   "execution_count": 35,
   "metadata": {},
   "outputs": [],
   "source": [
    "tf.config.run_functions_eagerly(True)\n",
    "gan2.compile(\n",
    "    d_optimizer=tf.keras.optimizers.Adam(learning_rate=LEARNING_RATE),\n",
    "    loss_fn_D=loss_fn_D\n",
    ")"
   ]
  },
  {
   "cell_type": "markdown",
   "metadata": {},
   "source": [
    "### Entrenamiento de GAIL"
   ]
  },
  {
   "cell_type": "code",
   "execution_count": null,
   "metadata": {},
   "outputs": [
    {
     "name": "stdout",
     "output_type": "stream",
     "text": [
      "\n",
      "\n",
      "\n",
      "d_loss= 2.6126106\n",
      "\n",
      "g_loss= 0.28688005\n",
      "1/7 [===>..........................] - ETA: 1:02:40 - d_loss: 2.6126 - g_loss: 0.2869\n",
      "\n",
      "\n",
      "d_loss= 2.5637934\n",
      "\n",
      "g_loss= 0.2744208\n",
      "2/7 [=======>......................] - ETA: 52:17 - d_loss: 2.5882 - g_loss: 0.2807  \n",
      "\n",
      "\n",
      "d_loss= 2.6233482\n",
      "\n",
      "g_loss= 0.65300083\n",
      "3/7 [===========>..................] - ETA: 41:51 - d_loss: 2.5999 - g_loss: 0.4048\n",
      "\n",
      "\n",
      "d_loss= 2.5651226\n",
      "\n",
      "g_loss= -1.5215373\n",
      "4/7 [================>.............] - ETA: 31:24 - d_loss: 2.5912 - g_loss: -0.0768\n",
      "\n",
      "\n",
      "d_loss= 2.600709\n",
      "\n",
      "g_loss= 1.4750057\n",
      "5/7 [====================>.........] - ETA: 20:56 - d_loss: 2.5931 - g_loss: 0.2336 \n",
      "\n",
      "\n",
      "d_loss= 2.6092846\n",
      "\n",
      "g_loss= 0.5497137\n",
      "6/7 [========================>.....] - ETA: 10:31 - d_loss: 2.5958 - g_loss: 0.2862\n",
      "\n",
      "\n",
      "d_loss= 2.591103\n",
      "\n",
      "g_loss= 1.1361111\n",
      "7/7 [==============================] - 4414s 631s/step - d_loss: 2.5951 - g_loss: 0.4077\n"
     ]
    }
   ],
   "source": [
    "# Deshabilitar los mensajes de información de TensorFlow\n",
    "os.environ['TF_CPP_MIN_LOG_LEVEL'] = '3'\n",
    "\n",
    "# Deshabilitar los mensajes de información de OpenAI Gym\n",
    "gym.logger.set_level(40)\n",
    "\n",
    "BATCH_SIZE=140\n",
    "\n",
    "history=gan2.fit(X_train,\n",
    "    epochs=EPOCHS, batch_size=BATCH_SIZE)\n"
   ]
  },
  {
   "cell_type": "markdown",
   "metadata": {},
   "source": [
    "### Evaluación de GAIL"
   ]
  },
  {
   "cell_type": "code",
   "execution_count": null,
   "metadata": {},
   "outputs": [
    {
     "name": "stdout",
     "output_type": "stream",
     "text": [
      "1/1 [==============================] - 0s 20ms/step - loss: 0.7064 - accuracy: 0.4292\n",
      "1/1 [==============================] - 0s 18ms/step - loss: 0.6447 - accuracy: 0.1667\n",
      ">Loss real: \n",
      "0.706373393535614\n",
      ">Loss fake: \n",
      "0.6446850299835205\n"
     ]
    }
   ],
   "source": [
    "# Evaluamos el Discriminador de GAIL en el TEST\n",
    "gan2.evaluate_D(X_test)\n"
   ]
  },
  {
   "cell_type": "code",
   "execution_count": null,
   "metadata": {},
   "outputs": [
    {
     "name": "stdout",
     "output_type": "stream",
     "text": [
      "Episode  0 Total reward: 71.85572613323642\n",
      "Episode  1 Total reward: 15.837036654502285\n",
      "Episode  2 Total reward: -136.2993725393409\n",
      "Episode  3 Total reward: -60.682250799936405\n",
      "Episode  4 Total reward: 56.34106943939117\n",
      "Episode  5 Total reward: -88.13253155931835\n",
      "Episode  6 Total reward: 6.345599641538826\n",
      "Episode  7 Total reward: -1.041510638060501\n",
      "Episode  8 Total reward: 113.15960910654351\n",
      "Episode  9 Total reward: -58.46466281997603\n",
      "Episode  10 Total reward: -64.10196624195075\n",
      "Episode  11 Total reward: -217.22695854402994\n",
      "Episode  12 Total reward: -234.92092755684277\n",
      "Episode  13 Total reward: -11.611082862340524\n",
      "Episode  14 Total reward: 17.90190638358571\n",
      "Episode  15 Total reward: 27.948966187535667\n",
      "Episode  16 Total reward: 2.9793351873499887\n",
      "Episode  17 Total reward: -21.32607850053516\n",
      "Episode  18 Total reward: 14.141006896301938\n",
      "Episode  19 Total reward: 48.892853516847865\n",
      "Episode  20 Total reward: 129.58451146764915\n",
      "Episode  21 Total reward: -38.75449071239643\n",
      "Episode  22 Total reward: -86.08619579014415\n",
      "Episode  23 Total reward: -112.60508179813712\n",
      "Episode  24 Total reward: -183.5751789298015\n",
      "Episode  25 Total reward: 50.60764576523047\n",
      "Episode  26 Total reward: 4.00676546016399\n",
      "Episode  27 Total reward: 62.41988138051904\n",
      "Episode  28 Total reward: 5.676172423753949\n",
      "Episode  29 Total reward: 28.318854113603432\n",
      "Episode  30 Total reward: -177.61067936076694\n",
      "Episode  31 Total reward: 15.592590560114516\n",
      "Episode  32 Total reward: -68.68052068246375\n",
      "Episode  33 Total reward: -3.0450652537119565\n",
      "Episode  34 Total reward: 40.32838625349846\n",
      "Episode  35 Total reward: -36.6473574547482\n",
      "Episode  36 Total reward: 104.44684478784127\n",
      "Episode  37 Total reward: 35.140652827394035\n",
      "Episode  38 Total reward: 92.26761242382953\n",
      "Episode  39 Total reward: -85.34296594749296\n",
      "Episode  40 Total reward: 13.480804302683254\n",
      "Episode  41 Total reward: 7.151191394956342\n",
      "Episode  42 Total reward: -42.00557796791186\n",
      "Episode  43 Total reward: -222.33094651573333\n",
      "Episode  44 Total reward: -256.3467496364124\n",
      "Episode  45 Total reward: -39.65162590053373\n",
      "Episode  46 Total reward: -40.014704678555695\n",
      "Episode  47 Total reward: 69.92959837066972\n",
      "Episode  48 Total reward: 56.59204565529326\n",
      "Episode  49 Total reward: -32.694722275295376\n"
     ]
    },
    {
     "data": {
      "image/png": "[encoded data removed]",
      "text/plain": [
       "<Figure size 640x480 with 1 Axes>"
      ]
     },
     "metadata": {},
     "output_type": "display_data"
    },
    {
     "name": "stdout",
     "output_type": "stream",
     "text": [
      "\n",
      "Recompensa de Media: -24.565050772648057 \n",
      "\n"
     ]
    }
   ],
   "source": [
    "# Evaluamos al Generador \n",
    "rewardMean=gan2.evaluate_G()\n",
    "print('\\nRecompensa de Media:', rewardMean, '\\n')"
   ]
  },
  {
   "cell_type": "markdown",
   "metadata": {},
   "source": [
    "## Experimento 3"
   ]
  },
  {
   "cell_type": "markdown",
   "metadata": {},
   "source": [
    "### Construcción de base de datos experta con 3 trayectoria "
   ]
  },
  {
   "cell_type": "code",
   "execution_count": 39,
   "metadata": {},
   "outputs": [
    {
     "name": "stdout",
     "output_type": "stream",
     "text": [
      "\n",
      "\tEstados reales: \n",
      " [[-0.00655632  1.412633   -0.6640952  ...  0.15042743  0.\n",
      "   0.        ]\n",
      " [-0.01301994  1.4137701  -0.65149987 ...  0.1017526   0.\n",
      "   0.        ]\n",
      " [-0.01941118  1.414314   -0.6424104  ...  0.06514421  0.\n",
      "   0.        ]\n",
      " ...\n",
      " [-0.46665245 -0.0082029   0.03071342 ...  0.67170596  1.\n",
      "   1.        ]\n",
      " [-0.4661541  -0.01350838  0.02066027 ...  0.635882    1.\n",
      "   1.        ]\n",
      " [-0.46567154 -0.01838761  0.02184356 ...  0.58443296  1.\n",
      "   1.        ]]\n",
      "\tAcciones reales: \n",
      " [3 3 3 ... 0 3 3]\n",
      "\n",
      "\t Estados siguientes: \n",
      " [[-0.00655632  1.412633   -0.6640952  ...  0.15042743  0.\n",
      "   0.        ]\n",
      " [-0.01301994  1.4137701  -0.65149987 ...  0.1017526   0.\n",
      "   0.        ]\n",
      " [-0.01941118  1.414314   -0.6424104  ...  0.06514421  0.\n",
      "   0.        ]\n",
      " ...\n",
      " [-0.46665245 -0.0082029   0.03071342 ...  0.67170596  1.\n",
      "   1.        ]\n",
      " [-0.4661541  -0.01350838  0.02066027 ...  0.635882    1.\n",
      "   1.        ]\n",
      " [-0.46567154 -0.01838761  0.02184356 ...  0.58443296  1.\n",
      "   1.        ]]\n",
      "\n",
      "\t Recompensas: [   0    0    0 ...   -1   -1 -100]\n"
     ]
    }
   ],
   "source": [
    "expert_observations = np.genfromtxt(\"observations_LunarLander.csv\",delimiter=\"\\t\",dtype=str)\n",
    "expert_actions = np.genfromtxt('actions_LunarLander.csv', dtype=np.int32)\n",
    "expert_next_observations = np.genfromtxt('next_observations_LunarLander.csv',delimiter=\"\\t\",dtype=str)\n",
    "expert_rewards = np.genfromtxt('rewards_LunarLander.csv', dtype=np.int32)\n",
    "expert_num_tray=np.genfromtxt('n_trayectoria_LunarLander.csv', dtype=np.int32)\n",
    "\n",
    "# Reemplazar las comas\n",
    "expert_observations = np.core.defchararray.replace(expert_observations, ',', ' ')\n",
    "\n",
    "# Reemplazar las comas\n",
    "expert_next_observations = np.core.defchararray.replace(expert_next_observations, ',', ' ')\n",
    "\n",
    "# Crear un nuevo array para almacenar los datos convertidos\n",
    "converted_observations = np.genfromtxt(expert_observations, delimiter=' ', dtype=float)\n",
    "# Crear un nuevo array para almacenar los datos convertidos\n",
    "converted_next_observations = np.genfromtxt(expert_observations, delimiter=' ', dtype=float)\n",
    "\n",
    "\n",
    "rewards=np.array(expert_rewards).reshape(-1,1)\n",
    "\n",
    "\n",
    "print(\"\\n\\tEstados reales: \\n\", converted_observations)\n",
    "print(\"\\tAcciones reales: \\n\", expert_actions)\n",
    "print(\"\\n\\t Estados siguientes: \\n\", converted_next_observations)\n",
    "print(\"\\n\\t Recompensas:\" ,expert_rewards)"
   ]
  },
  {
   "cell_type": "code",
   "execution_count": 40,
   "metadata": {},
   "outputs": [
    {
     "name": "stdout",
     "output_type": "stream",
     "text": [
      "1572\n"
     ]
    }
   ],
   "source": [
    "longitud_trayectoria += np.count_nonzero(expert_num_tray == 2)\n",
    "print(longitud_trayectoria)"
   ]
  },
  {
   "cell_type": "code",
   "execution_count": 41,
   "metadata": {},
   "outputs": [],
   "source": [
    "converted_observations=converted_observations[0:longitud_trayectoria]\n",
    "expert_actions=expert_actions[0:longitud_trayectoria]\n",
    "converted_next_observations=converted_next_observations[0:longitud_trayectoria]\n",
    "expert_rewards=expert_rewards[0:longitud_trayectoria]"
   ]
  },
  {
   "cell_type": "code",
   "execution_count": 42,
   "metadata": {},
   "outputs": [],
   "source": [
    "# Construimos el dataset [s,a,s',r] reales y lo dividimos en training y test\n",
    "expert_a_one_hot=np.eye(env.action_space.n)[expert_actions]\n",
    "expert_rewards = expert_rewards.reshape(-1, 1)\n",
    "\n",
    "dataset1=np.concatenate([converted_observations,expert_a_one_hot],axis=1)\n",
    "dataset2=np.concatenate([dataset1,converted_next_observations],axis=1)\n",
    "dataset=np.concatenate([dataset2,expert_rewards],axis=1)\n"
   ]
  },
  {
   "cell_type": "code",
   "execution_count": 43,
   "metadata": {},
   "outputs": [
    {
     "name": "stdout",
     "output_type": "stream",
     "text": [
      "Nº de (ESTADOS,ACCIONES) en el conjunto de entrenamiento: 1257\n",
      "Nº de (ESTADOS,ACCIONES) en el conjunto de prueba: 315\n"
     ]
    }
   ],
   "source": [
    "#############################################################################\n",
    "# DIVISIÓN TRAIN Y TEST\n",
    "##############################################################################\n",
    "\n",
    "# Divide los datos en conjuntos de entrenamiento y prueba\n",
    "X_train, X_test = train_test_split(dataset, test_size=0.2, random_state=0)\n",
    "\n",
    "\n",
    "#Imprime el número de elementos en el conjuntos de entrenamiento y prueba\n",
    "print('Nº de (ESTADOS,ACCIONES) en el conjunto de entrenamiento:', len(X_train))\n",
    "print('Nº de (ESTADOS,ACCIONES) en el conjunto de prueba:', len(X_test))"
   ]
  },
  {
   "cell_type": "code",
   "execution_count": 44,
   "metadata": {},
   "outputs": [],
   "source": [
    "env= gym.make('LunarLander-v2')\n",
    "obs,_= env.reset()\n",
    "\n",
    "# Generador\n",
    "generator=Policy_net( 'policy', env, obs)\n",
    "\n",
    "# Generamos [s,a, s', r] falsas y las políticas theta_i y theta_i+1\n",
    "observations, actions, next_observations, rewards, Old_Policy, Policy=generator.generate_fakes()\n",
    "\n",
    "# Discriminador\n",
    "discriminator=Discriminator(env, discriminator_net, converted_observations, expert_actions, converted_next_observations, expert_rewards, observations, actions, next_observations, rewards)"
   ]
  },
  {
   "cell_type": "markdown",
   "metadata": {},
   "source": [
    "### Definición de GAIL"
   ]
  },
  {
   "cell_type": "code",
   "execution_count": 45,
   "metadata": {},
   "outputs": [],
   "source": [
    "gan3=GAN(discriminator=discriminator,generator=generator)"
   ]
  },
  {
   "cell_type": "markdown",
   "metadata": {},
   "source": [
    "### Compilación de GAIL"
   ]
  },
  {
   "cell_type": "code",
   "execution_count": 46,
   "metadata": {},
   "outputs": [],
   "source": [
    "tf.config.run_functions_eagerly(True)\n",
    "gan3.compile(\n",
    "    d_optimizer=tf.keras.optimizers.Adam(learning_rate=LEARNING_RATE),\n",
    "    loss_fn_D=loss_fn_D\n",
    ")"
   ]
  },
  {
   "cell_type": "markdown",
   "metadata": {},
   "source": [
    "### Entrenamiento de GAIL"
   ]
  },
  {
   "cell_type": "code",
   "execution_count": 47,
   "metadata": {},
   "outputs": [
    {
     "name": "stdout",
     "output_type": "stream",
     "text": [
      "\n",
      "\n",
      "\n",
      "d_loss= 2.5869744\n",
      "\n",
      "g_loss= 0.69448334\n",
      "1/9 [==>...........................] - ETA: 1:04:11 - d_loss: 2.5870 - g_loss: 0.6945\n",
      "\n",
      "\n",
      "d_loss= 2.6031098\n",
      "\n",
      "g_loss= -2.7377539\n",
      "2/9 [=====>........................] - ETA: 56:32 - d_loss: 2.5950 - g_loss: -1.0216 \n",
      "\n",
      "\n",
      "d_loss= 2.5750742\n",
      "\n",
      "g_loss= 2.415418\n",
      "3/9 [=========>....................] - ETA: 44:14 - d_loss: 2.5884 - g_loss: 0.1240 \n",
      "\n",
      "\n",
      "d_loss= 2.5509062\n",
      "\n",
      "g_loss= 0.68319577\n",
      "4/9 [============>.................] - ETA: 35:42 - d_loss: 2.5790 - g_loss: 0.2638\n",
      "\n",
      "\n",
      "d_loss= 2.5985534\n",
      "\n",
      "g_loss= -0.98786104\n",
      "5/9 [===============>..............] - ETA: 28:05 - d_loss: 2.5829 - g_loss: 0.0135\n",
      "\n",
      "\n",
      "d_loss= 2.574546\n",
      "\n",
      "g_loss= 2.8376043\n",
      "6/9 [===================>..........] - ETA: 20:52 - d_loss: 2.5815 - g_loss: 0.4842\n",
      "\n",
      "\n",
      "d_loss= 2.5339694\n",
      "\n",
      "g_loss= -2.28929\n",
      "7/9 [======================>.......] - ETA: 13:49 - d_loss: 2.5747 - g_loss: 0.0880\n",
      "\n",
      "\n",
      "d_loss= 2.5598602\n",
      "\n",
      "g_loss= 0.864584\n",
      "8/9 [=========================>....] - ETA: 6:52 - d_loss: 2.5729 - g_loss: 0.1850 \n",
      "\n",
      "\n",
      "d_loss= 2.516981\n",
      "\n",
      "g_loss= 1.2171593\n",
      "9/9 [==============================] - 3770s 411s/step - d_loss: 2.5667 - g_loss: 0.2997\n"
     ]
    }
   ],
   "source": [
    "# Deshabilitar los mensajes de información de TensorFlow\n",
    "os.environ['TF_CPP_MIN_LOG_LEVEL'] = '3'\n",
    "\n",
    "# Deshabilitar los mensajes de información de OpenAI Gym\n",
    "gym.logger.set_level(40)\n",
    "\n",
    "\n",
    "BATCH_SIZE=140\n",
    "\n",
    "history=gan3.fit(X_train,\n",
    "    epochs=EPOCHS, batch_size=BATCH_SIZE)\n"
   ]
  },
  {
   "cell_type": "markdown",
   "metadata": {},
   "source": [
    "### Evaluación de GAIL"
   ]
  },
  {
   "cell_type": "code",
   "execution_count": 48,
   "metadata": {},
   "outputs": [
    {
     "name": "stdout",
     "output_type": "stream",
     "text": [
      "1/1 [==============================] - 0s 11ms/step - loss: 0.6377 - accuracy: 0.2000\n",
      "1/1 [==============================] - 0s 9ms/step - loss: 0.6486 - accuracy: 0.2833\n",
      ">Loss real: \n",
      "0.6376952528953552\n",
      ">Loss fake: \n",
      "0.6486262083053589\n"
     ]
    }
   ],
   "source": [
    "# Evaluamos el Discriminador de GAIL en el TEST\n",
    "gan3.evaluate_D(X_test)\n"
   ]
  },
  {
   "cell_type": "code",
   "execution_count": 49,
   "metadata": {},
   "outputs": [
    {
     "name": "stdout",
     "output_type": "stream",
     "text": [
      "Episode  0 Total reward: -21.258838030891184\n",
      "Episode  1 Total reward: -94.31099323240255\n",
      "Episode  2 Total reward: -100.42983974815677\n",
      "Episode  3 Total reward: 128.6583104750983\n",
      "Episode  4 Total reward: 69.35335199962672\n",
      "Episode  5 Total reward: -103.29830700222898\n",
      "Episode  6 Total reward: 106.73457699323279\n",
      "Episode  7 Total reward: 21.342789683236987\n",
      "Episode  8 Total reward: -52.216164768297645\n",
      "Episode  9 Total reward: 89.09574872769012\n",
      "Episode  10 Total reward: 104.90118424791373\n",
      "Episode  11 Total reward: 35.34748055059393\n",
      "Episode  12 Total reward: -68.38174960421631\n",
      "Episode  13 Total reward: -5.188451845239243\n",
      "Episode  14 Total reward: -82.97076980002254\n",
      "Episode  15 Total reward: -88.72676124677396\n",
      "Episode  16 Total reward: -120.93674785803188\n",
      "Episode  17 Total reward: -86.69864549307495\n",
      "Episode  18 Total reward: 78.57539909576194\n",
      "Episode  19 Total reward: 54.58391004167262\n",
      "Episode  20 Total reward: -12.073319929157691\n",
      "Episode  21 Total reward: -65.1802644857569\n",
      "Episode  22 Total reward: 26.86486578390503\n",
      "Episode  23 Total reward: 28.862121072122022\n",
      "Episode  24 Total reward: -51.05276274491156\n",
      "Episode  25 Total reward: -30.19147283385955\n",
      "Episode  26 Total reward: -91.52600614181826\n",
      "Episode  27 Total reward: 42.68426084173815\n",
      "Episode  28 Total reward: 41.905930397647815\n",
      "Episode  29 Total reward: 8.211227818011636\n",
      "Episode  30 Total reward: 76.13422891559598\n",
      "Episode  31 Total reward: 2.441086588181392\n",
      "Episode  32 Total reward: 39.7037304832715\n",
      "Episode  33 Total reward: 115.5761476433331\n",
      "Episode  34 Total reward: -171.89632819774843\n",
      "Episode  35 Total reward: -49.31259805310434\n",
      "Episode  36 Total reward: -144.5342911419801\n",
      "Episode  37 Total reward: 67.319248969218\n",
      "Episode  38 Total reward: 98.84183800476268\n",
      "Episode  39 Total reward: -64.74810213568485\n",
      "Episode  40 Total reward: 134.55637562810023\n",
      "Episode  41 Total reward: -101.98949310594195\n",
      "Episode  42 Total reward: -215.9839182793558\n",
      "Episode  43 Total reward: -28.03054530022976\n",
      "Episode  44 Total reward: 20.946218915948354\n",
      "Episode  45 Total reward: -120.61266039053824\n",
      "Episode  46 Total reward: -98.31213876512638\n",
      "Episode  47 Total reward: 58.64586571428889\n",
      "Episode  48 Total reward: -73.03320833018795\n",
      "Episode  49 Total reward: -22.625448278804697\n"
     ]
    },
    {
     "data": {
      "image/png": "[encoded data removed]",
      "text/plain": [
       "<Figure size 640x480 with 1 Axes>"
      ]
     },
     "metadata": {},
     "output_type": "display_data"
    },
    {
     "name": "stdout",
     "output_type": "stream",
     "text": [
      "\n",
      "Recompensa de Media: -14.28467856305181 \n",
      "\n"
     ]
    }
   ],
   "source": [
    "# Evaluamos al Generador \n",
    "rewardMean=gan3.evaluate_G()\n",
    "print('\\nRecompensa de Media:', rewardMean, '\\n')"
   ]
  },
  {
   "cell_type": "markdown",
   "metadata": {},
   "source": [
    "## Experimento 4"
   ]
  },
  {
   "cell_type": "markdown",
   "metadata": {},
   "source": [
    "### Construcción de base de datos experta con 4 trayectoria "
   ]
  },
  {
   "cell_type": "code",
   "execution_count": 50,
   "metadata": {},
   "outputs": [
    {
     "name": "stdout",
     "output_type": "stream",
     "text": [
      "\n",
      "\tEstados reales: \n",
      " [[-0.00655632  1.412633   -0.6640952  ...  0.15042743  0.\n",
      "   0.        ]\n",
      " [-0.01301994  1.4137701  -0.65149987 ...  0.1017526   0.\n",
      "   0.        ]\n",
      " [-0.01941118  1.414314   -0.6424104  ...  0.06514421  0.\n",
      "   0.        ]\n",
      " ...\n",
      " [-0.46665245 -0.0082029   0.03071342 ...  0.67170596  1.\n",
      "   1.        ]\n",
      " [-0.4661541  -0.01350838  0.02066027 ...  0.635882    1.\n",
      "   1.        ]\n",
      " [-0.46567154 -0.01838761  0.02184356 ...  0.58443296  1.\n",
      "   1.        ]]\n",
      "\tAcciones reales: \n",
      " [3 3 3 ... 0 3 3]\n",
      "\n",
      "\t Estados siguientes: \n",
      " [[-0.00655632  1.412633   -0.6640952  ...  0.15042743  0.\n",
      "   0.        ]\n",
      " [-0.01301994  1.4137701  -0.65149987 ...  0.1017526   0.\n",
      "   0.        ]\n",
      " [-0.01941118  1.414314   -0.6424104  ...  0.06514421  0.\n",
      "   0.        ]\n",
      " ...\n",
      " [-0.46665245 -0.0082029   0.03071342 ...  0.67170596  1.\n",
      "   1.        ]\n",
      " [-0.4661541  -0.01350838  0.02066027 ...  0.635882    1.\n",
      "   1.        ]\n",
      " [-0.46567154 -0.01838761  0.02184356 ...  0.58443296  1.\n",
      "   1.        ]]\n",
      "\n",
      "\t Recompensas: [   0    0    0 ...   -1   -1 -100]\n"
     ]
    }
   ],
   "source": [
    "expert_observations = np.genfromtxt(\"observations_LunarLander.csv\",delimiter=\"\\t\",dtype=str)\n",
    "expert_actions = np.genfromtxt('actions_LunarLander.csv', dtype=np.int32)\n",
    "expert_next_observations = np.genfromtxt('next_observations_LunarLander.csv',delimiter=\"\\t\",dtype=str)\n",
    "expert_rewards = np.genfromtxt('rewards_LunarLander.csv', dtype=np.int32)\n",
    "expert_num_tray=np.genfromtxt('n_trayectoria_LunarLander.csv', dtype=np.int32)\n",
    "\n",
    "# Reemplazar las comas\n",
    "expert_observations = np.core.defchararray.replace(expert_observations, ',', ' ')\n",
    "\n",
    "# Reemplazar las comas\n",
    "expert_next_observations = np.core.defchararray.replace(expert_next_observations, ',', ' ')\n",
    "\n",
    "# Crear un nuevo array para almacenar los datos convertidos\n",
    "converted_observations = np.genfromtxt(expert_observations, delimiter=' ', dtype=float)\n",
    "# Crear un nuevo array para almacenar los datos convertidos\n",
    "converted_next_observations = np.genfromtxt(expert_observations, delimiter=' ', dtype=float)\n",
    "\n",
    "\n",
    "rewards=np.array(expert_rewards).reshape(-1,1)\n",
    "\n",
    "\n",
    "print(\"\\n\\tEstados reales: \\n\", converted_observations)\n",
    "print(\"\\tAcciones reales: \\n\", expert_actions)\n",
    "print(\"\\n\\t Estados siguientes: \\n\", converted_next_observations)\n",
    "print(\"\\n\\t Recompensas:\" ,expert_rewards)"
   ]
  },
  {
   "cell_type": "code",
   "execution_count": 51,
   "metadata": {},
   "outputs": [
    {
     "name": "stdout",
     "output_type": "stream",
     "text": [
      "2168\n"
     ]
    }
   ],
   "source": [
    "longitud_trayectoria += np.count_nonzero(expert_num_tray == 3)\n",
    "print(longitud_trayectoria)"
   ]
  },
  {
   "cell_type": "code",
   "execution_count": 52,
   "metadata": {},
   "outputs": [],
   "source": [
    "converted_observations=converted_observations[0:longitud_trayectoria]\n",
    "expert_actions=expert_actions[0:longitud_trayectoria]\n",
    "converted_next_observations=converted_next_observations[0:longitud_trayectoria]\n",
    "expert_rewards=expert_rewards[0:longitud_trayectoria]"
   ]
  },
  {
   "cell_type": "code",
   "execution_count": 53,
   "metadata": {},
   "outputs": [],
   "source": [
    "# Construimos el dataset [s,a,s',r] reales y lo dividimos en training y test\n",
    "expert_a_one_hot=np.eye(env.action_space.n)[expert_actions]\n",
    "expert_rewards = expert_rewards.reshape(-1, 1)\n",
    "\n",
    "dataset1=np.concatenate([converted_observations,expert_a_one_hot],axis=1)\n",
    "dataset2=np.concatenate([dataset1,converted_next_observations],axis=1)\n",
    "dataset=np.concatenate([dataset2,expert_rewards],axis=1)\n"
   ]
  },
  {
   "cell_type": "code",
   "execution_count": 54,
   "metadata": {},
   "outputs": [
    {
     "name": "stdout",
     "output_type": "stream",
     "text": [
      "Nº de (ESTADOS,ACCIONES) en el conjunto de entrenamiento: 1734\n",
      "Nº de (ESTADOS,ACCIONES) en el conjunto de prueba: 434\n"
     ]
    }
   ],
   "source": [
    "#############################################################################\n",
    "# DIVISIÓN TRAIN Y TEST\n",
    "##############################################################################\n",
    "\n",
    "# Divide los datos en conjuntos de entrenamiento y prueba\n",
    "X_train, X_test = train_test_split(dataset, test_size=0.2, random_state=0)\n",
    "\n",
    "\n",
    "#Imprime el número de elementos en el conjuntos de entrenamiento y prueba\n",
    "print('Nº de (ESTADOS,ACCIONES) en el conjunto de entrenamiento:', len(X_train))\n",
    "print('Nº de (ESTADOS,ACCIONES) en el conjunto de prueba:', len(X_test))"
   ]
  },
  {
   "cell_type": "code",
   "execution_count": 55,
   "metadata": {},
   "outputs": [],
   "source": [
    "env= gym.make('LunarLander-v2')\n",
    "obs,_= env.reset()\n",
    "\n",
    "# Generador\n",
    "generator=Policy_net( 'policy', env, obs)\n",
    "\n",
    "# Generamos [s,a, s', r] falsas y las políticas theta_i y theta_i+1\n",
    "observations, actions, next_observations, rewards, Old_Policy, Policy=generator.generate_fakes()\n",
    "\n",
    "# Discriminador\n",
    "discriminator=Discriminator(env, discriminator_net, converted_observations, expert_actions, converted_next_observations, expert_rewards, observations, actions, next_observations, rewards)"
   ]
  },
  {
   "cell_type": "markdown",
   "metadata": {},
   "source": [
    "### Definición de GAIL"
   ]
  },
  {
   "cell_type": "code",
   "execution_count": 56,
   "metadata": {},
   "outputs": [],
   "source": [
    "gan4=GAN(discriminator=discriminator,generator=generator)"
   ]
  },
  {
   "cell_type": "markdown",
   "metadata": {},
   "source": [
    "### Compilación de GAIL"
   ]
  },
  {
   "cell_type": "code",
   "execution_count": 57,
   "metadata": {},
   "outputs": [],
   "source": [
    "tf.config.run_functions_eagerly(True)\n",
    "gan4.compile(\n",
    "    d_optimizer=tf.keras.optimizers.Adam(learning_rate=LEARNING_RATE),\n",
    "    loss_fn_D=loss_fn_D\n",
    ")"
   ]
  },
  {
   "cell_type": "markdown",
   "metadata": {},
   "source": [
    "### Entrenamiento de GAIL"
   ]
  },
  {
   "cell_type": "code",
   "execution_count": null,
   "metadata": {},
   "outputs": [
    {
     "name": "stdout",
     "output_type": "stream",
     "text": [
      "\n",
      "\n",
      "\n",
      "d_loss= 2.5474615\n",
      "\n",
      "g_loss= -1.3547312\n",
      " 1/13 [=>............................] - ETA: 2:04:47 - d_loss: 2.5475 - g_loss: -1.3547\n",
      "\n",
      "\n",
      "d_loss= 2.5195522\n",
      "\n",
      "g_loss= 1.358638\n",
      " 2/13 [===>..........................] - ETA: 1:55:17 - d_loss: 2.5335 - g_loss: 0.0020 \n",
      "\n",
      "\n",
      "d_loss= 2.5349505\n",
      "\n",
      "g_loss= 3.3267617\n",
      " 3/13 [=====>........................] - ETA: 1:44:50 - d_loss: 2.5340 - g_loss: 1.1102\n",
      "\n",
      "\n",
      "d_loss= 2.5660439\n",
      "\n",
      "g_loss= 2.1828837\n",
      " 4/13 [========>.....................] - ETA: 1:34:28 - d_loss: 2.5420 - g_loss: 1.3784\n",
      "\n",
      "\n",
      "d_loss= 2.6124744\n",
      "\n",
      "g_loss= -0.51852167\n",
      " 5/13 [==========>...................] - ETA: 1:24:07 - d_loss: 2.5561 - g_loss: 0.9990\n",
      "\n",
      "\n",
      "d_loss= 2.532445\n",
      "\n",
      "g_loss= 1.0698951\n",
      " 6/13 [============>.................] - ETA: 1:13:36 - d_loss: 2.5522 - g_loss: 1.0108\n",
      "\n",
      "\n",
      "d_loss= 2.5527377\n",
      "\n",
      "g_loss= 3.062141\n",
      " 7/13 [===============>..............] - ETA: 1:03:07 - d_loss: 2.5522 - g_loss: 1.3039\n",
      "\n",
      "\n",
      "d_loss= 2.554758\n",
      "\n",
      "g_loss= 0.7253308\n",
      " 8/13 [=================>............] - ETA: 52:38 - d_loss: 2.5526 - g_loss: 1.2315  \n",
      "\n",
      "\n",
      "d_loss= 2.4933846\n",
      "\n",
      "g_loss= 1.5238409\n",
      " 9/13 [===================>..........] - ETA: 42:06 - d_loss: 2.5460 - g_loss: 1.2640\n",
      "\n",
      "\n",
      "d_loss= 2.5220323\n",
      "\n",
      "g_loss= -0.03597986\n",
      "10/13 [======================>.......] - ETA: 31:35 - d_loss: 2.5436 - g_loss: 1.1340\n",
      "\n",
      "\n",
      "d_loss= 2.5183425\n",
      "\n",
      "g_loss= 2.0266\n",
      "11/13 [========================>.....] - ETA: 21:03 - d_loss: 2.5413 - g_loss: 1.2152\n",
      "\n",
      "\n",
      "d_loss= 2.4876063\n",
      "\n",
      "g_loss= -0.4792659\n",
      "12/13 [==========================>...] - ETA: 10:31 - d_loss: 2.5368 - g_loss: 1.0740\n",
      "\n",
      "\n",
      "d_loss= 2.503951\n",
      "\n",
      "g_loss= 2.2909946\n",
      "13/13 [==============================] - 8203s 632s/step - d_loss: 2.5343 - g_loss: 1.1676\n"
     ]
    }
   ],
   "source": [
    "# Deshabilitar los mensajes de información de TensorFlow\n",
    "os.environ['TF_CPP_MIN_LOG_LEVEL'] = '3'\n",
    "\n",
    "# Deshabilitar los mensajes de información de OpenAI Gym\n",
    "gym.logger.set_level(40)\n",
    "\n",
    "BATCH_SIZE=140\n",
    "\n",
    "history=gan4.fit(X_train,\n",
    "    epochs=EPOCHS, batch_size=BATCH_SIZE)\n"
   ]
  },
  {
   "cell_type": "markdown",
   "metadata": {},
   "source": [
    "### Evaluación de GAIL"
   ]
  },
  {
   "cell_type": "code",
   "execution_count": null,
   "metadata": {},
   "outputs": [
    {
     "name": "stdout",
     "output_type": "stream",
     "text": [
      "1/1 [==============================] - 0s 28ms/step - loss: 0.6223 - accuracy: 0.0046\n",
      "1/1 [==============================] - 0s 18ms/step - loss: 0.6076 - accuracy: 0.0000e+00\n",
      ">Loss real: \n",
      "0.6223491430282593\n",
      ">Loss fake: \n",
      "0.607596218585968\n"
     ]
    }
   ],
   "source": [
    "# Evaluamos el Discriminador de GAIL en el TEST\n",
    "gan4.evaluate_D(X_test)\n"
   ]
  },
  {
   "cell_type": "code",
   "execution_count": null,
   "metadata": {},
   "outputs": [
    {
     "name": "stdout",
     "output_type": "stream",
     "text": [
      "Episode  0 Total reward: -20.55237690713666\n",
      "Episode  1 Total reward: 47.9567391225452\n",
      "Episode  2 Total reward: 58.5064429096731\n",
      "Episode  3 Total reward: -15.628172840705531\n",
      "Episode  4 Total reward: -99.7808453416373\n",
      "Episode  5 Total reward: -89.48992180962732\n",
      "Episode  6 Total reward: 37.740649038773455\n",
      "Episode  7 Total reward: 12.041819503110375\n",
      "Episode  8 Total reward: -98.33723785052321\n",
      "Episode  9 Total reward: -131.2450373513612\n",
      "Episode  10 Total reward: -83.98167122828004\n",
      "Episode  11 Total reward: -122.60738207164309\n",
      "Episode  12 Total reward: -47.17594622994296\n",
      "Episode  13 Total reward: -106.67931472938511\n",
      "Episode  14 Total reward: -61.652991766106226\n",
      "Episode  15 Total reward: 12.177032890975124\n",
      "Episode  16 Total reward: -20.404166144709322\n",
      "Episode  17 Total reward: 21.520434150083247\n",
      "Episode  18 Total reward: -84.78149726922621\n",
      "Episode  19 Total reward: -144.33790224129802\n",
      "Episode  20 Total reward: 51.15857670300004\n",
      "Episode  21 Total reward: -251.85607848924718\n",
      "Episode  22 Total reward: -0.2908672202253637\n",
      "Episode  23 Total reward: -16.778367446788607\n",
      "Episode  24 Total reward: -106.08573078188394\n",
      "Episode  25 Total reward: -7.040872670599754\n",
      "Episode  26 Total reward: -44.97966882483937\n",
      "Episode  27 Total reward: -105.87583571263123\n",
      "Episode  28 Total reward: -84.91515816684493\n",
      "Episode  29 Total reward: -214.97647276890683\n",
      "Episode  30 Total reward: -77.49530755766291\n",
      "Episode  31 Total reward: -193.5142818670249\n",
      "Episode  32 Total reward: 20.462176091503622\n",
      "Episode  33 Total reward: -59.45192032415119\n",
      "Episode  34 Total reward: -6.0927191685257185\n",
      "Episode  35 Total reward: -21.87783122008453\n",
      "Episode  36 Total reward: -12.646546617150648\n",
      "Episode  37 Total reward: -50.369750728410395\n",
      "Episode  38 Total reward: -54.89245217773929\n",
      "Episode  39 Total reward: -34.696886114230665\n",
      "Episode  40 Total reward: -30.69668503900273\n",
      "Episode  41 Total reward: 15.817984825699272\n",
      "Episode  42 Total reward: -216.58160389127448\n",
      "Episode  43 Total reward: -21.251867738088876\n",
      "Episode  44 Total reward: -123.20277840641181\n",
      "Episode  45 Total reward: -21.099770441773543\n",
      "Episode  46 Total reward: -34.602842864498996\n",
      "Episode  47 Total reward: 9.11569483843968\n",
      "Episode  48 Total reward: -11.962347551469875\n",
      "Episode  49 Total reward: -135.39048229399089\n"
     ]
    },
    {
     "data": {
      "image/png": "[encoded data removed]",
      "text/plain": [
       "<Figure size 640x480 with 1 Axes>"
      ]
     },
     "metadata": {},
     "output_type": "display_data"
    },
    {
     "name": "stdout",
     "output_type": "stream",
     "text": [
      "\n",
      "Recompensa de Media: -55.575640795824754 \n",
      "\n"
     ]
    }
   ],
   "source": [
    "# Evaluamos al Generador \n",
    "rewardMean=gan4.evaluate_G()\n",
    "print('\\nRecompensa de Media:', rewardMean, '\\n')"
   ]
  },
  {
   "cell_type": "markdown",
   "metadata": {},
   "source": [
    "## Experimento 5"
   ]
  },
  {
   "cell_type": "markdown",
   "metadata": {},
   "source": [
    "### Construcción de base de datos experta con 2 trayectoria "
   ]
  },
  {
   "cell_type": "code",
   "execution_count": 61,
   "metadata": {},
   "outputs": [
    {
     "name": "stdout",
     "output_type": "stream",
     "text": [
      "\n",
      "\tEstados reales: \n",
      " [[-0.00655632  1.412633   -0.6640952  ...  0.15042743  0.\n",
      "   0.        ]\n",
      " [-0.01301994  1.4137701  -0.65149987 ...  0.1017526   0.\n",
      "   0.        ]\n",
      " [-0.01941118  1.414314   -0.6424104  ...  0.06514421  0.\n",
      "   0.        ]\n",
      " ...\n",
      " [-0.46665245 -0.0082029   0.03071342 ...  0.67170596  1.\n",
      "   1.        ]\n",
      " [-0.4661541  -0.01350838  0.02066027 ...  0.635882    1.\n",
      "   1.        ]\n",
      " [-0.46567154 -0.01838761  0.02184356 ...  0.58443296  1.\n",
      "   1.        ]]\n",
      "\tAcciones reales: \n",
      " [3 3 3 ... 0 3 3]\n",
      "\n",
      "\t Estados siguientes: \n",
      " [[-0.00655632  1.412633   -0.6640952  ...  0.15042743  0.\n",
      "   0.        ]\n",
      " [-0.01301994  1.4137701  -0.65149987 ...  0.1017526   0.\n",
      "   0.        ]\n",
      " [-0.01941118  1.414314   -0.6424104  ...  0.06514421  0.\n",
      "   0.        ]\n",
      " ...\n",
      " [-0.46665245 -0.0082029   0.03071342 ...  0.67170596  1.\n",
      "   1.        ]\n",
      " [-0.4661541  -0.01350838  0.02066027 ...  0.635882    1.\n",
      "   1.        ]\n",
      " [-0.46567154 -0.01838761  0.02184356 ...  0.58443296  1.\n",
      "   1.        ]]\n",
      "\n",
      "\t Recompensas: [   0    0    0 ...   -1   -1 -100]\n"
     ]
    }
   ],
   "source": [
    "expert_observations = np.genfromtxt(\"observations_LunarLander.csv\",delimiter=\"\\t\",dtype=str)\n",
    "expert_actions = np.genfromtxt('actions_LunarLander.csv', dtype=np.int32)\n",
    "expert_next_observations = np.genfromtxt('next_observations_LunarLander.csv',delimiter=\"\\t\",dtype=str)\n",
    "expert_rewards = np.genfromtxt('rewards_LunarLander.csv', dtype=np.int32)\n",
    "expert_num_tray=np.genfromtxt('n_trayectoria_LunarLander.csv', dtype=np.int32)\n",
    "\n",
    "# Reemplazar las comas\n",
    "expert_observations = np.core.defchararray.replace(expert_observations, ',', ' ')\n",
    "\n",
    "# Reemplazar las comas\n",
    "expert_next_observations = np.core.defchararray.replace(expert_next_observations, ',', ' ')\n",
    "\n",
    "# Crear un nuevo array para almacenar los datos convertidos\n",
    "converted_observations = np.genfromtxt(expert_observations, delimiter=' ', dtype=float)\n",
    "# Crear un nuevo array para almacenar los datos convertidos\n",
    "converted_next_observations = np.genfromtxt(expert_observations, delimiter=' ', dtype=float)\n",
    "\n",
    "\n",
    "rewards=np.array(expert_rewards).reshape(-1,1)\n",
    "\n",
    "\n",
    "print(\"\\n\\tEstados reales: \\n\", converted_observations)\n",
    "print(\"\\tAcciones reales: \\n\", expert_actions)\n",
    "print(\"\\n\\t Estados siguientes: \\n\", converted_next_observations)\n",
    "print(\"\\n\\t Recompensas:\" ,expert_rewards)"
   ]
  },
  {
   "cell_type": "code",
   "execution_count": 62,
   "metadata": {},
   "outputs": [
    {
     "name": "stdout",
     "output_type": "stream",
     "text": [
      "3158\n"
     ]
    }
   ],
   "source": [
    "longitud_trayectoria += np.count_nonzero(expert_num_tray == 4)\n",
    "print(longitud_trayectoria)"
   ]
  },
  {
   "cell_type": "code",
   "execution_count": 63,
   "metadata": {},
   "outputs": [],
   "source": [
    "converted_observations=converted_observations[0:longitud_trayectoria]\n",
    "expert_actions=expert_actions[0:longitud_trayectoria]\n",
    "converted_next_observations=converted_next_observations[0:longitud_trayectoria]\n",
    "expert_rewards=expert_rewards[0:longitud_trayectoria]"
   ]
  },
  {
   "cell_type": "code",
   "execution_count": 64,
   "metadata": {},
   "outputs": [],
   "source": [
    "# Construimos el dataset [s,a,s',r] reales y lo dividimos en training y test\n",
    "expert_a_one_hot=np.eye(env.action_space.n)[expert_actions]\n",
    "expert_rewards = expert_rewards.reshape(-1, 1)\n",
    "\n",
    "dataset1=np.concatenate([converted_observations,expert_a_one_hot],axis=1)\n",
    "dataset2=np.concatenate([dataset1,converted_next_observations],axis=1)\n",
    "dataset=np.concatenate([dataset2,expert_rewards],axis=1)\n"
   ]
  },
  {
   "cell_type": "code",
   "execution_count": 65,
   "metadata": {},
   "outputs": [
    {
     "name": "stdout",
     "output_type": "stream",
     "text": [
      "Nº de (ESTADOS,ACCIONES) en el conjunto de entrenamiento: 2526\n",
      "Nº de (ESTADOS,ACCIONES) en el conjunto de prueba: 632\n"
     ]
    }
   ],
   "source": [
    "#############################################################################\n",
    "# DIVISIÓN TRAIN Y TEST\n",
    "##############################################################################\n",
    "\n",
    "# Divide los datos en conjuntos de entrenamiento y prueba\n",
    "X_train, X_test = train_test_split(dataset, test_size=0.2, random_state=0)\n",
    "\n",
    "\n",
    "#Imprime el número de elementos en el conjuntos de entrenamiento y prueba\n",
    "print('Nº de (ESTADOS,ACCIONES) en el conjunto de entrenamiento:', len(X_train))\n",
    "print('Nº de (ESTADOS,ACCIONES) en el conjunto de prueba:', len(X_test))"
   ]
  },
  {
   "cell_type": "code",
   "execution_count": 66,
   "metadata": {},
   "outputs": [],
   "source": [
    "env= gym.make('LunarLander-v2')\n",
    "obs,_= env.reset()\n",
    "\n",
    "# Generador\n",
    "generator=Policy_net( 'policy', env, obs)\n",
    "\n",
    "# Generamos [s,a, s', r] falsas y las políticas theta_i y theta_i+1\n",
    "observations, actions, next_observations, rewards, Old_Policy, Policy=generator.generate_fakes()\n",
    "\n",
    "# Discriminador\n",
    "discriminator=Discriminator(env, discriminator_net, converted_observations, expert_actions, converted_next_observations, expert_rewards, observations, actions, next_observations, rewards)"
   ]
  },
  {
   "cell_type": "markdown",
   "metadata": {},
   "source": [
    "### Definición de GAIL"
   ]
  },
  {
   "cell_type": "code",
   "execution_count": 67,
   "metadata": {},
   "outputs": [],
   "source": [
    "gan5=GAN(discriminator=discriminator,generator=generator)"
   ]
  },
  {
   "cell_type": "markdown",
   "metadata": {},
   "source": [
    "### Compilación de GAIL"
   ]
  },
  {
   "cell_type": "code",
   "execution_count": 68,
   "metadata": {},
   "outputs": [],
   "source": [
    "tf.config.run_functions_eagerly(True)\n",
    "gan5.compile(\n",
    "    d_optimizer=tf.keras.optimizers.Adam(learning_rate=LEARNING_RATE),\n",
    "    loss_fn_D=loss_fn_D\n",
    ")"
   ]
  },
  {
   "cell_type": "markdown",
   "metadata": {},
   "source": [
    "### Entrenamiento de GAIL"
   ]
  },
  {
   "cell_type": "code",
   "execution_count": 69,
   "metadata": {},
   "outputs": [
    {
     "name": "stdout",
     "output_type": "stream",
     "text": [
      "\n",
      "\n",
      "\n",
      "d_loss= 2.4844127\n",
      "\n",
      "g_loss= 0.08664101\n",
      " 1/19 [>.............................] - ETA: 1:59:53 - d_loss: 2.4844 - g_loss: 0.0866\n",
      "\n",
      "\n",
      "d_loss= 2.475728\n",
      "\n",
      "g_loss= 0.8358883\n",
      " 2/19 [==>...........................] - ETA: 1:53:27 - d_loss: 2.4801 - g_loss: 0.4613\n",
      "\n",
      "\n",
      "d_loss= 2.5088036\n",
      "\n",
      "g_loss= -0.15271276\n",
      " 3/19 [===>..........................] - ETA: 1:46:48 - d_loss: 2.4896 - g_loss: 0.2566\n",
      "\n",
      "\n",
      "d_loss= 2.530171\n",
      "\n",
      "g_loss= -0.118153654\n",
      " 4/19 [=====>........................] - ETA: 1:40:06 - d_loss: 2.4998 - g_loss: 0.1629\n",
      "\n",
      "\n",
      "d_loss= 2.458501\n",
      "\n",
      "g_loss= 1.8967965\n",
      " 5/19 [======>.......................] - ETA: 1:33:26 - d_loss: 2.4915 - g_loss: 0.5097\n",
      "\n",
      "\n",
      "d_loss= 2.4795847\n",
      "\n",
      "g_loss= -0.069746606\n",
      " 6/19 [========>.....................] - ETA: 1:26:47 - d_loss: 2.4895 - g_loss: 0.4131\n",
      "\n",
      "\n",
      "d_loss= 2.4751456\n",
      "\n",
      "g_loss= -4.288805\n",
      " 7/19 [==========>...................] - ETA: 1:20:07 - d_loss: 2.4875 - g_loss: -0.2586\n",
      "\n",
      "\n",
      "d_loss= 2.446813\n",
      "\n",
      "g_loss= 4.136402\n",
      " 8/19 [===========>..................] - ETA: 1:13:27 - d_loss: 2.4824 - g_loss: 0.2908 \n",
      "\n",
      "\n",
      "d_loss= 2.4985983\n",
      "\n",
      "g_loss= 0.113778874\n",
      " 9/19 [=============>................] - ETA: 1:06:47 - d_loss: 2.4842 - g_loss: 0.2711\n",
      "\n",
      "\n",
      "d_loss= 2.4535584\n",
      "\n",
      "g_loss= 13.783771\n",
      "10/19 [==============>...............] - ETA: 1:00:06 - d_loss: 2.4811 - g_loss: 1.6224\n",
      "\n",
      "\n",
      "d_loss= 2.4117413\n",
      "\n",
      "g_loss= -6.303091\n",
      "11/19 [================>.............] - ETA: 53:25 - d_loss: 2.4748 - g_loss: 0.9019  \n",
      "\n",
      "\n",
      "d_loss= 2.430367\n",
      "\n",
      "g_loss= -0.91724503\n",
      "12/19 [=================>............] - ETA: 46:45 - d_loss: 2.4711 - g_loss: 0.7503\n",
      "\n",
      "\n",
      "d_loss= 2.4190693\n",
      "\n",
      "g_loss= -0.84939915\n",
      "13/19 [===================>..........] - ETA: 40:05 - d_loss: 2.4671 - g_loss: 0.6272\n",
      "\n",
      "\n",
      "d_loss= 2.4146461\n",
      "\n",
      "g_loss= -0.668535\n",
      "14/19 [=====================>........] - ETA: 33:25 - d_loss: 2.4634 - g_loss: 0.5347\n",
      "\n",
      "\n",
      "d_loss= 2.4414148\n",
      "\n",
      "g_loss= -0.25294992\n",
      "15/19 [======================>.......] - ETA: 26:44 - d_loss: 2.4619 - g_loss: 0.4822\n",
      "\n",
      "\n",
      "d_loss= 2.448373\n",
      "\n",
      "g_loss= 1.2957971\n",
      "16/19 [========================>.....] - ETA: 20:03 - d_loss: 2.4611 - g_loss: 0.5330\n",
      "\n",
      "\n",
      "d_loss= 2.4536805\n",
      "\n",
      "g_loss= 1.8949634\n",
      "17/19 [=========================>....] - ETA: 13:22 - d_loss: 2.4606 - g_loss: 0.6131\n",
      "\n",
      "\n",
      "d_loss= 2.4292595\n",
      "\n",
      "g_loss= -0.26539388\n",
      "18/19 [===========================>..] - ETA: 6:41 - d_loss: 2.4589 - g_loss: 0.5643 \n",
      "\n",
      "\n",
      "d_loss= 2.3891687\n",
      "\n",
      "g_loss= 0.1686935\n",
      "19/19 [==============================] - 7624s 401s/step - d_loss: 2.4552 - g_loss: 0.5435\n"
     ]
    }
   ],
   "source": [
    "# Deshabilitar los mensajes de información de TensorFlow\n",
    "os.environ['TF_CPP_MIN_LOG_LEVEL'] = '3'\n",
    "\n",
    "# Deshabilitar los mensajes de información de OpenAI Gym\n",
    "gym.logger.set_level(40)\n",
    "\n",
    "\n",
    "BATCH_SIZE=140\n",
    "\n",
    "history=gan5.fit(X_train,\n",
    "    epochs=EPOCHS, batch_size=BATCH_SIZE)\n"
   ]
  },
  {
   "cell_type": "markdown",
   "metadata": {},
   "source": [
    "### Evaluación de GAIL"
   ]
  },
  {
   "cell_type": "code",
   "execution_count": 70,
   "metadata": {},
   "outputs": [
    {
     "name": "stdout",
     "output_type": "stream",
     "text": [
      "1/1 [==============================] - 0s 11ms/step - loss: 0.4977 - accuracy: 0.0047\n",
      "1/1 [==============================] - 0s 10ms/step - loss: 0.4702 - accuracy: 0.0562\n",
      ">Loss real: \n",
      "0.49768924713134766\n",
      ">Loss fake: \n",
      "0.47024014592170715\n"
     ]
    }
   ],
   "source": [
    "# Evaluamos el Discriminador de GAIL en el TEST\n",
    "gan5.evaluate_D(X_test)\n"
   ]
  },
  {
   "cell_type": "code",
   "execution_count": 71,
   "metadata": {},
   "outputs": [
    {
     "name": "stdout",
     "output_type": "stream",
     "text": [
      "Episode  0 Total reward: -92.64886896380568\n",
      "Episode  1 Total reward: -124.60601061611129\n",
      "Episode  2 Total reward: -61.36257746497229\n",
      "Episode  3 Total reward: -180.9324271574233\n",
      "Episode  4 Total reward: -31.65917376909499\n",
      "Episode  5 Total reward: -26.60490672089844\n",
      "Episode  6 Total reward: -191.97140160712877\n",
      "Episode  7 Total reward: 76.4014342963731\n",
      "Episode  8 Total reward: -48.97143817013199\n",
      "Episode  9 Total reward: -127.03324270171073\n",
      "Episode  10 Total reward: -203.2947018331895\n",
      "Episode  11 Total reward: -84.06658379310576\n",
      "Episode  12 Total reward: -158.65298112904202\n",
      "Episode  13 Total reward: -50.22245020676167\n",
      "Episode  14 Total reward: -151.80959754159807\n",
      "Episode  15 Total reward: -74.4069878341364\n",
      "Episode  16 Total reward: -18.030863629835736\n",
      "Episode  17 Total reward: -183.54855485659496\n",
      "Episode  18 Total reward: 65.38094544543797\n",
      "Episode  19 Total reward: 18.06978673236301\n",
      "Episode  20 Total reward: -68.25194008988613\n",
      "Episode  21 Total reward: 26.18638481999229\n",
      "Episode  22 Total reward: 36.13413060927735\n",
      "Episode  23 Total reward: 34.009186611207916\n",
      "Episode  24 Total reward: -172.900287641423\n",
      "Episode  25 Total reward: -253.46566263964274\n",
      "Episode  26 Total reward: -35.65039659512021\n",
      "Episode  27 Total reward: 38.502114271371255\n",
      "Episode  28 Total reward: -4.764242309388408\n",
      "Episode  29 Total reward: -176.08140076742438\n",
      "Episode  30 Total reward: 33.09363501962844\n",
      "Episode  31 Total reward: -181.7992057460468\n",
      "Episode  32 Total reward: 30.82412542171747\n",
      "Episode  33 Total reward: -13.278631427406495\n",
      "Episode  34 Total reward: 26.998412350604212\n",
      "Episode  35 Total reward: -35.958174469462335\n",
      "Episode  36 Total reward: -167.7138039703852\n",
      "Episode  37 Total reward: -4.774158866220986\n",
      "Episode  38 Total reward: -14.643835506928438\n",
      "Episode  39 Total reward: 74.54787458405542\n",
      "Episode  40 Total reward: -76.12076438791772\n",
      "Episode  41 Total reward: -25.265880215922607\n",
      "Episode  42 Total reward: -167.83075576061006\n",
      "Episode  43 Total reward: 10.713631636639946\n",
      "Episode  44 Total reward: -153.60076360392748\n",
      "Episode  45 Total reward: -115.64627034549974\n",
      "Episode  46 Total reward: -124.78213251173204\n",
      "Episode  47 Total reward: -7.13455493577608\n",
      "Episode  48 Total reward: -253.26035103626944\n",
      "Episode  49 Total reward: 0.8420459245585477\n"
     ]
    },
    {
     "data": {
      "image/png": "[encoded data removed]",
      "text/plain": [
       "<Figure size 640x480 with 1 Axes>"
      ]
     },
     "metadata": {},
     "output_type": "display_data"
    },
    {
     "name": "stdout",
     "output_type": "stream",
     "text": [
      "\n",
      "Recompensa de Media: -67.82084546198611 \n",
      "\n"
     ]
    }
   ],
   "source": [
    "# Evaluamos al Generador \n",
    "rewardMean=gan5.evaluate_G()\n",
    "print('\\nRecompensa de Media:', rewardMean, '\\n')"
   ]
  },
  {
   "cell_type": "markdown",
   "metadata": {},
   "source": [
    "## Experimento 6"
   ]
  },
  {
   "cell_type": "markdown",
   "metadata": {},
   "source": [
    "### Construcción de base de datos experta con 6 trayectoria "
   ]
  },
  {
   "cell_type": "code",
   "execution_count": 72,
   "metadata": {},
   "outputs": [
    {
     "name": "stdout",
     "output_type": "stream",
     "text": [
      "\n",
      "\tEstados reales: \n",
      " [[-0.00655632  1.412633   -0.6640952  ...  0.15042743  0.\n",
      "   0.        ]\n",
      " [-0.01301994  1.4137701  -0.65149987 ...  0.1017526   0.\n",
      "   0.        ]\n",
      " [-0.01941118  1.414314   -0.6424104  ...  0.06514421  0.\n",
      "   0.        ]\n",
      " ...\n",
      " [-0.46665245 -0.0082029   0.03071342 ...  0.67170596  1.\n",
      "   1.        ]\n",
      " [-0.4661541  -0.01350838  0.02066027 ...  0.635882    1.\n",
      "   1.        ]\n",
      " [-0.46567154 -0.01838761  0.02184356 ...  0.58443296  1.\n",
      "   1.        ]]\n",
      "\tAcciones reales: \n",
      " [3 3 3 ... 0 3 3]\n",
      "\n",
      "\t Estados siguientes: \n",
      " [[-0.00655632  1.412633   -0.6640952  ...  0.15042743  0.\n",
      "   0.        ]\n",
      " [-0.01301994  1.4137701  -0.65149987 ...  0.1017526   0.\n",
      "   0.        ]\n",
      " [-0.01941118  1.414314   -0.6424104  ...  0.06514421  0.\n",
      "   0.        ]\n",
      " ...\n",
      " [-0.46665245 -0.0082029   0.03071342 ...  0.67170596  1.\n",
      "   1.        ]\n",
      " [-0.4661541  -0.01350838  0.02066027 ...  0.635882    1.\n",
      "   1.        ]\n",
      " [-0.46567154 -0.01838761  0.02184356 ...  0.58443296  1.\n",
      "   1.        ]]\n",
      "\n",
      "\t Recompensas: [   0    0    0 ...   -1   -1 -100]\n"
     ]
    }
   ],
   "source": [
    "expert_observations = np.genfromtxt(\"observations_LunarLander.csv\",delimiter=\"\\t\",dtype=str)\n",
    "expert_actions = np.genfromtxt('actions_LunarLander.csv', dtype=np.int32)\n",
    "expert_next_observations = np.genfromtxt('next_observations_LunarLander.csv',delimiter=\"\\t\",dtype=str)\n",
    "expert_rewards = np.genfromtxt('rewards_LunarLander.csv', dtype=np.int32)\n",
    "expert_num_tray=np.genfromtxt('n_trayectoria_LunarLander.csv', dtype=np.int32)\n",
    "\n",
    "# Reemplazar las comas\n",
    "expert_observations = np.core.defchararray.replace(expert_observations, ',', ' ')\n",
    "\n",
    "# Reemplazar las comas\n",
    "expert_next_observations = np.core.defchararray.replace(expert_next_observations, ',', ' ')\n",
    "\n",
    "# Crear un nuevo array para almacenar los datos convertidos\n",
    "converted_observations = np.genfromtxt(expert_observations, delimiter=' ', dtype=float)\n",
    "# Crear un nuevo array para almacenar los datos convertidos\n",
    "converted_next_observations = np.genfromtxt(expert_observations, delimiter=' ', dtype=float)\n",
    "\n",
    "\n",
    "rewards=np.array(expert_rewards).reshape(-1,1)\n",
    "\n",
    "\n",
    "print(\"\\n\\tEstados reales: \\n\", converted_observations)\n",
    "print(\"\\tAcciones reales: \\n\", expert_actions)\n",
    "print(\"\\n\\t Estados siguientes: \\n\", converted_next_observations)\n",
    "print(\"\\n\\t Recompensas:\" ,expert_rewards)"
   ]
  },
  {
   "cell_type": "code",
   "execution_count": 73,
   "metadata": {},
   "outputs": [
    {
     "name": "stdout",
     "output_type": "stream",
     "text": [
      "4158\n"
     ]
    }
   ],
   "source": [
    "longitud_trayectoria += np.count_nonzero(expert_num_tray == 5)\n",
    "print(longitud_trayectoria)"
   ]
  },
  {
   "cell_type": "code",
   "execution_count": 74,
   "metadata": {},
   "outputs": [],
   "source": [
    "converted_observations=converted_observations[0:longitud_trayectoria]\n",
    "expert_actions=expert_actions[0:longitud_trayectoria]\n",
    "converted_next_observations=converted_next_observations[0:longitud_trayectoria]\n",
    "expert_rewards=expert_rewards[0:longitud_trayectoria]"
   ]
  },
  {
   "cell_type": "code",
   "execution_count": 75,
   "metadata": {},
   "outputs": [],
   "source": [
    "# Construimos el dataset [s,a,s',r] reales y lo dividimos en training y test\n",
    "expert_a_one_hot=np.eye(env.action_space.n)[expert_actions]\n",
    "expert_rewards = expert_rewards.reshape(-1, 1)\n",
    "\n",
    "dataset1=np.concatenate([converted_observations,expert_a_one_hot],axis=1)\n",
    "dataset2=np.concatenate([dataset1,converted_next_observations],axis=1)\n",
    "dataset=np.concatenate([dataset2,expert_rewards],axis=1)\n"
   ]
  },
  {
   "cell_type": "code",
   "execution_count": 76,
   "metadata": {},
   "outputs": [
    {
     "name": "stdout",
     "output_type": "stream",
     "text": [
      "Nº de (ESTADOS,ACCIONES) en el conjunto de entrenamiento: 3326\n",
      "Nº de (ESTADOS,ACCIONES) en el conjunto de prueba: 832\n"
     ]
    }
   ],
   "source": [
    "#############################################################################\n",
    "# DIVISIÓN TRAIN Y TEST\n",
    "##############################################################################\n",
    "\n",
    "# Divide los datos en conjuntos de entrenamiento y prueba\n",
    "X_train, X_test = train_test_split(dataset, test_size=0.2, random_state=0)\n",
    "\n",
    "\n",
    "#Imprime el número de elementos en el conjuntos de entrenamiento y prueba\n",
    "print('Nº de (ESTADOS,ACCIONES) en el conjunto de entrenamiento:', len(X_train))\n",
    "print('Nº de (ESTADOS,ACCIONES) en el conjunto de prueba:', len(X_test))"
   ]
  },
  {
   "cell_type": "code",
   "execution_count": 77,
   "metadata": {},
   "outputs": [],
   "source": [
    "env= gym.make('LunarLander-v2')\n",
    "obs,_= env.reset()\n",
    "\n",
    "# Generador\n",
    "generator=Policy_net( 'policy', env, obs)\n",
    "\n",
    "# Generamos [s,a, s', r] falsas y las políticas theta_i y theta_i+1\n",
    "observations, actions, next_observations, rewards, Old_Policy, Policy=generator.generate_fakes()\n",
    "\n",
    "# Discriminador\n",
    "discriminator=Discriminator(env, discriminator_net, converted_observations, expert_actions, converted_next_observations, expert_rewards, observations, actions, next_observations, rewards)"
   ]
  },
  {
   "cell_type": "markdown",
   "metadata": {},
   "source": [
    "### Definición de GAIL"
   ]
  },
  {
   "cell_type": "code",
   "execution_count": 78,
   "metadata": {},
   "outputs": [],
   "source": [
    "gan6=GAN(discriminator=discriminator,generator=generator)"
   ]
  },
  {
   "cell_type": "markdown",
   "metadata": {},
   "source": [
    "### Compilación de GAIL"
   ]
  },
  {
   "cell_type": "code",
   "execution_count": 79,
   "metadata": {},
   "outputs": [],
   "source": [
    "tf.config.run_functions_eagerly(True)\n",
    "gan6.compile(\n",
    "    d_optimizer=tf.keras.optimizers.Adam(learning_rate=LEARNING_RATE),\n",
    "    loss_fn_D=loss_fn_D\n",
    ")"
   ]
  },
  {
   "cell_type": "markdown",
   "metadata": {},
   "source": [
    "### Entrenamiento de GAIL"
   ]
  },
  {
   "cell_type": "markdown",
   "metadata": {},
   "source": [
    "### Evaluación de GAIL"
   ]
  },
  {
   "cell_type": "code",
   "execution_count": null,
   "metadata": {},
   "outputs": [
    {
     "name": "stdout",
     "output_type": "stream",
     "text": [
      "\n",
      "\n",
      "\n",
      "d_loss= 2.465796\n",
      "\n",
      "g_loss= 3.412959\n",
      " 1/24 [>.............................] - ETA: 4:02:13 - d_loss: 2.4658 - g_loss: 3.4130\n",
      "\n",
      "\n",
      "d_loss= 2.4340496\n",
      "\n",
      "g_loss= 1.7210047\n",
      " 2/24 [=>............................] - ETA: 3:50:36 - d_loss: 2.4499 - g_loss: 2.5670\n",
      "\n",
      "\n",
      "d_loss= 2.463148\n",
      "\n",
      "g_loss= -8.109693\n",
      " 3/24 [==>...........................] - ETA: 3:40:18 - d_loss: 2.4543 - g_loss: -0.9919\n",
      "\n",
      "\n",
      "d_loss= 2.4646087\n",
      "\n",
      "g_loss= 3.50794\n",
      " 4/24 [====>.........................] - ETA: 3:29:59 - d_loss: 2.4569 - g_loss: 0.1331 \n",
      "\n",
      "\n",
      "d_loss= 2.4482203\n",
      "\n",
      "g_loss= 1.6177206\n",
      " 5/24 [=====>........................] - ETA: 3:19:43 - d_loss: 2.4552 - g_loss: 0.4300\n",
      "\n",
      "\n",
      "d_loss= 2.3968487\n",
      "\n",
      "g_loss= -2.7182665\n",
      " 6/24 [======>.......................] - ETA: 3:09:23 - d_loss: 2.4454 - g_loss: -0.0947\n",
      "\n",
      "\n",
      "d_loss= 2.4437656\n",
      "\n",
      "g_loss= -0.18237545\n",
      " 7/24 [=======>......................] - ETA: 2:58:54 - d_loss: 2.4452 - g_loss: -0.1072\n",
      "\n",
      "\n",
      "d_loss= 2.4387355\n",
      "\n",
      "g_loss= 1.130614\n",
      " 8/24 [=========>....................] - ETA: 2:48:22 - d_loss: 2.4444 - g_loss: 0.0475 \n",
      "\n",
      "\n",
      "d_loss= 2.3952916\n",
      "\n",
      "g_loss= 0.28435877\n",
      " 9/24 [==========>...................] - ETA: 2:37:57 - d_loss: 2.4389 - g_loss: 0.0738\n",
      "\n",
      "\n",
      "d_loss= 2.4194052\n",
      "\n",
      "g_loss= -2.8495977\n",
      "10/24 [===========>..................] - ETA: 2:27:27 - d_loss: 2.4370 - g_loss: -0.2185\n",
      "\n",
      "\n",
      "d_loss= 2.3986826\n",
      "\n",
      "g_loss= 0.4619931\n",
      "11/24 [============>.................] - ETA: 2:16:57 - d_loss: 2.4335 - g_loss: -0.1567\n",
      "\n",
      "\n",
      "d_loss= 2.4166086\n",
      "\n",
      "g_loss= -1.2678777\n",
      "12/24 [==============>...............] - ETA: 2:06:26 - d_loss: 2.4321 - g_loss: -0.2493\n",
      "\n",
      "\n",
      "d_loss= 2.4235878\n",
      "\n",
      "g_loss= 0.06616317\n",
      "13/24 [===============>..............] - ETA: 1:55:55 - d_loss: 2.4314 - g_loss: -0.2250\n",
      "\n",
      "\n",
      "d_loss= 2.413566\n",
      "\n",
      "g_loss= -0.22405472\n",
      "14/24 [================>.............] - ETA: 1:45:24 - d_loss: 2.4302 - g_loss: -0.2249\n",
      "\n",
      "\n",
      "d_loss= 2.3872232\n",
      "\n",
      "g_loss= 0.6541224\n",
      "15/24 [=================>............] - ETA: 1:34:53 - d_loss: 2.4273 - g_loss: -0.1663\n",
      "\n",
      "\n",
      "d_loss= 2.3937728\n",
      "\n",
      "g_loss= 1.7897166\n",
      "16/24 [===================>..........] - ETA: 1:24:21 - d_loss: 2.4252 - g_loss: -0.0441\n",
      "\n",
      "\n",
      "d_loss= 2.4365413\n",
      "\n",
      "g_loss= 4.853927\n",
      "17/24 [====================>.........] - ETA: 1:13:49 - d_loss: 2.4259 - g_loss: 0.2440 \n",
      "\n",
      "\n",
      "d_loss= 2.3708377\n",
      "\n",
      "g_loss= -1.9968407\n",
      "18/24 [=====================>........] - ETA: 1:03:16 - d_loss: 2.4228 - g_loss: 0.1195\n",
      "\n",
      "\n",
      "d_loss= 2.332144\n",
      "\n",
      "g_loss= -0.6558223\n",
      "19/24 [======================>.......] - ETA: 52:44 - d_loss: 2.4180 - g_loss: 0.0787  \n",
      "\n",
      "\n",
      "d_loss= 2.3536427\n",
      "\n",
      "g_loss= 1.1352496\n",
      "20/24 [========================>.....] - ETA: 42:11 - d_loss: 2.4148 - g_loss: 0.1316\n",
      "\n",
      "\n",
      "d_loss= 2.3801122\n",
      "\n",
      "g_loss= -3.1728737\n",
      "21/24 [=========================>....] - ETA: 31:38 - d_loss: 2.4132 - g_loss: -0.0258\n",
      "\n",
      "\n",
      "d_loss= 2.380417\n",
      "\n",
      "g_loss= 3.3238273\n",
      "22/24 [==========================>...] - ETA: 21:06 - d_loss: 2.4117 - g_loss: 0.1265 \n",
      "\n",
      "\n",
      "d_loss= 2.3438466\n",
      "\n",
      "g_loss= -0.9256882\n",
      "23/24 [===========================>..] - ETA: 10:33 - d_loss: 2.4087 - g_loss: 0.0807\n",
      "\n",
      "\n",
      "d_loss= 2.3756726\n",
      "\n",
      "g_loss= -3.0908954\n",
      "24/24 [==============================] - 15197s 633s/step - d_loss: 2.4074 - g_loss: -0.0514\n"
     ]
    }
   ],
   "source": [
    "# Deshabilitar los mensajes de información de TensorFlow\n",
    "os.environ['TF_CPP_MIN_LOG_LEVEL'] = '3'\n",
    "\n",
    "# Deshabilitar los mensajes de información de OpenAI Gym\n",
    "gym.logger.set_level(40)\n",
    "\n",
    "\n",
    "BATCH_SIZE=140\n",
    "\n",
    "history=gan6.fit(X_train,\n",
    "    epochs=EPOCHS, batch_size=BATCH_SIZE)\n"
   ]
  },
  {
   "cell_type": "markdown",
   "metadata": {},
   "source": [
    "### Evaluación de GAIL"
   ]
  },
  {
   "cell_type": "code",
   "execution_count": null,
   "metadata": {},
   "outputs": [
    {
     "name": "stdout",
     "output_type": "stream",
     "text": [
      "1/1 [==============================] - 0s 28ms/step - loss: 0.4553 - accuracy: 0.0000e+00\n",
      "1/1 [==============================] - 0s 18ms/step - loss: 0.4649 - accuracy: 0.0000e+00\n",
      ">Loss real: \n",
      "0.45526251196861267\n",
      ">Loss fake: \n",
      "0.46493685245513916\n"
     ]
    }
   ],
   "source": [
    "# Evaluamos el Discriminador de GAIL en el TEST\n",
    "gan6.evaluate_D(X_test)\n"
   ]
  },
  {
   "cell_type": "code",
   "execution_count": null,
   "metadata": {},
   "outputs": [
    {
     "name": "stdout",
     "output_type": "stream",
     "text": [
      "Episode  0 Total reward: 49.614992887832585\n",
      "Episode  1 Total reward: -72.26972885802738\n",
      "Episode  2 Total reward: -1.1400129929320286\n",
      "Episode  3 Total reward: -18.385077194727202\n",
      "Episode  4 Total reward: -6.995822928518521\n",
      "Episode  5 Total reward: 110.92016951295429\n",
      "Episode  6 Total reward: -130.3635086843739\n",
      "Episode  7 Total reward: -0.7858132460605276\n",
      "Episode  8 Total reward: -40.41473685176731\n",
      "Episode  9 Total reward: -31.581267810599783\n",
      "Episode  10 Total reward: 15.34487932624259\n",
      "Episode  11 Total reward: 3.698089874608799\n",
      "Episode  12 Total reward: -79.15635246836943\n",
      "Episode  13 Total reward: -39.23973735684007\n",
      "Episode  14 Total reward: -58.13214965139417\n",
      "Episode  15 Total reward: -49.57215285686158\n",
      "Episode  16 Total reward: -20.478109492987286\n",
      "Episode  17 Total reward: 27.165625215278084\n",
      "Episode  18 Total reward: -36.00916876077777\n",
      "Episode  19 Total reward: 13.0681604512951\n",
      "Episode  20 Total reward: -133.57523008968556\n",
      "Episode  21 Total reward: -1.746934585387628\n",
      "Episode  22 Total reward: -12.795349605328468\n",
      "Episode  23 Total reward: 102.63388090127653\n",
      "Episode  24 Total reward: 87.87059865732633\n",
      "Episode  25 Total reward: -57.14341801909505\n",
      "Episode  26 Total reward: 64.17137943354663\n",
      "Episode  27 Total reward: 66.7166699614238\n",
      "Episode  28 Total reward: -10.024555970938465\n",
      "Episode  29 Total reward: 111.987266805772\n",
      "Episode  30 Total reward: -158.06181981014515\n",
      "Episode  31 Total reward: -64.22207820310568\n",
      "Episode  32 Total reward: -55.31604335928439\n",
      "Episode  33 Total reward: -5.687500312828561\n",
      "Episode  34 Total reward: -40.243493229762706\n",
      "Episode  35 Total reward: -10.716237049844736\n",
      "Episode  36 Total reward: -36.383398937356745\n",
      "Episode  37 Total reward: 6.349701585589457\n",
      "Episode  38 Total reward: -2.294233547784799\n",
      "Episode  39 Total reward: -28.13744178529187\n",
      "Episode  40 Total reward: -24.89637428716479\n",
      "Episode  41 Total reward: 41.16293197638896\n",
      "Episode  42 Total reward: 19.325013570828176\n",
      "Episode  43 Total reward: -130.23964079666248\n",
      "Episode  44 Total reward: -54.68818673190492\n",
      "Episode  45 Total reward: 6.558922292638569\n",
      "Episode  46 Total reward: -7.415878312438792\n",
      "Episode  47 Total reward: 1.3979242082820207\n",
      "Episode  48 Total reward: -210.8710478170494\n",
      "Episode  49 Total reward: -31.083383203309296\n"
     ]
    },
    {
     "data": {
      "image/png": "[encoded data removed]",
      "text/plain": [
       "<Figure size 640x480 with 1 Axes>"
      ]
     },
     "metadata": {},
     "output_type": "display_data"
    },
    {
     "name": "stdout",
     "output_type": "stream",
     "text": [
      "\n",
      "Recompensa de Media: -18.64159356294645 \n",
      "\n"
     ]
    }
   ],
   "source": [
    "# Evaluamos al Generador \n",
    "rewardMean=gan6.evaluate_G()\n",
    "print('\\nRecompensa de Media:', rewardMean, '\\n')"
   ]
  },
  {
   "cell_type": "markdown",
   "metadata": {},
   "source": [
    "## Experimento 7"
   ]
  },
  {
   "cell_type": "markdown",
   "metadata": {},
   "source": [
    "### Construcción de base de datos experta con 7 trayectoria "
   ]
  },
  {
   "cell_type": "code",
   "execution_count": 83,
   "metadata": {},
   "outputs": [
    {
     "name": "stdout",
     "output_type": "stream",
     "text": [
      "\n",
      "\tEstados reales: \n",
      " [[-0.00655632  1.412633   -0.6640952  ...  0.15042743  0.\n",
      "   0.        ]\n",
      " [-0.01301994  1.4137701  -0.65149987 ...  0.1017526   0.\n",
      "   0.        ]\n",
      " [-0.01941118  1.414314   -0.6424104  ...  0.06514421  0.\n",
      "   0.        ]\n",
      " ...\n",
      " [-0.46665245 -0.0082029   0.03071342 ...  0.67170596  1.\n",
      "   1.        ]\n",
      " [-0.4661541  -0.01350838  0.02066027 ...  0.635882    1.\n",
      "   1.        ]\n",
      " [-0.46567154 -0.01838761  0.02184356 ...  0.58443296  1.\n",
      "   1.        ]]\n",
      "\tAcciones reales: \n",
      " [3 3 3 ... 0 3 3]\n",
      "\n",
      "\t Estados siguientes: \n",
      " [[-0.00655632  1.412633   -0.6640952  ...  0.15042743  0.\n",
      "   0.        ]\n",
      " [-0.01301994  1.4137701  -0.65149987 ...  0.1017526   0.\n",
      "   0.        ]\n",
      " [-0.01941118  1.414314   -0.6424104  ...  0.06514421  0.\n",
      "   0.        ]\n",
      " ...\n",
      " [-0.46665245 -0.0082029   0.03071342 ...  0.67170596  1.\n",
      "   1.        ]\n",
      " [-0.4661541  -0.01350838  0.02066027 ...  0.635882    1.\n",
      "   1.        ]\n",
      " [-0.46567154 -0.01838761  0.02184356 ...  0.58443296  1.\n",
      "   1.        ]]\n",
      "\n",
      "\t Recompensas: [   0    0    0 ...   -1   -1 -100]\n"
     ]
    }
   ],
   "source": [
    "expert_observations = np.genfromtxt(\"observations_LunarLander.csv\",delimiter=\"\\t\",dtype=str)\n",
    "expert_actions = np.genfromtxt('actions_LunarLander.csv', dtype=np.int32)\n",
    "expert_next_observations = np.genfromtxt('next_observations_LunarLander.csv',delimiter=\"\\t\",dtype=str)\n",
    "expert_rewards = np.genfromtxt('rewards_LunarLander.csv', dtype=np.int32)\n",
    "expert_num_tray=np.genfromtxt('n_trayectoria_LunarLander.csv', dtype=np.int32)\n",
    "\n",
    "# Reemplazar las comas\n",
    "expert_observations = np.core.defchararray.replace(expert_observations, ',', ' ')\n",
    "\n",
    "# Reemplazar las comas\n",
    "expert_next_observations = np.core.defchararray.replace(expert_next_observations, ',', ' ')\n",
    "\n",
    "# Crear un nuevo array para almacenar los datos convertidos\n",
    "converted_observations = np.genfromtxt(expert_observations, delimiter=' ', dtype=float)\n",
    "# Crear un nuevo array para almacenar los datos convertidos\n",
    "converted_next_observations = np.genfromtxt(expert_observations, delimiter=' ', dtype=float)\n",
    "\n",
    "\n",
    "rewards=np.array(expert_rewards).reshape(-1,1)\n",
    "\n",
    "\n",
    "print(\"\\n\\tEstados reales: \\n\", converted_observations)\n",
    "print(\"\\tAcciones reales: \\n\", expert_actions)\n",
    "print(\"\\n\\t Estados siguientes: \\n\", converted_next_observations)\n",
    "print(\"\\n\\t Recompensas:\" ,expert_rewards)"
   ]
  },
  {
   "cell_type": "code",
   "execution_count": 84,
   "metadata": {},
   "outputs": [
    {
     "name": "stdout",
     "output_type": "stream",
     "text": [
      "4680\n"
     ]
    }
   ],
   "source": [
    "longitud_trayectoria += np.count_nonzero(expert_num_tray == 6)\n",
    "print(longitud_trayectoria)"
   ]
  },
  {
   "cell_type": "code",
   "execution_count": 85,
   "metadata": {},
   "outputs": [],
   "source": [
    "converted_observations=converted_observations[0:longitud_trayectoria]\n",
    "expert_actions=expert_actions[0:longitud_trayectoria]\n",
    "converted_next_observations=converted_next_observations[0:longitud_trayectoria]\n",
    "expert_rewards=expert_rewards[0:longitud_trayectoria]"
   ]
  },
  {
   "cell_type": "code",
   "execution_count": 86,
   "metadata": {},
   "outputs": [],
   "source": [
    "# Construimos el dataset [s,a,s',r] reales y lo dividimos en training y test\n",
    "expert_a_one_hot=np.eye(env.action_space.n)[expert_actions]\n",
    "expert_rewards = expert_rewards.reshape(-1, 1)\n",
    "\n",
    "dataset1=np.concatenate([converted_observations,expert_a_one_hot],axis=1)\n",
    "dataset2=np.concatenate([dataset1,converted_next_observations],axis=1)\n",
    "dataset=np.concatenate([dataset2,expert_rewards],axis=1)\n"
   ]
  },
  {
   "cell_type": "code",
   "execution_count": 87,
   "metadata": {},
   "outputs": [
    {
     "name": "stdout",
     "output_type": "stream",
     "text": [
      "Nº de (ESTADOS,ACCIONES) en el conjunto de entrenamiento: 3744\n",
      "Nº de (ESTADOS,ACCIONES) en el conjunto de prueba: 936\n"
     ]
    }
   ],
   "source": [
    "#############################################################################\n",
    "# DIVISIÓN TRAIN Y TEST\n",
    "##############################################################################\n",
    "\n",
    "# Divide los datos en conjuntos de entrenamiento y prueba\n",
    "X_train, X_test = train_test_split(dataset, test_size=0.2, random_state=0)\n",
    "\n",
    "\n",
    "#Imprime el número de elementos en el conjuntos de entrenamiento y prueba\n",
    "print('Nº de (ESTADOS,ACCIONES) en el conjunto de entrenamiento:', len(X_train))\n",
    "print('Nº de (ESTADOS,ACCIONES) en el conjunto de prueba:', len(X_test))"
   ]
  },
  {
   "cell_type": "code",
   "execution_count": 88,
   "metadata": {},
   "outputs": [],
   "source": [
    "env= gym.make('LunarLander-v2')\n",
    "obs,_= env.reset()\n",
    "\n",
    "# Generador\n",
    "generator=Policy_net( 'policy', env, obs)\n",
    "\n",
    "# Generamos [s,a, s', r] falsas y las políticas theta_i y theta_i+1\n",
    "observations, actions, next_observations, rewards, Old_Policy, Policy=generator.generate_fakes()\n",
    "\n",
    "# Discriminador\n",
    "discriminator=Discriminator(env, discriminator_net, converted_observations, expert_actions, converted_next_observations, expert_rewards, observations, actions, next_observations, rewards)"
   ]
  },
  {
   "cell_type": "markdown",
   "metadata": {},
   "source": [
    "### Definición de GAIL"
   ]
  },
  {
   "cell_type": "code",
   "execution_count": 89,
   "metadata": {},
   "outputs": [],
   "source": [
    "gan7=GAN(discriminator=discriminator,generator=generator)"
   ]
  },
  {
   "cell_type": "markdown",
   "metadata": {},
   "source": [
    "### Compilación de GAIL"
   ]
  },
  {
   "cell_type": "code",
   "execution_count": 90,
   "metadata": {},
   "outputs": [],
   "source": [
    "tf.config.run_functions_eagerly(True)\n",
    "gan7.compile(\n",
    "    d_optimizer=tf.keras.optimizers.Adam(learning_rate=LEARNING_RATE),\n",
    "    loss_fn_D=loss_fn_D\n",
    ")"
   ]
  },
  {
   "cell_type": "markdown",
   "metadata": {},
   "source": [
    "### Entrenamiento de GAIL"
   ]
  },
  {
   "cell_type": "code",
   "execution_count": null,
   "metadata": {},
   "outputs": [
    {
     "name": "stdout",
     "output_type": "stream",
     "text": [
      "\n",
      "\n",
      "\n",
      "d_loss= 2.3759208\n",
      "\n",
      "g_loss= 0.41692293\n",
      " 1/27 [>.............................] - ETA: 4:35:48 - d_loss: 2.3759 - g_loss: 0.4169\n",
      "\n",
      "\n",
      "d_loss= 2.3713899\n",
      "\n",
      "g_loss= 0.061330676\n",
      " 2/27 [=>............................] - ETA: 4:26:13 - d_loss: 2.3737 - g_loss: 0.2391\n",
      "\n",
      "\n",
      "d_loss= 2.3411994\n",
      "\n",
      "g_loss= -4.24168\n",
      " 3/27 [==>...........................] - ETA: 4:16:53 - d_loss: 2.3628 - g_loss: -1.2545\n",
      "\n",
      "\n",
      "d_loss= 2.3650389\n",
      "\n",
      "g_loss= -4.116773\n",
      " 4/27 [===>..........................] - ETA: 4:05:00 - d_loss: 2.3634 - g_loss: -1.9700\n",
      "\n",
      "\n",
      "d_loss= 2.344535\n",
      "\n",
      "g_loss= 2.0137851\n",
      " 5/27 [====>.........................] - ETA: 3:53:31 - d_loss: 2.3596 - g_loss: -1.1733\n",
      "\n",
      "\n",
      "d_loss= 2.3445194\n",
      "\n",
      "g_loss= 0.23508817\n",
      " 6/27 [=====>........................] - ETA: 3:42:39 - d_loss: 2.3571 - g_loss: -0.9386\n",
      "\n",
      "\n",
      "d_loss= 2.3336897\n",
      "\n",
      "g_loss= -0.7506277\n",
      " 7/27 [======>.......................] - ETA: 3:31:55 - d_loss: 2.3538 - g_loss: -0.9117\n",
      "\n",
      "\n",
      "d_loss= 2.2907\n",
      "\n",
      "g_loss= 3.512479\n",
      " 8/27 [=======>......................] - ETA: 3:21:12 - d_loss: 2.3459 - g_loss: -0.3587\n",
      "\n",
      "\n",
      "d_loss= 2.317678\n",
      "\n",
      "g_loss= 0.7655899\n",
      " 9/27 [=========>....................] - ETA: 3:10:31 - d_loss: 2.3427 - g_loss: -0.2338\n",
      "\n",
      "\n",
      "d_loss= 2.3324642\n",
      "\n",
      "g_loss= 0.8238777\n",
      "10/27 [==========>...................] - ETA: 2:59:44 - d_loss: 2.3417 - g_loss: -0.1280\n",
      "\n",
      "\n",
      "d_loss= 2.3286567\n",
      "\n",
      "g_loss= -2.7294614\n",
      "11/27 [===========>..................] - ETA: 2:49:05 - d_loss: 2.3405 - g_loss: -0.3645\n",
      "\n",
      "\n",
      "d_loss= 2.3278036\n",
      "\n",
      "g_loss= 2.5015113\n",
      "12/27 [============>.................] - ETA: 2:38:25 - d_loss: 2.3395 - g_loss: -0.1257\n",
      "\n",
      "\n",
      "d_loss= 2.2478948\n",
      "\n",
      "g_loss= 2.8517458\n",
      "13/27 [=============>................] - ETA: 2:27:52 - d_loss: 2.3324 - g_loss: 0.1034 \n",
      "\n",
      "\n",
      "d_loss= 2.2959833\n",
      "\n",
      "g_loss= 0.86796\n",
      "14/27 [==============>...............] - ETA: 2:17:18 - d_loss: 2.3298 - g_loss: 0.1580\n",
      "\n",
      "\n",
      "d_loss= 2.2831597\n",
      "\n",
      "g_loss= 2.1189604\n",
      "15/27 [===============>..............] - ETA: 2:06:43 - d_loss: 2.3267 - g_loss: 0.2887\n",
      "\n",
      "\n",
      "d_loss= 2.260569\n",
      "\n",
      "g_loss= -3.866289\n",
      "16/27 [================>.............] - ETA: 1:56:09 - d_loss: 2.3226 - g_loss: 0.0290\n",
      "\n",
      "\n",
      "d_loss= 2.285569\n",
      "\n",
      "g_loss= 1.4198632\n",
      "17/27 [=================>............] - ETA: 1:45:30 - d_loss: 2.3204 - g_loss: 0.1108\n",
      "\n",
      "\n",
      "d_loss= 2.304225\n",
      "\n",
      "g_loss= -2.9237065\n",
      "18/27 [===================>..........] - ETA: 1:34:56 - d_loss: 2.3195 - g_loss: -0.0577\n",
      "\n",
      "\n",
      "d_loss= 2.2905085\n",
      "\n",
      "g_loss= -2.1169739\n",
      "19/27 [====================>.........] - ETA: 1:24:25 - d_loss: 2.3180 - g_loss: -0.1661\n",
      "\n",
      "\n",
      "d_loss= 2.302993\n",
      "\n",
      "g_loss= 1.85106\n",
      "20/27 [=====================>........] - ETA: 1:13:54 - d_loss: 2.3172 - g_loss: -0.0653\n",
      "\n",
      "\n",
      "d_loss= 2.2668467\n",
      "\n",
      "g_loss= 2.6205616\n",
      "21/27 [======================>.......] - ETA: 1:03:23 - d_loss: 2.3148 - g_loss: 0.0626 \n",
      "\n",
      "\n",
      "d_loss= 2.288165\n",
      "\n",
      "g_loss= 2.5829577\n",
      "22/27 [=======================>......] - ETA: 52:52 - d_loss: 2.3136 - g_loss: 0.1772  \n",
      "\n",
      "\n",
      "d_loss= 2.227671\n",
      "\n",
      "g_loss= -2.862917\n",
      "23/27 [========================>.....] - ETA: 42:20 - d_loss: 2.3099 - g_loss: 0.0450\n",
      "\n",
      "\n",
      "d_loss= 2.2487824\n",
      "\n",
      "g_loss= 2.3227499\n",
      "24/27 [=========================>....] - ETA: 31:45 - d_loss: 2.3073 - g_loss: 0.1399\n",
      "\n",
      "\n",
      "d_loss= 2.257882\n",
      "\n",
      "g_loss= 4.665134\n",
      "25/27 [==========================>...] - ETA: 21:10 - d_loss: 2.3054 - g_loss: 0.3209\n",
      "\n",
      "\n",
      "d_loss= 2.23868\n",
      "\n",
      "g_loss= 1.2694976\n",
      "26/27 [===========================>..] - ETA: 10:35 - d_loss: 2.3028 - g_loss: 0.3574\n",
      "\n",
      "\n",
      "d_loss= 2.2735837\n",
      "\n",
      "g_loss= 1.3839092\n",
      "27/27 [==============================] - 17149s 635s/step - d_loss: 2.3017 - g_loss: 0.3954\n"
     ]
    }
   ],
   "source": [
    "# Deshabilitar los mensajes de información de TensorFlow\n",
    "os.environ['TF_CPP_MIN_LOG_LEVEL'] = '3'\n",
    "\n",
    "# Deshabilitar los mensajes de información de OpenAI Gym\n",
    "gym.logger.set_level(40)\n",
    "\n",
    "\n",
    "BATCH_SIZE=140\n",
    "\n",
    "history=gan7.fit(X_train,\n",
    "    epochs=EPOCHS, batch_size=BATCH_SIZE)\n"
   ]
  },
  {
   "cell_type": "markdown",
   "metadata": {},
   "source": [
    "### Evaluación de GAIL"
   ]
  },
  {
   "cell_type": "code",
   "execution_count": null,
   "metadata": {},
   "outputs": [
    {
     "name": "stdout",
     "output_type": "stream",
     "text": [
      "1/1 [==============================] - 0s 20ms/step - loss: 0.3339 - accuracy: 0.0000e+00\n",
      "1/1 [==============================] - 0s 18ms/step - loss: 0.2852 - accuracy: 0.0000e+00\n",
      ">Loss real: \n",
      "0.3338671028614044\n",
      ">Loss fake: \n",
      "0.2852312922477722\n"
     ]
    }
   ],
   "source": [
    "# Evaluamos el Discriminador de GAIL en el TEST\n",
    "gan7.evaluate_D(X_test)\n"
   ]
  },
  {
   "cell_type": "code",
   "execution_count": null,
   "metadata": {},
   "outputs": [
    {
     "name": "stdout",
     "output_type": "stream",
     "text": [
      "Episode  0 Total reward: -88.370858572964\n",
      "Episode  1 Total reward: -117.04034467417604\n",
      "Episode  2 Total reward: -206.98803273041028\n",
      "Episode  3 Total reward: 45.75899463859486\n",
      "Episode  4 Total reward: -195.70597891581247\n",
      "Episode  5 Total reward: -128.09387532557156\n",
      "Episode  6 Total reward: -42.054682631027006\n",
      "Episode  7 Total reward: 9.743566555436402\n",
      "Episode  8 Total reward: -81.16957064721942\n",
      "Episode  9 Total reward: 20.720311756427513\n",
      "Episode  10 Total reward: 2.940022449135057\n",
      "Episode  11 Total reward: -198.82565477660802\n",
      "Episode  12 Total reward: -172.11147739860922\n",
      "Episode  13 Total reward: 65.68098756501541\n",
      "Episode  14 Total reward: -13.355258798637493\n",
      "Episode  15 Total reward: -216.89313806267484\n",
      "Episode  16 Total reward: 36.04001013991979\n",
      "Episode  17 Total reward: -227.5957654647936\n",
      "Episode  18 Total reward: -48.29967415450177\n",
      "Episode  19 Total reward: -58.25638654399516\n",
      "Episode  20 Total reward: -101.16685405719623\n",
      "Episode  21 Total reward: 31.453382569805864\n",
      "Episode  22 Total reward: -337.2802782632424\n",
      "Episode  23 Total reward: 17.608712228122727\n",
      "Episode  24 Total reward: -58.448158609382276\n",
      "Episode  25 Total reward: -9.814832489905783\n",
      "Episode  26 Total reward: -96.28407032588579\n",
      "Episode  27 Total reward: -6.5589395256707235\n",
      "Episode  28 Total reward: 111.73263578891633\n",
      "Episode  29 Total reward: 28.772977294513435\n",
      "Episode  30 Total reward: -61.142482328323226\n",
      "Episode  31 Total reward: 83.13915860564742\n",
      "Episode  32 Total reward: -50.39655767610655\n",
      "Episode  33 Total reward: -178.99652855538295\n",
      "Episode  34 Total reward: -32.99220013683711\n",
      "Episode  35 Total reward: -200.09239242927003\n",
      "Episode  36 Total reward: -12.250303641375254\n",
      "Episode  37 Total reward: 0.9884671531921612\n",
      "Episode  38 Total reward: -47.67373119527268\n",
      "Episode  39 Total reward: -70.49940475805704\n",
      "Episode  40 Total reward: -37.47123777170805\n",
      "Episode  41 Total reward: -50.20306291417151\n",
      "Episode  42 Total reward: -61.64269458983512\n",
      "Episode  43 Total reward: -15.963765647342655\n",
      "Episode  44 Total reward: -81.94013371340935\n",
      "Episode  45 Total reward: -54.68053353886772\n",
      "Episode  46 Total reward: -51.65141741673239\n",
      "Episode  47 Total reward: -162.05978896742494\n",
      "Episode  48 Total reward: -77.11814771807657\n",
      "Episode  49 Total reward: -93.43636666406329\n"
     ]
    },
    {
     "data": {
      "image/png": "[encoded data removed]",
      "text/plain": [
       "<Figure size 640x480 with 1 Axes>"
      ]
     },
     "metadata": {},
     "output_type": "display_data"
    },
    {
     "name": "stdout",
     "output_type": "stream",
     "text": [
      "\n",
      "Recompensa de Media: -65.79890709771627 \n",
      "\n"
     ]
    }
   ],
   "source": [
    "# Evaluamos al Generador \n",
    "rewardMean=gan7.evaluate_G()\n",
    "print('\\nRecompensa de Media:', rewardMean, '\\n')"
   ]
  },
  {
   "cell_type": "markdown",
   "metadata": {},
   "source": [
    "## Experimento 8"
   ]
  },
  {
   "cell_type": "markdown",
   "metadata": {},
   "source": [
    "### Construcción de base de datos experta con 8 trayectoria "
   ]
  },
  {
   "cell_type": "code",
   "execution_count": 94,
   "metadata": {},
   "outputs": [
    {
     "name": "stdout",
     "output_type": "stream",
     "text": [
      "\n",
      "\tEstados reales: \n",
      " [[-0.00655632  1.412633   -0.6640952  ...  0.15042743  0.\n",
      "   0.        ]\n",
      " [-0.01301994  1.4137701  -0.65149987 ...  0.1017526   0.\n",
      "   0.        ]\n",
      " [-0.01941118  1.414314   -0.6424104  ...  0.06514421  0.\n",
      "   0.        ]\n",
      " ...\n",
      " [-0.46665245 -0.0082029   0.03071342 ...  0.67170596  1.\n",
      "   1.        ]\n",
      " [-0.4661541  -0.01350838  0.02066027 ...  0.635882    1.\n",
      "   1.        ]\n",
      " [-0.46567154 -0.01838761  0.02184356 ...  0.58443296  1.\n",
      "   1.        ]]\n",
      "\tAcciones reales: \n",
      " [3 3 3 ... 0 3 3]\n",
      "\n",
      "\t Estados siguientes: \n",
      " [[-0.00655632  1.412633   -0.6640952  ...  0.15042743  0.\n",
      "   0.        ]\n",
      " [-0.01301994  1.4137701  -0.65149987 ...  0.1017526   0.\n",
      "   0.        ]\n",
      " [-0.01941118  1.414314   -0.6424104  ...  0.06514421  0.\n",
      "   0.        ]\n",
      " ...\n",
      " [-0.46665245 -0.0082029   0.03071342 ...  0.67170596  1.\n",
      "   1.        ]\n",
      " [-0.4661541  -0.01350838  0.02066027 ...  0.635882    1.\n",
      "   1.        ]\n",
      " [-0.46567154 -0.01838761  0.02184356 ...  0.58443296  1.\n",
      "   1.        ]]\n",
      "\n",
      "\t Recompensas: [   0    0    0 ...   -1   -1 -100]\n"
     ]
    }
   ],
   "source": [
    "expert_observations = np.genfromtxt(\"observations_LunarLander.csv\",delimiter=\"\\t\",dtype=str)\n",
    "expert_actions = np.genfromtxt('actions_LunarLander.csv', dtype=np.int32)\n",
    "expert_next_observations = np.genfromtxt('next_observations_LunarLander.csv',delimiter=\"\\t\",dtype=str)\n",
    "expert_rewards = np.genfromtxt('rewards_LunarLander.csv', dtype=np.int32)\n",
    "expert_num_tray=np.genfromtxt('n_trayectoria_LunarLander.csv', dtype=np.int32)\n",
    "\n",
    "# Reemplazar las comas\n",
    "expert_observations = np.core.defchararray.replace(expert_observations, ',', ' ')\n",
    "\n",
    "# Reemplazar las comas\n",
    "expert_next_observations = np.core.defchararray.replace(expert_next_observations, ',', ' ')\n",
    "\n",
    "# Crear un nuevo array para almacenar los datos convertidos\n",
    "converted_observations = np.genfromtxt(expert_observations, delimiter=' ', dtype=float)\n",
    "# Crear un nuevo array para almacenar los datos convertidos\n",
    "converted_next_observations = np.genfromtxt(expert_observations, delimiter=' ', dtype=float)\n",
    "\n",
    "\n",
    "rewards=np.array(expert_rewards).reshape(-1,1)\n",
    "\n",
    "\n",
    "print(\"\\n\\tEstados reales: \\n\", converted_observations)\n",
    "print(\"\\tAcciones reales: \\n\", expert_actions)\n",
    "print(\"\\n\\t Estados siguientes: \\n\", converted_next_observations)\n",
    "print(\"\\n\\t Recompensas:\" ,expert_rewards)"
   ]
  },
  {
   "cell_type": "code",
   "execution_count": 95,
   "metadata": {},
   "outputs": [
    {
     "name": "stdout",
     "output_type": "stream",
     "text": [
      "5314\n"
     ]
    }
   ],
   "source": [
    "longitud_trayectoria += np.count_nonzero(expert_num_tray == 7)\n",
    "print(longitud_trayectoria)"
   ]
  },
  {
   "cell_type": "code",
   "execution_count": 96,
   "metadata": {},
   "outputs": [],
   "source": [
    "converted_observations=converted_observations[0:longitud_trayectoria]\n",
    "expert_actions=expert_actions[0:longitud_trayectoria]\n",
    "converted_next_observations=converted_next_observations[0:longitud_trayectoria]\n",
    "expert_rewards=expert_rewards[0:longitud_trayectoria]"
   ]
  },
  {
   "cell_type": "code",
   "execution_count": 97,
   "metadata": {},
   "outputs": [],
   "source": [
    "# Construimos el dataset [s,a,s',r] reales y lo dividimos en training y test\n",
    "expert_a_one_hot=np.eye(env.action_space.n)[expert_actions]\n",
    "expert_rewards = expert_rewards.reshape(-1, 1)\n",
    "\n",
    "dataset1=np.concatenate([converted_observations,expert_a_one_hot],axis=1)\n",
    "dataset2=np.concatenate([dataset1,converted_next_observations],axis=1)\n",
    "dataset=np.concatenate([dataset2,expert_rewards],axis=1)\n"
   ]
  },
  {
   "cell_type": "code",
   "execution_count": 98,
   "metadata": {},
   "outputs": [
    {
     "name": "stdout",
     "output_type": "stream",
     "text": [
      "Nº de (ESTADOS,ACCIONES) en el conjunto de entrenamiento: 4251\n",
      "Nº de (ESTADOS,ACCIONES) en el conjunto de prueba: 1063\n"
     ]
    }
   ],
   "source": [
    "#############################################################################\n",
    "# DIVISIÓN TRAIN Y TEST\n",
    "##############################################################################\n",
    "\n",
    "# Divide los datos en conjuntos de entrenamiento y prueba\n",
    "X_train, X_test = train_test_split(dataset, test_size=0.2, random_state=0)\n",
    "\n",
    "\n",
    "#Imprime el número de elementos en el conjuntos de entrenamiento y prueba\n",
    "print('Nº de (ESTADOS,ACCIONES) en el conjunto de entrenamiento:', len(X_train))\n",
    "print('Nº de (ESTADOS,ACCIONES) en el conjunto de prueba:', len(X_test))"
   ]
  },
  {
   "cell_type": "code",
   "execution_count": 99,
   "metadata": {},
   "outputs": [],
   "source": [
    "env= gym.make('LunarLander-v2')\n",
    "obs,_= env.reset()\n",
    "\n",
    "# Generador\n",
    "generator=Policy_net( 'policy', env, obs)\n",
    "\n",
    "# Generamos [s,a, s', r] falsas y las políticas theta_i y theta_i+1\n",
    "observations, actions, next_observations, rewards, Old_Policy, Policy=generator.generate_fakes()\n",
    "\n",
    "# Discriminador\n",
    "discriminator=Discriminator(env, discriminator_net, converted_observations, expert_actions, converted_next_observations, expert_rewards, observations, actions, next_observations, rewards)"
   ]
  },
  {
   "cell_type": "markdown",
   "metadata": {},
   "source": [
    "### Definición de GAIL"
   ]
  },
  {
   "cell_type": "code",
   "execution_count": 100,
   "metadata": {},
   "outputs": [],
   "source": [
    "gan8=GAN(discriminator=discriminator,generator=generator)"
   ]
  },
  {
   "cell_type": "markdown",
   "metadata": {},
   "source": [
    "### Compilación de GAIL"
   ]
  },
  {
   "cell_type": "code",
   "execution_count": 101,
   "metadata": {},
   "outputs": [],
   "source": [
    "tf.config.run_functions_eagerly(True)\n",
    "gan8.compile(\n",
    "    d_optimizer=tf.keras.optimizers.Adam(learning_rate=LEARNING_RATE),\n",
    "    loss_fn_D=loss_fn_D\n",
    ")"
   ]
  },
  {
   "cell_type": "markdown",
   "metadata": {},
   "source": [
    "### Entrenamiento de GAIL"
   ]
  },
  {
   "cell_type": "code",
   "execution_count": 102,
   "metadata": {},
   "outputs": [
    {
     "name": "stdout",
     "output_type": "stream",
     "text": [
      "\n",
      "\n",
      "\n",
      "d_loss= 2.2010288\n",
      "\n",
      "g_loss= 2.024493\n",
      " 1/31 [..............................] - ETA: 3:20:40 - d_loss: 2.2010 - g_loss: 2.0245\n",
      "\n",
      "\n",
      "d_loss= 2.1840796\n",
      "\n",
      "g_loss= 0.43196383\n",
      " 2/31 [>.............................] - ETA: 3:14:47 - d_loss: 2.1926 - g_loss: 1.2282\n",
      "\n",
      "\n",
      "d_loss= 2.2153928\n",
      "\n",
      "g_loss= 2.6254416\n",
      " 3/31 [=>............................] - ETA: 3:07:58 - d_loss: 2.2002 - g_loss: 1.6940\n",
      "\n",
      "\n",
      "d_loss= 2.1971178\n",
      "\n",
      "g_loss= 0.879769\n",
      " 4/31 [==>...........................] - ETA: 3:01:14 - d_loss: 2.1994 - g_loss: 1.4904\n",
      "\n",
      "\n",
      "d_loss= 2.2133534\n",
      "\n",
      "g_loss= 2.3090777\n",
      " 5/31 [===>..........................] - ETA: 2:54:28 - d_loss: 2.2022 - g_loss: 1.6541\n",
      "\n",
      "\n",
      "d_loss= 2.1816864\n",
      "\n",
      "g_loss= 0.88187116\n",
      " 6/31 [====>.........................] - ETA: 2:47:47 - d_loss: 2.1988 - g_loss: 1.5254\n",
      "\n",
      "\n",
      "d_loss= 2.1746693\n",
      "\n",
      "g_loss= 1.0430481\n",
      " 7/31 [=====>........................] - ETA: 2:41:08 - d_loss: 2.1953 - g_loss: 1.4565\n",
      "\n",
      "\n",
      "d_loss= 2.174424\n",
      "\n",
      "g_loss= -8.503985\n",
      " 8/31 [======>.......................] - ETA: 2:34:24 - d_loss: 2.1927 - g_loss: 0.2115\n",
      "\n",
      "\n",
      "d_loss= 2.1482377\n",
      "\n",
      "g_loss= -2.25981\n",
      " 9/31 [=======>......................] - ETA: 2:27:41 - d_loss: 2.1878 - g_loss: -0.0631\n",
      "\n",
      "\n",
      "d_loss= 2.1232164\n",
      "\n",
      "g_loss= 0.44242468\n",
      "10/31 [========>.....................] - ETA: 2:20:59 - d_loss: 2.1813 - g_loss: -0.0126\n",
      "\n",
      "\n",
      "d_loss= 2.2121613\n",
      "\n",
      "g_loss= 3.0226936\n",
      "11/31 [=========>....................] - ETA: 2:14:17 - d_loss: 2.1841 - g_loss: 0.2634 \n",
      "\n",
      "\n",
      "d_loss= 2.1561444\n",
      "\n",
      "g_loss= -0.5269791\n",
      "12/31 [==========>...................] - ETA: 2:07:33 - d_loss: 2.1818 - g_loss: 0.1975\n",
      "\n",
      "\n",
      "d_loss= 2.1425743\n",
      "\n",
      "g_loss= -0.2535331\n",
      "13/31 [===========>..................] - ETA: 2:00:50 - d_loss: 2.1788 - g_loss: 0.1628\n",
      "\n",
      "\n",
      "d_loss= 2.1856756\n",
      "\n",
      "g_loss= 1.3528203\n",
      "14/31 [============>.................] - ETA: 1:54:07 - d_loss: 2.1793 - g_loss: 0.2478\n",
      "\n",
      "\n",
      "d_loss= 2.1609182\n",
      "\n",
      "g_loss= -1.5153277\n",
      "15/31 [=============>................] - ETA: 1:47:25 - d_loss: 2.1780 - g_loss: 0.1303\n",
      "\n",
      "\n",
      "d_loss= 2.138479\n",
      "\n",
      "g_loss= -0.66849566\n",
      "16/31 [==============>...............] - ETA: 1:40:42 - d_loss: 2.1756 - g_loss: 0.0803\n",
      "\n",
      "\n",
      "d_loss= 2.1400998\n",
      "\n",
      "g_loss= -1.7737556\n",
      "17/31 [===============>..............] - ETA: 1:33:59 - d_loss: 2.1735 - g_loss: -0.0287\n",
      "\n",
      "\n",
      "d_loss= 2.1271439\n",
      "\n",
      "g_loss= -0.26360762\n",
      "18/31 [================>.............] - ETA: 1:27:17 - d_loss: 2.1709 - g_loss: -0.0418\n",
      "\n",
      "\n",
      "d_loss= 2.0981727\n",
      "\n",
      "g_loss= 0.14849095\n",
      "19/31 [=================>............] - ETA: 1:20:35 - d_loss: 2.1671 - g_loss: -0.0318\n",
      "\n",
      "\n",
      "d_loss= 2.1253858\n",
      "\n",
      "g_loss= 2.0665853\n",
      "20/31 [==================>...........] - ETA: 1:13:52 - d_loss: 2.1650 - g_loss: 0.0732 \n",
      "\n",
      "\n",
      "d_loss= 2.1315002\n",
      "\n",
      "g_loss= -0.17576419\n",
      "21/31 [===================>..........] - ETA: 1:07:09 - d_loss: 2.1634 - g_loss: 0.0613\n",
      "\n",
      "\n",
      "d_loss= 2.1314754\n",
      "\n",
      "g_loss= 1.7961314\n",
      "22/31 [====================>.........] - ETA: 1:00:26 - d_loss: 2.1620 - g_loss: 0.1402\n",
      "\n",
      "\n",
      "d_loss= 2.1161702\n",
      "\n",
      "g_loss= 2.370763\n",
      "23/31 [=====================>........] - ETA: 53:44 - d_loss: 2.1600 - g_loss: 0.2371  \n",
      "\n",
      "\n",
      "d_loss= 2.1373415\n",
      "\n",
      "g_loss= 0.54936504\n",
      "24/31 [======================>.......] - ETA: 47:01 - d_loss: 2.1590 - g_loss: 0.2502\n",
      "\n",
      "\n",
      "d_loss= 2.0953193\n",
      "\n",
      "g_loss= -1.771337\n",
      "25/31 [=======================>......] - ETA: 40:18 - d_loss: 2.1565 - g_loss: 0.1693\n",
      "\n",
      "\n",
      "d_loss= 2.0883129\n",
      "\n",
      "g_loss= 1.0967178\n",
      "26/31 [========================>.....] - ETA: 33:35 - d_loss: 2.1538 - g_loss: 0.2050\n",
      "\n",
      "\n",
      "d_loss= 2.0920405\n",
      "\n",
      "g_loss= 2.5728812\n",
      "27/31 [=========================>....] - ETA: 26:52 - d_loss: 2.1516 - g_loss: 0.2927\n",
      "\n",
      "\n",
      "d_loss= 2.0733845\n",
      "\n",
      "g_loss= 4.403979\n",
      "28/31 [==========================>...] - ETA: 20:09 - d_loss: 2.1488 - g_loss: 0.4395\n",
      "\n",
      "\n",
      "d_loss= 2.1181984\n",
      "\n",
      "g_loss= 1.5458664\n",
      "29/31 [===========================>..] - ETA: 13:26 - d_loss: 2.1477 - g_loss: 0.4776\n",
      "\n",
      "\n",
      "d_loss= 2.0922384\n",
      "\n",
      "g_loss= -2.0957065\n",
      "30/31 [============================>.] - ETA: 6:43 - d_loss: 2.1459 - g_loss: 0.3919 \n",
      "\n",
      "\n",
      "d_loss= 2.059293\n",
      "\n",
      "g_loss= 1.988892\n",
      "31/31 [==============================] - 12494s 403s/step - d_loss: 2.1431 - g_loss: 0.4434\n"
     ]
    }
   ],
   "source": [
    "# Deshabilitar los mensajes de información de TensorFlow\n",
    "os.environ['TF_CPP_MIN_LOG_LEVEL'] = '3'\n",
    "\n",
    "# Deshabilitar los mensajes de información de OpenAI Gym\n",
    "gym.logger.set_level(40)\n",
    "\n",
    "\n",
    "BATCH_SIZE=140\n",
    "\n",
    "history=gan8.fit(X_train,\n",
    "    epochs=EPOCHS, batch_size=BATCH_SIZE)\n"
   ]
  },
  {
   "cell_type": "markdown",
   "metadata": {},
   "source": [
    "### Evaluación de GAIL"
   ]
  },
  {
   "cell_type": "code",
   "execution_count": 103,
   "metadata": {},
   "outputs": [
    {
     "name": "stdout",
     "output_type": "stream",
     "text": [
      "1/1 [==============================] - 0s 11ms/step - loss: 0.1816 - accuracy: 0.0000e+00\n",
      "1/1 [==============================] - 0s 9ms/step - loss: 0.1985 - accuracy: 0.0000e+00\n",
      ">Loss real: \n",
      "0.18163831532001495\n",
      ">Loss fake: \n",
      "0.1984775811433792\n"
     ]
    }
   ],
   "source": [
    "# Evaluamos el Discriminador de GAIL en el TEST\n",
    "gan8.evaluate_D(X_test)\n"
   ]
  },
  {
   "cell_type": "code",
   "execution_count": 104,
   "metadata": {},
   "outputs": [
    {
     "name": "stdout",
     "output_type": "stream",
     "text": [
      "Episode  0 Total reward: -14.042319369830238\n",
      "Episode  1 Total reward: -55.95048246062163\n",
      "Episode  2 Total reward: 0.7781849879591363\n",
      "Episode  3 Total reward: -68.41185346255747\n",
      "Episode  4 Total reward: -37.52052327299291\n",
      "Episode  5 Total reward: -5.344117572350022\n",
      "Episode  6 Total reward: -11.487161221416116\n",
      "Episode  7 Total reward: -126.29038261599192\n",
      "Episode  8 Total reward: -31.15640925264485\n",
      "Episode  9 Total reward: -28.39511815430069\n",
      "Episode  10 Total reward: 59.82705151286653\n",
      "Episode  11 Total reward: -10.390735073074438\n",
      "Episode  12 Total reward: -57.32368437672749\n",
      "Episode  13 Total reward: -133.52538765888065\n",
      "Episode  14 Total reward: 83.56179377927495\n",
      "Episode  15 Total reward: -22.627811430792136\n",
      "Episode  16 Total reward: -7.083043793037049\n",
      "Episode  17 Total reward: -5.464535582231008\n",
      "Episode  18 Total reward: -37.416035767477\n",
      "Episode  19 Total reward: 94.83807901251016\n",
      "Episode  20 Total reward: -14.070904906009787\n",
      "Episode  21 Total reward: 64.98530699461061\n",
      "Episode  22 Total reward: -101.3393753978584\n",
      "Episode  23 Total reward: 25.96538761129152\n",
      "Episode  24 Total reward: -101.39403208755556\n",
      "Episode  25 Total reward: 103.38122527166996\n",
      "Episode  26 Total reward: -46.589851520755644\n",
      "Episode  27 Total reward: -59.522852546827494\n",
      "Episode  28 Total reward: 31.01237940507831\n",
      "Episode  29 Total reward: -53.30096152190443\n",
      "Episode  30 Total reward: 28.573716837956297\n",
      "Episode  31 Total reward: -23.335544305488156\n",
      "Episode  32 Total reward: 22.023307285750867\n",
      "Episode  33 Total reward: -85.94524150002711\n",
      "Episode  34 Total reward: -30.36420752543973\n",
      "Episode  35 Total reward: 75.30737012942959\n",
      "Episode  36 Total reward: 7.882722259206716\n",
      "Episode  37 Total reward: -89.97902724653459\n",
      "Episode  38 Total reward: 59.16879516076367\n",
      "Episode  39 Total reward: -120.06518735373575\n",
      "Episode  40 Total reward: -85.95987084750945\n",
      "Episode  41 Total reward: -72.36610019734577\n",
      "Episode  42 Total reward: -54.25167588880625\n",
      "Episode  43 Total reward: -116.77954912076841\n",
      "Episode  44 Total reward: 54.830547337293204\n",
      "Episode  45 Total reward: -105.29730230730128\n",
      "Episode  46 Total reward: -72.76310625990257\n",
      "Episode  47 Total reward: -17.262760152861176\n",
      "Episode  48 Total reward: -46.44940019294181\n",
      "Episode  49 Total reward: -5.346207059847615\n"
     ]
    },
    {
     "data": {
      "image/png": "[encoded data removed]",
      "text/plain": [
       "<Figure size 640x480 with 1 Axes>"
      ]
     },
     "metadata": {},
     "output_type": "display_data"
    },
    {
     "name": "stdout",
     "output_type": "stream",
     "text": [
      "\n",
      "Recompensa de Media: -24.8535378283737 \n",
      "\n"
     ]
    }
   ],
   "source": [
    "# Evaluamos al Generador \n",
    "rewardMean=gan8.evaluate_G()\n",
    "print('\\nRecompensa de Media:', rewardMean, '\\n')"
   ]
  },
  {
   "cell_type": "markdown",
   "metadata": {},
   "source": [
    "## Experimento 9"
   ]
  },
  {
   "cell_type": "markdown",
   "metadata": {},
   "source": [
    "### Construcción de base de datos experta con 9 trayectoria "
   ]
  },
  {
   "cell_type": "code",
   "execution_count": 105,
   "metadata": {},
   "outputs": [
    {
     "name": "stdout",
     "output_type": "stream",
     "text": [
      "\n",
      "\tEstados reales: \n",
      " [[-0.00655632  1.412633   -0.6640952  ...  0.15042743  0.\n",
      "   0.        ]\n",
      " [-0.01301994  1.4137701  -0.65149987 ...  0.1017526   0.\n",
      "   0.        ]\n",
      " [-0.01941118  1.414314   -0.6424104  ...  0.06514421  0.\n",
      "   0.        ]\n",
      " ...\n",
      " [-0.46665245 -0.0082029   0.03071342 ...  0.67170596  1.\n",
      "   1.        ]\n",
      " [-0.4661541  -0.01350838  0.02066027 ...  0.635882    1.\n",
      "   1.        ]\n",
      " [-0.46567154 -0.01838761  0.02184356 ...  0.58443296  1.\n",
      "   1.        ]]\n",
      "\tAcciones reales: \n",
      " [3 3 3 ... 0 3 3]\n",
      "\n",
      "\t Estados siguientes: \n",
      " [[-0.00655632  1.412633   -0.6640952  ...  0.15042743  0.\n",
      "   0.        ]\n",
      " [-0.01301994  1.4137701  -0.65149987 ...  0.1017526   0.\n",
      "   0.        ]\n",
      " [-0.01941118  1.414314   -0.6424104  ...  0.06514421  0.\n",
      "   0.        ]\n",
      " ...\n",
      " [-0.46665245 -0.0082029   0.03071342 ...  0.67170596  1.\n",
      "   1.        ]\n",
      " [-0.4661541  -0.01350838  0.02066027 ...  0.635882    1.\n",
      "   1.        ]\n",
      " [-0.46567154 -0.01838761  0.02184356 ...  0.58443296  1.\n",
      "   1.        ]]\n",
      "\n",
      "\t Recompensas: [   0    0    0 ...   -1   -1 -100]\n"
     ]
    }
   ],
   "source": [
    "expert_observations = np.genfromtxt(\"observations_LunarLander.csv\",delimiter=\"\\t\",dtype=str)\n",
    "expert_actions = np.genfromtxt('actions_LunarLander.csv', dtype=np.int32)\n",
    "expert_next_observations = np.genfromtxt('next_observations_LunarLander.csv',delimiter=\"\\t\",dtype=str)\n",
    "expert_rewards = np.genfromtxt('rewards_LunarLander.csv', dtype=np.int32)\n",
    "expert_num_tray=np.genfromtxt('n_trayectoria_LunarLander.csv', dtype=np.int32)\n",
    "\n",
    "# Reemplazar las comas\n",
    "expert_observations = np.core.defchararray.replace(expert_observations, ',', ' ')\n",
    "\n",
    "# Reemplazar las comas\n",
    "expert_next_observations = np.core.defchararray.replace(expert_next_observations, ',', ' ')\n",
    "\n",
    "# Crear un nuevo array para almacenar los datos convertidos\n",
    "converted_observations = np.genfromtxt(expert_observations, delimiter=' ', dtype=float)\n",
    "# Crear un nuevo array para almacenar los datos convertidos\n",
    "converted_next_observations = np.genfromtxt(expert_observations, delimiter=' ', dtype=float)\n",
    "\n",
    "\n",
    "rewards=np.array(expert_rewards).reshape(-1,1)\n",
    "\n",
    "\n",
    "print(\"\\n\\tEstados reales: \\n\", converted_observations)\n",
    "print(\"\\tAcciones reales: \\n\", expert_actions)\n",
    "print(\"\\n\\t Estados siguientes: \\n\", converted_next_observations)\n",
    "print(\"\\n\\t Recompensas:\" ,expert_rewards)"
   ]
  },
  {
   "cell_type": "code",
   "execution_count": 106,
   "metadata": {},
   "outputs": [
    {
     "name": "stdout",
     "output_type": "stream",
     "text": [
      "5799\n"
     ]
    }
   ],
   "source": [
    "longitud_trayectoria += np.count_nonzero(expert_num_tray == 8)\n",
    "print(longitud_trayectoria)"
   ]
  },
  {
   "cell_type": "code",
   "execution_count": 107,
   "metadata": {},
   "outputs": [],
   "source": [
    "converted_observations=converted_observations[0:longitud_trayectoria]\n",
    "expert_actions=expert_actions[0:longitud_trayectoria]\n",
    "converted_next_observations=converted_next_observations[0:longitud_trayectoria]\n",
    "expert_rewards=expert_rewards[0:longitud_trayectoria]"
   ]
  },
  {
   "cell_type": "code",
   "execution_count": 108,
   "metadata": {},
   "outputs": [],
   "source": [
    "# Construimos el dataset [s,a,s',r] reales y lo dividimos en training y test\n",
    "expert_a_one_hot=np.eye(env.action_space.n)[expert_actions]\n",
    "expert_rewards = expert_rewards.reshape(-1, 1)\n",
    "\n",
    "dataset1=np.concatenate([converted_observations,expert_a_one_hot],axis=1)\n",
    "dataset2=np.concatenate([dataset1,converted_next_observations],axis=1)\n",
    "dataset=np.concatenate([dataset2,expert_rewards],axis=1)\n"
   ]
  },
  {
   "cell_type": "code",
   "execution_count": 109,
   "metadata": {},
   "outputs": [
    {
     "name": "stdout",
     "output_type": "stream",
     "text": [
      "Nº de (ESTADOS,ACCIONES) en el conjunto de entrenamiento: 4639\n",
      "Nº de (ESTADOS,ACCIONES) en el conjunto de prueba: 1160\n"
     ]
    }
   ],
   "source": [
    "#############################################################################\n",
    "# DIVISIÓN TRAIN Y TEST\n",
    "##############################################################################\n",
    "\n",
    "# Divide los datos en conjuntos de entrenamiento y prueba\n",
    "X_train, X_test = train_test_split(dataset, test_size=0.2, random_state=0)\n",
    "\n",
    "\n",
    "#Imprime el número de elementos en el conjuntos de entrenamiento y prueba\n",
    "print('Nº de (ESTADOS,ACCIONES) en el conjunto de entrenamiento:', len(X_train))\n",
    "print('Nº de (ESTADOS,ACCIONES) en el conjunto de prueba:', len(X_test))"
   ]
  },
  {
   "cell_type": "code",
   "execution_count": 110,
   "metadata": {},
   "outputs": [],
   "source": [
    "env= gym.make('LunarLander-v2')\n",
    "obs,_= env.reset()\n",
    "\n",
    "# Generador\n",
    "generator=Policy_net( 'policy', env, obs)\n",
    "\n",
    "# Generamos [s,a, s', r] falsas y las políticas theta_i y theta_i+1\n",
    "observations, actions, next_observations, rewards, Old_Policy, Policy=generator.generate_fakes()\n",
    "\n",
    "# Discriminador\n",
    "discriminator=Discriminator(env, discriminator_net, converted_observations, expert_actions, converted_next_observations, expert_rewards, observations, actions, next_observations, rewards)"
   ]
  },
  {
   "cell_type": "markdown",
   "metadata": {},
   "source": [
    "### Definición de GAIL"
   ]
  },
  {
   "cell_type": "code",
   "execution_count": 111,
   "metadata": {},
   "outputs": [],
   "source": [
    "gan9=GAN(discriminator=discriminator,generator=generator)"
   ]
  },
  {
   "cell_type": "markdown",
   "metadata": {},
   "source": [
    "### Compilación de GAIL"
   ]
  },
  {
   "cell_type": "code",
   "execution_count": 112,
   "metadata": {},
   "outputs": [],
   "source": [
    "tf.config.run_functions_eagerly(True)\n",
    "gan9.compile(\n",
    "    d_optimizer=tf.keras.optimizers.Adam(learning_rate=LEARNING_RATE),\n",
    "    loss_fn_D=loss_fn_D\n",
    ")"
   ]
  },
  {
   "cell_type": "markdown",
   "metadata": {},
   "source": [
    "### Entrenamiento de GAIL"
   ]
  },
  {
   "cell_type": "code",
   "execution_count": 113,
   "metadata": {},
   "outputs": [
    {
     "name": "stdout",
     "output_type": "stream",
     "text": [
      "\n",
      "\n",
      "\n",
      "d_loss= 2.0606902\n",
      "\n",
      "g_loss= 0.01537659\n",
      " 1/34 [..............................] - ETA: 3:40:40 - d_loss: 2.0607 - g_loss: 0.0154\n",
      "\n",
      "\n",
      "d_loss= 2.107381\n",
      "\n",
      "g_loss= -0.42798325\n",
      " 2/34 [>.............................] - ETA: 3:34:28 - d_loss: 2.0840 - g_loss: -0.2063\n",
      "\n",
      "\n",
      "d_loss= 2.0247266\n",
      "\n",
      "g_loss= 3.503713\n",
      " 3/34 [=>............................] - ETA: 3:27:48 - d_loss: 2.0643 - g_loss: 1.0304 \n",
      "\n",
      "\n",
      "d_loss= 2.0377452\n",
      "\n",
      "g_loss= 1.0993272\n",
      " 4/34 [==>...........................] - ETA: 3:21:04 - d_loss: 2.0576 - g_loss: 1.0476\n",
      "\n",
      "\n",
      "d_loss= 2.04638\n",
      "\n",
      "g_loss= 1.3597217\n",
      " 5/34 [===>..........................] - ETA: 3:14:28 - d_loss: 2.0554 - g_loss: 1.1100\n",
      "\n",
      "\n",
      "d_loss= 2.066523\n",
      "\n",
      "g_loss= 2.5716896\n",
      " 6/34 [====>.........................] - ETA: 3:07:44 - d_loss: 2.0572 - g_loss: 1.3536\n",
      "\n",
      "\n",
      "d_loss= 2.0432575\n",
      "\n",
      "g_loss= -6.5759783\n",
      " 7/34 [=====>........................] - ETA: 3:01:02 - d_loss: 2.0552 - g_loss: 0.2208\n",
      "\n",
      "\n",
      "d_loss= 2.0424845\n",
      "\n",
      "g_loss= 2.2966993\n",
      " 8/34 [======>.......................] - ETA: 2:54:19 - d_loss: 2.0536 - g_loss: 0.4803\n",
      "\n",
      "\n",
      "d_loss= 2.0574937\n",
      "\n",
      "g_loss= 1.7798188\n",
      " 9/34 [======>.......................] - ETA: 2:47:37 - d_loss: 2.0541 - g_loss: 0.6247\n",
      "\n",
      "\n",
      "d_loss= 2.016593\n",
      "\n",
      "g_loss= 2.1881926\n",
      "10/34 [=======>......................] - ETA: 2:40:54 - d_loss: 2.0503 - g_loss: 0.7811\n",
      "\n",
      "\n",
      "d_loss= 2.047994\n",
      "\n",
      "g_loss= 4.063392\n",
      "11/34 [========>.....................] - ETA: 2:34:11 - d_loss: 2.0501 - g_loss: 1.0795\n",
      "\n",
      "\n",
      "d_loss= 2.0509717\n",
      "\n",
      "g_loss= 5.350796\n",
      "12/34 [=========>....................] - ETA: 2:27:28 - d_loss: 2.0502 - g_loss: 1.4354\n",
      "\n",
      "\n",
      "d_loss= 2.0492406\n",
      "\n",
      "g_loss= 2.6173735\n",
      "13/34 [==========>...................] - ETA: 2:20:47 - d_loss: 2.0501 - g_loss: 1.5263\n",
      "\n",
      "\n",
      "d_loss= 2.0263186\n",
      "\n",
      "g_loss= -0.3225243\n",
      "14/34 [===========>..................] - ETA: 2:14:06 - d_loss: 2.0484 - g_loss: 1.3943\n",
      "\n",
      "\n",
      "d_loss= 2.0526466\n",
      "\n",
      "g_loss= 0.49292803\n",
      "15/34 [============>.................] - ETA: 2:07:48 - d_loss: 2.0487 - g_loss: 1.3342\n",
      "\n",
      "\n",
      "d_loss= 2.0360224\n",
      "\n",
      "g_loss= -1.9285882\n",
      "16/34 [=============>................] - ETA: 2:03:53 - d_loss: 2.0479 - g_loss: 1.1302\n",
      "\n",
      "\n",
      "d_loss= 2.03157\n",
      "\n",
      "g_loss= 2.506229\n",
      "17/34 [==============>...............] - ETA: 1:58:22 - d_loss: 2.0469 - g_loss: 1.2112\n",
      "\n",
      "\n",
      "d_loss= 2.0460675\n",
      "\n",
      "g_loss= 1.0114946\n",
      "18/34 [==============>...............] - ETA: 1:52:06 - d_loss: 2.0469 - g_loss: 1.2001\n",
      "\n",
      "\n",
      "d_loss= 2.037373\n",
      "\n",
      "g_loss= -0.7002578\n",
      "19/34 [===============>..............] - ETA: 1:46:14 - d_loss: 2.0464 - g_loss: 1.1001\n",
      "\n",
      "\n",
      "d_loss= 2.028759\n",
      "\n",
      "g_loss= 3.7038028\n",
      "20/34 [================>.............] - ETA: 1:40:03 - d_loss: 2.0455 - g_loss: 1.2303\n",
      "\n",
      "\n",
      "d_loss= 2.0170202\n",
      "\n",
      "g_loss= 0.13619107\n",
      "21/34 [=================>............] - ETA: 1:33:37 - d_loss: 2.0442 - g_loss: 1.1782\n",
      "\n",
      "\n",
      "d_loss= 1.9801232\n",
      "\n",
      "g_loss= 1.3298995\n",
      "22/34 [==================>...........] - ETA: 1:26:46 - d_loss: 2.0412 - g_loss: 1.1851\n",
      "\n",
      "\n",
      "d_loss= 2.0345085\n",
      "\n",
      "g_loss= 1.3619021\n",
      "23/34 [===================>..........] - ETA: 1:19:55 - d_loss: 2.0410 - g_loss: 1.1927\n",
      "\n",
      "\n",
      "d_loss= 1.9988382\n",
      "\n",
      "g_loss= 2.1537807\n",
      "24/34 [====================>.........] - ETA: 1:12:30 - d_loss: 2.0392 - g_loss: 1.2328\n",
      "\n",
      "\n",
      "d_loss= 1.9899904\n",
      "\n",
      "g_loss= 0.53331023\n",
      "25/34 [=====================>........] - ETA: 1:05:05 - d_loss: 2.0372 - g_loss: 1.2048\n",
      "\n",
      "\n",
      "d_loss= 1.9763792\n",
      "\n",
      "g_loss= -2.0949934\n",
      "26/34 [=====================>........] - ETA: 57:41 - d_loss: 2.0349 - g_loss: 1.0779  \n",
      "\n",
      "\n",
      "d_loss= 1.9719204\n",
      "\n",
      "g_loss= 3.2918189\n",
      "27/34 [======================>.......] - ETA: 50:21 - d_loss: 2.0326 - g_loss: 1.1599\n",
      "\n",
      "\n",
      "d_loss= 2.0089197\n",
      "\n",
      "g_loss= 0.61745805\n",
      "28/34 [=======================>......] - ETA: 43:05 - d_loss: 2.0317 - g_loss: 1.1405\n",
      "\n",
      "\n",
      "d_loss= 1.9881954\n",
      "\n",
      "g_loss= 0.5761212\n",
      "29/34 [========================>.....] - ETA: 35:56 - d_loss: 2.0302 - g_loss: 1.1211\n",
      "\n",
      "\n",
      "d_loss= 1.9397793\n",
      "\n",
      "g_loss= 0.9804723\n",
      "30/34 [=========================>....] - ETA: 28:48 - d_loss: 2.0272 - g_loss: 1.1164\n",
      "\n",
      "\n",
      "d_loss= 1.9814291\n",
      "\n",
      "g_loss= -2.5574615\n",
      "31/34 [==========================>...] - ETA: 21:35 - d_loss: 2.0257 - g_loss: 0.9979\n",
      "\n",
      "\n",
      "d_loss= 1.9629531\n",
      "\n",
      "g_loss= 1.6457771\n",
      "32/34 [===========================>..] - ETA: 14:23 - d_loss: 2.0238 - g_loss: 1.0181\n",
      "\n",
      "\n",
      "d_loss= 1.9618239\n",
      "\n",
      "g_loss= 0.7306562\n",
      "33/34 [============================>.] - ETA: 7:11 - d_loss: 2.0219 - g_loss: 1.0094 \n",
      "\n",
      "\n",
      "d_loss= 2.0174205\n",
      "\n",
      "g_loss= 2.5840933\n",
      "34/34 [==============================] - 14626s 431s/step - d_loss: 2.0218 - g_loss: 1.0557\n"
     ]
    }
   ],
   "source": [
    "# Deshabilitar los mensajes de información de TensorFlow\n",
    "os.environ['TF_CPP_MIN_LOG_LEVEL'] = '3'\n",
    "\n",
    "# Deshabilitar los mensajes de información de OpenAI Gym\n",
    "gym.logger.set_level(40)\n",
    "\n",
    "\n",
    "BATCH_SIZE=140\n",
    "\n",
    "history=gan9.fit(X_train,\n",
    "    epochs=EPOCHS, batch_size=BATCH_SIZE)\n"
   ]
  },
  {
   "cell_type": "markdown",
   "metadata": {},
   "source": [
    "### Evaluación de GAIL"
   ]
  },
  {
   "cell_type": "code",
   "execution_count": 114,
   "metadata": {},
   "outputs": [
    {
     "name": "stdout",
     "output_type": "stream",
     "text": [
      "1/1 [==============================] - 0s 52ms/step - loss: 0.0840 - accuracy: 0.0000e+00\n",
      "1/1 [==============================] - 0s 11ms/step - loss: 0.0904 - accuracy: 0.0000e+00\n",
      ">Loss real: \n",
      "0.0840177908539772\n",
      ">Loss fake: \n",
      "0.09036680310964584\n"
     ]
    }
   ],
   "source": [
    "# Evaluamos el Discriminador de GAIL en el TEST\n",
    "gan9.evaluate_D(X_test)\n"
   ]
  },
  {
   "cell_type": "code",
   "execution_count": 115,
   "metadata": {},
   "outputs": [
    {
     "name": "stdout",
     "output_type": "stream",
     "text": [
      "Episode  0 Total reward: 79.24362729412279\n",
      "Episode  1 Total reward: -63.1493005667825\n",
      "Episode  2 Total reward: -14.480586512811298\n",
      "Episode  3 Total reward: 15.314781837800878\n",
      "Episode  4 Total reward: -91.27593423144793\n",
      "Episode  5 Total reward: -21.937011447521517\n",
      "Episode  6 Total reward: 61.183702663842695\n",
      "Episode  7 Total reward: -4.517359915513751\n",
      "Episode  8 Total reward: -120.05848955649039\n",
      "Episode  9 Total reward: -85.15237193740475\n",
      "Episode  10 Total reward: 54.75625099063069\n",
      "Episode  11 Total reward: 34.14448472439835\n",
      "Episode  12 Total reward: -64.76319171906498\n",
      "Episode  13 Total reward: 33.83934152756666\n",
      "Episode  14 Total reward: 10.766322744874532\n",
      "Episode  15 Total reward: -54.32888308088813\n",
      "Episode  16 Total reward: -146.20716155378406\n",
      "Episode  17 Total reward: -95.87866401727148\n",
      "Episode  18 Total reward: -3.0297863538681895\n",
      "Episode  19 Total reward: 80.95230535802912\n",
      "Episode  20 Total reward: -51.22317488588142\n",
      "Episode  21 Total reward: -99.53906662868522\n",
      "Episode  22 Total reward: 66.81685724543502\n",
      "Episode  23 Total reward: 19.876381296135396\n",
      "Episode  24 Total reward: 15.143672247746139\n",
      "Episode  25 Total reward: -32.350579613023754\n",
      "Episode  26 Total reward: 61.50129807827343\n",
      "Episode  27 Total reward: 2.418573041484919\n",
      "Episode  28 Total reward: -111.90018020145695\n",
      "Episode  29 Total reward: 19.55610638260896\n",
      "Episode  30 Total reward: 38.01266178437935\n",
      "Episode  31 Total reward: 83.68075647921161\n",
      "Episode  32 Total reward: -14.176048858563675\n",
      "Episode  33 Total reward: -40.104595213920746\n",
      "Episode  34 Total reward: -53.5941675974629\n",
      "Episode  35 Total reward: -92.81433232340933\n",
      "Episode  36 Total reward: -70.18378796941079\n",
      "Episode  37 Total reward: -134.28313374147953\n",
      "Episode  38 Total reward: 44.90655630519052\n",
      "Episode  39 Total reward: 38.46199975746455\n",
      "Episode  40 Total reward: -13.261075970268351\n",
      "Episode  41 Total reward: 87.0339255088126\n",
      "Episode  42 Total reward: -42.366722420338974\n",
      "Episode  43 Total reward: 84.28068050672653\n",
      "Episode  44 Total reward: 93.53634142731211\n",
      "Episode  45 Total reward: -92.25331749232659\n",
      "Episode  46 Total reward: -104.0942871599677\n",
      "Episode  47 Total reward: -44.442461797126995\n",
      "Episode  48 Total reward: 101.80490414215213\n",
      "Episode  49 Total reward: 13.589140385214128\n"
     ]
    },
    {
     "data": {
      "image/png": "[encoded data removed]",
      "text/plain": [
       "<Figure size 640x480 with 1 Axes>"
      ]
     },
     "metadata": {},
     "output_type": "display_data"
    },
    {
     "name": "stdout",
     "output_type": "stream",
     "text": [
      "\n",
      "Recompensa de Media: -12.410900020735172 \n",
      "\n"
     ]
    }
   ],
   "source": [
    "# Evaluamos al Generador \n",
    "rewardMean=gan9.evaluate_G()\n",
    "print('\\nRecompensa de Media:', rewardMean, '\\n')"
   ]
  },
  {
   "cell_type": "markdown",
   "metadata": {},
   "source": [
    "## Experimento 10"
   ]
  },
  {
   "cell_type": "markdown",
   "metadata": {},
   "source": [
    "### Construcción de base de datos experta con 10 trayectoria "
   ]
  },
  {
   "cell_type": "code",
   "execution_count": 116,
   "metadata": {},
   "outputs": [
    {
     "name": "stdout",
     "output_type": "stream",
     "text": [
      "\n",
      "\tEstados reales: \n",
      " [[-0.00655632  1.412633   -0.6640952  ...  0.15042743  0.\n",
      "   0.        ]\n",
      " [-0.01301994  1.4137701  -0.65149987 ...  0.1017526   0.\n",
      "   0.        ]\n",
      " [-0.01941118  1.414314   -0.6424104  ...  0.06514421  0.\n",
      "   0.        ]\n",
      " ...\n",
      " [-0.46665245 -0.0082029   0.03071342 ...  0.67170596  1.\n",
      "   1.        ]\n",
      " [-0.4661541  -0.01350838  0.02066027 ...  0.635882    1.\n",
      "   1.        ]\n",
      " [-0.46567154 -0.01838761  0.02184356 ...  0.58443296  1.\n",
      "   1.        ]]\n",
      "\tAcciones reales: \n",
      " [3 3 3 ... 0 3 3]\n",
      "\n",
      "\t Estados siguientes: \n",
      " [[-0.00655632  1.412633   -0.6640952  ...  0.15042743  0.\n",
      "   0.        ]\n",
      " [-0.01301994  1.4137701  -0.65149987 ...  0.1017526   0.\n",
      "   0.        ]\n",
      " [-0.01941118  1.414314   -0.6424104  ...  0.06514421  0.\n",
      "   0.        ]\n",
      " ...\n",
      " [-0.46665245 -0.0082029   0.03071342 ...  0.67170596  1.\n",
      "   1.        ]\n",
      " [-0.4661541  -0.01350838  0.02066027 ...  0.635882    1.\n",
      "   1.        ]\n",
      " [-0.46567154 -0.01838761  0.02184356 ...  0.58443296  1.\n",
      "   1.        ]]\n",
      "\n",
      "\t Recompensas: [   0    0    0 ...   -1   -1 -100]\n"
     ]
    }
   ],
   "source": [
    "expert_observations = np.genfromtxt(\"observations_LunarLander.csv\",delimiter=\"\\t\",dtype=str)\n",
    "expert_actions = np.genfromtxt('actions_LunarLander.csv', dtype=np.int32)\n",
    "expert_next_observations = np.genfromtxt('next_observations_LunarLander.csv',delimiter=\"\\t\",dtype=str)\n",
    "expert_rewards = np.genfromtxt('rewards_LunarLander.csv', dtype=np.int32)\n",
    "expert_num_tray=np.genfromtxt('n_trayectoria_LunarLander.csv', dtype=np.int32)\n",
    "\n",
    "# Reemplazar las comas\n",
    "expert_observations = np.core.defchararray.replace(expert_observations, ',', ' ')\n",
    "\n",
    "# Reemplazar las comas\n",
    "expert_next_observations = np.core.defchararray.replace(expert_next_observations, ',', ' ')\n",
    "\n",
    "# Crear un nuevo array para almacenar los datos convertidos\n",
    "converted_observations = np.genfromtxt(expert_observations, delimiter=' ', dtype=float)\n",
    "# Crear un nuevo array para almacenar los datos convertidos\n",
    "converted_next_observations = np.genfromtxt(expert_observations, delimiter=' ', dtype=float)\n",
    "\n",
    "\n",
    "rewards=np.array(expert_rewards).reshape(-1,1)\n",
    "\n",
    "\n",
    "print(\"\\n\\tEstados reales: \\n\", converted_observations)\n",
    "print(\"\\tAcciones reales: \\n\", expert_actions)\n",
    "print(\"\\n\\t Estados siguientes: \\n\", converted_next_observations)\n",
    "print(\"\\n\\t Recompensas:\" ,expert_rewards)"
   ]
  },
  {
   "cell_type": "code",
   "execution_count": 117,
   "metadata": {},
   "outputs": [
    {
     "name": "stdout",
     "output_type": "stream",
     "text": [
      "6310\n"
     ]
    }
   ],
   "source": [
    "longitud_trayectoria += np.count_nonzero(expert_num_tray == 9)\n",
    "print(longitud_trayectoria)"
   ]
  },
  {
   "cell_type": "code",
   "execution_count": 118,
   "metadata": {},
   "outputs": [],
   "source": [
    "converted_observations=converted_observations[0:longitud_trayectoria]\n",
    "expert_actions=expert_actions[0:longitud_trayectoria]\n",
    "converted_next_observations=converted_next_observations[0:longitud_trayectoria]\n",
    "expert_rewards=expert_rewards[0:longitud_trayectoria]"
   ]
  },
  {
   "cell_type": "code",
   "execution_count": 119,
   "metadata": {},
   "outputs": [],
   "source": [
    "# Construimos el dataset [s,a,s',r] reales y lo dividimos en training y test\n",
    "expert_a_one_hot=np.eye(env.action_space.n)[expert_actions]\n",
    "expert_rewards = expert_rewards.reshape(-1, 1)\n",
    "\n",
    "dataset1=np.concatenate([converted_observations,expert_a_one_hot],axis=1)\n",
    "dataset2=np.concatenate([dataset1,converted_next_observations],axis=1)\n",
    "dataset=np.concatenate([dataset2,expert_rewards],axis=1)\n"
   ]
  },
  {
   "cell_type": "code",
   "execution_count": 120,
   "metadata": {},
   "outputs": [
    {
     "name": "stdout",
     "output_type": "stream",
     "text": [
      "Nº de (ESTADOS,ACCIONES) en el conjunto de entrenamiento: 5048\n",
      "Nº de (ESTADOS,ACCIONES) en el conjunto de prueba: 1262\n"
     ]
    }
   ],
   "source": [
    "#############################################################################\n",
    "# DIVISIÓN TRAIN Y TEST\n",
    "##############################################################################\n",
    "\n",
    "# Divide los datos en conjuntos de entrenamiento y prueba\n",
    "X_train, X_test = train_test_split(dataset, test_size=0.2, random_state=0)\n",
    "\n",
    "\n",
    "#Imprime el número de elementos en el conjuntos de entrenamiento y prueba\n",
    "print('Nº de (ESTADOS,ACCIONES) en el conjunto de entrenamiento:', len(X_train))\n",
    "print('Nº de (ESTADOS,ACCIONES) en el conjunto de prueba:', len(X_test))"
   ]
  },
  {
   "cell_type": "code",
   "execution_count": 121,
   "metadata": {},
   "outputs": [],
   "source": [
    "env= gym.make('LunarLander-v2')\n",
    "obs,_= env.reset()\n",
    "\n",
    "# Generador\n",
    "generator=Policy_net( 'policy', env, obs)\n",
    "\n",
    "# Generamos [s,a, s', r] falsas y las políticas theta_i y theta_i+1\n",
    "observations, actions, next_observations, rewards, Old_Policy, Policy=generator.generate_fakes()\n",
    "\n",
    "# Discriminador\n",
    "discriminator=Discriminator(env, discriminator_net, converted_observations, expert_actions, converted_next_observations, expert_rewards, observations, actions, next_observations, rewards)"
   ]
  },
  {
   "cell_type": "markdown",
   "metadata": {},
   "source": [
    "### Definición de GAIL"
   ]
  },
  {
   "cell_type": "code",
   "execution_count": 122,
   "metadata": {},
   "outputs": [],
   "source": [
    "gan10=GAN(discriminator=discriminator,generator=generator)"
   ]
  },
  {
   "cell_type": "markdown",
   "metadata": {},
   "source": [
    "### Compilación de GAIL"
   ]
  },
  {
   "cell_type": "code",
   "execution_count": 123,
   "metadata": {},
   "outputs": [],
   "source": [
    "tf.config.run_functions_eagerly(True)\n",
    "gan10.compile(\n",
    "    d_optimizer=tf.keras.optimizers.Adam(learning_rate=LEARNING_RATE),\n",
    "    loss_fn_D=loss_fn_D\n",
    ")"
   ]
  },
  {
   "cell_type": "markdown",
   "metadata": {},
   "source": [
    "### Entrenamiento de GAIL"
   ]
  },
  {
   "cell_type": "code",
   "execution_count": 124,
   "metadata": {},
   "outputs": [
    {
     "name": "stdout",
     "output_type": "stream",
     "text": [
      "\n",
      "\n",
      "\n",
      "d_loss= 2.007844\n",
      "\n",
      "g_loss= -0.12515092\n",
      " 1/37 [..............................] - ETA: 4:37:09 - d_loss: 2.0078 - g_loss: -0.1252\n",
      "\n",
      "\n",
      "d_loss= 1.9721657\n",
      "\n",
      "g_loss= -0.7961289\n",
      " 2/37 [>.............................] - ETA: 4:56:47 - d_loss: 1.9900 - g_loss: -0.4606\n",
      "\n",
      "\n",
      "d_loss= 1.9708804\n",
      "\n",
      "g_loss= 1.4756274\n",
      " 3/37 [=>............................] - ETA: 4:24:36 - d_loss: 1.9836 - g_loss: 0.1848 \n",
      "\n",
      "\n",
      "d_loss= 1.9685788\n",
      "\n",
      "g_loss= 5.0844526\n",
      " 4/37 [==>...........................] - ETA: 4:09:31 - d_loss: 1.9799 - g_loss: 1.4097\n",
      "\n",
      "\n",
      "d_loss= 1.9968041\n",
      "\n",
      "g_loss= -0.76817405\n",
      " 5/37 [===>..........................] - ETA: 3:57:42 - d_loss: 1.9833 - g_loss: 0.9741\n",
      "\n",
      "\n",
      "d_loss= 1.9588656\n",
      "\n",
      "g_loss= 0.5382145\n",
      " 6/37 [===>..........................] - ETA: 3:46:42 - d_loss: 1.9792 - g_loss: 0.9015\n",
      "\n",
      "\n",
      "d_loss= 1.9642129\n",
      "\n",
      "g_loss= -2.9898279\n",
      " 7/37 [====>.........................] - ETA: 3:37:46 - d_loss: 1.9771 - g_loss: 0.3456\n",
      "\n",
      "\n",
      "d_loss= 1.9365454\n",
      "\n",
      "g_loss= 1.9218733\n",
      " 8/37 [=====>........................] - ETA: 3:28:59 - d_loss: 1.9720 - g_loss: 0.5426\n",
      "\n",
      "\n",
      "d_loss= 1.9741755\n",
      "\n",
      "g_loss= -1.5450697\n",
      " 9/37 [======>.......................] - ETA: 3:22:17 - d_loss: 1.9722 - g_loss: 0.3106\n",
      "\n",
      "\n",
      "d_loss= 1.9591964\n",
      "\n",
      "g_loss= 2.4930618\n",
      "10/37 [=======>......................] - ETA: 3:14:57 - d_loss: 1.9709 - g_loss: 0.5289\n",
      "\n",
      "\n",
      "d_loss= 1.9022788\n",
      "\n",
      "g_loss= 0.5375581\n",
      "11/37 [=======>......................] - ETA: 3:07:05 - d_loss: 1.9647 - g_loss: 0.5297\n",
      "\n",
      "\n",
      "d_loss= 1.9613281\n",
      "\n",
      "g_loss= -3.0536695\n",
      "12/37 [========>.....................] - ETA: 3:01:49 - d_loss: 1.9644 - g_loss: 0.2311\n",
      "\n",
      "\n",
      "d_loss= 1.958847\n",
      "\n",
      "g_loss= -2.621544\n",
      "13/37 [=========>....................] - ETA: 2:58:12 - d_loss: 1.9640 - g_loss: 0.0116\n",
      "\n",
      "\n",
      "d_loss= 1.9908026\n",
      "\n",
      "g_loss= -1.5888009\n",
      "14/37 [==========>...................] - ETA: 2:53:44 - d_loss: 1.9659 - g_loss: -0.1027\n",
      "\n",
      "\n",
      "d_loss= 1.9598402\n",
      "\n",
      "g_loss= 1.6293846\n",
      "15/37 [===========>..................] - ETA: 2:46:09 - d_loss: 1.9655 - g_loss: 0.0128 \n",
      "\n",
      "\n",
      "d_loss= 1.9005682\n",
      "\n",
      "g_loss= 3.419288\n",
      "16/37 [===========>..................] - ETA: 2:38:58 - d_loss: 1.9614 - g_loss: 0.2257\n",
      "\n",
      "\n",
      "d_loss= 1.9947158\n",
      "\n",
      "g_loss= 2.6388612\n",
      "17/37 [============>.................] - ETA: 2:32:14 - d_loss: 1.9634 - g_loss: 0.3676\n",
      "\n",
      "\n",
      "d_loss= 1.9522358\n",
      "\n",
      "g_loss= 0.10592952\n",
      "18/37 [=============>................] - ETA: 2:24:51 - d_loss: 1.9628 - g_loss: 0.3531\n",
      "\n",
      "\n",
      "d_loss= 1.9540577\n",
      "\n",
      "g_loss= -3.636457\n",
      "19/37 [==============>...............] - ETA: 2:16:59 - d_loss: 1.9623 - g_loss: 0.1431\n",
      "\n",
      "\n",
      "d_loss= 1.9245384\n",
      "\n",
      "g_loss= 1.3315442\n",
      "20/37 [===============>..............] - ETA: 2:09:25 - d_loss: 1.9604 - g_loss: 0.2025\n",
      "\n",
      "\n",
      "d_loss= 2.020526\n",
      "\n",
      "g_loss= -1.5584598\n",
      "21/37 [================>.............] - ETA: 2:01:43 - d_loss: 1.9633 - g_loss: 0.1187\n",
      "\n",
      "\n",
      "d_loss= 1.973552\n",
      "\n",
      "g_loss= 3.0091772\n",
      "22/37 [================>.............] - ETA: 1:54:18 - d_loss: 1.9638 - g_loss: 0.2501\n",
      "\n",
      "\n",
      "d_loss= 1.936908\n",
      "\n",
      "g_loss= 0.6998271\n",
      "23/37 [=================>............] - ETA: 1:46:35 - d_loss: 1.9626 - g_loss: 0.2696\n",
      "\n",
      "\n",
      "d_loss= 1.9152277\n",
      "\n",
      "g_loss= -1.5099199\n",
      "24/37 [==================>...........] - ETA: 1:38:51 - d_loss: 1.9606 - g_loss: 0.1955\n",
      "\n",
      "\n",
      "d_loss= 1.9946548\n",
      "\n",
      "g_loss= -0.6797638\n",
      "25/37 [===================>..........] - ETA: 1:31:04 - d_loss: 1.9620 - g_loss: 0.1605\n",
      "\n",
      "\n",
      "d_loss= 1.9300833\n",
      "\n",
      "g_loss= 3.0395858\n",
      "26/37 [====================>.........] - ETA: 1:23:17 - d_loss: 1.9607 - g_loss: 0.2712\n",
      "\n",
      "\n",
      "d_loss= 1.9271379\n",
      "\n",
      "g_loss= -2.4324067\n",
      "27/37 [====================>.........] - ETA: 1:15:44 - d_loss: 1.9595 - g_loss: 0.1711\n",
      "\n",
      "\n",
      "d_loss= 1.9640852\n",
      "\n",
      "g_loss= -1.0904815\n",
      "28/37 [=====================>........] - ETA: 1:08:09 - d_loss: 1.9597 - g_loss: 0.1260\n",
      "\n",
      "\n",
      "d_loss= 1.8969216\n",
      "\n",
      "g_loss= -0.31996\n",
      "29/37 [======================>.......] - ETA: 1:00:35 - d_loss: 1.9575 - g_loss: 0.1106\n",
      "\n",
      "\n",
      "d_loss= 1.9815136\n",
      "\n",
      "g_loss= 1.5745395\n",
      "30/37 [=======================>......] - ETA: 52:59 - d_loss: 1.9583 - g_loss: 0.1594  \n",
      "\n",
      "\n",
      "d_loss= 1.9363829\n",
      "\n",
      "g_loss= -0.83899647\n",
      "31/37 [========================>.....] - ETA: 45:21 - d_loss: 1.9576 - g_loss: 0.1272\n",
      "\n",
      "\n",
      "d_loss= 1.9892776\n",
      "\n",
      "g_loss= 1.0768492\n",
      "32/37 [========================>.....] - ETA: 37:48 - d_loss: 1.9586 - g_loss: 0.1569\n",
      "\n",
      "\n",
      "d_loss= 1.9633731\n",
      "\n",
      "g_loss= -1.7178364\n",
      "33/37 [=========================>....] - ETA: 30:29 - d_loss: 1.9587 - g_loss: 0.1001\n",
      "\n",
      "\n",
      "d_loss= 1.9589278\n",
      "\n",
      "g_loss= 4.4342184\n",
      "34/37 [==========================>...] - ETA: 22:54 - d_loss: 1.9587 - g_loss: 0.2276\n",
      "\n",
      "\n",
      "d_loss= 1.9635789\n",
      "\n",
      "g_loss= -0.91321933\n",
      "35/37 [===========================>..] - ETA: 15:16 - d_loss: 1.9589 - g_loss: 0.1950\n",
      "\n",
      "\n",
      "d_loss= 1.9504828\n",
      "\n",
      "g_loss= 0.21405962\n",
      "36/37 [============================>.] - ETA: 7:38 - d_loss: 1.9586 - g_loss: 0.1955 \n",
      "\n",
      "\n",
      "d_loss= 1.9576333\n",
      "\n",
      "g_loss= 1.2653518\n",
      "37/37 [==============================] - 16987s 459s/step - d_loss: 1.9586 - g_loss: 0.2244\n"
     ]
    }
   ],
   "source": [
    "# Deshabilitar los mensajes de información de TensorFlow\n",
    "os.environ['TF_CPP_MIN_LOG_LEVEL'] = '3'\n",
    "\n",
    "# Deshabilitar los mensajes de información de OpenAI Gym\n",
    "gym.logger.set_level(40)\n",
    "\n",
    "\n",
    "BATCH_SIZE=140\n",
    "\n",
    "history=gan10.fit(X_train,\n",
    "    epochs=EPOCHS, batch_size=BATCH_SIZE)\n"
   ]
  },
  {
   "cell_type": "markdown",
   "metadata": {},
   "source": [
    "### Evaluación de GAIL"
   ]
  },
  {
   "cell_type": "code",
   "execution_count": 125,
   "metadata": {},
   "outputs": [
    {
     "name": "stdout",
     "output_type": "stream",
     "text": [
      "1/1 [==============================] - 0s 40ms/step - loss: 0.0338 - accuracy: 0.0000e+00\n",
      "1/1 [==============================] - 0s 12ms/step - loss: 0.0514 - accuracy: 0.0000e+00\n",
      ">Loss real: \n",
      "0.03382343053817749\n",
      ">Loss fake: \n",
      "0.0513639897108078\n"
     ]
    }
   ],
   "source": [
    "# Evaluamos el Discriminador de GAIL en el TEST\n",
    "gan10.evaluate_D(X_test)\n"
   ]
  },
  {
   "cell_type": "code",
   "execution_count": 130,
   "metadata": {},
   "outputs": [
    {
     "name": "stdout",
     "output_type": "stream",
     "text": [
      "Episode  0 Total reward: -64.97239294067826\n",
      "Episode  1 Total reward: 18.262929829612062\n",
      "Episode  2 Total reward: -56.11649226045513\n",
      "Episode  3 Total reward: -108.29803962011013\n",
      "Episode  4 Total reward: -6.359245635937384\n",
      "Episode  5 Total reward: 65.527805277073\n",
      "Episode  6 Total reward: -67.58803814087288\n",
      "Episode  7 Total reward: -3.666409170131132\n",
      "Episode  8 Total reward: -81.93721953635053\n",
      "Episode  9 Total reward: -213.83822340424945\n",
      "Episode  10 Total reward: -35.845001802237434\n",
      "Episode  11 Total reward: -171.2778365366221\n",
      "Episode  12 Total reward: -34.50312474662364\n",
      "Episode  13 Total reward: -28.95773806547743\n",
      "Episode  14 Total reward: -3.40414795983844\n",
      "Episode  15 Total reward: 4.968175509092632\n",
      "Episode  16 Total reward: -5.972269823114587\n",
      "Episode  17 Total reward: -48.586354584023155\n",
      "Episode  18 Total reward: 36.30208560674595\n",
      "Episode  19 Total reward: -3.046578088921521\n",
      "Episode  20 Total reward: -200.40707517610826\n",
      "Episode  21 Total reward: 45.34156885350883\n",
      "Episode  22 Total reward: 28.33593052065487\n",
      "Episode  23 Total reward: -222.56209579234007\n",
      "Episode  24 Total reward: -10.813841675001328\n",
      "Episode  25 Total reward: -41.03676560628978\n",
      "Episode  26 Total reward: -118.71575952184115\n",
      "Episode  27 Total reward: 18.049410622702524\n",
      "Episode  28 Total reward: 58.23888609423818\n",
      "Episode  29 Total reward: 11.416440747030833\n",
      "Episode  30 Total reward: -28.80998288098617\n",
      "Episode  31 Total reward: -66.75887160131829\n",
      "Episode  32 Total reward: 12.39963488389644\n",
      "Episode  33 Total reward: -5.477743571037067\n",
      "Episode  34 Total reward: 19.913557316606926\n",
      "Episode  35 Total reward: -101.66214153036763\n",
      "Episode  36 Total reward: -18.21573982830155\n",
      "Episode  37 Total reward: -68.21967369900997\n",
      "Episode  38 Total reward: -233.38292949458122\n",
      "Episode  39 Total reward: 100.45796264682652\n",
      "Episode  40 Total reward: -61.244310050712244\n",
      "Episode  41 Total reward: -51.64640227250722\n",
      "Episode  42 Total reward: -59.86983873595341\n",
      "Episode  43 Total reward: -44.02226500038941\n",
      "Episode  44 Total reward: 30.081215357466874\n",
      "Episode  45 Total reward: -35.298446945564635\n",
      "Episode  46 Total reward: -266.38367962730086\n",
      "Episode  47 Total reward: -65.1333036155134\n",
      "Episode  48 Total reward: -0.5919862867179546\n",
      "Episode  49 Total reward: 5.890179536091364\n"
     ]
    },
    {
     "data": {
      "image/png": "[encoded data removed]",
      "text/plain": [
       "<Figure size 640x480 with 1 Axes>"
      ]
     },
     "metadata": {},
     "output_type": "display_data"
    },
    {
     "name": "stdout",
     "output_type": "stream",
     "text": [
      "\n",
      "Recompensa de Media: -43.58872364851877 \n",
      "\n"
     ]
    }
   ],
   "source": [
    "# Evaluamos al Generador \n",
    "rewardMean=gan10.evaluate_G()\n",
    "print('\\nRecompensa de Media:', rewardMean, '\\n')"
   ]
  }
 ],
 "metadata": {
  "kernelspec": {
   "display_name": "luna",
   "language": "python",
   "name": "python3"
  },
  "language_info": {
   "codemirror_mode": {
    "name": "ipython",
    "version": 3
   },
   "file_extension": ".py",
   "mimetype": "text/x-python",
   "name": "python",
   "nbconvert_exporter": "python",
   "pygments_lexer": "ipython3",
   "version": "3.9.19"
  }
 },
 "nbformat": 4,
 "nbformat_minor": 2
}
