{
 "cells": [
  {
   "cell_type": "code",
   "execution_count": 1,
   "metadata": {},
   "outputs": [
    {
     "name": "stdout",
     "output_type": "stream",
     "text": [
      "Fri Jul 12 17:04:23 2024       \n",
      "+-----------------------------------------------------------------------------------------+\n",
      "| NVIDIA-SMI 555.52.04              Driver Version: 555.52.04      CUDA Version: 12.5     |\n",
      "|-----------------------------------------+------------------------+----------------------+\n",
      "| GPU  Name                 Persistence-M | Bus-Id          Disp.A | Volatile Uncorr. ECC |\n",
      "| Fan  Temp   Perf          Pwr:Usage/Cap |           Memory-Usage | GPU-Util  Compute M. |\n",
      "|                                         |                        |               MIG M. |\n",
      "|=========================================+========================+======================|\n",
      "|   0  NVIDIA GeForce RTX 3060 ...    Off |   00000000:01:00.0  On |                  N/A |\n",
      "| N/A   56C    P5             17W /  100W |      64MiB /   6144MiB |     26%      Default |\n",
      "|                                         |                        |                  N/A |\n",
      "+-----------------------------------------+------------------------+----------------------+\n",
      "                                                                                         \n",
      "+-----------------------------------------------------------------------------------------+\n",
      "| Processes:                                                                              |\n",
      "|  GPU   GI   CI        PID   Type   Process name                              GPU Memory |\n",
      "|        ID   ID                                                               Usage      |\n",
      "|=========================================================================================|\n",
      "|    0   N/A  N/A      3304      G   /usr/lib/xorg/Xorg                             53MiB |\n",
      "+-----------------------------------------------------------------------------------------+\n"
     ]
    }
   ],
   "source": [
    "#########################################################################\n",
    "## COMPROBAR GPU ASIGNADA EN COLABORATORY\n",
    "#########################################################################\n",
    "gpu_info = !nvidia-smi\n",
    "gpu_info = '\\n'.join(gpu_info)\n",
    "if gpu_info.find('failed') >= 0:\n",
    "  print('Not connected to a GPU')\n",
    "else:\n",
    "  print(gpu_info)"
   ]
  },
  {
   "cell_type": "code",
   "execution_count": 2,
   "metadata": {},
   "outputs": [
    {
     "name": "stderr",
     "output_type": "stream",
     "text": [
      "2024-07-12 17:04:23.324703: I tensorflow/stream_executor/platform/default/dso_loader.cc:49] Successfully opened dynamic library libcudart.so.10.1\n"
     ]
    }
   ],
   "source": [
    "#########################################################################\n",
    "## LIBRERIAS NECESARIAS\n",
    "#########################################################################\n",
    "import tensorflow as tf\n",
    "import gymnasium as gym\n",
    "from stable_baselines3 import PPO\n",
    "from tensorflow.keras.layers import concatenate\n",
    "import numpy as np\n",
    "import keras\n",
    "import matplotlib.pyplot as plt\n",
    "from keras import layers\n",
    "import copy\n",
    "from sklearn.model_selection import train_test_split\n",
    "\n",
    "import os\n",
    "from stable_baselines3.common.vec_env import DummyVecEnv"
   ]
  },
  {
   "cell_type": "code",
   "execution_count": 3,
   "metadata": {},
   "outputs": [
    {
     "name": "stdout",
     "output_type": "stream",
     "text": [
      "Num GPUs Available:  1\n"
     ]
    },
    {
     "name": "stderr",
     "output_type": "stream",
     "text": [
      "2024-07-12 17:04:25.249832: I tensorflow/compiler/jit/xla_cpu_device.cc:41] Not creating XLA devices, tf_xla_enable_xla_devices not set\n",
      "2024-07-12 17:04:25.249917: I tensorflow/stream_executor/platform/default/dso_loader.cc:49] Successfully opened dynamic library libcuda.so.1\n",
      "2024-07-12 17:04:25.417118: I tensorflow/stream_executor/cuda/cuda_gpu_executor.cc:941] successful NUMA node read from SysFS had negative value (-1), but there must be at least one NUMA node, so returning NUMA node zero\n",
      "2024-07-12 17:04:25.421350: I tensorflow/core/common_runtime/gpu/gpu_device.cc:1720] Found device 0 with properties: \n",
      "pciBusID: 0000:01:00.0 name: NVIDIA GeForce RTX 3060 Laptop GPU computeCapability: 8.6\n",
      "coreClock: 1.605GHz coreCount: 30 deviceMemorySize: 5.70GiB deviceMemoryBandwidth: 312.97GiB/s\n",
      "2024-07-12 17:04:25.421363: I tensorflow/stream_executor/platform/default/dso_loader.cc:49] Successfully opened dynamic library libcudart.so.10.1\n",
      "2024-07-12 17:04:25.422370: I tensorflow/stream_executor/platform/default/dso_loader.cc:49] Successfully opened dynamic library libcublas.so.10\n",
      "2024-07-12 17:04:25.422422: I tensorflow/stream_executor/platform/default/dso_loader.cc:49] Successfully opened dynamic library libcublasLt.so.10\n",
      "2024-07-12 17:04:25.423479: I tensorflow/stream_executor/platform/default/dso_loader.cc:49] Successfully opened dynamic library libcufft.so.10\n",
      "2024-07-12 17:04:25.423523: I tensorflow/stream_executor/platform/default/dso_loader.cc:49] Successfully opened dynamic library libcurand.so.10\n",
      "2024-07-12 17:04:25.424536: I tensorflow/stream_executor/platform/default/dso_loader.cc:49] Successfully opened dynamic library libcusolver.so.10\n",
      "2024-07-12 17:04:25.425076: I tensorflow/stream_executor/platform/default/dso_loader.cc:49] Successfully opened dynamic library libcusparse.so.10\n",
      "2024-07-12 17:04:25.426995: I tensorflow/stream_executor/platform/default/dso_loader.cc:49] Successfully opened dynamic library libcudnn.so.7\n",
      "2024-07-12 17:04:25.427067: I tensorflow/stream_executor/cuda/cuda_gpu_executor.cc:941] successful NUMA node read from SysFS had negative value (-1), but there must be at least one NUMA node, so returning NUMA node zero\n",
      "2024-07-12 17:04:25.431598: I tensorflow/stream_executor/cuda/cuda_gpu_executor.cc:941] successful NUMA node read from SysFS had negative value (-1), but there must be at least one NUMA node, so returning NUMA node zero\n",
      "2024-07-12 17:04:25.435271: I tensorflow/core/common_runtime/gpu/gpu_device.cc:1862] Adding visible gpu devices: 0\n"
     ]
    }
   ],
   "source": [
    "print(\"Num GPUs Available: \", len(tf.config.experimental.list_physical_devices('GPU')))"
   ]
  },
  {
   "cell_type": "code",
   "execution_count": 4,
   "metadata": {},
   "outputs": [],
   "source": [
    "############################################################################\n",
    "## Variables globales (hiperparámetros)\n",
    "###########################################################################\n",
    "EPOCHS=1\n",
    "BATCH_SIZE=140\n",
    "\n",
    "EPISODES=10\n",
    "EPISODES_EVALUATE_G=50\n",
    "\n",
    "TOTAL_TIMESTEPS_PPO_GENERATOR=40000 \n",
    "LEARNING_RATE=0.001"
   ]
  },
  {
   "cell_type": "markdown",
   "metadata": {},
   "source": [
    "# GYM Lunar Lander\n",
    "\n",
    "\n",
    "* **Entorno**:\n",
    "\n",
    "  Este entorno es un **problema clásico de optimización de trayectoria de un COHETE**. Según el principio del máximo de Pontryagin, es óptimo encender el motor a máxima potencia o apagarlo. Esta es la razón por la cual este entorno tiene acciones discretas: encender el motor o apagarlo.\n",
    "\n",
    " Existen dos versiones del entorno: discreta o continua. La plataforma de aterrizaje siempre se encuentra en las coordenadas (0,0). Las coordenadas son los primeros dos números en el vector de estado. Es posible aterrizar fuera de la plataforma de aterrizaje. El combustible es infinito, por lo que un agente puede aprender a volar y luego aterrizar en su primer intento.\n",
    "\n",
    "* **Acciones**: tenemos cuatro acciones discretas:\n",
    "\n",
    "  * **0**:No hacer nada\n",
    "  * **1**: Encender motor de orientación izquierdo\n",
    "  * **2**: Encender motor principal\n",
    "  * **3**: Encender motor de orientación derecho\n",
    "* **Observaciones**: es un vector de 8 dimensiones donde se almacenan las coordenadas (x,y), las velocidades lineales en x e y, su ángulo, su velocidad angular, y dos booleanos que representan si cada pata está en contacto con el suelo o no.\n"
   ]
  },
  {
   "cell_type": "markdown",
   "metadata": {},
   "source": [
    "## Instalación de Box2D"
   ]
  },
  {
   "cell_type": "code",
   "execution_count": 5,
   "metadata": {},
   "outputs": [],
   "source": [
    "!#cd pybox2d && python setup.py build && python setup.py install"
   ]
  },
  {
   "cell_type": "code",
   "execution_count": 6,
   "metadata": {},
   "outputs": [
    {
     "name": "stdout",
     "output_type": "stream",
     "text": [
      "4\n",
      "8\n"
     ]
    }
   ],
   "source": [
    "# Definimos el entorno\n",
    "env = gym.make(\"LunarLander-v2\")\n",
    "\n",
    "# Obtenemos el espacio de estados y acciones del entorno\n",
    "ob_space=env.observation_space\n",
    "ac_space=env.action_space\n",
    "\n",
    "# Mostramos el número de acciones del entorno\n",
    "print(env.action_space.n)\n",
    "# Mostramos el número de observaciones del entorno\n",
    "print(ob_space.shape[0])"
   ]
  },
  {
   "cell_type": "markdown",
   "metadata": {},
   "source": [
    "# Discriminador"
   ]
  },
  {
   "cell_type": "markdown",
   "metadata": {},
   "source": [
    "## Red neuronal del Discriminador"
   ]
  },
  {
   "cell_type": "code",
   "execution_count": 7,
   "metadata": {},
   "outputs": [
    {
     "name": "stdout",
     "output_type": "stream",
     "text": [
      "Model: \"discriminator_net\"\n",
      "_________________________________________________________________\n",
      "Layer (type)                 Output Shape              Param #   \n",
      "=================================================================\n",
      "layer1 (Dense)               (None, None, 10)          130       \n",
      "_________________________________________________________________\n",
      "layer2 (Dense)               (None, None, 10)          110       \n",
      "_________________________________________________________________\n",
      "layer3 (Dense)               (None, None, 10)          110       \n",
      "_________________________________________________________________\n",
      "prob (Dense)                 (None, None, 1)           11        \n",
      "=================================================================\n",
      "Total params: 361\n",
      "Trainable params: 361\n",
      "Non-trainable params: 0\n",
      "_________________________________________________________________\n"
     ]
    },
    {
     "name": "stderr",
     "output_type": "stream",
     "text": [
      "2024-07-12 17:04:25.697227: I tensorflow/core/platform/cpu_feature_guard.cc:142] This TensorFlow binary is optimized with oneAPI Deep Neural Network Library (oneDNN) to use the following CPU instructions in performance-critical operations:  SSE4.1 SSE4.2 AVX AVX2 FMA\n",
      "To enable them in other operations, rebuild TensorFlow with the appropriate compiler flags.\n",
      "2024-07-12 17:04:25.697976: I tensorflow/compiler/jit/xla_gpu_device.cc:99] Not creating XLA devices, tf_xla_enable_xla_devices not set\n",
      "2024-07-12 17:04:25.698132: I tensorflow/stream_executor/cuda/cuda_gpu_executor.cc:941] successful NUMA node read from SysFS had negative value (-1), but there must be at least one NUMA node, so returning NUMA node zero\n",
      "2024-07-12 17:04:25.704711: I tensorflow/core/common_runtime/gpu/gpu_device.cc:1720] Found device 0 with properties: \n",
      "pciBusID: 0000:01:00.0 name: NVIDIA GeForce RTX 3060 Laptop GPU computeCapability: 8.6\n",
      "coreClock: 1.605GHz coreCount: 30 deviceMemorySize: 5.70GiB deviceMemoryBandwidth: 312.97GiB/s\n",
      "2024-07-12 17:04:25.704740: I tensorflow/stream_executor/platform/default/dso_loader.cc:49] Successfully opened dynamic library libcudart.so.10.1\n",
      "2024-07-12 17:04:25.704784: I tensorflow/stream_executor/platform/default/dso_loader.cc:49] Successfully opened dynamic library libcublas.so.10\n",
      "2024-07-12 17:04:25.704794: I tensorflow/stream_executor/platform/default/dso_loader.cc:49] Successfully opened dynamic library libcublasLt.so.10\n",
      "2024-07-12 17:04:25.704802: I tensorflow/stream_executor/platform/default/dso_loader.cc:49] Successfully opened dynamic library libcufft.so.10\n",
      "2024-07-12 17:04:25.704808: I tensorflow/stream_executor/platform/default/dso_loader.cc:49] Successfully opened dynamic library libcurand.so.10\n",
      "2024-07-12 17:04:25.704815: I tensorflow/stream_executor/platform/default/dso_loader.cc:49] Successfully opened dynamic library libcusolver.so.10\n",
      "2024-07-12 17:04:25.704822: I tensorflow/stream_executor/platform/default/dso_loader.cc:49] Successfully opened dynamic library libcusparse.so.10\n",
      "2024-07-12 17:04:25.704829: I tensorflow/stream_executor/platform/default/dso_loader.cc:49] Successfully opened dynamic library libcudnn.so.7\n",
      "2024-07-12 17:04:25.704895: I tensorflow/stream_executor/cuda/cuda_gpu_executor.cc:941] successful NUMA node read from SysFS had negative value (-1), but there must be at least one NUMA node, so returning NUMA node zero\n",
      "2024-07-12 17:04:25.708774: I tensorflow/stream_executor/cuda/cuda_gpu_executor.cc:941] successful NUMA node read from SysFS had negative value (-1), but there must be at least one NUMA node, so returning NUMA node zero\n",
      "2024-07-12 17:04:25.711673: I tensorflow/core/common_runtime/gpu/gpu_device.cc:1862] Adding visible gpu devices: 0\n",
      "2024-07-12 17:04:25.711697: I tensorflow/stream_executor/platform/default/dso_loader.cc:49] Successfully opened dynamic library libcudart.so.10.1\n",
      "2024-07-12 17:04:26.618198: I tensorflow/core/common_runtime/gpu/gpu_device.cc:1261] Device interconnect StreamExecutor with strength 1 edge matrix:\n",
      "2024-07-12 17:04:26.618228: I tensorflow/core/common_runtime/gpu/gpu_device.cc:1267]      0 \n",
      "2024-07-12 17:04:26.618234: I tensorflow/core/common_runtime/gpu/gpu_device.cc:1280] 0:   N \n",
      "2024-07-12 17:04:26.618503: I tensorflow/stream_executor/cuda/cuda_gpu_executor.cc:941] successful NUMA node read from SysFS had negative value (-1), but there must be at least one NUMA node, so returning NUMA node zero\n",
      "2024-07-12 17:04:26.620420: I tensorflow/stream_executor/cuda/cuda_gpu_executor.cc:941] successful NUMA node read from SysFS had negative value (-1), but there must be at least one NUMA node, so returning NUMA node zero\n",
      "2024-07-12 17:04:26.621989: I tensorflow/stream_executor/cuda/cuda_gpu_executor.cc:941] successful NUMA node read from SysFS had negative value (-1), but there must be at least one NUMA node, so returning NUMA node zero\n",
      "2024-07-12 17:04:26.623571: I tensorflow/core/common_runtime/gpu/gpu_device.cc:1406] Created TensorFlow device (/job:localhost/replica:0/task:0/device:GPU:0 with 5187 MB memory) -> physical GPU (device: 0, name: NVIDIA GeForce RTX 3060 Laptop GPU, pci bus id: 0000:01:00.0, compute capability: 8.6)\n"
     ]
    }
   ],
   "source": [
    "################################################################################################################################################\n",
    "# Red neuronal del Discriminador\n",
    "################################################################################################################################################\n",
    "\n",
    "# Input: secuencias [s,a] reales o sintéticas, de longitud ob_space.shape[0] + ac_space.n.\n",
    "# Output: probabilidad de que la secuencia sea real, valor perteneciente al intervalo [0,1]\n",
    "discriminator_net=keras.Sequential(\n",
    "    [\n",
    "        keras.Input(shape=(None, ob_space.shape[0] + ac_space.n )),\n",
    "        layers.Dense(units=10,activation=tf.nn.relu, name='layer1'),\n",
    "        layers.Dense(units=10,activation=tf.nn.relu, name='layer2'),\n",
    "        layers.Dense(units=10, activation=tf.nn.relu, name='layer3'),\n",
    "        layers.Dense(units=1, activation=tf.sigmoid, name='prob'),\n",
    "\n",
    "    ],\n",
    "    name=\"discriminator_net\"\n",
    "\n",
    ")\n",
    "discriminator_net.summary()"
   ]
  },
  {
   "cell_type": "markdown",
   "metadata": {},
   "source": [
    "## Función de pérdida del Discriminador"
   ]
  },
  {
   "cell_type": "code",
   "execution_count": 8,
   "metadata": {},
   "outputs": [],
   "source": [
    "#########################################################################################################\n",
    "# Función de pérdida del Discriminador\n",
    "#########################################################################################################\n",
    "\n",
    "# prob1=> output de la red neuronal del Discriminador cuando recibe como entrada una secuencia REAL [s,a] de la base de datos\n",
    "# prob2=> output de la red neuronal del Discriminador cuando recibe como entrada una secuencia FALSA [s,a]\n",
    "def loss_fn_D(prob1, prob2):\n",
    "\n",
    "    # Esperanza del logaritmo de la D(x)=salida de la red neuronal cuando x=entrada REAL\n",
    "    loss_expert = tf.reduce_mean(tf.math.log(tf.clip_by_value(prob1, 0.01, 1)))\n",
    "\n",
    "    # Esperanza del logaritmo de 1-D(x) donde D(x)=salida de la red neuronal cuando x=entrada FALSA\n",
    "    loss_agent = tf.reduce_mean(tf.math.log(tf.clip_by_value(1 - prob2, 0.01,1)))\n",
    "\n",
    "    loss_expert = tf.cast(loss_expert, dtype=tf.float32)\n",
    "    loss_agent = tf.cast(loss_agent, dtype=tf.float32)\n",
    "\n",
    "    loss = loss_expert + loss_agent\n",
    "\n",
    "    loss = -loss\n",
    "\n",
    "    return loss"
   ]
  },
  {
   "cell_type": "markdown",
   "metadata": {},
   "source": [
    "## Clase del Discriminador"
   ]
  },
  {
   "cell_type": "code",
   "execution_count": 9,
   "metadata": {},
   "outputs": [],
   "source": [
    "# Clase DISCRIMINADOR\n",
    "class Discriminator:\n",
    "    def __init__(self, env, discriminator_net, expert_s, expert_a, agent_s, agent_a):\n",
    "        # -Red neuronal del Discriminador\n",
    "        self.discriminator_net=discriminator_net\n",
    "        # -Experto: [s,a]\n",
    "        self.expert_s=expert_s\n",
    "        self.expert_a=expert_a\n",
    "        expert_a_one_hot=tf.one_hot(self.expert_a,depth=env.action_space.n)\n",
    "        # Añadimos ruido para estabilizar el entrenamiento\n",
    "        expert_a_one_hot+= tf.random.normal(tf.shape(expert_a_one_hot), mean=0.2, stddev=0.1, dtype=tf.float32)/1.2\n",
    "        self.expert_s_a=tf.concat([self.expert_s,expert_a_one_hot],axis=1)\n",
    "\n",
    "        # -Agente:  [s,a]\n",
    "        self.agent_s=agent_s\n",
    "        self.agent_a=agent_a\n",
    "        agent_a_one_hot=tf.one_hot(self.agent_a,depth=env.action_space.n)\n",
    "        agent_a_one_hot+= tf.random.normal(tf.shape(agent_a_one_hot), mean=0.2, stddev=0.1, dtype=tf.float32)/1.2\n",
    "        self.agent_s_a=tf.concat([self.agent_s,agent_a_one_hot],axis=1)\n",
    "\n",
    "\n",
    "\n",
    "        # Calculamos la salida de la red para [s,a] del experto y del agente ya que lo necesitamos para reward\n",
    "\n",
    "        # -Salida de la red neuronal Discriminador para [s,a] expertos(verdaderos)\n",
    "        self.prob_expert=self.discriminator_net(self.expert_s_a)\n",
    "\n",
    "        # -Salida  de la red neuronal Discrimiinador para [s,a] Agente(falsos)\n",
    "        self.prob_agent=self.discriminator_net(self.agent_s_a)\n",
    "\n",
    "        #-Recompensa obtenida cuando el Agente realiza [s,a] falsas\n",
    "        self.rewards=tf.math.log(tf.clip_by_value(self.prob_agent,1e-10,1)) #log(P(expert|s,a)) cuando mas grande es mejor el agente\n",
    "\n",
    "\n",
    "    def getNet(self):\n",
    "        return self.discriminator_net\n",
    "\n",
    "    def getAgent_S_A(self):\n",
    "        return self.agent_s_a\n",
    "\n",
    "    def getExpert_S_A(self):\n",
    "        return self.expert_s_a\n",
    "\n",
    "    def getProb(self):\n",
    "        return self.prob_expert, self.prob_agent\n",
    "\n",
    "    def getRewards(self):\n",
    "        return self.rewards"
   ]
  },
  {
   "cell_type": "markdown",
   "metadata": {},
   "source": [
    "# Generador"
   ]
  },
  {
   "cell_type": "markdown",
   "metadata": {},
   "source": [
    "## Redes neuronales del Generador"
   ]
  },
  {
   "cell_type": "code",
   "execution_count": 10,
   "metadata": {},
   "outputs": [],
   "source": [
    "import keras"
   ]
  },
  {
   "cell_type": "code",
   "execution_count": 11,
   "metadata": {},
   "outputs": [
    {
     "name": "stdout",
     "output_type": "stream",
     "text": [
      "Model: \"generator_net_Act\"\n",
      "_________________________________________________________________\n",
      "Layer (type)                 Output Shape              Param #   \n",
      "=================================================================\n",
      "layer1 (Dense)               (None, None, 6)           54        \n",
      "_________________________________________________________________\n",
      "layer2 (Dense)               (None, None, 6)           42        \n",
      "_________________________________________________________________\n",
      "layer3 (Dense)               (None, None, 4)           28        \n",
      "_________________________________________________________________\n",
      "layer4 (Dense)               (None, None, 4)           20        \n",
      "=================================================================\n",
      "Total params: 144\n",
      "Trainable params: 144\n",
      "Non-trainable params: 0\n",
      "_________________________________________________________________\n"
     ]
    }
   ],
   "source": [
    "#####################################################################################################\n",
    "# Red neuronal del Generador donde se producen acciones\n",
    "####################################################################################################\n",
    "\n",
    "# Input: estados, listas de tamaño 8, s=[s1,s2,s3,s4,...,s8]\n",
    "# Output: acciones, listas de tamaño 4, a=[a1,a2,a3,a4]\n",
    "generator_net_Act = keras.Sequential(\n",
    "    [\n",
    "        keras.Input(shape=(None, ob_space.shape[0])),\n",
    "        layers.Dense(units=6, activation=\"sigmoid\",name='layer1'),\n",
    "        layers.Dense(units=6, activation=\"sigmoid\", name='layer2'),\n",
    "        layers.Dense(units=4, activation=\"sigmoid\", name='layer3'),\n",
    "        layers.Dense(units=ac_space.n, activation=tf.nn.softmax, name='layer4')\n",
    "\n",
    "    ],\n",
    "    name=\"generator_net_Act\"\n",
    ")\n",
    "\n",
    "generator_net_Act.summary()"
   ]
  },
  {
   "cell_type": "code",
   "execution_count": 12,
   "metadata": {},
   "outputs": [
    {
     "name": "stdout",
     "output_type": "stream",
     "text": [
      "Model: \"generator_v_preds\"\n",
      "_________________________________________________________________\n",
      "Layer (type)                 Output Shape              Param #   \n",
      "=================================================================\n",
      "layer1 (Dense)               (None, None, 6)           54        \n",
      "_________________________________________________________________\n",
      "layer2 (Dense)               (None, None, 6)           42        \n",
      "_________________________________________________________________\n",
      "layer3 (Dense)               (None, None, 1)           7         \n",
      "=================================================================\n",
      "Total params: 103\n",
      "Trainable params: 103\n",
      "Non-trainable params: 0\n",
      "_________________________________________________________________\n"
     ]
    }
   ],
   "source": [
    "#############################################################################################################\n",
    "# Red neuronal del Generador donde se producen v_pred\n",
    "#############################################################################################################\n",
    "\n",
    "# Input: estados, listas de tamaño 8, s=[s1,s2,s3,..,s8]\n",
    "# Output: v_pred, listas de tamaño 1, v_pred\n",
    "\n",
    "generator_net_v_preds=keras.Sequential(\n",
    "    [\n",
    "            keras.Input(shape=(None, ob_space.shape[0])),\n",
    "            layers.Dense(units=6, activation=\"sigmoid\",name='layer1'),\n",
    "            layers.Dense(units=6, activation=\"sigmoid\", name='layer2'),\n",
    "            layers.Dense(units=1, activation=None, name='layer3'),\n",
    "        ],\n",
    "    name=\"generator_v_preds\"\n",
    ")\n",
    "\n",
    "generator_net_v_preds.summary()"
   ]
  },
  {
   "cell_type": "markdown",
   "metadata": {},
   "source": [
    "## Función de pérdida del Generador"
   ]
  },
  {
   "cell_type": "code",
   "execution_count": 13,
   "metadata": {},
   "outputs": [],
   "source": [
    "##################################################################################################################\n",
    "# Función de pérdida del Generador: función objetivo de PPO \"clipped surrogated\"\n",
    "#################################################################################################################\n",
    "\n",
    "def loss_fn_ppo(act_probs,act_probs_old,gaes,clip_value=0.2):\n",
    "    ratios = tf.exp(tf.math.log(tf.clip_by_value(act_probs, 1e-10, 1.0))\n",
    "                    - tf.math.log(tf.clip_by_value(act_probs_old, 1e-10, 1.0)))\n",
    "\n",
    "    clipped_ratios = tf.clip_by_value(ratios,clip_value_min=1 -clip_value,clip_value_max=1 +clip_value)\n",
    "    loss_clip = tf.minimum( tf.multiply(gaes, ratios), tf.multiply(gaes, clipped_ratios))\n",
    "    loss_clip = tf.reduce_mean(loss_clip)\n",
    "\n",
    "    loss = -loss_clip\n",
    "    tf.summary.scalar('total', loss)\n",
    "\n",
    "    return loss"
   ]
  },
  {
   "cell_type": "markdown",
   "metadata": {},
   "source": [
    "## Clase del Generador"
   ]
  },
  {
   "cell_type": "code",
   "execution_count": 14,
   "metadata": {},
   "outputs": [],
   "source": [
    "#################################################################################################################\n",
    "# Clase del GENERADOR: política con su optimizador PPO\n",
    "################################################################################################################\n",
    "\n",
    "# Observesé que cada generador implementa una política distinta, por tanto, se ha decidido llamar a la clase Policy_net en lugar de generator\n",
    "class Policy_net:\n",
    "  def __init__(self, name: str, env, obs):\n",
    "        \"\"\"\n",
    "        env: gym env\n",
    "        obs:\n",
    "        \"\"\"\n",
    "        # -Entorno\n",
    "        self.env=env\n",
    "\n",
    "        env.reset()\n",
    "\n",
    "        # -Modelo PPO: algoritmo de Optimización de Política Proximal\n",
    "        self.model=PPO(policy=\"MlpPolicy\", env=env, verbose=0)\n",
    "\n",
    "\n",
    "        self.model.learn(total_timesteps=TOTAL_TIMESTEPS_PPO_GENERATOR)\n",
    "\n",
    "        # -Observación inicial a partir de la cual se crean las acciones iniciales haciendo uso de las redes neuronales del generador\n",
    "        self.obs=np.reshape(np.array(obs),(1,ob_space.shape[0])) \n",
    "        \n",
    "        # Utilizamos las dos redes neuronales que hemos creado : generator_net_Act y generator_net_v_preds\n",
    "        # V_pred=>recompensa media de que un agente ejecute una acción\n",
    "\n",
    "        # -Acción inicial generada con red neuronal y v_pred con red neuronal\n",
    "        self.act_probs =generator_net_Act(self.obs)\n",
    "        \n",
    "        self.v_preds = generator_net_v_preds(self.obs)\n",
    "\n",
    "        # -Accion estocástica inicial\n",
    "        self.act_stochastic = tf.random.categorical(tf.math.log(self.act_probs), num_samples=1)\n",
    "\n",
    "        # -Acción determinística inicial\n",
    "        self.act_deterministic = tf.argmax(self.act_probs, axis=1)\n",
    "\n",
    "\n",
    "\n",
    "  # Para cada estado obs me dice la acción que el agente va a ejecutar sobre el entorno junto con v_pred\n",
    "  # La elección de la acción puede ser estocástica o determinística\n",
    "  def act(self, stochastic=True):\n",
    "      if stochastic:\n",
    "          return self.act_stochastic, self.v_preds\n",
    "      else:\n",
    "          return self.act_deterministic, self.v_preds\n",
    "\n",
    "  def get_action_prob(self):\n",
    "      return self.act_probs\n",
    "\n",
    "  def get_v_preds(self):\n",
    "      return self.v_preds\n",
    "\n",
    "  def get_obs(self):\n",
    "      return self.obs\n",
    "\n",
    "  def get_model(self):\n",
    "      return self.model\n",
    "\n",
    "  def get_trainable_variables(self):\n",
    "      return self.model.get_parameters()\n",
    "\n",
    "  # Generar [s,a] falsos\n",
    "  def generate_fakes(self):\n",
    "\n",
    "      ob_space = env.observation_space\n",
    "      reward = 0\n",
    "      success_num = 0\n",
    "\n",
    "\n",
    "      # Por cada episodio\n",
    "      for iteration in range(EPISODES):\n",
    "          # Inicializo todas las variables\n",
    "          observations = []\n",
    "          actions = []\n",
    "          rewards = []\n",
    "          run_policy_steps = 0\n",
    "\n",
    "          truncated=False\n",
    "          terminated=False\n",
    "\n",
    "\n",
    "          #La primera acción de cada episodio se crea con la red neuronal\n",
    "\n",
    "          obs,_=env.reset()\n",
    "\n",
    "          Old_Policy = Policy_net('old_policy', env, obs=obs)\n",
    "\n",
    "          act, v_pred = Old_Policy.act(stochastic=True)\n",
    "\n",
    "          #Convertir de tensor a array\n",
    "          if type(act)=='Tensor':\n",
    "              # Crear una sesión de TensorFlow\n",
    "              sess = tf.compat.v1.Session()\n",
    "\n",
    "              # Evaluar el tensor dentro de la sesión y obtener el resultado como un objeto NumPy ndarray\n",
    "              act = sess.run(act)\n",
    "\n",
    "              # Cerrar la sesión\n",
    "              sess.close()\n",
    "\n",
    "          if isinstance(act, tf.Tensor):\n",
    "              act=act.numpy()\n",
    "\n",
    "          elif isinstance(act, np.ndarray):\n",
    "              act=act\n",
    "\n",
    "\n",
    "          action=int(act)\n",
    "\n",
    "          next_obs,reward,terminated,truncated, info=env.step(action)\n",
    "\n",
    "          # --Actualización de variables: ojo no introduzco el estado y accion inicial, solo introduzco los de PPO\n",
    "          observations.append(next_obs)  # S_0\n",
    "\n",
    "          Policy = Policy_net('policy',env, obs=[next_obs]) # tenemos una política entrenada\n",
    "\n",
    "          # Por cada steps en cada episodio, mientras no se llegue a un estado terminal o un estado malo\n",
    "          while terminated!= True and truncated!= True:\n",
    "              # --Aumentar el numero de steps\n",
    "              run_policy_steps += 1\n",
    "\n",
    "              # --Política para ver la acción asociada al estado\n",
    "              # Las observaciones son un de la forma [[s_0,s_1,s_2,s_3]] por eso su tamaño es (1,4)\n",
    "              action, states_oc = Policy.get_model().predict(next_obs)\n",
    "\n",
    "              action=int(action)\n",
    "\n",
    "              # --Muevo al Agente al siguiente estado\n",
    "              next_obs,reward,terminated,truncated,info=env.step(action)\n",
    "\n",
    "              # --Actualización de variables\n",
    "              actions.append(action) # A_i-1\n",
    "              rewards.append(reward) # R_i-1\n",
    "\n",
    "              # --Si llegamos a un estado final, el juego ha finalizado!!!\n",
    "              # --Se configura el tablero de nuevo\n",
    "              if terminated== True or truncated==True:\n",
    "                  obs = env.reset()\n",
    "                  reward = -1\n",
    "                  break\n",
    "              else:\n",
    "                  observations.append(next_obs) # O_i\n",
    "                  self.obs = next_obs\n",
    "\n",
    "          # Ver si el episodio ha obtendo una recompensa total igual o superior a 195\n",
    "          if sum(rewards) >= 195:\n",
    "              success_num += 1\n",
    "              if success_num >= 100:\n",
    "                  break\n",
    "          else:\n",
    "              success_num = 0\n",
    "\n",
    "\n",
    "      observations = np.reshape(observations, newshape=[-1] + list(ob_space.shape))\n",
    "      actions = np.array(actions).astype(dtype=np.int32)\n",
    "\n",
    "\n",
    "      return observations, actions, rewards, Old_Policy, Policy"
   ]
  },
  {
   "cell_type": "code",
   "execution_count": 15,
   "metadata": {},
   "outputs": [],
   "source": [
    "##########################################################################################################\n",
    "# Clase PPOTrain\n",
    "##########################################################################################################\n",
    "# Tenemos dos politica theta_i y theta_i+1\n",
    "# Almacenamos dos políticas Policy_net(cada una de ella con su PPO) y calculamos el valor gaes a partir de valores gamma, clip_value, c_1, c_2\n",
    "# Realizamos aqui el entrenamiento, cálculo de gradiente y función de pérdida del PPO para después usarlo en el generador de la GAN\n",
    "\n",
    "class PPOTrain:\n",
    "\n",
    "    def __init__(self, Policy, Old_Policy, obs, actions, rewards, gamma=0.95, clip_value=0.2, c_1=1, c_2=0.01):\n",
    "        \"\"\"\n",
    "        arg:\n",
    "            Policy\n",
    "            Old_Policy\n",
    "            gamma\n",
    "            clip_value\n",
    "            c_1 parámetro para la diferencia de valores\n",
    "            c_2 parámetro para el bonus de entropía\n",
    "        \"\"\"\n",
    "        self.Policy = Policy\n",
    "        self.Old_Policy = Old_Policy\n",
    "        self.gamma = gamma\n",
    "        self.obs=obs\n",
    "\n",
    "        self.pi_trainable = self.Policy.get_trainable_variables()\n",
    "        self.old_pi_trainable = self.Old_Policy.get_trainable_variables()\n",
    "\n",
    "\n",
    "        policy_name = \"policy\"\n",
    "        old_policy_name=\"policy\"\n",
    "\n",
    "        policy_dict_ = self.pi_trainable[policy_name]\n",
    "        old_policy_dict_=self.old_pi_trainable[old_policy_name]\n",
    "\n",
    "        self.pi=[]\n",
    "        if policy_name in self.pi_trainable and old_policy_name in self.old_pi_trainable:\n",
    "            for param_name, param_value in policy_dict_.items():\n",
    "                # Elimino los pesos que hay en old_policy\n",
    "                del old_policy_dict_[param_name]\n",
    "                # Introduzco los pesos de old_policy en policy\n",
    "                old_policy_dict_[param_name] = param_value\n",
    "                self.pi.append(param_value)\n",
    "        else:\n",
    "            print(f\"No se encontró la política con el nombre: {policy_name}\")\n",
    "\n",
    "\n",
    "        # Le asignamos old_pi_trainable=pi_trainable ya que ajustaremos unos nuevos pi_trainable\n",
    "\n",
    "\n",
    "        self.actions = actions\n",
    "        self.rewards=rewards\n",
    "        self.v_preds=self.Old_Policy.get_v_preds()\n",
    "        self.v_preds_next=self.Policy.get_v_preds()\n",
    "\n",
    "        #  generative advantage estimator(lambda = 1), ver ppo paper eq(11)\n",
    "        self.gaes =self.get_gaes(self.rewards, self.v_preds, self.v_preds_next)\n",
    "\n",
    "        act_probs =self.Policy.get_action_prob()\n",
    "        act_probs_old =self.Old_Policy.get_action_prob()\n",
    "\n",
    "        # la probabilidad de las acciones del agente cuando toma la actual política\n",
    "        act_probs = act_probs * tf.one_hot(indices=self.actions, depth=act_probs.shape[1])\n",
    "        self.act_probs = tf.reduce_sum(act_probs, axis=1)\n",
    "\n",
    "        # la probabilidad de las acciones del agente cuando toma la antigua política\n",
    "        act_probs_old = act_probs_old * tf.one_hot(indices=self.actions, depth=act_probs_old.shape[1])\n",
    "        self.act_probs_old = tf.reduce_sum(act_probs_old, axis=1)\n",
    "\n",
    "        self.loss=loss_fn_ppo(self.act_probs, self.act_probs_old, self.gaes)\n",
    "\n",
    "        self.optimizer =tf.keras.optimizers.Adam(learning_rate=LEARNING_RATE)\n",
    "\n",
    "    def loss_fn_G(self):\n",
    "        return loss_fn_ppo(self.act_probs, self.act_probs_old, self.gaes)\n",
    "\n",
    "    def get_pi_trainable(self):\n",
    "        return self.pi\n",
    "\n",
    "    def get_optimizer(self):\n",
    "        return self.optimizer\n",
    "\n",
    "    def get_OldPolicy(self):\n",
    "        return self.Old_Policy\n",
    "\n",
    "    def get_Policy(self):\n",
    "        return self.Policy\n",
    "\n",
    "    def get_gaes(self, rewards, v_preds, v_preds_next):\n",
    "        deltas = [r_t + self.gamma * v_next - v for r_t, v_next, v in zip(rewards, v_preds_next, v_preds)]\n",
    "        # calcular la estimación generative advantage (lambda = 1), ver ppo paper eq(11)\n",
    "        gaes = copy.deepcopy(deltas)\n",
    "        for t in reversed(range(len(gaes) - 1)):  # es T-1, donde T es timestep con el que se ejecuta la política\n",
    "            gaes[t] = gaes[t] + self.gamma * gaes[t + 1]\n",
    "        return gaes"
   ]
  },
  {
   "cell_type": "markdown",
   "metadata": {},
   "source": [
    "# GAIL"
   ]
  },
  {
   "cell_type": "code",
   "execution_count": 16,
   "metadata": {},
   "outputs": [],
   "source": [
    "####################################################################################################################\n",
    "# CLASE GAIL\n",
    "####################################################################################################################\n",
    "class GAN(keras.Model):\n",
    "    # Constructor\n",
    "    def __init__(self, discriminator, generator):\n",
    "        super().__init__()\n",
    "        self.discriminator = discriminator\n",
    "        self.generator=generator\n",
    "        self.i=0\n",
    "        self.d_loss_metric = keras.metrics.Mean(name=\"d_loss\")\n",
    "        self.g_loss_metric = keras.metrics.Mean(name=\"g_loss\")\n",
    "\n",
    "    # Compila el modelo GAN inicializando los optimizadores y la función de pérdida del modelo GAN\n",
    "    def compile(self,d_optimizer, loss_fn_D ):\n",
    "        super(GAN, self).compile(run_eagerly=True)\n",
    "        self.d_optimizer = d_optimizer\n",
    "        self.loss_fn_D=  loss_fn_D\n",
    "\n",
    "    # Devuelve las métricas obtenidas con el generador y discriminador\n",
    "    @property\n",
    "    def metrics(self):\n",
    "        return [self.d_loss_metric,self.g_loss_metric]\n",
    "\n",
    "    # Evaluación del Discriminador\n",
    "    def evaluate_D(self, X_test):\n",
    "        len_real = X_test.shape[0]\n",
    "\n",
    "        generate_observations, generate_actions, rewards, Old_Policy, Policy=self.generator.generate_fakes()\n",
    "\n",
    "        generate_a_one_hot=np.eye(env.action_space.n)[generate_actions]\n",
    "\n",
    "        dataset_gen=np.concatenate([generate_observations,generate_a_one_hot],axis=1)\n",
    "\n",
    "\n",
    "        len_fakes=dataset_gen.shape[0]\n",
    "\n",
    "        # Compilamos el discriminador como CNN\n",
    "        self.discriminator.discriminator_net.compile(optimizer=self.d_optimizer, loss=self.loss_fn_D, metrics=['accuracy'])\n",
    "\n",
    "        # Evaluamos como CNN\n",
    "        loss_real, acc_real=self.discriminator.discriminator_net.evaluate(X_test, tf.ones((len_real,1)), batch_size=len_real, verbose=1)\n",
    "\n",
    "        loss_fake, acc_fake=self.discriminator.discriminator_net.evaluate(dataset_gen,tf.ones((len_fakes,1)), batch_size=len_fakes, verbose=1)\n",
    "\n",
    "        print('>Loss real: ')\n",
    "        print(loss_real)\n",
    "        print('>Loss fake: ')\n",
    "        print(loss_fake)\n",
    "\n",
    "\n",
    "    # Evaluación del generador\n",
    "    def evaluate_G(self):\n",
    "        # Definimos el entorno\n",
    "        env= gym.make('LunarLander-v2')\n",
    "\n",
    "        # Lista donde amacenaremos la recompensa acumulada de cada episodio.\n",
    "        # NUESTRO OBJETIVO: Agente aprenda a tomar las acciones que maximicen la recompensa\n",
    "        rewards=[]\n",
    "\n",
    "        # Para cada episodio, el Agente se mueve por el Entorno mediante acciones hasta llegar a un estado final\n",
    "        # siguiendo la política que se ha aprendido en el entrenamiento de la GAN\n",
    "        for episode in range(EPISODES_EVALUATE_G):\n",
    "            truncated=False\n",
    "            terminated=False\n",
    "            R=0.0\n",
    "            reward=0.0\n",
    "\n",
    "            # Estado inicial del juego\n",
    "            obs,_=env.reset()\n",
    "\n",
    "            #Interactuamos con el Entorno hasta que lleguemos a un estado final\n",
    "            while terminated!= True and truncated!=True:\n",
    "                action, _=self.generator.get_model().predict(obs)\n",
    "                obs,reward,terminated,truncated, info=env.step(int(action))\n",
    "\n",
    "                # Incremento la recompensa del episodio i al haber ejecutado el step\n",
    "                R+=reward\n",
    "\n",
    "            rewards.append(R)\n",
    "\n",
    "            # Vemos para el episodio, su recompensa acumulada que es lo que se trata de maximizar\n",
    "            print(\"Episode  {} Total reward: {}\".format(episode,R))\n",
    "\n",
    "        # Cierro el entorno\n",
    "        env.close()\n",
    "\n",
    "        # Muestro las recompensas obtenidas en cada episodio\n",
    "        indices = range(0, EPISODES_EVALUATE_G)\n",
    "        plt.plot(indices,rewards)\n",
    "        plt.show()\n",
    "\n",
    "        return np.mean(rewards)\n",
    "\n",
    "    def train_step(self, X_train):\n",
    "\n",
    "\n",
    "        # 1) Generamos secuencias falsas [s,a]\n",
    "        generate_observations, generate_actions, rewards, Old_Policy, Policy=self.generator.generate_fakes()\n",
    "\n",
    "        generate_a_one_hot=np.eye(env.action_space.n)[generate_actions]\n",
    "\n",
    "        if generate_observations.shape[0] == generate_a_one_hot.shape[0]:\n",
    "          dataset_gen = np.concatenate([generate_observations, generate_a_one_hot], axis=1)\n",
    "        else:\n",
    "          generate_a_one_hot_resized = np.resize(generate_a_one_hot, (generate_observations.shape[0],ac_space.n))\n",
    "          dataset_gen = np.concatenate([generate_observations, generate_a_one_hot_resized], axis=1)\n",
    "\n",
    "        # 2) Seleccionamos la muestra de datos generador con la que vamos a trabajar en este  batch de entrenamiento  \n",
    "        random_indices = np.random.choice(len(dataset_gen), size=min(BATCH_SIZE,len(dataset_gen)), replace=False)\n",
    "        dataset_gen= dataset_gen[random_indices]\n",
    "        \n",
    "        # 3) Obtenemos las secuencias reales [s,a] de los datos de entrenamiento y las combinamos\n",
    "        combined_images = tf.concat([X_train, dataset_gen], axis=0)\n",
    "\n",
    "        # 4) Las etiquetas de las imagenes combinadas las tenemos que crear nosotros introduciendo algo de ruido con tf.random.uniform\n",
    "        labels = tf.concat([tf.ones((BATCH_SIZE, 1)), tf.zeros((BATCH_SIZE, 1))], axis=0)\n",
    "        labels += 0.05 * tf.random.uniform(tf.shape(labels))\n",
    "\n",
    "\n",
    "        ##############################################################################################################################################################\n",
    "        # PASO 1:  ENTRENAMIENTO DEL DISCRIMINADOR\n",
    "        #############################################################################################################################################################\n",
    "\n",
    "\n",
    "        # Entrenamiento del discriminador con las [s,a, s', r] del agente(falsas o sintéticas) y del experto (reales) combinadas, esto es,\n",
    "        # le pasamos un conjunto que tiene tanto secuencias reales como secuencias sintéticas\n",
    "        with tf.GradientTape() as tape:\n",
    "            predictions=np.zeros((2*BATCH_SIZE,6))\n",
    "            # Predicciones obtenidas con el discriminador\n",
    "            predictions = self.discriminator.discriminator_net(combined_images)\n",
    "            # Valor de la función de pérdida al comparar las predicciones con las etiquetas reales\n",
    "            d_loss = self.loss_fn_D(labels, predictions)\n",
    "\n",
    "        # Calculo del gradiente y actualización del gradiente\n",
    "        grads = tape.gradient(d_loss, self.discriminator.getNet().trainable_weights)\n",
    "\n",
    "        self.d_optimizer.apply_gradients(\n",
    "          zip(grads, self.discriminator.getNet().trainable_weights)\n",
    "        )\n",
    "\n",
    "\n",
    "        ################################################################################################################################################################\n",
    "        # PASO 2: ENTRENAMIENTO DEL GENERADOR=POLÍTICA\n",
    "        ###############################################################################################################################################################\n",
    "\n",
    "\n",
    "        ppotrain=PPOTrain(Policy,Old_Policy,actions=generate_actions,rewards=rewards, obs=generate_observations[0])\n",
    "\n",
    "\n",
    "        with tf.GradientTape() as tape:\n",
    "            g_loss = ppotrain.loss_fn_G()\n",
    "\n",
    "\n",
    "        g_loss = tf.cast(g_loss, dtype=tf.float32)\n",
    "\n",
    "\n",
    "        ############################################################################################################################################################\n",
    "\n",
    "        # Actualización de métricas del discriminador y generador\n",
    "        self.d_loss_metric.update_state(d_loss)\n",
    "        self.g_loss_metric.update_state(g_loss)\n",
    "        print(\"\\n\")\n",
    "        print(\"\\nd_loss=\",d_loss.numpy())\n",
    "        print(\"\\ng_loss=\",g_loss.numpy())\n",
    "\n",
    "\n",
    "        return {\"d_loss\": self.d_loss_metric.result(),\n",
    "                    \"g_loss\": self.g_loss_metric.result()}\n",
    "\n",
    "\n"
   ]
  },
  {
   "cell_type": "markdown",
   "metadata": {},
   "source": [
    "# Experimentación de GAIL con LunarLander"
   ]
  },
  {
   "cell_type": "markdown",
   "metadata": {},
   "source": [
    "## Experimento 1"
   ]
  },
  {
   "cell_type": "code",
   "execution_count": 17,
   "metadata": {},
   "outputs": [
    {
     "name": "stdout",
     "output_type": "stream",
     "text": [
      "\n",
      "\tEstados reales: \n",
      " [[-0.00655632  1.412633   -0.6640952  ...  0.15042743  0.\n",
      "   0.        ]\n",
      " [-0.01301994  1.4137701  -0.65149987 ...  0.1017526   0.\n",
      "   0.        ]\n",
      " [-0.01941118  1.414314   -0.6424104  ...  0.06514421  0.\n",
      "   0.        ]\n",
      " ...\n",
      " [-0.46665245 -0.0082029   0.03071342 ...  0.67170596  1.\n",
      "   1.        ]\n",
      " [-0.4661541  -0.01350838  0.02066027 ...  0.635882    1.\n",
      "   1.        ]\n",
      " [-0.46567154 -0.01838761  0.02184356 ...  0.58443296  1.\n",
      "   1.        ]]\n",
      "\tAcciones reales: \n",
      " [3 3 3 ... 0 3 3]\n"
     ]
    }
   ],
   "source": [
    "expert_observations = np.genfromtxt(\"observations_LunarLander.csv\",delimiter=\"\\t\",dtype=str)\n",
    "expert_actions = np.genfromtxt('actions_LunarLander.csv', dtype=np.int32)\n",
    "expert_num_tray=np.genfromtxt('n_trayectoria_LunarLander.csv', dtype=np.int32)\n",
    "\n",
    "# Reemplazar las comas\n",
    "expert_observations = np.core.defchararray.replace(expert_observations, ',', ' ')\n",
    "\n",
    "# Crear un nuevo array para almacenar los datos convertidos\n",
    "converted_observations = np.genfromtxt(expert_observations, delimiter=' ', dtype=float)\n",
    "\n",
    "print(\"\\n\\tEstados reales: \\n\", converted_observations)\n",
    "print(\"\\tAcciones reales: \\n\", expert_actions)"
   ]
  },
  {
   "cell_type": "code",
   "execution_count": 18,
   "metadata": {},
   "outputs": [
    {
     "name": "stdout",
     "output_type": "stream",
     "text": [
      "547\n"
     ]
    }
   ],
   "source": [
    "longitud_trayectoria = np.count_nonzero(expert_num_tray == 0)\n",
    "print(longitud_trayectoria)"
   ]
  },
  {
   "cell_type": "code",
   "execution_count": 19,
   "metadata": {},
   "outputs": [],
   "source": [
    "converted_observations=converted_observations[0:longitud_trayectoria]\n",
    "expert_actions=expert_actions[0:longitud_trayectoria]"
   ]
  },
  {
   "cell_type": "code",
   "execution_count": 20,
   "metadata": {},
   "outputs": [
    {
     "name": "stdout",
     "output_type": "stream",
     "text": [
      "[[-6.5563200e-03  1.4126330e+00 -6.6409520e-01 ...  0.0000000e+00\n",
      "   0.0000000e+00  1.0000000e+00]\n",
      " [-1.3019944e-02  1.4137701e+00 -6.5149987e-01 ...  0.0000000e+00\n",
      "   0.0000000e+00  1.0000000e+00]\n",
      " [-1.9411182e-02  1.4143140e+00 -6.4241040e-01 ...  0.0000000e+00\n",
      "   0.0000000e+00  1.0000000e+00]\n",
      " ...\n",
      " [-5.8399280e-01  5.7271480e-04  4.8840553e-02 ...  0.0000000e+00\n",
      "   0.0000000e+00  0.0000000e+00]\n",
      " [-5.8357376e-01 -3.8873695e-03  6.6003695e-02 ...  0.0000000e+00\n",
      "   0.0000000e+00  0.0000000e+00]\n",
      " [-5.8295580e-01 -8.0531975e-03  8.2983880e-02 ...  0.0000000e+00\n",
      "   0.0000000e+00  0.0000000e+00]]\n",
      "Nº de (ESTADOS,ACCIONES) en el conjunto de entrenamiento: 437\n",
      "Nº de (ESTADOS,ACCIONES) en el conjunto de prueba: 110\n"
     ]
    }
   ],
   "source": [
    "# Construimos el dataset [s,a] reales y lo dividimos en training y test\n",
    "expert_a_one_hot=np.eye(env.action_space.n)[expert_actions]\n",
    "\n",
    "dataset=np.concatenate([converted_observations,expert_a_one_hot],axis=1)\n",
    "\n",
    "\n",
    "print(dataset)\n",
    "\n",
    "# Divide los datos en conjuntos de entrenamiento y prueba\n",
    "X_train, X_test = train_test_split(dataset, test_size=0.2, random_state=0)\n",
    "\n",
    "\n",
    "#Imprime el número de elementos en el conjuntos de entrenamiento y prueba\n",
    "print('Nº de (ESTADOS,ACCIONES) en el conjunto de entrenamiento:', len(X_train))\n",
    "print('Nº de (ESTADOS,ACCIONES) en el conjunto de prueba:', len(X_test))"
   ]
  },
  {
   "cell_type": "code",
   "execution_count": 21,
   "metadata": {},
   "outputs": [
    {
     "name": "stderr",
     "output_type": "stream",
     "text": [
      "2024-07-12 17:05:01.781546: I tensorflow/stream_executor/platform/default/dso_loader.cc:49] Successfully opened dynamic library libcublas.so.10\n"
     ]
    }
   ],
   "source": [
    "env= gym.make('LunarLander-v2')\n",
    "obs,_= env.reset()\n",
    "\n",
    "# Generador\n",
    "generator=Policy_net( 'policy', env, obs)\n",
    "\n",
    "# Generamos [s,a, s', r] falsas y las políticas theta_i y theta_i+1\n",
    "observations, actions, rewards, Old_Policy, Policy=generator.generate_fakes()\n",
    "\n",
    "# Discriminador\n",
    "discriminator=Discriminator(env, discriminator_net, converted_observations, expert_actions, observations, actions)"
   ]
  },
  {
   "cell_type": "markdown",
   "metadata": {},
   "source": [
    "### Definición de GAIL"
   ]
  },
  {
   "cell_type": "code",
   "execution_count": 22,
   "metadata": {},
   "outputs": [],
   "source": [
    "gan1=GAN(discriminator=discriminator,generator=generator)"
   ]
  },
  {
   "cell_type": "markdown",
   "metadata": {},
   "source": [
    "### Compilación de GAIL"
   ]
  },
  {
   "cell_type": "code",
   "execution_count": 23,
   "metadata": {},
   "outputs": [],
   "source": [
    "tf.config.run_functions_eagerly(True)\n",
    "gan1.compile(\n",
    "    d_optimizer=tf.keras.optimizers.Adam(learning_rate=LEARNING_RATE),\n",
    "    loss_fn_D=loss_fn_D\n",
    ")"
   ]
  },
  {
   "cell_type": "markdown",
   "metadata": {},
   "source": [
    "### Entrenamiento de GAIL"
   ]
  },
  {
   "cell_type": "code",
   "execution_count": null,
   "metadata": {},
   "outputs": [
    {
     "name": "stderr",
     "output_type": "stream",
     "text": [
      "/home/usuario/miniconda3/envs/luna/lib/python3.9/site-packages/tensorflow/python/data/ops/dataset_ops.py:3503: UserWarning: Even though the tf.config.experimental_run_functions_eagerly option is set, this option does not apply to tf.data functions. tf.data functions are still traced and executed as graphs.\n",
      "  warnings.warn(\n",
      "2024-06-27 17:29:39.438803: I tensorflow/compiler/mlir/mlir_graph_optimization_pass.cc:116] None of the MLIR optimization passes are enabled (registered 2)\n",
      "2024-06-27 17:29:39.440618: I tensorflow/core/platform/profile_utils/cpu_utils.cc:112] CPU Frequency: 2688000000 Hz\n"
     ]
    },
    {
     "name": "stdout",
     "output_type": "stream",
     "text": [
      "\n",
      "\n",
      "\n",
      "d_loss= 2.5869877\n",
      "\n",
      "g_loss= -1.7489645\n",
      "1/4 [======>.......................] - ETA: 43:02 - d_loss: 2.5870 - g_loss: -1.7490\n",
      "\n",
      "\n",
      "d_loss= 2.5900705\n",
      "\n",
      "g_loss= 0.52555335\n",
      "2/4 [==============>...............] - ETA: 24:03 - d_loss: 2.5885 - g_loss: -0.6117\n",
      "\n",
      "\n",
      "d_loss= 2.5642223\n",
      "\n",
      "g_loss= 3.6435153\n",
      "3/4 [=====================>........] - ETA: 11:28 - d_loss: 2.5804 - g_loss: 0.8067 \n",
      "\n",
      "\n",
      "d_loss= 2.607141\n",
      "\n",
      "g_loss= 1.4808834\n",
      "4/4 [==============================] - 2900s 680s/step - d_loss: 2.5871 - g_loss: 0.9752\n"
     ]
    }
   ],
   "source": [
    "# Deshabilitar los mensajes de información de TensorFlow\n",
    "os.environ['TF_CPP_MIN_LOG_LEVEL'] = '3'\n",
    "\n",
    "# Deshabilitar los mensajes de información de OpenAI Gym\n",
    "gym.logger.set_level(40)\n",
    "\n",
    "BATCH_SIZE=140\n",
    "\n",
    "history=gan1.fit(X_train,\n",
    "    epochs=EPOCHS, batch_size=BATCH_SIZE)\n"
   ]
  },
  {
   "cell_type": "markdown",
   "metadata": {},
   "source": [
    "### Evaluación de GAIL"
   ]
  },
  {
   "cell_type": "code",
   "execution_count": null,
   "metadata": {},
   "outputs": [
    {
     "name": "stdout",
     "output_type": "stream",
     "text": [
      "1/1 [==============================] - 0s 57ms/step - loss: 0.6473 - accuracy: 0.0727\n",
      "1/1 [==============================] - 0s 19ms/step - loss: 0.6708 - accuracy: 0.2793\n",
      ">Loss real: \n",
      "0.6473046541213989\n",
      ">Loss fake: \n",
      "0.6707906723022461\n"
     ]
    }
   ],
   "source": [
    "# Evaluamos el Discriminador de GAIL en el TEST\n",
    "gan1.evaluate_D(X_test)\n"
   ]
  },
  {
   "cell_type": "code",
   "execution_count": null,
   "metadata": {},
   "outputs": [
    {
     "name": "stdout",
     "output_type": "stream",
     "text": [
      "Episode  0 Total reward: -303.03492990060806\n",
      "Episode  1 Total reward: -168.20274883198556\n",
      "Episode  2 Total reward: -179.3666313009898\n",
      "Episode  3 Total reward: -46.50638557855475\n",
      "Episode  4 Total reward: 7.513713376916925\n",
      "Episode  5 Total reward: -136.86628345513495\n",
      "Episode  6 Total reward: 92.63721737952575\n",
      "Episode  7 Total reward: 11.082990495718747\n",
      "Episode  8 Total reward: 0.15854956393062025\n",
      "Episode  9 Total reward: -18.34278456052779\n",
      "Episode  10 Total reward: -212.06455805202245\n",
      "Episode  11 Total reward: -235.99362173925113\n",
      "Episode  12 Total reward: -263.2170792909418\n",
      "Episode  13 Total reward: -52.540531212556544\n",
      "Episode  14 Total reward: -123.84125642845201\n",
      "Episode  15 Total reward: -57.73309316897304\n",
      "Episode  16 Total reward: -105.81570415275837\n",
      "Episode  17 Total reward: -33.771759619632746\n",
      "Episode  18 Total reward: 8.498855578062333\n",
      "Episode  19 Total reward: -4.260664747044885\n",
      "Episode  20 Total reward: -227.2405688395984\n",
      "Episode  21 Total reward: -68.5609425619273\n",
      "Episode  22 Total reward: -85.80338245405119\n",
      "Episode  23 Total reward: -259.4749778747381\n",
      "Episode  24 Total reward: -146.97487639234652\n",
      "Episode  25 Total reward: -271.643501516587\n",
      "Episode  26 Total reward: -179.59754697297\n",
      "Episode  27 Total reward: -153.78425272148215\n",
      "Episode  28 Total reward: -132.6040918635813\n",
      "Episode  29 Total reward: 18.94306282547872\n",
      "Episode  30 Total reward: -23.290782201506715\n",
      "Episode  31 Total reward: -12.85091515982235\n",
      "Episode  32 Total reward: 0.3011617977723233\n",
      "Episode  33 Total reward: -130.7355534174813\n",
      "Episode  34 Total reward: -43.26488673703058\n",
      "Episode  35 Total reward: -161.68792261687105\n",
      "Episode  36 Total reward: 17.650243375120155\n",
      "Episode  37 Total reward: -37.51838488104893\n",
      "Episode  38 Total reward: -140.80234145923117\n",
      "Episode  39 Total reward: 23.96162779613023\n",
      "Episode  40 Total reward: -79.80157944200863\n",
      "Episode  41 Total reward: -17.030360137398347\n",
      "Episode  42 Total reward: -67.38506015551837\n",
      "Episode  43 Total reward: -42.01859011173046\n",
      "Episode  44 Total reward: -236.8641479222809\n",
      "Episode  45 Total reward: -17.501559706985034\n",
      "Episode  46 Total reward: 4.0896396070184835\n",
      "Episode  47 Total reward: -241.22794089021883\n",
      "Episode  48 Total reward: -79.46295107329499\n",
      "Episode  49 Total reward: -215.0657769196742\n"
     ]
    },
    {
     "data": {
      "image/png": "[encoded data removed]",
      "text/plain": [
       "<Figure size 640x480 with 1 Axes>"
      ]
     },
     "metadata": {},
     "output_type": "display_data"
    },
    {
     "name": "stdout",
     "output_type": "stream",
     "text": [
      "\n",
      "Recompensa de Media: -96.57827728546286 \n",
      "\n"
     ]
    }
   ],
   "source": [
    "# Evaluamos al Generador \n",
    "rewardMean=gan1.evaluate_G()\n",
    "print('\\nRecompensa de Media:', rewardMean, '\\n')"
   ]
  },
  {
   "cell_type": "markdown",
   "metadata": {},
   "source": [
    "## Experimento 2"
   ]
  },
  {
   "cell_type": "code",
   "execution_count": 27,
   "metadata": {},
   "outputs": [
    {
     "name": "stdout",
     "output_type": "stream",
     "text": [
      "\n",
      "\tEstados reales: \n",
      " [[-0.00655632  1.412633   -0.6640952  ...  0.15042743  0.\n",
      "   0.        ]\n",
      " [-0.01301994  1.4137701  -0.65149987 ...  0.1017526   0.\n",
      "   0.        ]\n",
      " [-0.01941118  1.414314   -0.6424104  ...  0.06514421  0.\n",
      "   0.        ]\n",
      " ...\n",
      " [-0.46665245 -0.0082029   0.03071342 ...  0.67170596  1.\n",
      "   1.        ]\n",
      " [-0.4661541  -0.01350838  0.02066027 ...  0.635882    1.\n",
      "   1.        ]\n",
      " [-0.46567154 -0.01838761  0.02184356 ...  0.58443296  1.\n",
      "   1.        ]]\n",
      "\tAcciones reales: \n",
      " [3 3 3 ... 0 3 3]\n"
     ]
    }
   ],
   "source": [
    "expert_observations = np.genfromtxt(\"observations_LunarLander.csv\",delimiter=\"\\t\",dtype=str)\n",
    "expert_actions = np.genfromtxt('actions_LunarLander.csv', dtype=np.int32)\n",
    "expert_num_tray=np.genfromtxt('n_trayectoria_LunarLander.csv', dtype=np.int32)\n",
    "\n",
    "# Reemplazar las comas\n",
    "expert_observations = np.core.defchararray.replace(expert_observations, ',', ' ')\n",
    "\n",
    "# Crear un nuevo array para almacenar los datos convertidos\n",
    "converted_observations = np.genfromtxt(expert_observations, delimiter=' ', dtype=float)\n",
    "\n",
    "print(\"\\n\\tEstados reales: \\n\", converted_observations)\n",
    "print(\"\\tAcciones reales: \\n\", expert_actions)"
   ]
  },
  {
   "cell_type": "code",
   "execution_count": 28,
   "metadata": {},
   "outputs": [
    {
     "name": "stdout",
     "output_type": "stream",
     "text": [
      "1127\n"
     ]
    }
   ],
   "source": [
    "longitud_trayectoria += np.count_nonzero(expert_num_tray == 1)\n",
    "print(longitud_trayectoria)"
   ]
  },
  {
   "cell_type": "code",
   "execution_count": 29,
   "metadata": {},
   "outputs": [],
   "source": [
    "converted_observations=converted_observations[0:longitud_trayectoria]\n",
    "expert_actions=expert_actions[0:longitud_trayectoria]"
   ]
  },
  {
   "cell_type": "code",
   "execution_count": 30,
   "metadata": {},
   "outputs": [
    {
     "name": "stdout",
     "output_type": "stream",
     "text": [
      "[[-6.5563200e-03  1.4126330e+00 -6.6409520e-01 ...  0.0000000e+00\n",
      "   0.0000000e+00  1.0000000e+00]\n",
      " [-1.3019944e-02  1.4137701e+00 -6.5149987e-01 ...  0.0000000e+00\n",
      "   0.0000000e+00  1.0000000e+00]\n",
      " [-1.9411182e-02  1.4143140e+00 -6.4241040e-01 ...  0.0000000e+00\n",
      "   0.0000000e+00  1.0000000e+00]\n",
      " ...\n",
      " [ 5.7585880e-01 -1.8368971e-01 -2.2056554e-08 ...  0.0000000e+00\n",
      "   0.0000000e+00  0.0000000e+00]\n",
      " [ 5.7585880e-01 -1.8368971e-01 -3.6117143e-08 ...  0.0000000e+00\n",
      "   0.0000000e+00  0.0000000e+00]\n",
      " [ 5.7585880e-01 -1.8368971e-01 -4.6132280e-08 ...  0.0000000e+00\n",
      "   0.0000000e+00  0.0000000e+00]]\n",
      "Nº de (ESTADOS,ACCIONES) en el conjunto de entrenamiento: 901\n",
      "Nº de (ESTADOS,ACCIONES) en el conjunto de prueba: 226\n"
     ]
    }
   ],
   "source": [
    "# Construimos el dataset [s,a] reales y lo dividimos en training y test\n",
    "expert_a_one_hot=np.eye(env.action_space.n)[expert_actions]\n",
    "\n",
    "dataset=np.concatenate([converted_observations,expert_a_one_hot],axis=1)\n",
    "\n",
    "\n",
    "print(dataset)\n",
    "\n",
    "# Divide los datos en conjuntos de entrenamiento y prueba\n",
    "X_train, X_test = train_test_split(dataset, test_size=0.2, random_state=0)\n",
    "\n",
    "\n",
    "#Imprime el número de elementos en el conjuntos de entrenamiento y prueba\n",
    "print('Nº de (ESTADOS,ACCIONES) en el conjunto de entrenamiento:', len(X_train))\n",
    "print('Nº de (ESTADOS,ACCIONES) en el conjunto de prueba:', len(X_test))"
   ]
  },
  {
   "cell_type": "code",
   "execution_count": 31,
   "metadata": {},
   "outputs": [],
   "source": [
    "env= gym.make('LunarLander-v2')\n",
    "obs,_= env.reset()\n",
    "\n",
    "# Generador\n",
    "generator=Policy_net( 'policy', env, obs)\n",
    "\n",
    "# Generamos [s,a, s', r] falsas y las políticas theta_i y theta_i+1\n",
    "observations, actions, rewards, Old_Policy, Policy=generator.generate_fakes()\n",
    "\n",
    "# Discriminador\n",
    "discriminator=Discriminator(env, discriminator_net, converted_observations, expert_actions, observations, actions)"
   ]
  },
  {
   "cell_type": "markdown",
   "metadata": {},
   "source": [
    "### Definición de GAIL"
   ]
  },
  {
   "cell_type": "code",
   "execution_count": 32,
   "metadata": {},
   "outputs": [],
   "source": [
    "gan2=GAN(discriminator=discriminator,generator=generator)"
   ]
  },
  {
   "cell_type": "markdown",
   "metadata": {},
   "source": [
    "### Compilación de GAIL"
   ]
  },
  {
   "cell_type": "code",
   "execution_count": 33,
   "metadata": {},
   "outputs": [],
   "source": [
    "tf.config.run_functions_eagerly(True)\n",
    "gan2.compile(\n",
    "    d_optimizer=tf.keras.optimizers.Adam(learning_rate=LEARNING_RATE),\n",
    "    loss_fn_D=loss_fn_D\n",
    ")"
   ]
  },
  {
   "cell_type": "markdown",
   "metadata": {},
   "source": [
    "### Entrenamiento de GAIL"
   ]
  },
  {
   "cell_type": "code",
   "execution_count": null,
   "metadata": {},
   "outputs": [
    {
     "name": "stdout",
     "output_type": "stream",
     "text": [
      "\n",
      "\n",
      "\n",
      "d_loss= 2.604107\n",
      "\n",
      "g_loss= 1.6006018\n",
      "1/7 [===>..........................] - ETA: 1:05:49 - d_loss: 2.6041 - g_loss: 1.6006\n",
      "\n",
      "\n",
      "d_loss= 2.559779\n",
      "\n",
      "g_loss= -2.7332942\n",
      "2/7 [=======>......................] - ETA: 54:48 - d_loss: 2.5819 - g_loss: -0.5663 \n",
      "\n",
      "\n",
      "d_loss= 2.5663247\n",
      "\n",
      "g_loss= 1.5805186\n",
      "3/7 [===========>..................] - ETA: 43:50 - d_loss: 2.5767 - g_loss: 0.1493 \n",
      "\n",
      "\n",
      "d_loss= 2.5866117\n",
      "\n",
      "g_loss= 1.9192059\n",
      "4/7 [================>.............] - ETA: 32:57 - d_loss: 2.5792 - g_loss: 0.5918\n",
      "\n",
      "\n",
      "d_loss= 2.5854042\n",
      "\n",
      "g_loss= 0.6082139\n",
      "5/7 [====================>.........] - ETA: 21:59 - d_loss: 2.5804 - g_loss: 0.5950\n",
      "\n",
      "\n",
      "d_loss= 2.5499654\n",
      "\n",
      "g_loss= 2.6718738\n",
      "6/7 [========================>.....] - ETA: 10:59 - d_loss: 2.5754 - g_loss: 0.9412\n",
      "\n",
      "\n",
      "d_loss= 2.541269\n",
      "\n",
      "g_loss= -3.822152\n",
      "7/7 [==============================] - 4616s 660s/step - d_loss: 2.5705 - g_loss: 0.2607\n"
     ]
    }
   ],
   "source": [
    "# Deshabilitar los mensajes de información de TensorFlow\n",
    "os.environ['TF_CPP_MIN_LOG_LEVEL'] = '3'\n",
    "\n",
    "# Deshabilitar los mensajes de información de OpenAI Gym\n",
    "gym.logger.set_level(40)\n",
    "\n",
    "BATCH_SIZE=140 \n",
    "\n",
    "history=gan2.fit(X_train,\n",
    "    epochs=EPOCHS, batch_size=BATCH_SIZE)\n"
   ]
  },
  {
   "cell_type": "markdown",
   "metadata": {},
   "source": [
    "### Evaluación de GAIL"
   ]
  },
  {
   "cell_type": "code",
   "execution_count": null,
   "metadata": {},
   "outputs": [
    {
     "name": "stdout",
     "output_type": "stream",
     "text": [
      "1/1 [==============================] - 0s 19ms/step - loss: 0.6281 - accuracy: 0.0044\n",
      "1/1 [==============================] - 0s 18ms/step - loss: 0.6427 - accuracy: 0.0460\n",
      ">Loss real: \n",
      "0.6281254887580872\n",
      ">Loss fake: \n",
      "0.6427103281021118\n"
     ]
    }
   ],
   "source": [
    "# Evaluamos el Discriminador de GAIL en el TEST\n",
    "gan2.evaluate_D(X_test)\n"
   ]
  },
  {
   "cell_type": "code",
   "execution_count": null,
   "metadata": {},
   "outputs": [
    {
     "name": "stdout",
     "output_type": "stream",
     "text": [
      "Episode  0 Total reward: -47.25210251823657\n",
      "Episode  1 Total reward: -204.72213546560835\n",
      "Episode  2 Total reward: 82.81588684362062\n",
      "Episode  3 Total reward: -103.40654121304466\n",
      "Episode  4 Total reward: 65.39174037662697\n",
      "Episode  5 Total reward: -209.14573608762905\n",
      "Episode  6 Total reward: -43.935913827620524\n",
      "Episode  7 Total reward: 120.45478910979153\n",
      "Episode  8 Total reward: -63.833853269447175\n",
      "Episode  9 Total reward: -24.907417082563583\n",
      "Episode  10 Total reward: -4.134985556938093\n",
      "Episode  11 Total reward: 45.72158619166423\n",
      "Episode  12 Total reward: -86.64157478852984\n",
      "Episode  13 Total reward: -66.5651842822478\n",
      "Episode  14 Total reward: -115.23042087964134\n",
      "Episode  15 Total reward: 33.539963352721884\n",
      "Episode  16 Total reward: -117.32464000540905\n",
      "Episode  17 Total reward: -57.07664935140778\n",
      "Episode  18 Total reward: 9.293299678076195\n",
      "Episode  19 Total reward: -98.00023557363355\n",
      "Episode  20 Total reward: 55.49245671494538\n",
      "Episode  21 Total reward: 103.13735933320339\n",
      "Episode  22 Total reward: -129.3383366778604\n",
      "Episode  23 Total reward: -11.089979840922211\n",
      "Episode  24 Total reward: -63.236492288722324\n",
      "Episode  25 Total reward: -151.6695641817057\n",
      "Episode  26 Total reward: -100.1011080058968\n",
      "Episode  27 Total reward: -250.30838200464237\n",
      "Episode  28 Total reward: -164.97215140345992\n",
      "Episode  29 Total reward: -93.74570517302796\n",
      "Episode  30 Total reward: -70.61716116782868\n",
      "Episode  31 Total reward: -77.71645794790025\n",
      "Episode  32 Total reward: -44.84978975525647\n",
      "Episode  33 Total reward: 18.690429936734233\n",
      "Episode  34 Total reward: -157.9436733187797\n",
      "Episode  35 Total reward: -214.26194048558557\n",
      "Episode  36 Total reward: -19.86281998780258\n",
      "Episode  37 Total reward: -229.43226389974524\n",
      "Episode  38 Total reward: -24.414157317627044\n",
      "Episode  39 Total reward: -72.25067067208391\n",
      "Episode  40 Total reward: -34.19461977313851\n",
      "Episode  41 Total reward: -167.99330628424002\n",
      "Episode  42 Total reward: -17.52288852570031\n",
      "Episode  43 Total reward: 4.920954609691421\n",
      "Episode  44 Total reward: -11.65568214497334\n",
      "Episode  45 Total reward: -93.17249872431145\n",
      "Episode  46 Total reward: -175.61459283538764\n",
      "Episode  47 Total reward: -18.95768192311202\n",
      "Episode  48 Total reward: 1.9657281148670762\n",
      "Episode  49 Total reward: -183.52543045315485\n"
     ]
    },
    {
     "data": {
      "image/png": "[encoded data removed]",
      "text/plain": [
       "<Figure size 640x480 with 1 Axes>"
      ]
     },
     "metadata": {},
     "output_type": "display_data"
    },
    {
     "name": "stdout",
     "output_type": "stream",
     "text": [
      "\n",
      "Recompensa de Media: -65.5840110086576 \n",
      "\n"
     ]
    }
   ],
   "source": [
    "# Evaluamos al Generador \n",
    "rewardMean=gan2.evaluate_G()\n",
    "print('\\nRecompensa de Media:', rewardMean, '\\n')"
   ]
  },
  {
   "cell_type": "markdown",
   "metadata": {},
   "source": [
    "## Experimento 3"
   ]
  },
  {
   "cell_type": "code",
   "execution_count": 37,
   "metadata": {},
   "outputs": [
    {
     "name": "stdout",
     "output_type": "stream",
     "text": [
      "\n",
      "\tEstados reales: \n",
      " [[-0.00655632  1.412633   -0.6640952  ...  0.15042743  0.\n",
      "   0.        ]\n",
      " [-0.01301994  1.4137701  -0.65149987 ...  0.1017526   0.\n",
      "   0.        ]\n",
      " [-0.01941118  1.414314   -0.6424104  ...  0.06514421  0.\n",
      "   0.        ]\n",
      " ...\n",
      " [-0.46665245 -0.0082029   0.03071342 ...  0.67170596  1.\n",
      "   1.        ]\n",
      " [-0.4661541  -0.01350838  0.02066027 ...  0.635882    1.\n",
      "   1.        ]\n",
      " [-0.46567154 -0.01838761  0.02184356 ...  0.58443296  1.\n",
      "   1.        ]]\n",
      "\tAcciones reales: \n",
      " [3 3 3 ... 0 3 3]\n"
     ]
    }
   ],
   "source": [
    "expert_observations = np.genfromtxt(\"observations_LunarLander.csv\",delimiter=\"\\t\",dtype=str)\n",
    "expert_actions = np.genfromtxt('actions_LunarLander.csv', dtype=np.int32)\n",
    "expert_num_tray=np.genfromtxt('n_trayectoria_LunarLander.csv', dtype=np.int32)\n",
    "\n",
    "# Reemplazar las comas\n",
    "expert_observations = np.core.defchararray.replace(expert_observations, ',', ' ')\n",
    "\n",
    "# Crear un nuevo array para almacenar los datos convertidos\n",
    "converted_observations = np.genfromtxt(expert_observations, delimiter=' ', dtype=float)\n",
    "\n",
    "print(\"\\n\\tEstados reales: \\n\", converted_observations)\n",
    "print(\"\\tAcciones reales: \\n\", expert_actions)"
   ]
  },
  {
   "cell_type": "code",
   "execution_count": 38,
   "metadata": {},
   "outputs": [
    {
     "name": "stdout",
     "output_type": "stream",
     "text": [
      "1572\n"
     ]
    }
   ],
   "source": [
    "longitud_trayectoria += np.count_nonzero(expert_num_tray == 2)\n",
    "print(longitud_trayectoria)"
   ]
  },
  {
   "cell_type": "code",
   "execution_count": 39,
   "metadata": {},
   "outputs": [],
   "source": [
    "converted_observations=converted_observations[0:longitud_trayectoria]\n",
    "expert_actions=expert_actions[0:longitud_trayectoria]"
   ]
  },
  {
   "cell_type": "code",
   "execution_count": 40,
   "metadata": {},
   "outputs": [
    {
     "name": "stdout",
     "output_type": "stream",
     "text": [
      "[[-0.00655632  1.412633   -0.6640952  ...  0.          0.\n",
      "   1.        ]\n",
      " [-0.01301994  1.4137701  -0.65149987 ...  0.          0.\n",
      "   1.        ]\n",
      " [-0.01941118  1.414314   -0.6424104  ...  0.          0.\n",
      "   1.        ]\n",
      " ...\n",
      " [ 0.4179185   0.11636597 -0.10107721 ...  0.          1.\n",
      "   0.        ]\n",
      " [ 0.41688195  0.11385406 -0.10168035 ...  0.          1.\n",
      "   0.        ]\n",
      " [ 0.41580305  0.11141074 -0.10570452 ...  0.          1.\n",
      "   0.        ]]\n",
      "Nº de (ESTADOS,ACCIONES) en el conjunto de entrenamiento: 1257\n",
      "Nº de (ESTADOS,ACCIONES) en el conjunto de prueba: 315\n"
     ]
    }
   ],
   "source": [
    "# Construimos el dataset [s,a] reales y lo dividimos en training y test\n",
    "expert_a_one_hot=np.eye(env.action_space.n)[expert_actions]\n",
    "\n",
    "dataset=np.concatenate([converted_observations,expert_a_one_hot],axis=1)\n",
    "\n",
    "\n",
    "print(dataset)\n",
    "\n",
    "# Divide los datos en conjuntos de entrenamiento y prueba\n",
    "X_train, X_test = train_test_split(dataset, test_size=0.2, random_state=0)\n",
    "\n",
    "\n",
    "#Imprime el número de elementos en el conjuntos de entrenamiento y prueba\n",
    "print('Nº de (ESTADOS,ACCIONES) en el conjunto de entrenamiento:', len(X_train))\n",
    "print('Nº de (ESTADOS,ACCIONES) en el conjunto de prueba:', len(X_test))"
   ]
  },
  {
   "cell_type": "code",
   "execution_count": 41,
   "metadata": {},
   "outputs": [],
   "source": [
    "env= gym.make('LunarLander-v2')\n",
    "obs,_= env.reset()\n",
    "\n",
    "# Generador\n",
    "generator=Policy_net( 'policy', env, obs)\n",
    "\n",
    "# Generamos [s,a, s', r] falsas y las políticas theta_i y theta_i+1\n",
    "observations, actions, rewards, Old_Policy, Policy=generator.generate_fakes()\n",
    "\n",
    "# Discriminador\n",
    "discriminator=Discriminator(env, discriminator_net, converted_observations, expert_actions, observations, actions)"
   ]
  },
  {
   "cell_type": "markdown",
   "metadata": {},
   "source": [
    "### Definición de GAIL"
   ]
  },
  {
   "cell_type": "code",
   "execution_count": 42,
   "metadata": {},
   "outputs": [],
   "source": [
    "gan3=GAN(discriminator=discriminator,generator=generator)"
   ]
  },
  {
   "cell_type": "markdown",
   "metadata": {},
   "source": [
    "### Compilación de GAIL"
   ]
  },
  {
   "cell_type": "code",
   "execution_count": 43,
   "metadata": {},
   "outputs": [],
   "source": [
    "tf.config.run_functions_eagerly(True)\n",
    "gan3.compile(\n",
    "    d_optimizer=tf.keras.optimizers.Adam(learning_rate=LEARNING_RATE),\n",
    "    loss_fn_D=loss_fn_D\n",
    ")"
   ]
  },
  {
   "cell_type": "markdown",
   "metadata": {},
   "source": [
    "### Entrenamiento de GAIL"
   ]
  },
  {
   "cell_type": "code",
   "execution_count": null,
   "metadata": {},
   "outputs": [
    {
     "name": "stdout",
     "output_type": "stream",
     "text": [
      "\n",
      "\n",
      "\n",
      "d_loss= 2.5267668\n",
      "\n",
      "g_loss= -0.87284565\n",
      "1/9 [==>...........................] - ETA: 1:27:38 - d_loss: 2.5268 - g_loss: -0.8728\n",
      "\n",
      "\n",
      "d_loss= 2.553796\n",
      "\n",
      "g_loss= 1.3850619\n",
      "2/9 [=====>........................] - ETA: 1:16:12 - d_loss: 2.5403 - g_loss: 0.2561 \n",
      "\n",
      "\n",
      "d_loss= 2.5088708\n",
      "\n",
      "g_loss= -3.0662274\n",
      "3/9 [=========>....................] - ETA: 1:05:32 - d_loss: 2.5298 - g_loss: -0.8513\n",
      "\n",
      "\n",
      "d_loss= 2.5280404\n",
      "\n",
      "g_loss= -1.6360327\n",
      "4/9 [============>.................] - ETA: 54:43 - d_loss: 2.5294 - g_loss: -1.0475  \n",
      "\n",
      "\n",
      "d_loss= 2.4858227\n",
      "\n",
      "g_loss= -3.5558338\n",
      "5/9 [===============>..............] - ETA: 43:47 - d_loss: 2.5207 - g_loss: -1.5492\n",
      "\n",
      "\n",
      "d_loss= 2.482568\n",
      "\n",
      "g_loss= -0.342203\n",
      "6/9 [===================>..........] - ETA: 32:51 - d_loss: 2.5143 - g_loss: -1.3480\n",
      "\n",
      "\n",
      "d_loss= 2.4920928\n",
      "\n",
      "g_loss= -3.0979366\n",
      "7/9 [======================>.......] - ETA: 21:55 - d_loss: 2.5111 - g_loss: -1.5980\n",
      "\n",
      "\n",
      "d_loss= 2.4426517\n",
      "\n",
      "g_loss= -2.161507\n",
      "8/9 [=========================>....] - ETA: 10:58 - d_loss: 2.5026 - g_loss: -1.6684\n",
      "\n",
      "\n",
      "d_loss= 2.5051637\n",
      "\n",
      "g_loss= 2.3262691\n",
      "9/9 [==============================] - 5923s 658s/step - d_loss: 2.5029 - g_loss: -1.2246\n"
     ]
    }
   ],
   "source": [
    "# Deshabilitar los mensajes de información de TensorFlow\n",
    "os.environ['TF_CPP_MIN_LOG_LEVEL'] = '3'\n",
    "\n",
    "# Deshabilitar los mensajes de información de OpenAI Gym\n",
    "gym.logger.set_level(40)\n",
    "\n",
    "BATCH_SIZE=140\n",
    "\n",
    "history=gan3.fit(X_train,\n",
    "    epochs=EPOCHS, batch_size=BATCH_SIZE)\n"
   ]
  },
  {
   "cell_type": "markdown",
   "metadata": {},
   "source": [
    "### Evaluación de GAIL"
   ]
  },
  {
   "cell_type": "code",
   "execution_count": null,
   "metadata": {},
   "outputs": [
    {
     "name": "stdout",
     "output_type": "stream",
     "text": [
      "1/1 [==============================] - 0s 19ms/step - loss: 0.5857 - accuracy: 0.0000e+00\n",
      "1/1 [==============================] - 0s 17ms/step - loss: 0.6328 - accuracy: 0.0473\n",
      ">Loss real: \n",
      "0.5857214331626892\n",
      ">Loss fake: \n",
      "0.6327922344207764\n"
     ]
    }
   ],
   "source": [
    "# Evaluamos el Discriminador de GAIL en el TEST\n",
    "gan3.evaluate_D(X_test)\n"
   ]
  },
  {
   "cell_type": "code",
   "execution_count": null,
   "metadata": {},
   "outputs": [
    {
     "name": "stdout",
     "output_type": "stream",
     "text": [
      "Episode  0 Total reward: -101.52949299712319\n",
      "Episode  1 Total reward: -232.4943924962734\n",
      "Episode  2 Total reward: -132.50555245188207\n",
      "Episode  3 Total reward: -54.30043973842365\n",
      "Episode  4 Total reward: -0.5579515216308724\n",
      "Episode  5 Total reward: -18.573043049059663\n",
      "Episode  6 Total reward: -151.86069515279752\n",
      "Episode  7 Total reward: -27.985945628395427\n",
      "Episode  8 Total reward: -210.06828832648216\n",
      "Episode  9 Total reward: 114.33270173525551\n",
      "Episode  10 Total reward: -165.4575183218056\n",
      "Episode  11 Total reward: -111.20829032146018\n",
      "Episode  12 Total reward: -31.9270046747002\n",
      "Episode  13 Total reward: -158.69579469168926\n",
      "Episode  14 Total reward: -50.68034828520197\n",
      "Episode  15 Total reward: 82.18635080632374\n",
      "Episode  16 Total reward: -66.5591843755714\n",
      "Episode  17 Total reward: -125.10344056239742\n",
      "Episode  18 Total reward: -88.94425184853378\n",
      "Episode  19 Total reward: 20.43669740667498\n",
      "Episode  20 Total reward: -183.97423178289284\n",
      "Episode  21 Total reward: -156.11094020797435\n",
      "Episode  22 Total reward: -8.441120847760615\n",
      "Episode  23 Total reward: -154.64204232197514\n",
      "Episode  24 Total reward: -97.99438170172343\n",
      "Episode  25 Total reward: -173.37922410343936\n",
      "Episode  26 Total reward: -335.65982950939554\n",
      "Episode  27 Total reward: -13.333671093931898\n",
      "Episode  28 Total reward: -159.90625391702898\n",
      "Episode  29 Total reward: 30.294267991210432\n",
      "Episode  30 Total reward: -48.608401630167464\n",
      "Episode  31 Total reward: -211.44786816857777\n",
      "Episode  32 Total reward: -134.93726413523055\n",
      "Episode  33 Total reward: -279.58685209517046\n",
      "Episode  34 Total reward: -173.16848215818393\n",
      "Episode  35 Total reward: -165.87560172550354\n",
      "Episode  36 Total reward: -127.131787784878\n",
      "Episode  37 Total reward: -157.02867133079212\n",
      "Episode  38 Total reward: -198.35007545836916\n",
      "Episode  39 Total reward: -32.03149831065441\n",
      "Episode  40 Total reward: 28.513196074127706\n",
      "Episode  41 Total reward: -136.24082369933848\n",
      "Episode  42 Total reward: 39.476845305036555\n",
      "Episode  43 Total reward: -54.01243500915934\n",
      "Episode  44 Total reward: -1.1516521719798476\n",
      "Episode  45 Total reward: 52.28605001783764\n",
      "Episode  46 Total reward: -20.09448003309707\n",
      "Episode  47 Total reward: -185.0581387351765\n",
      "Episode  48 Total reward: -63.26633348560732\n",
      "Episode  49 Total reward: -307.52161295847947\n"
     ]
    },
    {
     "data": {
      "image/png": "[encoded data removed]",
      "text/plain": [
       "<Figure size 640x480 with 1 Axes>"
      ]
     },
     "metadata": {},
     "output_type": "display_data"
    },
    {
     "name": "stdout",
     "output_type": "stream",
     "text": [
      "\n",
      "Recompensa de Media: -98.79758398966896 \n",
      "\n"
     ]
    }
   ],
   "source": [
    "# Evaluamos al Generador \n",
    "rewardMean=gan3.evaluate_G()\n",
    "print('\\nRecompensa de Media:', rewardMean, '\\n')"
   ]
  },
  {
   "cell_type": "markdown",
   "metadata": {},
   "source": [
    "## Experimento 4"
   ]
  },
  {
   "cell_type": "code",
   "execution_count": 47,
   "metadata": {},
   "outputs": [
    {
     "name": "stdout",
     "output_type": "stream",
     "text": [
      "\n",
      "\tEstados reales: \n",
      " [[-0.00655632  1.412633   -0.6640952  ...  0.15042743  0.\n",
      "   0.        ]\n",
      " [-0.01301994  1.4137701  -0.65149987 ...  0.1017526   0.\n",
      "   0.        ]\n",
      " [-0.01941118  1.414314   -0.6424104  ...  0.06514421  0.\n",
      "   0.        ]\n",
      " ...\n",
      " [-0.46665245 -0.0082029   0.03071342 ...  0.67170596  1.\n",
      "   1.        ]\n",
      " [-0.4661541  -0.01350838  0.02066027 ...  0.635882    1.\n",
      "   1.        ]\n",
      " [-0.46567154 -0.01838761  0.02184356 ...  0.58443296  1.\n",
      "   1.        ]]\n",
      "\tAcciones reales: \n",
      " [3 3 3 ... 0 3 3]\n"
     ]
    }
   ],
   "source": [
    "expert_observations = np.genfromtxt(\"observations_LunarLander.csv\",delimiter=\"\\t\",dtype=str)\n",
    "expert_actions = np.genfromtxt('actions_LunarLander.csv', dtype=np.int32)\n",
    "expert_num_tray=np.genfromtxt('n_trayectoria_LunarLander.csv', dtype=np.int32)\n",
    "\n",
    "# Reemplazar las comas\n",
    "expert_observations = np.core.defchararray.replace(expert_observations, ',', ' ')\n",
    "\n",
    "# Crear un nuevo array para almacenar los datos convertidos\n",
    "converted_observations = np.genfromtxt(expert_observations, delimiter=' ', dtype=float)\n",
    "\n",
    "print(\"\\n\\tEstados reales: \\n\", converted_observations)\n",
    "print(\"\\tAcciones reales: \\n\", expert_actions)"
   ]
  },
  {
   "cell_type": "code",
   "execution_count": 48,
   "metadata": {},
   "outputs": [
    {
     "name": "stdout",
     "output_type": "stream",
     "text": [
      "2168\n"
     ]
    }
   ],
   "source": [
    "longitud_trayectoria += np.count_nonzero(expert_num_tray == 3)\n",
    "print(longitud_trayectoria)"
   ]
  },
  {
   "cell_type": "code",
   "execution_count": 49,
   "metadata": {},
   "outputs": [],
   "source": [
    "converted_observations=converted_observations[0:longitud_trayectoria]\n",
    "expert_actions=expert_actions[0:longitud_trayectoria]"
   ]
  },
  {
   "cell_type": "code",
   "execution_count": 50,
   "metadata": {},
   "outputs": [
    {
     "name": "stdout",
     "output_type": "stream",
     "text": [
      "[[-6.5563200e-03  1.4126330e+00 -6.6409520e-01 ...  0.0000000e+00\n",
      "   0.0000000e+00  1.0000000e+00]\n",
      " [-1.3019944e-02  1.4137701e+00 -6.5149987e-01 ...  0.0000000e+00\n",
      "   0.0000000e+00  1.0000000e+00]\n",
      " [-1.9411182e-02  1.4143140e+00 -6.4241040e-01 ...  0.0000000e+00\n",
      "   0.0000000e+00  1.0000000e+00]\n",
      " ...\n",
      " [ 4.1053313e-01  4.4803914e-02  2.5128000e-04 ...  0.0000000e+00\n",
      "   0.0000000e+00  1.0000000e+00]\n",
      " [ 4.1053715e-01  4.4805490e-02  4.1009445e-04 ...  0.0000000e+00\n",
      "   0.0000000e+00  1.0000000e+00]\n",
      " [ 4.1053790e-01  4.4805700e-02  7.5154120e-05 ...  0.0000000e+00\n",
      "   0.0000000e+00  1.0000000e+00]]\n",
      "Nº de (ESTADOS,ACCIONES) en el conjunto de entrenamiento: 1734\n",
      "Nº de (ESTADOS,ACCIONES) en el conjunto de prueba: 434\n"
     ]
    }
   ],
   "source": [
    "# Construimos el dataset [s,a] reales y lo dividimos en training y test\n",
    "expert_a_one_hot=np.eye(env.action_space.n)[expert_actions]\n",
    "\n",
    "dataset=np.concatenate([converted_observations,expert_a_one_hot],axis=1)\n",
    "\n",
    "\n",
    "print(dataset)\n",
    "\n",
    "# Divide los datos en conjuntos de entrenamiento y prueba\n",
    "X_train, X_test = train_test_split(dataset, test_size=0.2, random_state=0)\n",
    "\n",
    "\n",
    "#Imprime el número de elementos en el conjuntos de entrenamiento y prueba\n",
    "print('Nº de (ESTADOS,ACCIONES) en el conjunto de entrenamiento:', len(X_train))\n",
    "print('Nº de (ESTADOS,ACCIONES) en el conjunto de prueba:', len(X_test))"
   ]
  },
  {
   "cell_type": "code",
   "execution_count": 51,
   "metadata": {},
   "outputs": [],
   "source": [
    "env= gym.make('LunarLander-v2')\n",
    "obs,_= env.reset()\n",
    "\n",
    "# Generador\n",
    "generator=Policy_net( 'policy', env, obs)\n",
    "\n",
    "# Generamos [s,a, s', r] falsas y las políticas theta_i y theta_i+1\n",
    "observations, actions, rewards, Old_Policy, Policy=generator.generate_fakes()\n",
    "\n",
    "# Discriminador\n",
    "discriminator=Discriminator(env, discriminator_net, converted_observations, expert_actions, observations, actions)"
   ]
  },
  {
   "cell_type": "markdown",
   "metadata": {},
   "source": [
    "### Definición de GAIL"
   ]
  },
  {
   "cell_type": "code",
   "execution_count": 52,
   "metadata": {},
   "outputs": [],
   "source": [
    "gan4=GAN(discriminator=discriminator,generator=generator)"
   ]
  },
  {
   "cell_type": "markdown",
   "metadata": {},
   "source": [
    "### Compilación de GAIL"
   ]
  },
  {
   "cell_type": "code",
   "execution_count": 53,
   "metadata": {},
   "outputs": [],
   "source": [
    "tf.config.run_functions_eagerly(True)\n",
    "gan4.compile(\n",
    "    d_optimizer=tf.keras.optimizers.Adam(learning_rate=LEARNING_RATE),\n",
    "    loss_fn_D=loss_fn_D\n",
    ")"
   ]
  },
  {
   "cell_type": "markdown",
   "metadata": {},
   "source": [
    "### Entrenamiento de GAIL"
   ]
  },
  {
   "cell_type": "code",
   "execution_count": 54,
   "metadata": {},
   "outputs": [
    {
     "name": "stdout",
     "output_type": "stream",
     "text": [
      "\n",
      "\n",
      "\n",
      "d_loss= 2.5217714\n",
      "\n",
      "g_loss= 0.8984853\n",
      " 1/13 [=>............................] - ETA: 2:05:00 - d_loss: 2.5218 - g_loss: 0.8985\n",
      "\n",
      "\n",
      "d_loss= 2.5136316\n",
      "\n",
      "g_loss= 1.6746728\n",
      " 2/13 [===>..........................] - ETA: 1:55:23 - d_loss: 2.5177 - g_loss: 1.2866\n",
      "\n",
      "\n",
      "d_loss= 2.492674\n",
      "\n",
      "g_loss= 2.2678258\n",
      " 3/13 [=====>........................] - ETA: 1:45:00 - d_loss: 2.5094 - g_loss: 1.6137\n",
      "\n",
      "\n",
      "d_loss= 2.4709368\n",
      "\n",
      "g_loss= 1.236708\n",
      " 4/13 [========>.....................] - ETA: 1:34:18 - d_loss: 2.4998 - g_loss: 1.5194\n",
      "\n",
      "\n",
      "d_loss= 2.479061\n",
      "\n",
      "g_loss= 1.9631789\n",
      " 5/13 [==========>...................] - ETA: 1:23:40 - d_loss: 2.4956 - g_loss: 1.6082\n",
      "\n",
      "\n",
      "d_loss= 2.4247127\n",
      "\n",
      "g_loss= 1.6669004\n",
      " 6/13 [============>.................] - ETA: 1:13:14 - d_loss: 2.4838 - g_loss: 1.6180\n",
      "\n",
      "\n",
      "d_loss= 2.4772315\n",
      "\n",
      "g_loss= 0.9903895\n",
      " 7/13 [===============>..............] - ETA: 1:02:41 - d_loss: 2.4829 - g_loss: 1.5283\n",
      "\n",
      "\n",
      "d_loss= 2.5200577\n",
      "\n",
      "g_loss= -4.8121686\n",
      " 8/13 [=================>............] - ETA: 52:18 - d_loss: 2.4875 - g_loss: 0.7357  \n",
      "\n",
      "\n",
      "d_loss= 2.4476185\n",
      "\n",
      "g_loss= -1.4853345\n",
      " 9/13 [===================>..........] - ETA: 41:50 - d_loss: 2.4831 - g_loss: 0.4890\n",
      "\n",
      "\n",
      "d_loss= 2.4640942\n",
      "\n",
      "g_loss= -1.0185994\n",
      "10/13 [======================>.......] - ETA: 31:24 - d_loss: 2.4812 - g_loss: 0.3382\n",
      "\n",
      "\n",
      "d_loss= 2.4485514\n",
      "\n",
      "g_loss= 0.40183726\n",
      "11/13 [========================>.....] - ETA: 20:55 - d_loss: 2.4782 - g_loss: 0.3440\n",
      "\n",
      "\n",
      "d_loss= 2.4065456\n",
      "\n",
      "g_loss= -1.0912846\n",
      "12/13 [==========================>...] - ETA: 10:27 - d_loss: 2.4722 - g_loss: 0.2244\n",
      "\n",
      "\n",
      "d_loss= 2.412561\n",
      "\n",
      "g_loss= 1.2544333\n",
      "13/13 [==============================] - 8160s 628s/step - d_loss: 2.4676 - g_loss: 0.3036\n"
     ]
    }
   ],
   "source": [
    "# Deshabilitar los mensajes de información de TensorFlow\n",
    "os.environ['TF_CPP_MIN_LOG_LEVEL'] = '3'\n",
    "\n",
    "# Deshabilitar los mensajes de información de OpenAI Gym\n",
    "gym.logger.set_level(40)\n",
    "\n",
    "BATCH_SIZE=140\n",
    "\n",
    "history=gan4.fit(X_train,\n",
    "    epochs=EPOCHS, batch_size=BATCH_SIZE)\n"
   ]
  },
  {
   "cell_type": "markdown",
   "metadata": {},
   "source": [
    "### Evaluación de GAIL"
   ]
  },
  {
   "cell_type": "code",
   "execution_count": 55,
   "metadata": {},
   "outputs": [
    {
     "name": "stdout",
     "output_type": "stream",
     "text": [
      "1/1 [==============================] - 0s 21ms/step - loss: 0.5431 - accuracy: 0.0000e+00\n",
      "1/1 [==============================] - 0s 19ms/step - loss: 0.5568 - accuracy: 0.0000e+00\n",
      ">Loss real: \n",
      "0.5431392192840576\n",
      ">Loss fake: \n",
      "0.5567510724067688\n"
     ]
    }
   ],
   "source": [
    "# Evaluamos el Discriminador de GAIL en el TEST\n",
    "gan4.evaluate_D(X_test)\n"
   ]
  },
  {
   "cell_type": "code",
   "execution_count": 56,
   "metadata": {},
   "outputs": [
    {
     "name": "stdout",
     "output_type": "stream",
     "text": [
      "Episode  0 Total reward: -54.20825290083791\n",
      "Episode  1 Total reward: -162.99330675209058\n",
      "Episode  2 Total reward: -66.27367063475367\n",
      "Episode  3 Total reward: -27.54266584816969\n",
      "Episode  4 Total reward: -208.401413554015\n",
      "Episode  5 Total reward: -235.75084512136854\n",
      "Episode  6 Total reward: -50.25839325993794\n",
      "Episode  7 Total reward: -224.19374045835272\n",
      "Episode  8 Total reward: -114.16990580848648\n",
      "Episode  9 Total reward: 72.7215931228074\n",
      "Episode  10 Total reward: -18.665888713077734\n",
      "Episode  11 Total reward: -255.52076729864928\n",
      "Episode  12 Total reward: -41.596421053280736\n",
      "Episode  13 Total reward: -22.9112045942545\n",
      "Episode  14 Total reward: -117.73160927712738\n",
      "Episode  15 Total reward: -355.00839640176736\n",
      "Episode  16 Total reward: -243.54899239909486\n",
      "Episode  17 Total reward: -50.40647968907727\n",
      "Episode  18 Total reward: 103.03426574561087\n",
      "Episode  19 Total reward: -149.55630960485053\n",
      "Episode  20 Total reward: -252.67163948685803\n",
      "Episode  21 Total reward: 3.6167583064808753\n",
      "Episode  22 Total reward: -130.2642875867842\n",
      "Episode  23 Total reward: -87.1810770747275\n",
      "Episode  24 Total reward: -355.116721027323\n",
      "Episode  25 Total reward: -230.77747145508542\n",
      "Episode  26 Total reward: 32.87723150857542\n",
      "Episode  27 Total reward: -120.01928259145619\n",
      "Episode  28 Total reward: 2.224855230739749\n",
      "Episode  29 Total reward: -257.6029214869031\n",
      "Episode  30 Total reward: -426.8567451495261\n",
      "Episode  31 Total reward: 19.45011452304547\n",
      "Episode  32 Total reward: -77.49224980943457\n",
      "Episode  33 Total reward: 14.937209424753874\n",
      "Episode  34 Total reward: -180.87476462896444\n",
      "Episode  35 Total reward: 4.912438299970773\n",
      "Episode  36 Total reward: -186.6203700971227\n",
      "Episode  37 Total reward: -32.931082751693324\n",
      "Episode  38 Total reward: -11.087976711258946\n",
      "Episode  39 Total reward: 23.53775393729489\n",
      "Episode  40 Total reward: -87.4254867896359\n",
      "Episode  41 Total reward: -61.81802909208434\n",
      "Episode  42 Total reward: -189.38110691541726\n",
      "Episode  43 Total reward: 26.346049992670288\n",
      "Episode  44 Total reward: -203.70463955349686\n",
      "Episode  45 Total reward: 35.95547001031091\n",
      "Episode  46 Total reward: -139.949353036165\n",
      "Episode  47 Total reward: -113.21701126064974\n",
      "Episode  48 Total reward: -13.970953842097927\n",
      "Episode  49 Total reward: -204.97396880024542\n"
     ]
    },
    {
     "data": {
      "image/png": "[encoded data removed]",
      "text/plain": [
       "<Figure size 640x480 with 1 Axes>"
      ]
     },
     "metadata": {},
     "output_type": "display_data"
    },
    {
     "name": "stdout",
     "output_type": "stream",
     "text": [
      "\n",
      "Recompensa de Media: -108.46123324827724 \n",
      "\n"
     ]
    }
   ],
   "source": [
    "# Evaluamos al Generador \n",
    "rewardMean=gan4.evaluate_G()\n",
    "print('\\nRecompensa de Media:', rewardMean, '\\n')"
   ]
  },
  {
   "cell_type": "markdown",
   "metadata": {},
   "source": [
    "## Experimento 5"
   ]
  },
  {
   "cell_type": "code",
   "execution_count": 57,
   "metadata": {},
   "outputs": [
    {
     "name": "stdout",
     "output_type": "stream",
     "text": [
      "\n",
      "\tEstados reales: \n",
      " [[-0.00655632  1.412633   -0.6640952  ...  0.15042743  0.\n",
      "   0.        ]\n",
      " [-0.01301994  1.4137701  -0.65149987 ...  0.1017526   0.\n",
      "   0.        ]\n",
      " [-0.01941118  1.414314   -0.6424104  ...  0.06514421  0.\n",
      "   0.        ]\n",
      " ...\n",
      " [-0.46665245 -0.0082029   0.03071342 ...  0.67170596  1.\n",
      "   1.        ]\n",
      " [-0.4661541  -0.01350838  0.02066027 ...  0.635882    1.\n",
      "   1.        ]\n",
      " [-0.46567154 -0.01838761  0.02184356 ...  0.58443296  1.\n",
      "   1.        ]]\n",
      "\tAcciones reales: \n",
      " [3 3 3 ... 0 3 3]\n"
     ]
    }
   ],
   "source": [
    "expert_observations = np.genfromtxt(\"observations_LunarLander.csv\",delimiter=\"\\t\",dtype=str)\n",
    "expert_actions = np.genfromtxt('actions_LunarLander.csv', dtype=np.int32)\n",
    "expert_num_tray=np.genfromtxt('n_trayectoria_LunarLander.csv', dtype=np.int32)\n",
    "\n",
    "# Reemplazar las comas\n",
    "expert_observations = np.core.defchararray.replace(expert_observations, ',', ' ')\n",
    "\n",
    "# Crear un nuevo array para almacenar los datos convertidos\n",
    "converted_observations = np.genfromtxt(expert_observations, delimiter=' ', dtype=float)\n",
    "\n",
    "print(\"\\n\\tEstados reales: \\n\", converted_observations)\n",
    "print(\"\\tAcciones reales: \\n\", expert_actions)"
   ]
  },
  {
   "cell_type": "code",
   "execution_count": 58,
   "metadata": {},
   "outputs": [
    {
     "name": "stdout",
     "output_type": "stream",
     "text": [
      "3158\n"
     ]
    }
   ],
   "source": [
    "longitud_trayectoria += np.count_nonzero(expert_num_tray == 4)\n",
    "print(longitud_trayectoria)"
   ]
  },
  {
   "cell_type": "code",
   "execution_count": 59,
   "metadata": {},
   "outputs": [],
   "source": [
    "converted_observations=converted_observations[0:longitud_trayectoria]\n",
    "expert_actions=expert_actions[0:longitud_trayectoria]"
   ]
  },
  {
   "cell_type": "code",
   "execution_count": 60,
   "metadata": {},
   "outputs": [
    {
     "name": "stdout",
     "output_type": "stream",
     "text": [
      "[[-6.5563200e-03  1.4126330e+00 -6.6409520e-01 ...  0.0000000e+00\n",
      "   0.0000000e+00  1.0000000e+00]\n",
      " [-1.3019944e-02  1.4137701e+00 -6.5149987e-01 ...  0.0000000e+00\n",
      "   0.0000000e+00  1.0000000e+00]\n",
      " [-1.9411182e-02  1.4143140e+00 -6.4241040e-01 ...  0.0000000e+00\n",
      "   0.0000000e+00  1.0000000e+00]\n",
      " ...\n",
      " [ 6.7724630e-01  4.2385206e-02  5.4524446e-07 ...  0.0000000e+00\n",
      "   0.0000000e+00  0.0000000e+00]\n",
      " [ 6.7724630e-01  4.2385206e-02  1.1408074e-07 ...  0.0000000e+00\n",
      "   0.0000000e+00  0.0000000e+00]\n",
      " [ 6.7724630e-01  4.2385206e-02 -2.4774107e-07 ...  0.0000000e+00\n",
      "   0.0000000e+00  0.0000000e+00]]\n",
      "Nº de (ESTADOS,ACCIONES) en el conjunto de entrenamiento: 2526\n",
      "Nº de (ESTADOS,ACCIONES) en el conjunto de prueba: 632\n"
     ]
    }
   ],
   "source": [
    "# Construimos el dataset [s,a] reales y lo dividimos en training y test\n",
    "expert_a_one_hot=np.eye(env.action_space.n)[expert_actions]\n",
    "\n",
    "dataset=np.concatenate([converted_observations,expert_a_one_hot],axis=1)\n",
    "\n",
    "\n",
    "print(dataset)\n",
    "\n",
    "# Divide los datos en conjuntos de entrenamiento y prueba\n",
    "X_train, X_test = train_test_split(dataset, test_size=0.2, random_state=0)\n",
    "\n",
    "\n",
    "#Imprime el número de elementos en el conjuntos de entrenamiento y prueba\n",
    "print('Nº de (ESTADOS,ACCIONES) en el conjunto de entrenamiento:', len(X_train))\n",
    "print('Nº de (ESTADOS,ACCIONES) en el conjunto de prueba:', len(X_test))"
   ]
  },
  {
   "cell_type": "code",
   "execution_count": 61,
   "metadata": {},
   "outputs": [],
   "source": [
    "env= gym.make('LunarLander-v2')\n",
    "obs,_= env.reset()\n",
    "\n",
    "# Generador\n",
    "generator=Policy_net( 'policy', env, obs)\n",
    "\n",
    "# Generamos [s,a, s', r] falsas y las políticas theta_i y theta_i+1\n",
    "observations, actions, rewards, Old_Policy, Policy=generator.generate_fakes()\n",
    "\n",
    "# Discriminador\n",
    "discriminator=Discriminator(env, discriminator_net, converted_observations, expert_actions, observations, actions)"
   ]
  },
  {
   "cell_type": "markdown",
   "metadata": {},
   "source": [
    "### Definición de GAIL"
   ]
  },
  {
   "cell_type": "code",
   "execution_count": 62,
   "metadata": {},
   "outputs": [],
   "source": [
    "gan5=GAN(discriminator=discriminator,generator=generator)"
   ]
  },
  {
   "cell_type": "markdown",
   "metadata": {},
   "source": [
    "### Compilación de GAIL"
   ]
  },
  {
   "cell_type": "code",
   "execution_count": 63,
   "metadata": {},
   "outputs": [],
   "source": [
    "tf.config.run_functions_eagerly(True)\n",
    "gan5.compile(\n",
    "    d_optimizer=tf.keras.optimizers.Adam(learning_rate=LEARNING_RATE),\n",
    "    loss_fn_D=loss_fn_D\n",
    ")"
   ]
  },
  {
   "cell_type": "markdown",
   "metadata": {},
   "source": [
    "### Entrenamiento de GAIL"
   ]
  },
  {
   "cell_type": "code",
   "execution_count": 64,
   "metadata": {},
   "outputs": [
    {
     "name": "stdout",
     "output_type": "stream",
     "text": [
      "\n",
      "\n",
      "\n",
      "d_loss= 2.4343314\n",
      "\n",
      "g_loss= 1.5278764\n",
      " 1/19 [>.............................] - ETA: 3:09:05 - d_loss: 2.4343 - g_loss: 1.5279\n",
      "\n",
      "\n",
      "d_loss= 2.4124234\n",
      "\n",
      "g_loss= -0.27539796\n",
      " 2/19 [==>...........................] - ETA: 2:56:55 - d_loss: 2.4234 - g_loss: 0.6262\n",
      "\n",
      "\n",
      "d_loss= 2.4415345\n",
      "\n",
      "g_loss= 18.510502\n",
      " 3/19 [===>..........................] - ETA: 2:46:47 - d_loss: 2.4294 - g_loss: 6.5877\n",
      "\n",
      "\n",
      "d_loss= 2.4619584\n",
      "\n",
      "g_loss= -8.8781395\n",
      " 4/19 [=====>........................] - ETA: 2:36:40 - d_loss: 2.4376 - g_loss: 2.7212\n",
      "\n",
      "\n",
      "d_loss= 2.3897276\n",
      "\n",
      "g_loss= 2.8796005\n",
      " 5/19 [======>.......................] - ETA: 2:26:20 - d_loss: 2.4280 - g_loss: 2.7529\n",
      "\n",
      "\n",
      "d_loss= 2.4453418\n",
      "\n",
      "g_loss= 0.30010137\n",
      " 6/19 [========>.....................] - ETA: 2:16:01 - d_loss: 2.4309 - g_loss: 2.3441\n",
      "\n",
      "\n",
      "d_loss= 2.4018302\n",
      "\n",
      "g_loss= 1.0802525\n",
      " 7/19 [==========>...................] - ETA: 2:05:25 - d_loss: 2.4267 - g_loss: 2.1635\n",
      "\n",
      "\n",
      "d_loss= 2.414916\n",
      "\n",
      "g_loss= 1.4099278\n",
      " 8/19 [===========>..................] - ETA: 1:55:19 - d_loss: 2.4253 - g_loss: 2.0693\n",
      "\n",
      "\n",
      "d_loss= 2.3858209\n",
      "\n",
      "g_loss= -2.3267612\n",
      " 9/19 [=============>................] - ETA: 1:44:52 - d_loss: 2.4209 - g_loss: 1.5809\n",
      "\n",
      "\n",
      "d_loss= 2.4183567\n",
      "\n",
      "g_loss= -0.1315447\n",
      "10/19 [==============>...............] - ETA: 1:34:26 - d_loss: 2.4206 - g_loss: 1.4096\n",
      "\n",
      "\n",
      "d_loss= 2.3858926\n",
      "\n",
      "g_loss= 3.1126175\n",
      "11/19 [================>.............] - ETA: 1:24:03 - d_loss: 2.4175 - g_loss: 1.5645\n",
      "\n",
      "\n",
      "d_loss= 2.3420272\n",
      "\n",
      "g_loss= -1.5061245\n",
      "12/19 [=================>............] - ETA: 1:13:38 - d_loss: 2.4112 - g_loss: 1.3086\n",
      "\n",
      "\n",
      "d_loss= 2.4068747\n",
      "\n",
      "g_loss= 0.95981574\n",
      "13/19 [===================>..........] - ETA: 1:03:12 - d_loss: 2.4108 - g_loss: 1.2817\n",
      "\n",
      "\n",
      "d_loss= 2.3456802\n",
      "\n",
      "g_loss= -2.1388044\n",
      "14/19 [=====================>........] - ETA: 52:45 - d_loss: 2.4062 - g_loss: 1.0374  \n",
      "\n",
      "\n",
      "d_loss= 2.3890052\n",
      "\n",
      "g_loss= -0.031221729\n",
      "15/19 [======================>.......] - ETA: 42:16 - d_loss: 2.4050 - g_loss: 0.9662\n",
      "\n",
      "\n",
      "d_loss= 2.4281907\n",
      "\n",
      "g_loss= -2.1273425\n",
      "16/19 [========================>.....] - ETA: 31:41 - d_loss: 2.4065 - g_loss: 0.7728\n",
      "\n",
      "\n",
      "d_loss= 2.3262892\n",
      "\n",
      "g_loss= 1.6850715\n",
      "17/19 [=========================>....] - ETA: 21:07 - d_loss: 2.4018 - g_loss: 0.8265\n",
      "\n",
      "\n",
      "d_loss= 2.3352\n",
      "\n",
      "g_loss= 0.06624302\n",
      "18/19 [===========================>..] - ETA: 10:34 - d_loss: 2.3981 - g_loss: 0.7843\n",
      "\n",
      "\n",
      "d_loss= 2.3830907\n",
      "\n",
      "g_loss= 2.204831\n",
      "19/19 [==============================] - 12048s 634s/step - d_loss: 2.3973 - g_loss: 0.8590\n"
     ]
    }
   ],
   "source": [
    "# Deshabilitar los mensajes de información de TensorFlow\n",
    "os.environ['TF_CPP_MIN_LOG_LEVEL'] = '3'\n",
    "\n",
    "# Deshabilitar los mensajes de información de OpenAI Gym\n",
    "gym.logger.set_level(40)\n",
    "\n",
    "BACH_SIZE=140\n",
    "\n",
    "history=gan5.fit(X_train,\n",
    "    epochs=EPOCHS, batch_size=BATCH_SIZE)\n"
   ]
  },
  {
   "cell_type": "markdown",
   "metadata": {},
   "source": [
    "### Evaluación de GAIL"
   ]
  },
  {
   "cell_type": "code",
   "execution_count": 65,
   "metadata": {},
   "outputs": [
    {
     "name": "stdout",
     "output_type": "stream",
     "text": [
      "1/1 [==============================] - 0s 19ms/step - loss: 0.4514 - accuracy: 0.0000e+00\n",
      "1/1 [==============================] - 0s 17ms/step - loss: 0.4665 - accuracy: 0.0000e+00\n",
      ">Loss real: \n",
      "0.451355516910553\n",
      ">Loss fake: \n",
      "0.466470330953598\n"
     ]
    }
   ],
   "source": [
    "# Evaluamos el Discriminador de GAIL en el TEST\n",
    "gan5.evaluate_D(X_test)\n"
   ]
  },
  {
   "cell_type": "code",
   "execution_count": 66,
   "metadata": {},
   "outputs": [
    {
     "name": "stdout",
     "output_type": "stream",
     "text": [
      "Episode  0 Total reward: -298.3945447263211\n",
      "Episode  1 Total reward: -164.23609745024788\n",
      "Episode  2 Total reward: -107.81198103420482\n",
      "Episode  3 Total reward: -320.88997250565717\n",
      "Episode  4 Total reward: -375.93051601082954\n",
      "Episode  5 Total reward: -36.73947718341324\n",
      "Episode  6 Total reward: -213.38721047202625\n",
      "Episode  7 Total reward: -189.7392966767975\n",
      "Episode  8 Total reward: -30.69862643466186\n",
      "Episode  9 Total reward: -177.24804970303217\n",
      "Episode  10 Total reward: -273.2161658549089\n",
      "Episode  11 Total reward: 4.942351667643138\n",
      "Episode  12 Total reward: -171.92843898863217\n",
      "Episode  13 Total reward: -254.88675591411757\n",
      "Episode  14 Total reward: -162.8742878108209\n",
      "Episode  15 Total reward: -161.90883732369753\n",
      "Episode  16 Total reward: -242.027023140809\n",
      "Episode  17 Total reward: -6.290773652543422\n",
      "Episode  18 Total reward: 0.41413265961604395\n",
      "Episode  19 Total reward: -273.76395363185856\n",
      "Episode  20 Total reward: -165.4052353733231\n",
      "Episode  21 Total reward: -14.77808816944291\n",
      "Episode  22 Total reward: -13.425798991062479\n",
      "Episode  23 Total reward: -27.19510636411907\n",
      "Episode  24 Total reward: -188.48884181576773\n",
      "Episode  25 Total reward: -294.1931457119467\n",
      "Episode  26 Total reward: -247.25872809135683\n",
      "Episode  27 Total reward: -82.57521661639925\n",
      "Episode  28 Total reward: 18.39649089099639\n",
      "Episode  29 Total reward: -155.70797645171942\n",
      "Episode  30 Total reward: -321.3981456163723\n",
      "Episode  31 Total reward: 24.046928197380225\n",
      "Episode  32 Total reward: -33.665497961650246\n",
      "Episode  33 Total reward: -283.7833930115818\n",
      "Episode  34 Total reward: -192.29370274925225\n",
      "Episode  35 Total reward: 90.14722946750642\n",
      "Episode  36 Total reward: 3.745555611723759\n",
      "Episode  37 Total reward: -195.1451651753997\n",
      "Episode  38 Total reward: -177.46833890445748\n",
      "Episode  39 Total reward: -208.07956960861685\n",
      "Episode  40 Total reward: -226.21437463351356\n",
      "Episode  41 Total reward: -259.7998167765199\n",
      "Episode  42 Total reward: -396.0067259492704\n",
      "Episode  43 Total reward: -49.12320333841649\n",
      "Episode  44 Total reward: 53.729422483916714\n",
      "Episode  45 Total reward: -249.56341776961216\n",
      "Episode  46 Total reward: -43.7073322204498\n",
      "Episode  47 Total reward: 1.7447402376207037\n",
      "Episode  48 Total reward: 49.47924551849844\n",
      "Episode  49 Total reward: -48.587223016898356\n"
     ]
    },
    {
     "data": {
      "image/png": "[encoded data removed]",
      "text/plain": [
       "<Figure size 640x480 with 1 Axes>"
      ]
     },
     "metadata": {},
     "output_type": "display_data"
    },
    {
     "name": "stdout",
     "output_type": "stream",
     "text": [
      "\n",
      "Recompensa de Media: -141.7837991219365 \n",
      "\n"
     ]
    }
   ],
   "source": [
    "# Evaluamos al Generador \n",
    "rewardMean=gan5.evaluate_G()\n",
    "print('\\nRecompensa de Media:', rewardMean, '\\n')"
   ]
  },
  {
   "cell_type": "markdown",
   "metadata": {},
   "source": [
    "## Experimento 6"
   ]
  },
  {
   "cell_type": "code",
   "execution_count": 67,
   "metadata": {},
   "outputs": [
    {
     "name": "stdout",
     "output_type": "stream",
     "text": [
      "\n",
      "\tEstados reales: \n",
      " [[-0.00655632  1.412633   -0.6640952  ...  0.15042743  0.\n",
      "   0.        ]\n",
      " [-0.01301994  1.4137701  -0.65149987 ...  0.1017526   0.\n",
      "   0.        ]\n",
      " [-0.01941118  1.414314   -0.6424104  ...  0.06514421  0.\n",
      "   0.        ]\n",
      " ...\n",
      " [-0.46665245 -0.0082029   0.03071342 ...  0.67170596  1.\n",
      "   1.        ]\n",
      " [-0.4661541  -0.01350838  0.02066027 ...  0.635882    1.\n",
      "   1.        ]\n",
      " [-0.46567154 -0.01838761  0.02184356 ...  0.58443296  1.\n",
      "   1.        ]]\n",
      "\tAcciones reales: \n",
      " [3 3 3 ... 0 3 3]\n"
     ]
    }
   ],
   "source": [
    "expert_observations = np.genfromtxt(\"observations_LunarLander.csv\",delimiter=\"\\t\",dtype=str)\n",
    "expert_actions = np.genfromtxt('actions_LunarLander.csv', dtype=np.int32)\n",
    "expert_num_tray=np.genfromtxt('n_trayectoria_LunarLander.csv', dtype=np.int32)\n",
    "\n",
    "# Reemplazar las comas\n",
    "expert_observations = np.core.defchararray.replace(expert_observations, ',', ' ')\n",
    "\n",
    "# Crear un nuevo array para almacenar los datos convertidos\n",
    "converted_observations = np.genfromtxt(expert_observations, delimiter=' ', dtype=float)\n",
    "\n",
    "print(\"\\n\\tEstados reales: \\n\", converted_observations)\n",
    "print(\"\\tAcciones reales: \\n\", expert_actions)"
   ]
  },
  {
   "cell_type": "code",
   "execution_count": 68,
   "metadata": {},
   "outputs": [
    {
     "name": "stdout",
     "output_type": "stream",
     "text": [
      "4158\n"
     ]
    }
   ],
   "source": [
    "longitud_trayectoria += np.count_nonzero(expert_num_tray == 5)\n",
    "print(longitud_trayectoria)"
   ]
  },
  {
   "cell_type": "code",
   "execution_count": 69,
   "metadata": {},
   "outputs": [],
   "source": [
    "converted_observations=converted_observations[0:longitud_trayectoria]\n",
    "expert_actions=expert_actions[0:longitud_trayectoria]"
   ]
  },
  {
   "cell_type": "code",
   "execution_count": 70,
   "metadata": {},
   "outputs": [
    {
     "name": "stdout",
     "output_type": "stream",
     "text": [
      "[[-6.5563200e-03  1.4126330e+00 -6.6409520e-01 ...  0.0000000e+00\n",
      "   0.0000000e+00  1.0000000e+00]\n",
      " [-1.3019944e-02  1.4137701e+00 -6.5149987e-01 ...  0.0000000e+00\n",
      "   0.0000000e+00  1.0000000e+00]\n",
      " [-1.9411182e-02  1.4143140e+00 -6.4241040e-01 ...  0.0000000e+00\n",
      "   0.0000000e+00  1.0000000e+00]\n",
      " ...\n",
      " [ 3.2675964e-01 -5.1517500e-02 -1.6227339e-03 ...  0.0000000e+00\n",
      "   0.0000000e+00  0.0000000e+00]\n",
      " [ 3.2676880e-01 -5.1521648e-02  9.4594294e-04 ...  0.0000000e+00\n",
      "   0.0000000e+00  0.0000000e+00]\n",
      " [ 3.2677516e-01 -5.1524438e-02  6.5785140e-04 ...  0.0000000e+00\n",
      "   0.0000000e+00  0.0000000e+00]]\n",
      "Nº de (ESTADOS,ACCIONES) en el conjunto de entrenamiento: 3326\n",
      "Nº de (ESTADOS,ACCIONES) en el conjunto de prueba: 832\n"
     ]
    }
   ],
   "source": [
    "# Construimos el dataset [s,a] reales y lo dividimos en training y test\n",
    "expert_a_one_hot=np.eye(env.action_space.n)[expert_actions]\n",
    "\n",
    "dataset=np.concatenate([converted_observations,expert_a_one_hot],axis=1)\n",
    "\n",
    "\n",
    "print(dataset)\n",
    "\n",
    "# Divide los datos en conjuntos de entrenamiento y prueba\n",
    "X_train, X_test = train_test_split(dataset, test_size=0.2, random_state=0)\n",
    "\n",
    "\n",
    "#Imprime el número de elementos en el conjuntos de entrenamiento y prueba\n",
    "print('Nº de (ESTADOS,ACCIONES) en el conjunto de entrenamiento:', len(X_train))\n",
    "print('Nº de (ESTADOS,ACCIONES) en el conjunto de prueba:', len(X_test))"
   ]
  },
  {
   "cell_type": "code",
   "execution_count": 71,
   "metadata": {},
   "outputs": [],
   "source": [
    "env= gym.make('LunarLander-v2')\n",
    "obs,_= env.reset()\n",
    "\n",
    "# Generador\n",
    "generator=Policy_net( 'policy', env, obs)\n",
    "\n",
    "# Generamos [s,a, s', r] falsas y las políticas theta_i y theta_i+1\n",
    "observations, actions, rewards, Old_Policy, Policy=generator.generate_fakes()\n",
    "\n",
    "# Discriminador\n",
    "discriminator=Discriminator(env, discriminator_net, converted_observations, expert_actions, observations, actions)"
   ]
  },
  {
   "cell_type": "markdown",
   "metadata": {},
   "source": [
    "### Definición de GAIL"
   ]
  },
  {
   "cell_type": "code",
   "execution_count": 72,
   "metadata": {},
   "outputs": [],
   "source": [
    "gan6=GAN(discriminator=discriminator,generator=generator)"
   ]
  },
  {
   "cell_type": "markdown",
   "metadata": {},
   "source": [
    "### Compilación de GAIL"
   ]
  },
  {
   "cell_type": "code",
   "execution_count": 73,
   "metadata": {},
   "outputs": [],
   "source": [
    "tf.config.run_functions_eagerly(True)\n",
    "gan6.compile(\n",
    "    d_optimizer=tf.keras.optimizers.Adam(learning_rate=LEARNING_RATE),\n",
    "    loss_fn_D=loss_fn_D\n",
    ")"
   ]
  },
  {
   "cell_type": "markdown",
   "metadata": {},
   "source": [
    "### Entrenamiento de GAIL"
   ]
  },
  {
   "cell_type": "code",
   "execution_count": null,
   "metadata": {},
   "outputs": [
    {
     "name": "stdout",
     "output_type": "stream",
     "text": [
      "\n",
      "\n",
      "\n",
      "d_loss= 2.3414257\n",
      "\n",
      "g_loss= 0.96710724\n",
      " 1/24 [>.............................] - ETA: 4:15:53 - d_loss: 2.3414 - g_loss: 0.9671\n",
      "\n",
      "\n",
      "d_loss= 2.3479059\n",
      "\n",
      "g_loss= -1.4936949\n",
      " 2/24 [=>............................] - ETA: 4:02:38 - d_loss: 2.3447 - g_loss: -0.2633\n",
      "\n",
      "\n",
      "d_loss= 2.3826447\n",
      "\n",
      "g_loss= 1.0446305\n",
      " 3/24 [==>...........................] - ETA: 3:52:05 - d_loss: 2.3573 - g_loss: 0.1727 \n",
      "\n",
      "\n",
      "d_loss= 2.3714185\n",
      "\n",
      "g_loss= 3.3770418\n",
      " 4/24 [====>.........................] - ETA: 3:40:52 - d_loss: 2.3608 - g_loss: 0.9738\n",
      "\n",
      "\n",
      "d_loss= 2.3258386\n",
      "\n",
      "g_loss= 1.0362056\n",
      " 5/24 [=====>........................] - ETA: 3:29:13 - d_loss: 2.3538 - g_loss: 0.9863\n",
      "\n",
      "\n",
      "d_loss= 2.3327937\n",
      "\n",
      "g_loss= 2.4594426\n",
      " 6/24 [======>.......................] - ETA: 3:18:24 - d_loss: 2.3503 - g_loss: 1.2318\n",
      "\n",
      "\n",
      "d_loss= 2.368942\n",
      "\n",
      "g_loss= -1.1463125\n",
      " 7/24 [=======>......................] - ETA: 3:07:21 - d_loss: 2.3530 - g_loss: 0.8921\n",
      "\n",
      "\n",
      "d_loss= 2.3329632\n",
      "\n",
      "g_loss= 2.8110087\n",
      " 8/24 [=========>....................] - ETA: 2:56:12 - d_loss: 2.3505 - g_loss: 1.1319\n",
      "\n",
      "\n",
      "d_loss= 2.2948613\n",
      "\n",
      "g_loss= 0.38374034\n",
      " 9/24 [==========>...................] - ETA: 2:45:21 - d_loss: 2.3443 - g_loss: 1.0488\n",
      "\n",
      "\n",
      "d_loss= 2.361373\n",
      "\n",
      "g_loss= 1.6108463\n",
      "10/24 [===========>..................] - ETA: 2:34:25 - d_loss: 2.3460 - g_loss: 1.1050\n",
      "\n",
      "\n",
      "d_loss= 2.3109293\n",
      "\n",
      "g_loss= 2.4255102\n",
      "11/24 [============>.................] - ETA: 2:23:31 - d_loss: 2.3428 - g_loss: 1.2250\n",
      "\n",
      "\n",
      "d_loss= 2.2884212\n",
      "\n",
      "g_loss= -0.6828062\n",
      "12/24 [==============>...............] - ETA: 2:12:29 - d_loss: 2.3383 - g_loss: 1.0661\n",
      "\n",
      "\n",
      "d_loss= 2.2540114\n",
      "\n",
      "g_loss= -0.6132585\n",
      "13/24 [===============>..............] - ETA: 2:01:30 - d_loss: 2.3318 - g_loss: 0.9369\n",
      "\n",
      "\n",
      "d_loss= 2.322684\n",
      "\n",
      "g_loss= 2.7415597\n",
      "14/24 [================>.............] - ETA: 1:50:24 - d_loss: 2.3312 - g_loss: 1.0658\n",
      "\n",
      "\n",
      "d_loss= 2.332112\n",
      "\n",
      "g_loss= 4.847189\n",
      "15/24 [=================>............] - ETA: 1:39:24 - d_loss: 2.3312 - g_loss: 1.3179\n",
      "\n",
      "\n",
      "d_loss= 2.3146918\n",
      "\n",
      "g_loss= 4.9556794\n",
      "16/24 [===================>..........] - ETA: 1:28:24 - d_loss: 2.3302 - g_loss: 1.5452\n",
      "\n",
      "\n",
      "d_loss= 2.2902746\n",
      "\n",
      "g_loss= -0.27030393\n",
      "17/24 [====================>.........] - ETA: 1:17:21 - d_loss: 2.3278 - g_loss: 1.4384\n",
      "\n",
      "\n",
      "d_loss= 2.3038013\n",
      "\n",
      "g_loss= 3.2226028\n",
      "18/24 [=====================>........] - ETA: 1:06:19 - d_loss: 2.3265 - g_loss: 1.5376\n",
      "\n",
      "\n",
      "d_loss= 2.2769344\n",
      "\n",
      "g_loss= 0.13444257\n",
      "19/24 [======================>.......] - ETA: 55:15 - d_loss: 2.3239 - g_loss: 1.4637  \n",
      "\n",
      "\n",
      "d_loss= 2.3489308\n",
      "\n",
      "g_loss= 11.840236\n",
      "20/24 [========================>.....] - ETA: 44:12 - d_loss: 2.3251 - g_loss: 1.9825\n",
      "\n",
      "\n",
      "d_loss= 2.2954688\n",
      "\n",
      "g_loss= 2.839117\n",
      "21/24 [=========================>....] - ETA: 33:10 - d_loss: 2.3237 - g_loss: 2.0233\n",
      "\n",
      "\n",
      "d_loss= 2.280726\n",
      "\n",
      "g_loss= 0.5484937\n",
      "22/24 [==========================>...] - ETA: 22:06 - d_loss: 2.3218 - g_loss: 1.9563\n",
      "\n",
      "\n",
      "d_loss= 2.310823\n",
      "\n",
      "g_loss= -1.7837828\n",
      "23/24 [===========================>..] - ETA: 11:03 - d_loss: 2.3213 - g_loss: 1.7937\n",
      "\n",
      "\n",
      "d_loss= 2.2126966\n",
      "\n",
      "g_loss= -0.5000558\n",
      "24/24 [==============================] - 15932s 664s/step - d_loss: 2.3168 - g_loss: 1.6981\n"
     ]
    }
   ],
   "source": [
    "# Deshabilitar los mensajes de información de TensorFlow\n",
    "os.environ['TF_CPP_MIN_LOG_LEVEL'] = '3'\n",
    "\n",
    "# Deshabilitar los mensajes de información de OpenAI Gym\n",
    "gym.logger.set_level(40)\n",
    "\n",
    "BATCH_SIZE=140\n",
    "\n",
    "history=gan6.fit(X_train,\n",
    "    epochs=EPOCHS, batch_size=BATCH_SIZE)\n"
   ]
  },
  {
   "cell_type": "markdown",
   "metadata": {},
   "source": [
    "### Evaluación de GAIL"
   ]
  },
  {
   "cell_type": "code",
   "execution_count": null,
   "metadata": {},
   "outputs": [
    {
     "name": "stdout",
     "output_type": "stream",
     "text": [
      "1/1 [==============================] - 0s 20ms/step - loss: 0.3653 - accuracy: 0.0000e+00\n",
      "1/1 [==============================] - 0s 19ms/step - loss: 0.3245 - accuracy: 0.0000e+00\n",
      ">Loss real: \n",
      "0.3653477132320404\n",
      ">Loss fake: \n",
      "0.32447341084480286\n"
     ]
    }
   ],
   "source": [
    "# Evaluamos el Discriminador de GAIL en el TEST\n",
    "gan6.evaluate_D(X_test)\n"
   ]
  },
  {
   "cell_type": "code",
   "execution_count": null,
   "metadata": {},
   "outputs": [
    {
     "name": "stdout",
     "output_type": "stream",
     "text": [
      "Episode  0 Total reward: -34.17219786437799\n",
      "Episode  1 Total reward: -111.21136760945579\n",
      "Episode  2 Total reward: -148.40356410631492\n",
      "Episode  3 Total reward: -175.13759623310307\n",
      "Episode  4 Total reward: -29.886574104313553\n",
      "Episode  5 Total reward: -63.63486504632145\n",
      "Episode  6 Total reward: 49.54819546558909\n",
      "Episode  7 Total reward: -18.066027715507616\n",
      "Episode  8 Total reward: -11.243037938700724\n",
      "Episode  9 Total reward: -86.09092443144581\n",
      "Episode  10 Total reward: 41.076087776643575\n",
      "Episode  11 Total reward: -491.5942740021038\n",
      "Episode  12 Total reward: -180.39053690898362\n",
      "Episode  13 Total reward: -198.74965365102298\n",
      "Episode  14 Total reward: 24.06399390260985\n",
      "Episode  15 Total reward: -55.5058455088423\n",
      "Episode  16 Total reward: -153.7564036789256\n",
      "Episode  17 Total reward: -49.20484354078064\n",
      "Episode  18 Total reward: -6.136118106388665\n",
      "Episode  19 Total reward: 44.6657662435809\n",
      "Episode  20 Total reward: 12.308700287859622\n",
      "Episode  21 Total reward: -69.21487559373718\n",
      "Episode  22 Total reward: 60.52487842222553\n",
      "Episode  23 Total reward: -180.38546566974563\n",
      "Episode  24 Total reward: -143.1768240609365\n",
      "Episode  25 Total reward: -28.504824706029737\n",
      "Episode  26 Total reward: 11.56135742299682\n",
      "Episode  27 Total reward: -13.836319327178856\n",
      "Episode  28 Total reward: -35.85773912665131\n",
      "Episode  29 Total reward: -92.47069469201222\n",
      "Episode  30 Total reward: -253.2128394404901\n",
      "Episode  31 Total reward: -16.265670158440216\n",
      "Episode  32 Total reward: -106.78856302723162\n",
      "Episode  33 Total reward: 58.87037806855558\n",
      "Episode  34 Total reward: -79.17897665800895\n",
      "Episode  35 Total reward: 65.05597500753014\n",
      "Episode  36 Total reward: -73.71551453333285\n",
      "Episode  37 Total reward: -80.93957489924315\n",
      "Episode  38 Total reward: -47.31220145243867\n",
      "Episode  39 Total reward: -2.5183767813949327\n",
      "Episode  40 Total reward: -11.108916881610128\n",
      "Episode  41 Total reward: -58.645962805722924\n",
      "Episode  42 Total reward: -251.0355093258735\n",
      "Episode  43 Total reward: 23.231345480216362\n",
      "Episode  44 Total reward: -156.7404492874707\n",
      "Episode  45 Total reward: -27.120114856845674\n",
      "Episode  46 Total reward: -32.85711288456547\n",
      "Episode  47 Total reward: -67.68004816711125\n",
      "Episode  48 Total reward: 21.269689668114353\n",
      "Episode  49 Total reward: -143.78394572909198\n"
     ]
    },
    {
     "data": {
      "image/png": "[encoded data removed]",
      "text/plain": [
       "<Figure size 640x480 with 1 Axes>"
      ]
     },
     "metadata": {},
     "output_type": "display_data"
    },
    {
     "name": "stdout",
     "output_type": "stream",
     "text": [
      "\n",
      "Recompensa de Media: -67.4671596553166 \n",
      "\n"
     ]
    }
   ],
   "source": [
    "# Evaluamos al Generador \n",
    "rewardMean=gan6.evaluate_G()\n",
    "print('\\nRecompensa de Media:', rewardMean, '\\n')"
   ]
  },
  {
   "cell_type": "markdown",
   "metadata": {},
   "source": [
    "## Experimento 7"
   ]
  },
  {
   "cell_type": "code",
   "execution_count": 77,
   "metadata": {},
   "outputs": [
    {
     "name": "stdout",
     "output_type": "stream",
     "text": [
      "\n",
      "\tEstados reales: \n",
      " [[-0.00655632  1.412633   -0.6640952  ...  0.15042743  0.\n",
      "   0.        ]\n",
      " [-0.01301994  1.4137701  -0.65149987 ...  0.1017526   0.\n",
      "   0.        ]\n",
      " [-0.01941118  1.414314   -0.6424104  ...  0.06514421  0.\n",
      "   0.        ]\n",
      " ...\n",
      " [-0.46665245 -0.0082029   0.03071342 ...  0.67170596  1.\n",
      "   1.        ]\n",
      " [-0.4661541  -0.01350838  0.02066027 ...  0.635882    1.\n",
      "   1.        ]\n",
      " [-0.46567154 -0.01838761  0.02184356 ...  0.58443296  1.\n",
      "   1.        ]]\n",
      "\tAcciones reales: \n",
      " [3 3 3 ... 0 3 3]\n"
     ]
    }
   ],
   "source": [
    "expert_observations = np.genfromtxt(\"observations_LunarLander.csv\",delimiter=\"\\t\",dtype=str)\n",
    "expert_actions = np.genfromtxt('actions_LunarLander.csv', dtype=np.int32)\n",
    "expert_num_tray=np.genfromtxt('n_trayectoria_LunarLander.csv', dtype=np.int32)\n",
    "\n",
    "# Reemplazar las comas\n",
    "expert_observations = np.core.defchararray.replace(expert_observations, ',', ' ')\n",
    "\n",
    "# Crear un nuevo array para almacenar los datos convertidos\n",
    "converted_observations = np.genfromtxt(expert_observations, delimiter=' ', dtype=float)\n",
    "\n",
    "print(\"\\n\\tEstados reales: \\n\", converted_observations)\n",
    "print(\"\\tAcciones reales: \\n\", expert_actions)"
   ]
  },
  {
   "cell_type": "code",
   "execution_count": 78,
   "metadata": {},
   "outputs": [
    {
     "name": "stdout",
     "output_type": "stream",
     "text": [
      "4680\n"
     ]
    }
   ],
   "source": [
    "longitud_trayectoria += np.count_nonzero(expert_num_tray == 6)\n",
    "print(longitud_trayectoria)"
   ]
  },
  {
   "cell_type": "code",
   "execution_count": 79,
   "metadata": {},
   "outputs": [],
   "source": [
    "converted_observations=converted_observations[0:longitud_trayectoria]\n",
    "expert_actions=expert_actions[0:longitud_trayectoria]"
   ]
  },
  {
   "cell_type": "code",
   "execution_count": 80,
   "metadata": {},
   "outputs": [
    {
     "name": "stdout",
     "output_type": "stream",
     "text": [
      "[[-6.5563200e-03  1.4126330e+00 -6.6409520e-01 ...  0.0000000e+00\n",
      "   0.0000000e+00  1.0000000e+00]\n",
      " [-1.3019944e-02  1.4137701e+00 -6.5149987e-01 ...  0.0000000e+00\n",
      "   0.0000000e+00  1.0000000e+00]\n",
      " [-1.9411182e-02  1.4143140e+00 -6.4241040e-01 ...  0.0000000e+00\n",
      "   0.0000000e+00  1.0000000e+00]\n",
      " ...\n",
      " [-8.6160660e-03 -1.2264752e-03  5.3442470e-08 ...  0.0000000e+00\n",
      "   0.0000000e+00  0.0000000e+00]\n",
      " [-8.6160660e-03 -1.2264752e-03  4.7162676e-08 ...  0.0000000e+00\n",
      "   0.0000000e+00  0.0000000e+00]\n",
      " [-8.6160660e-03 -1.2264752e-03  3.9814470e-08 ...  0.0000000e+00\n",
      "   0.0000000e+00  0.0000000e+00]]\n",
      "Nº de (ESTADOS,ACCIONES) en el conjunto de entrenamiento: 3744\n",
      "Nº de (ESTADOS,ACCIONES) en el conjunto de prueba: 936\n"
     ]
    }
   ],
   "source": [
    "# Construimos el dataset [s,a] reales y lo dividimos en training y test\n",
    "expert_a_one_hot=np.eye(env.action_space.n)[expert_actions]\n",
    "\n",
    "dataset=np.concatenate([converted_observations,expert_a_one_hot],axis=1)\n",
    "\n",
    "\n",
    "print(dataset)\n",
    "\n",
    "# Divide los datos en conjuntos de entrenamiento y prueba\n",
    "X_train, X_test = train_test_split(dataset, test_size=0.2, random_state=0)\n",
    "\n",
    "\n",
    "#Imprime el número de elementos en el conjuntos de entrenamiento y prueba\n",
    "print('Nº de (ESTADOS,ACCIONES) en el conjunto de entrenamiento:', len(X_train))\n",
    "print('Nº de (ESTADOS,ACCIONES) en el conjunto de prueba:', len(X_test))"
   ]
  },
  {
   "cell_type": "code",
   "execution_count": 81,
   "metadata": {},
   "outputs": [],
   "source": [
    "env= gym.make('LunarLander-v2')\n",
    "obs,_= env.reset()\n",
    "\n",
    "# Generador\n",
    "generator=Policy_net( 'policy', env, obs)\n",
    "\n",
    "# Generamos [s,a, s', r] falsas y las políticas theta_i y theta_i+1\n",
    "observations, actions, rewards, Old_Policy, Policy=generator.generate_fakes()\n",
    "\n",
    "# Discriminador\n",
    "discriminator=Discriminator(env, discriminator_net, converted_observations, expert_actions, observations, actions)"
   ]
  },
  {
   "cell_type": "markdown",
   "metadata": {},
   "source": [
    "### Definición de GAIL"
   ]
  },
  {
   "cell_type": "code",
   "execution_count": 82,
   "metadata": {},
   "outputs": [],
   "source": [
    "gan7=GAN(discriminator=discriminator,generator=generator)"
   ]
  },
  {
   "cell_type": "markdown",
   "metadata": {},
   "source": [
    "### Compilación de GAIL"
   ]
  },
  {
   "cell_type": "code",
   "execution_count": 83,
   "metadata": {},
   "outputs": [],
   "source": [
    "tf.config.run_functions_eagerly(True)\n",
    "gan7.compile(\n",
    "    d_optimizer=tf.keras.optimizers.Adam(learning_rate=LEARNING_RATE),\n",
    "    loss_fn_D=loss_fn_D\n",
    ")"
   ]
  },
  {
   "cell_type": "markdown",
   "metadata": {},
   "source": [
    "### Entrenamiento de GAIL:111 Julio"
   ]
  },
  {
   "cell_type": "code",
   "execution_count": 84,
   "metadata": {},
   "outputs": [
    {
     "name": "stdout",
     "output_type": "stream",
     "text": [
      "\n",
      "\n",
      "\n",
      "d_loss= 2.1992164\n",
      "\n",
      "g_loss= 10.078086\n",
      " 1/27 [>.............................] - ETA: 4:30:20 - d_loss: 2.1992 - g_loss: 10.0781\n",
      "\n",
      "\n",
      "d_loss= 2.249517\n",
      "\n",
      "g_loss= -4.19089\n",
      " 2/27 [=>............................] - ETA: 4:19:44 - d_loss: 2.2244 - g_loss: 2.9436 \n",
      "\n",
      "\n",
      "d_loss= 2.21242\n",
      "\n",
      "g_loss= -0.12890892\n",
      " 3/27 [==>...........................] - ETA: 4:09:25 - d_loss: 2.2204 - g_loss: 1.9194\n",
      "\n",
      "\n",
      "d_loss= 2.2858357\n",
      "\n",
      "g_loss= -2.8192253\n",
      " 4/27 [===>..........................] - ETA: 3:59:17 - d_loss: 2.2367 - g_loss: 0.7348\n",
      "\n",
      "\n",
      "d_loss= 2.2605193\n",
      "\n",
      "g_loss= 1.2253541\n",
      " 5/27 [====>.........................] - ETA: 3:48:54 - d_loss: 2.2415 - g_loss: 0.8329\n",
      "\n",
      "\n",
      "d_loss= 2.2681231\n",
      "\n",
      "g_loss= -1.2698212\n",
      " 6/27 [=====>........................] - ETA: 3:38:34 - d_loss: 2.2459 - g_loss: 0.4824\n",
      "\n",
      "\n",
      "d_loss= 2.2129128\n",
      "\n",
      "g_loss= 1.6878016\n",
      " 7/27 [======>.......................] - ETA: 3:28:19 - d_loss: 2.2412 - g_loss: 0.6546\n",
      "\n",
      "\n",
      "d_loss= 2.2129898\n",
      "\n",
      "g_loss= 1.7571399\n",
      " 8/27 [=======>......................] - ETA: 3:18:09 - d_loss: 2.2377 - g_loss: 0.7924\n",
      "\n",
      "\n",
      "d_loss= 2.1540334\n",
      "\n",
      "g_loss= 0.48034042\n",
      " 9/27 [=========>....................] - ETA: 3:08:38 - d_loss: 2.2284 - g_loss: 0.7578\n",
      "\n",
      "\n",
      "d_loss= 2.200495\n",
      "\n",
      "g_loss= 1.2448933\n",
      "10/27 [==========>...................] - ETA: 2:58:53 - d_loss: 2.2256 - g_loss: 0.8065\n",
      "\n",
      "\n",
      "d_loss= 2.1715658\n",
      "\n",
      "g_loss= -10.233355\n",
      "11/27 [===========>..................] - ETA: 2:48:18 - d_loss: 2.2207 - g_loss: -0.1971\n",
      "\n",
      "\n",
      "d_loss= 2.1881754\n",
      "\n",
      "g_loss= 3.0038714\n",
      "12/27 [============>.................] - ETA: 2:38:15 - d_loss: 2.2180 - g_loss: 0.0696 \n",
      "\n",
      "\n",
      "d_loss= 2.1609669\n",
      "\n",
      "g_loss= 1.1182411\n",
      "13/27 [=============>................] - ETA: 2:28:07 - d_loss: 2.2136 - g_loss: 0.1503\n",
      "\n",
      "\n",
      "d_loss= 2.1606522\n",
      "\n",
      "g_loss= 0.5265543\n",
      "14/27 [==============>...............] - ETA: 2:17:32 - d_loss: 2.2098 - g_loss: 0.1771\n",
      "\n",
      "\n",
      "d_loss= 2.2017174\n",
      "\n",
      "g_loss= 1.201245\n",
      "15/27 [===============>..............] - ETA: 2:06:54 - d_loss: 2.2093 - g_loss: 0.2454\n",
      "\n",
      "\n",
      "d_loss= 2.1859865\n",
      "\n",
      "g_loss= 1.358487\n",
      "16/27 [================>.............] - ETA: 1:56:13 - d_loss: 2.2078 - g_loss: 0.3150\n",
      "\n",
      "\n",
      "d_loss= 2.1543267\n",
      "\n",
      "g_loss= -2.9675007\n",
      "17/27 [=================>............] - ETA: 1:45:34 - d_loss: 2.2047 - g_loss: 0.1219\n",
      "\n",
      "\n",
      "d_loss= 2.1469219\n",
      "\n",
      "g_loss= 3.7461329\n",
      "18/27 [===================>..........] - ETA: 1:34:57 - d_loss: 2.2015 - g_loss: 0.3232\n",
      "\n",
      "\n",
      "d_loss= 2.1551657\n",
      "\n",
      "g_loss= -1.1397625\n",
      "19/27 [====================>.........] - ETA: 1:24:22 - d_loss: 2.1990 - g_loss: 0.2462\n",
      "\n",
      "\n",
      "d_loss= 2.1878455\n",
      "\n",
      "g_loss= -1.0532545\n",
      "20/27 [=====================>........] - ETA: 1:13:47 - d_loss: 2.1985 - g_loss: 0.1813\n",
      "\n",
      "\n",
      "d_loss= 2.1453142\n",
      "\n",
      "g_loss= 1.1714995\n",
      "21/27 [======================>.......] - ETA: 1:03:14 - d_loss: 2.1959 - g_loss: 0.2284\n",
      "\n",
      "\n",
      "d_loss= 2.104559\n",
      "\n",
      "g_loss= -1.3316474\n",
      "22/27 [=======================>......] - ETA: 52:43 - d_loss: 2.1918 - g_loss: 0.1575  \n",
      "\n",
      "\n",
      "d_loss= 2.1707766\n",
      "\n",
      "g_loss= 1.0414482\n",
      "23/27 [========================>.....] - ETA: 42:17 - d_loss: 2.1909 - g_loss: 0.1959\n",
      "\n",
      "\n",
      "d_loss= 2.1322258\n",
      "\n",
      "g_loss= 3.1149242\n",
      "24/27 [=========================>....] - ETA: 31:45 - d_loss: 2.1884 - g_loss: 0.3176\n",
      "\n",
      "\n",
      "d_loss= 2.1394413\n",
      "\n",
      "g_loss= 1.1085552\n",
      "25/27 [==========================>...] - ETA: 21:08 - d_loss: 2.1865 - g_loss: 0.3492\n",
      "\n",
      "\n",
      "d_loss= 2.1833525\n",
      "\n",
      "g_loss= -1.8995426\n",
      "26/27 [===========================>..] - ETA: 10:34 - d_loss: 2.1863 - g_loss: 0.2627\n",
      "\n",
      "\n",
      "d_loss= 2.1623082\n",
      "\n",
      "g_loss= 0.32338706\n",
      "27/27 [==============================] - 17102s 634s/step - d_loss: 2.1855 - g_loss: 0.2650\n"
     ]
    }
   ],
   "source": [
    "# Deshabilitar los mensajes de información de TensorFlow\n",
    "os.environ['TF_CPP_MIN_LOG_LEVEL'] = '3'\n",
    "\n",
    "# Deshabilitar los mensajes de información de OpenAI Gym\n",
    "gym.logger.set_level(40)\n",
    "\n",
    "BATCH_SIZE=140\n",
    "\n",
    "history=gan7.fit(X_train,\n",
    "    epochs=EPOCHS, batch_size=BATCH_SIZE)\n"
   ]
  },
  {
   "cell_type": "markdown",
   "metadata": {},
   "source": [
    "### Evaluación de GAIL"
   ]
  },
  {
   "cell_type": "code",
   "execution_count": 85,
   "metadata": {},
   "outputs": [
    {
     "name": "stdout",
     "output_type": "stream",
     "text": [
      "1/1 [==============================] - 0s 19ms/step - loss: 0.2308 - accuracy: 0.0000e+00\n",
      "1/1 [==============================] - 0s 16ms/step - loss: 0.1936 - accuracy: 0.0000e+00\n",
      ">Loss real: \n",
      "0.2307622730731964\n",
      ">Loss fake: \n",
      "0.19357889890670776\n"
     ]
    }
   ],
   "source": [
    "# Evaluamos el Discriminador de GAIL en el TEST\n",
    "gan7.evaluate_D(X_test)\n"
   ]
  },
  {
   "cell_type": "code",
   "execution_count": 86,
   "metadata": {},
   "outputs": [
    {
     "name": "stdout",
     "output_type": "stream",
     "text": [
      "Episode  0 Total reward: 18.0909552986447\n",
      "Episode  1 Total reward: 103.35687758858653\n",
      "Episode  2 Total reward: -106.08590090110218\n",
      "Episode  3 Total reward: -143.48157179585914\n",
      "Episode  4 Total reward: -98.08062383464538\n",
      "Episode  5 Total reward: -13.408817955237012\n",
      "Episode  6 Total reward: -99.73177979132724\n",
      "Episode  7 Total reward: -136.07280040497568\n",
      "Episode  8 Total reward: -79.50307598766135\n",
      "Episode  9 Total reward: -151.283592214906\n",
      "Episode  10 Total reward: -114.12171241442475\n",
      "Episode  11 Total reward: -9.813204410815372\n",
      "Episode  12 Total reward: -52.84044604760258\n",
      "Episode  13 Total reward: -129.2309672909768\n",
      "Episode  14 Total reward: -43.920812489632524\n",
      "Episode  15 Total reward: -68.67577157058041\n",
      "Episode  16 Total reward: -250.14027687471452\n",
      "Episode  17 Total reward: 64.27896695671461\n",
      "Episode  18 Total reward: 0.6913754430051142\n",
      "Episode  19 Total reward: -153.8014312844716\n",
      "Episode  20 Total reward: -172.12293498243355\n",
      "Episode  21 Total reward: -135.58202288150733\n",
      "Episode  22 Total reward: -125.81490452544058\n",
      "Episode  23 Total reward: 9.006361210022732\n",
      "Episode  24 Total reward: -194.27345730631177\n",
      "Episode  25 Total reward: -23.83191335561702\n",
      "Episode  26 Total reward: -86.95254250297305\n",
      "Episode  27 Total reward: -98.69778650408315\n",
      "Episode  28 Total reward: -257.910941776185\n",
      "Episode  29 Total reward: -202.3379223142961\n",
      "Episode  30 Total reward: -132.66559452714964\n",
      "Episode  31 Total reward: 28.435051232608544\n",
      "Episode  32 Total reward: 45.56314287719708\n",
      "Episode  33 Total reward: -302.047951362009\n",
      "Episode  34 Total reward: -135.9911564557028\n",
      "Episode  35 Total reward: -26.86700583090291\n",
      "Episode  36 Total reward: 23.10568346645458\n",
      "Episode  37 Total reward: -22.092141252496162\n",
      "Episode  38 Total reward: -185.97343520628698\n",
      "Episode  39 Total reward: -48.82545778421235\n",
      "Episode  40 Total reward: -50.99609781225676\n",
      "Episode  41 Total reward: -182.47210848965724\n",
      "Episode  42 Total reward: -63.26190077221433\n",
      "Episode  43 Total reward: -175.0433251024536\n",
      "Episode  44 Total reward: -32.90882739541668\n",
      "Episode  45 Total reward: -131.23417458308876\n",
      "Episode  46 Total reward: -180.9030066184585\n",
      "Episode  47 Total reward: 9.809329761677532\n",
      "Episode  48 Total reward: -6.24681738385344\n",
      "Episode  49 Total reward: -58.45547031758653\n"
     ]
    },
    {
     "data": {
      "image/png": "[encoded data removed]",
      "text/plain": [
       "<Figure size 640x480 with 1 Axes>"
      ]
     },
     "metadata": {},
     "output_type": "display_data"
    },
    {
     "name": "stdout",
     "output_type": "stream",
     "text": [
      "\n",
      "Recompensa de Media: -87.62727876953228 \n",
      "\n"
     ]
    }
   ],
   "source": [
    "# Evaluamos al Generador \n",
    "rewardMean=gan7.evaluate_G()\n",
    "print('\\nRecompensa de Media:', rewardMean, '\\n')"
   ]
  },
  {
   "cell_type": "markdown",
   "metadata": {},
   "source": [
    "## Experimento 8"
   ]
  },
  {
   "cell_type": "code",
   "execution_count": 87,
   "metadata": {},
   "outputs": [
    {
     "name": "stdout",
     "output_type": "stream",
     "text": [
      "\n",
      "\tEstados reales: \n",
      " [[-0.00655632  1.412633   -0.6640952  ...  0.15042743  0.\n",
      "   0.        ]\n",
      " [-0.01301994  1.4137701  -0.65149987 ...  0.1017526   0.\n",
      "   0.        ]\n",
      " [-0.01941118  1.414314   -0.6424104  ...  0.06514421  0.\n",
      "   0.        ]\n",
      " ...\n",
      " [-0.46665245 -0.0082029   0.03071342 ...  0.67170596  1.\n",
      "   1.        ]\n",
      " [-0.4661541  -0.01350838  0.02066027 ...  0.635882    1.\n",
      "   1.        ]\n",
      " [-0.46567154 -0.01838761  0.02184356 ...  0.58443296  1.\n",
      "   1.        ]]\n",
      "\tAcciones reales: \n",
      " [3 3 3 ... 0 3 3]\n"
     ]
    }
   ],
   "source": [
    "expert_observations = np.genfromtxt(\"observations_LunarLander.csv\",delimiter=\"\\t\",dtype=str)\n",
    "expert_actions = np.genfromtxt('actions_LunarLander.csv', dtype=np.int32)\n",
    "expert_num_tray=np.genfromtxt('n_trayectoria_LunarLander.csv', dtype=np.int32)\n",
    "\n",
    "# Reemplazar las comas\n",
    "expert_observations = np.core.defchararray.replace(expert_observations, ',', ' ')\n",
    "\n",
    "# Crear un nuevo array para almacenar los datos convertidos\n",
    "converted_observations = np.genfromtxt(expert_observations, delimiter=' ', dtype=float)\n",
    "\n",
    "print(\"\\n\\tEstados reales: \\n\", converted_observations)\n",
    "print(\"\\tAcciones reales: \\n\", expert_actions)"
   ]
  },
  {
   "cell_type": "code",
   "execution_count": 88,
   "metadata": {},
   "outputs": [
    {
     "name": "stdout",
     "output_type": "stream",
     "text": [
      "5314\n"
     ]
    }
   ],
   "source": [
    "longitud_trayectoria += np.count_nonzero(expert_num_tray == 7)\n",
    "print(longitud_trayectoria)"
   ]
  },
  {
   "cell_type": "code",
   "execution_count": 89,
   "metadata": {},
   "outputs": [],
   "source": [
    "converted_observations=converted_observations[0:longitud_trayectoria]\n",
    "expert_actions=expert_actions[0:longitud_trayectoria]"
   ]
  },
  {
   "cell_type": "code",
   "execution_count": 90,
   "metadata": {},
   "outputs": [
    {
     "name": "stdout",
     "output_type": "stream",
     "text": [
      "[[-6.5563200e-03  1.4126330e+00 -6.6409520e-01 ...  0.0000000e+00\n",
      "   0.0000000e+00  1.0000000e+00]\n",
      " [-1.3019944e-02  1.4137701e+00 -6.5149987e-01 ...  0.0000000e+00\n",
      "   0.0000000e+00  1.0000000e+00]\n",
      " [-1.9411182e-02  1.4143140e+00 -6.4241040e-01 ...  0.0000000e+00\n",
      "   0.0000000e+00  1.0000000e+00]\n",
      " ...\n",
      " [ 1.3379402e-01  3.4672476e-03  6.3765560e-08 ...  0.0000000e+00\n",
      "   0.0000000e+00  0.0000000e+00]\n",
      " [ 1.3379402e-01  3.4672476e-03  5.2665534e-08 ...  0.0000000e+00\n",
      "   0.0000000e+00  0.0000000e+00]\n",
      " [ 1.3379402e-01  3.4672476e-03  4.0811244e-08 ...  0.0000000e+00\n",
      "   0.0000000e+00  0.0000000e+00]]\n",
      "Nº de (ESTADOS,ACCIONES) en el conjunto de entrenamiento: 4251\n",
      "Nº de (ESTADOS,ACCIONES) en el conjunto de prueba: 1063\n"
     ]
    }
   ],
   "source": [
    "# Construimos el dataset [s,a] reales y lo dividimos en training y test\n",
    "expert_a_one_hot=np.eye(env.action_space.n)[expert_actions]\n",
    "\n",
    "dataset=np.concatenate([converted_observations,expert_a_one_hot],axis=1)\n",
    "\n",
    "\n",
    "print(dataset)\n",
    "\n",
    "# Divide los datos en conjuntos de entrenamiento y prueba\n",
    "X_train, X_test = train_test_split(dataset, test_size=0.2, random_state=0)\n",
    "\n",
    "\n",
    "#Imprime el número de elementos en el conjuntos de entrenamiento y prueba\n",
    "print('Nº de (ESTADOS,ACCIONES) en el conjunto de entrenamiento:', len(X_train))\n",
    "print('Nº de (ESTADOS,ACCIONES) en el conjunto de prueba:', len(X_test))"
   ]
  },
  {
   "cell_type": "code",
   "execution_count": 91,
   "metadata": {},
   "outputs": [],
   "source": [
    "env= gym.make('LunarLander-v2')\n",
    "obs,_= env.reset()\n",
    "\n",
    "# Generador\n",
    "generator=Policy_net( 'policy', env, obs)\n",
    "\n",
    "# Generamos [s,a, s', r] falsas y las políticas theta_i y theta_i+1\n",
    "observations, actions, rewards, Old_Policy, Policy=generator.generate_fakes()\n",
    "\n",
    "# Discriminador\n",
    "discriminator=Discriminator(env, discriminator_net, converted_observations, expert_actions, observations, actions)"
   ]
  },
  {
   "cell_type": "markdown",
   "metadata": {},
   "source": [
    "### Definición de GAIL"
   ]
  },
  {
   "cell_type": "code",
   "execution_count": 92,
   "metadata": {},
   "outputs": [],
   "source": [
    "gan8=GAN(discriminator=discriminator,generator=generator)"
   ]
  },
  {
   "cell_type": "markdown",
   "metadata": {},
   "source": [
    "### Compilación de GAIL"
   ]
  },
  {
   "cell_type": "code",
   "execution_count": 93,
   "metadata": {},
   "outputs": [],
   "source": [
    "tf.config.run_functions_eagerly(True)\n",
    "gan8.compile(\n",
    "    d_optimizer=tf.keras.optimizers.Adam(learning_rate=LEARNING_RATE),\n",
    "    loss_fn_D=loss_fn_D\n",
    ")"
   ]
  },
  {
   "cell_type": "markdown",
   "metadata": {},
   "source": [
    "### Entrenamiento de GAIL"
   ]
  },
  {
   "cell_type": "code",
   "execution_count": 94,
   "metadata": {},
   "outputs": [
    {
     "name": "stdout",
     "output_type": "stream",
     "text": [
      "\n",
      "\n",
      "\n",
      "d_loss= 2.168239\n",
      "\n",
      "g_loss= -1.4352854\n",
      " 1/31 [..............................] - ETA: 5:12:41 - d_loss: 2.1682 - g_loss: -1.4353\n",
      "\n",
      "\n",
      "d_loss= 2.0973063\n",
      "\n",
      "g_loss= 1.3332803\n",
      " 2/31 [>.............................] - ETA: 5:00:32 - d_loss: 2.1328 - g_loss: -0.0510\n",
      "\n",
      "\n",
      "d_loss= 2.1293163\n",
      "\n",
      "g_loss= 2.947773\n",
      " 3/31 [=>............................] - ETA: 4:50:40 - d_loss: 2.1316 - g_loss: 0.9486 \n",
      "\n",
      "\n",
      "d_loss= 2.0864708\n",
      "\n",
      "g_loss= 0.13356198\n",
      " 4/31 [==>...........................] - ETA: 4:40:47 - d_loss: 2.1203 - g_loss: 0.7448\n",
      "\n",
      "\n",
      "d_loss= 2.1361542\n",
      "\n",
      "g_loss= 0.8342664\n",
      " 5/31 [===>..........................] - ETA: 4:30:38 - d_loss: 2.1235 - g_loss: 0.7627\n",
      "\n",
      "\n",
      "d_loss= 2.0865173\n",
      "\n",
      "g_loss= 2.2215557\n",
      " 6/31 [====>.........................] - ETA: 4:20:19 - d_loss: 2.1173 - g_loss: 1.0059\n",
      "\n",
      "\n",
      "d_loss= 2.168545\n",
      "\n",
      "g_loss= -0.67755616\n",
      " 7/31 [=====>........................] - ETA: 4:09:58 - d_loss: 2.1246 - g_loss: 0.7654\n",
      "\n",
      "\n",
      "d_loss= 2.1142564\n",
      "\n",
      "g_loss= -0.58131045\n",
      " 8/31 [======>.......................] - ETA: 3:59:34 - d_loss: 2.1234 - g_loss: 0.5970\n",
      "\n",
      "\n",
      "d_loss= 2.1686187\n",
      "\n",
      "g_loss= -0.11297961\n",
      " 9/31 [=======>......................] - ETA: 3:49:13 - d_loss: 2.1284 - g_loss: 0.5181\n",
      "\n",
      "\n",
      "d_loss= 2.11171\n",
      "\n",
      "g_loss= -1.2551826\n",
      "10/31 [========>.....................] - ETA: 3:38:49 - d_loss: 2.1267 - g_loss: 0.3408\n",
      "\n",
      "\n",
      "d_loss= 2.1079538\n",
      "\n",
      "g_loss= -2.769293\n",
      "11/31 [=========>....................] - ETA: 3:28:15 - d_loss: 2.1250 - g_loss: 0.0581\n",
      "\n",
      "\n",
      "d_loss= 2.1164527\n",
      "\n",
      "g_loss= 1.3625766\n",
      "12/31 [==========>...................] - ETA: 3:17:52 - d_loss: 2.1243 - g_loss: 0.1668\n",
      "\n",
      "\n",
      "d_loss= 2.0897353\n",
      "\n",
      "g_loss= -5.2981806\n",
      "13/31 [===========>..................] - ETA: 3:07:26 - d_loss: 2.1216 - g_loss: -0.2536\n",
      "\n",
      "\n",
      "d_loss= 2.1175683\n",
      "\n",
      "g_loss= -0.9542117\n",
      "14/31 [============>.................] - ETA: 2:57:02 - d_loss: 2.1213 - g_loss: -0.3036\n",
      "\n",
      "\n",
      "d_loss= 2.0689774\n",
      "\n",
      "g_loss= 3.5861104\n",
      "15/31 [=============>................] - ETA: 2:46:38 - d_loss: 2.1179 - g_loss: -0.0443\n",
      "\n",
      "\n",
      "d_loss= 2.0187583\n",
      "\n",
      "g_loss= 1.143096\n",
      "16/31 [==============>...............] - ETA: 2:36:14 - d_loss: 2.1117 - g_loss: 0.0299 \n",
      "\n",
      "\n",
      "d_loss= 2.0209568\n",
      "\n",
      "g_loss= -0.5035243\n",
      "17/31 [===============>..............] - ETA: 2:25:50 - d_loss: 2.1063 - g_loss: -0.0015\n",
      "\n",
      "\n",
      "d_loss= 2.051859\n",
      "\n",
      "g_loss= 6.9852867\n",
      "18/31 [================>.............] - ETA: 2:15:23 - d_loss: 2.1033 - g_loss: 0.3867 \n",
      "\n",
      "\n",
      "d_loss= 2.0168247\n",
      "\n",
      "g_loss= -0.9514415\n",
      "19/31 [=================>............] - ETA: 2:04:57 - d_loss: 2.0987 - g_loss: 0.3162\n",
      "\n",
      "\n",
      "d_loss= 2.027628\n",
      "\n",
      "g_loss= 1.3991253\n",
      "20/31 [==================>...........] - ETA: 1:54:33 - d_loss: 2.0952 - g_loss: 0.3704\n",
      "\n",
      "\n",
      "d_loss= 2.0958285\n",
      "\n",
      "g_loss= 2.5977476\n",
      "21/31 [===================>..........] - ETA: 1:44:09 - d_loss: 2.0952 - g_loss: 0.4764\n",
      "\n",
      "\n",
      "d_loss= 2.030774\n",
      "\n",
      "g_loss= -0.11126329\n",
      "22/31 [====================>.........] - ETA: 1:33:44 - d_loss: 2.0923 - g_loss: 0.4497\n",
      "\n",
      "\n",
      "d_loss= 2.0983632\n",
      "\n",
      "g_loss= -12.780735\n",
      "23/31 [=====================>........] - ETA: 1:23:18 - d_loss: 2.0926 - g_loss: -0.1255\n",
      "\n",
      "\n",
      "d_loss= 2.0613644\n",
      "\n",
      "g_loss= 9.761104\n",
      "24/31 [======================>.......] - ETA: 1:12:54 - d_loss: 2.0913 - g_loss: 0.2864 \n",
      "\n",
      "\n",
      "d_loss= 2.0406888\n",
      "\n",
      "g_loss= 1.7008716\n",
      "25/31 [=======================>......] - ETA: 1:02:29 - d_loss: 2.0892 - g_loss: 0.3430\n",
      "\n",
      "\n",
      "d_loss= 2.0782905\n",
      "\n",
      "g_loss= 1.2206409\n",
      "26/31 [========================>.....] - ETA: 52:04 - d_loss: 2.0888 - g_loss: 0.3768  \n",
      "\n",
      "\n",
      "d_loss= 2.053349\n",
      "\n",
      "g_loss= -0.10801429\n",
      "27/31 [=========================>....] - ETA: 41:39 - d_loss: 2.0875 - g_loss: 0.3588\n",
      "\n",
      "\n",
      "d_loss= 2.014494\n",
      "\n",
      "g_loss= -0.27699047\n",
      "28/31 [==========================>...] - ETA: 31:15 - d_loss: 2.0849 - g_loss: 0.3361\n",
      "\n",
      "\n",
      "d_loss= 2.0276122\n",
      "\n",
      "g_loss= -0.174349\n",
      "29/31 [===========================>..] - ETA: 20:50 - d_loss: 2.0829 - g_loss: 0.3185\n",
      "\n",
      "\n",
      "d_loss= 2.0072331\n",
      "\n",
      "g_loss= -2.4793923\n",
      "30/31 [============================>.] - ETA: 10:25 - d_loss: 2.0804 - g_loss: 0.2252\n",
      "\n",
      "\n",
      "d_loss= 2.0299146\n",
      "\n",
      "g_loss= 0.8537479\n",
      "31/31 [==============================] - 19381s 625s/step - d_loss: 2.0788 - g_loss: 0.2455\n"
     ]
    }
   ],
   "source": [
    "# Deshabilitar los mensajes de información de TensorFlow\n",
    "os.environ['TF_CPP_MIN_LOG_LEVEL'] = '3'\n",
    "\n",
    "# Deshabilitar los mensajes de información de OpenAI Gym\n",
    "gym.logger.set_level(40)\n",
    "\n",
    "BATCH_SIZE=140\n",
    "\n",
    "history=gan8.fit(X_train,\n",
    "    epochs=EPOCHS, batch_size=BATCH_SIZE)\n"
   ]
  },
  {
   "cell_type": "markdown",
   "metadata": {},
   "source": [
    "### Evaluación de GAIL"
   ]
  },
  {
   "cell_type": "code",
   "execution_count": 95,
   "metadata": {},
   "outputs": [
    {
     "name": "stdout",
     "output_type": "stream",
     "text": [
      "1/1 [==============================] - 0s 20ms/step - loss: 0.1231 - accuracy: 0.0000e+00\n",
      "1/1 [==============================] - 0s 18ms/step - loss: 0.1662 - accuracy: 0.0000e+00\n",
      ">Loss real: \n",
      "0.12309325486421585\n",
      ">Loss fake: \n",
      "0.16621606051921844\n"
     ]
    }
   ],
   "source": [
    "# Evaluamos el Discriminador de GAIL en el TEST\n",
    "gan8.evaluate_D(X_test)\n"
   ]
  },
  {
   "cell_type": "code",
   "execution_count": 96,
   "metadata": {},
   "outputs": [
    {
     "name": "stdout",
     "output_type": "stream",
     "text": [
      "Episode  0 Total reward: -152.45009046059357\n",
      "Episode  1 Total reward: -74.89542898525761\n",
      "Episode  2 Total reward: -11.157863982855304\n",
      "Episode  3 Total reward: 16.37162805211814\n",
      "Episode  4 Total reward: -170.3722071823641\n",
      "Episode  5 Total reward: -46.137262062290176\n",
      "Episode  6 Total reward: -20.01862610234552\n",
      "Episode  7 Total reward: 122.21944293946487\n",
      "Episode  8 Total reward: -83.05436230042258\n",
      "Episode  9 Total reward: -0.9943218218144949\n",
      "Episode  10 Total reward: -62.66975753694601\n",
      "Episode  11 Total reward: 15.973213687691654\n",
      "Episode  12 Total reward: -225.55737642988464\n",
      "Episode  13 Total reward: 65.54877113255475\n",
      "Episode  14 Total reward: -32.988570473580324\n",
      "Episode  15 Total reward: -147.17366453085322\n",
      "Episode  16 Total reward: -82.63414304177783\n",
      "Episode  17 Total reward: 84.80732250233072\n",
      "Episode  18 Total reward: -27.64896351257441\n",
      "Episode  19 Total reward: -12.68855178285942\n",
      "Episode  20 Total reward: -63.75141252568549\n",
      "Episode  21 Total reward: -27.602924876692015\n",
      "Episode  22 Total reward: -27.936351409641446\n",
      "Episode  23 Total reward: -97.8861569639255\n",
      "Episode  24 Total reward: -125.00836257050668\n",
      "Episode  25 Total reward: -56.20963195897437\n",
      "Episode  26 Total reward: -65.4092829324084\n",
      "Episode  27 Total reward: 36.91719162590533\n",
      "Episode  28 Total reward: -73.31296952875209\n",
      "Episode  29 Total reward: -36.036972384548875\n",
      "Episode  30 Total reward: -210.36439357949712\n",
      "Episode  31 Total reward: 65.77109255937474\n",
      "Episode  32 Total reward: -68.51136492462089\n",
      "Episode  33 Total reward: -44.18061190016756\n",
      "Episode  34 Total reward: -87.61403099666144\n",
      "Episode  35 Total reward: -83.24786526063588\n",
      "Episode  36 Total reward: 8.236498070455553\n",
      "Episode  37 Total reward: -88.02192963477356\n",
      "Episode  38 Total reward: -69.48583512225677\n",
      "Episode  39 Total reward: -6.992313680320393\n",
      "Episode  40 Total reward: 31.26910909220402\n",
      "Episode  41 Total reward: -56.46560112909999\n",
      "Episode  42 Total reward: -0.5049225077968771\n",
      "Episode  43 Total reward: -80.59078415085212\n",
      "Episode  44 Total reward: 18.35545861789204\n",
      "Episode  45 Total reward: -23.423747831471303\n",
      "Episode  46 Total reward: -73.69906677028114\n",
      "Episode  47 Total reward: -38.49210517234454\n",
      "Episode  48 Total reward: -201.7675915914946\n",
      "Episode  49 Total reward: 17.790391718272247\n"
     ]
    },
    {
     "data": {
      "image/png": "[encoded data removed]",
      "text/plain": [
       "<Figure size 640x480 with 1 Axes>"
      ]
     },
     "metadata": {},
     "output_type": "display_data"
    },
    {
     "name": "stdout",
     "output_type": "stream",
     "text": [
      "\n",
      "Recompensa de Media: -47.473945992231286 \n",
      "\n"
     ]
    }
   ],
   "source": [
    "# Evaluamos al Generador \n",
    "rewardMean=gan8.evaluate_G()\n",
    "print('\\nRecompensa de Media:', rewardMean, '\\n')"
   ]
  },
  {
   "cell_type": "markdown",
   "metadata": {},
   "source": [
    "## Experimento 9"
   ]
  },
  {
   "cell_type": "code",
   "execution_count": 97,
   "metadata": {},
   "outputs": [
    {
     "name": "stdout",
     "output_type": "stream",
     "text": [
      "\n",
      "\tEstados reales: \n",
      " [[-0.00655632  1.412633   -0.6640952  ...  0.15042743  0.\n",
      "   0.        ]\n",
      " [-0.01301994  1.4137701  -0.65149987 ...  0.1017526   0.\n",
      "   0.        ]\n",
      " [-0.01941118  1.414314   -0.6424104  ...  0.06514421  0.\n",
      "   0.        ]\n",
      " ...\n",
      " [-0.46665245 -0.0082029   0.03071342 ...  0.67170596  1.\n",
      "   1.        ]\n",
      " [-0.4661541  -0.01350838  0.02066027 ...  0.635882    1.\n",
      "   1.        ]\n",
      " [-0.46567154 -0.01838761  0.02184356 ...  0.58443296  1.\n",
      "   1.        ]]\n",
      "\tAcciones reales: \n",
      " [3 3 3 ... 0 3 3]\n"
     ]
    }
   ],
   "source": [
    "expert_observations = np.genfromtxt(\"observations_LunarLander.csv\",delimiter=\"\\t\",dtype=str)\n",
    "expert_actions = np.genfromtxt('actions_LunarLander.csv', dtype=np.int32)\n",
    "expert_num_tray=np.genfromtxt('n_trayectoria_LunarLander.csv', dtype=np.int32)\n",
    "\n",
    "# Reemplazar las comas\n",
    "expert_observations = np.core.defchararray.replace(expert_observations, ',', ' ')\n",
    "\n",
    "# Crear un nuevo array para almacenar los datos convertidos\n",
    "converted_observations = np.genfromtxt(expert_observations, delimiter=' ', dtype=float)\n",
    "\n",
    "print(\"\\n\\tEstados reales: \\n\", converted_observations)\n",
    "print(\"\\tAcciones reales: \\n\", expert_actions)"
   ]
  },
  {
   "cell_type": "code",
   "execution_count": 98,
   "metadata": {},
   "outputs": [
    {
     "name": "stdout",
     "output_type": "stream",
     "text": [
      "5799\n"
     ]
    }
   ],
   "source": [
    "longitud_trayectoria += np.count_nonzero(expert_num_tray == 8)\n",
    "print(longitud_trayectoria)"
   ]
  },
  {
   "cell_type": "code",
   "execution_count": 99,
   "metadata": {},
   "outputs": [],
   "source": [
    "converted_observations=converted_observations[0:longitud_trayectoria]\n",
    "expert_actions=expert_actions[0:longitud_trayectoria]"
   ]
  },
  {
   "cell_type": "code",
   "execution_count": 100,
   "metadata": {},
   "outputs": [
    {
     "name": "stdout",
     "output_type": "stream",
     "text": [
      "[[-0.00655632  1.412633   -0.6640952  ...  0.          0.\n",
      "   1.        ]\n",
      " [-0.01301994  1.4137701  -0.65149987 ...  0.          0.\n",
      "   1.        ]\n",
      " [-0.01941118  1.414314   -0.6424104  ...  0.          0.\n",
      "   1.        ]\n",
      " ...\n",
      " [ 0.7474047   0.0260748  -0.02635835 ...  0.          0.\n",
      "   0.        ]\n",
      " [ 0.74719274  0.02124918 -0.04889769 ...  0.          0.\n",
      "   1.        ]\n",
      " [ 0.74685365  0.01683348 -0.05817185 ...  0.          0.\n",
      "   1.        ]]\n",
      "Nº de (ESTADOS,ACCIONES) en el conjunto de entrenamiento: 4639\n",
      "Nº de (ESTADOS,ACCIONES) en el conjunto de prueba: 1160\n"
     ]
    }
   ],
   "source": [
    "# Construimos el dataset [s,a] reales y lo dividimos en training y test\n",
    "expert_a_one_hot=np.eye(env.action_space.n)[expert_actions]\n",
    "\n",
    "dataset=np.concatenate([converted_observations,expert_a_one_hot],axis=1)\n",
    "\n",
    "\n",
    "print(dataset)\n",
    "\n",
    "# Divide los datos en conjuntos de entrenamiento y prueba\n",
    "X_train, X_test = train_test_split(dataset, test_size=0.2, random_state=0)\n",
    "\n",
    "\n",
    "#Imprime el número de elementos en el conjuntos de entrenamiento y prueba\n",
    "print('Nº de (ESTADOS,ACCIONES) en el conjunto de entrenamiento:', len(X_train))\n",
    "print('Nº de (ESTADOS,ACCIONES) en el conjunto de prueba:', len(X_test))"
   ]
  },
  {
   "cell_type": "code",
   "execution_count": 101,
   "metadata": {},
   "outputs": [],
   "source": [
    "env= gym.make('LunarLander-v2')\n",
    "obs,_= env.reset()\n",
    "\n",
    "# Generador\n",
    "generator=Policy_net( 'policy', env, obs)\n",
    "\n",
    "# Generamos [s,a, s', r] falsas y las políticas theta_i y theta_i+1\n",
    "observations, actions, rewards, Old_Policy, Policy=generator.generate_fakes()\n",
    "\n",
    "# Discriminador\n",
    "discriminator=Discriminator(env, discriminator_net, converted_observations, expert_actions, observations, actions)"
   ]
  },
  {
   "cell_type": "markdown",
   "metadata": {},
   "source": [
    "### Definición de GAIL"
   ]
  },
  {
   "cell_type": "code",
   "execution_count": 102,
   "metadata": {},
   "outputs": [],
   "source": [
    "gan9=GAN(discriminator=discriminator,generator=generator)"
   ]
  },
  {
   "cell_type": "markdown",
   "metadata": {},
   "source": [
    "### Compilación de GAIL"
   ]
  },
  {
   "cell_type": "code",
   "execution_count": 103,
   "metadata": {},
   "outputs": [],
   "source": [
    "tf.config.run_functions_eagerly(True)\n",
    "gan9.compile(\n",
    "    d_optimizer=tf.keras.optimizers.Adam(learning_rate=LEARNING_RATE),\n",
    "    loss_fn_D=loss_fn_D\n",
    ")"
   ]
  },
  {
   "cell_type": "markdown",
   "metadata": {},
   "source": [
    "### Entrenamiento de GAIL:11 Julio"
   ]
  },
  {
   "cell_type": "code",
   "execution_count": 104,
   "metadata": {},
   "outputs": [
    {
     "name": "stdout",
     "output_type": "stream",
     "text": [
      "\n",
      "\n",
      "\n",
      "d_loss= 2.0391202\n",
      "\n",
      "g_loss= 1.1080501\n",
      " 1/34 [..............................] - ETA: 5:44:40 - d_loss: 2.0391 - g_loss: 1.1081\n",
      "\n",
      "\n",
      "d_loss= 2.041652\n",
      "\n",
      "g_loss= -1.2417939\n",
      " 2/34 [>.............................] - ETA: 5:33:02 - d_loss: 2.0404 - g_loss: -0.0669\n",
      "\n",
      "\n",
      "d_loss= 2.027039\n",
      "\n",
      "g_loss= 0.4549353\n",
      " 3/34 [=>............................] - ETA: 5:22:34 - d_loss: 2.0359 - g_loss: 0.1071 \n",
      "\n",
      "\n",
      "d_loss= 1.9740076\n",
      "\n",
      "g_loss= 0.46649015\n",
      " 4/34 [==>...........................] - ETA: 5:12:35 - d_loss: 2.0205 - g_loss: 0.1969\n",
      "\n",
      "\n",
      "d_loss= 2.0070426\n",
      "\n",
      "g_loss= 0.46563444\n",
      " 5/34 [===>..........................] - ETA: 5:02:17 - d_loss: 2.0178 - g_loss: 0.2507\n",
      "\n",
      "\n",
      "d_loss= 2.0025592\n",
      "\n",
      "g_loss= 1.4233248\n",
      " 6/34 [====>.........................] - ETA: 4:51:44 - d_loss: 2.0152 - g_loss: 0.4461\n",
      "\n",
      "\n",
      "d_loss= 1.9986088\n",
      "\n",
      "g_loss= 4.420643\n",
      " 7/34 [=====>........................] - ETA: 4:41:05 - d_loss: 2.0129 - g_loss: 1.0139\n",
      "\n",
      "\n",
      "d_loss= 2.059896\n",
      "\n",
      "g_loss= 1.0117975\n",
      " 8/34 [======>.......................] - ETA: 4:30:35 - d_loss: 2.0187 - g_loss: 1.0136\n",
      "\n",
      "\n",
      "d_loss= 1.9976285\n",
      "\n",
      "g_loss= 0.21379325\n",
      " 9/34 [======>.......................] - ETA: 4:20:08 - d_loss: 2.0164 - g_loss: 0.9248\n",
      "\n",
      "\n",
      "d_loss= 1.9789813\n",
      "\n",
      "g_loss= 0.2129876\n",
      "10/34 [=======>......................] - ETA: 4:09:47 - d_loss: 2.0127 - g_loss: 0.8536\n",
      "\n",
      "\n",
      "d_loss= 2.0425181\n",
      "\n",
      "g_loss= -0.2711578\n",
      "11/34 [========>.....................] - ETA: 3:59:28 - d_loss: 2.0154 - g_loss: 0.7513\n",
      "\n",
      "\n",
      "d_loss= 2.0069625\n",
      "\n",
      "g_loss= -10.604606\n",
      "12/34 [=========>....................] - ETA: 3:49:10 - d_loss: 2.0147 - g_loss: -0.1950\n",
      "\n",
      "\n",
      "d_loss= 1.993463\n",
      "\n",
      "g_loss= 1.9384979\n",
      "13/34 [==========>...................] - ETA: 3:38:39 - d_loss: 2.0130 - g_loss: -0.0309\n",
      "\n",
      "\n",
      "d_loss= 2.011788\n",
      "\n",
      "g_loss= -2.4078293\n",
      "14/34 [===========>..................] - ETA: 3:28:10 - d_loss: 2.0129 - g_loss: -0.2007\n",
      "\n",
      "\n",
      "d_loss= 1.9588618\n",
      "\n",
      "g_loss= -2.6653638\n",
      "15/34 [============>.................] - ETA: 3:17:46 - d_loss: 2.0093 - g_loss: -0.3650\n",
      "\n",
      "\n",
      "d_loss= 1.9648473\n",
      "\n",
      "g_loss= 2.3817883\n",
      "16/34 [=============>................] - ETA: 3:07:18 - d_loss: 2.0066 - g_loss: -0.1933\n",
      "\n",
      "\n",
      "d_loss= 1.9589334\n",
      "\n",
      "g_loss= -0.12056032\n",
      "17/34 [==============>...............] - ETA: 2:56:54 - d_loss: 2.0038 - g_loss: -0.1890\n",
      "\n",
      "\n",
      "d_loss= 1.9700873\n",
      "\n",
      "g_loss= 1.057698\n",
      "18/34 [==============>...............] - ETA: 2:46:32 - d_loss: 2.0019 - g_loss: -0.1198\n",
      "\n",
      "\n",
      "d_loss= 1.9239962\n",
      "\n",
      "g_loss= 0.6068068\n",
      "19/34 [===============>..............] - ETA: 2:36:25 - d_loss: 1.9978 - g_loss: -0.0815\n",
      "\n",
      "\n",
      "d_loss= 1.998116\n",
      "\n",
      "g_loss= -4.686561\n",
      "20/34 [================>.............] - ETA: 2:26:08 - d_loss: 1.9978 - g_loss: -0.3118\n",
      "\n",
      "\n",
      "d_loss= 1.978562\n",
      "\n",
      "g_loss= -10.273919\n",
      "21/34 [=================>............] - ETA: 2:15:53 - d_loss: 1.9969 - g_loss: -0.7862\n",
      "\n",
      "\n",
      "d_loss= 1.9135791\n",
      "\n",
      "g_loss= 3.97231\n",
      "22/34 [==================>...........] - ETA: 2:05:34 - d_loss: 1.9931 - g_loss: -0.5699\n",
      "\n",
      "\n",
      "d_loss= 1.9727709\n",
      "\n",
      "g_loss= 0.50294936\n",
      "23/34 [===================>..........] - ETA: 1:55:13 - d_loss: 1.9922 - g_loss: -0.5232\n",
      "\n",
      "\n",
      "d_loss= 1.9883306\n",
      "\n",
      "g_loss= 0.60623306\n",
      "24/34 [====================>.........] - ETA: 1:44:50 - d_loss: 1.9921 - g_loss: -0.4762\n",
      "\n",
      "\n",
      "d_loss= 1.9570613\n",
      "\n",
      "g_loss= -0.30191052\n",
      "25/34 [=====================>........] - ETA: 1:34:25 - d_loss: 1.9907 - g_loss: -0.4692\n",
      "\n",
      "\n",
      "d_loss= 1.9450943\n",
      "\n",
      "g_loss= 0.33341753\n",
      "26/34 [=====================>........] - ETA: 1:23:59 - d_loss: 1.9889 - g_loss: -0.4383\n",
      "\n",
      "\n",
      "d_loss= 2.0040874\n",
      "\n",
      "g_loss= 0.5867708\n",
      "27/34 [======================>.......] - ETA: 1:13:32 - d_loss: 1.9895 - g_loss: -0.4004\n",
      "\n",
      "\n",
      "d_loss= 1.9669888\n",
      "\n",
      "g_loss= 3.8133311\n",
      "28/34 [=======================>......] - ETA: 1:03:04 - d_loss: 1.9887 - g_loss: -0.2499\n",
      "\n",
      "\n",
      "d_loss= 1.9460583\n",
      "\n",
      "g_loss= -2.5127425\n",
      "29/34 [========================>.....] - ETA: 52:36 - d_loss: 1.9872 - g_loss: -0.3279  \n",
      "\n",
      "\n",
      "d_loss= 1.9251289\n",
      "\n",
      "g_loss= -3.010611\n",
      "30/34 [=========================>....] - ETA: 42:05 - d_loss: 1.9851 - g_loss: -0.4173\n",
      "\n",
      "\n",
      "d_loss= 1.9567043\n",
      "\n",
      "g_loss= -1.7876996\n",
      "31/34 [==========================>...] - ETA: 31:34 - d_loss: 1.9842 - g_loss: -0.4615\n",
      "\n",
      "\n",
      "d_loss= 1.9881021\n",
      "\n",
      "g_loss= -0.4647008\n",
      "32/34 [===========================>..] - ETA: 21:04 - d_loss: 1.9843 - g_loss: -0.4616\n",
      "\n",
      "\n",
      "d_loss= 1.9220487\n",
      "\n",
      "g_loss= 2.4858918\n",
      "33/34 [============================>.] - ETA: 10:32 - d_loss: 1.9824 - g_loss: -0.3723\n",
      "\n",
      "\n",
      "d_loss= 1.886266\n",
      "\n",
      "g_loss= -0.533304\n",
      "34/34 [==============================] - 21505s 633s/step - d_loss: 1.9796 - g_loss: -0.3770\n"
     ]
    }
   ],
   "source": [
    "# Deshabilitar los mensajes de información de TensorFlow\n",
    "os.environ['TF_CPP_MIN_LOG_LEVEL'] = '3'\n",
    "\n",
    "# Deshabilitar los mensajes de información de OpenAI Gym\n",
    "gym.logger.set_level(40)\n",
    "\n",
    "BATCH_SIZE=140\n",
    "\n",
    "history=gan9.fit(X_train,\n",
    "    epochs=EPOCHS, batch_size=BATCH_SIZE)\n"
   ]
  },
  {
   "cell_type": "markdown",
   "metadata": {},
   "source": [
    "### Evaluación de GAIL"
   ]
  },
  {
   "cell_type": "code",
   "execution_count": 105,
   "metadata": {},
   "outputs": [
    {
     "name": "stdout",
     "output_type": "stream",
     "text": [
      "1/1 [==============================] - 0s 20ms/step - loss: 0.0467 - accuracy: 0.0000e+00\n",
      "1/1 [==============================] - 0s 19ms/step - loss: 0.1045 - accuracy: 0.0000e+00\n",
      ">Loss real: \n",
      "0.04666326195001602\n",
      ">Loss fake: \n",
      "0.10448182374238968\n"
     ]
    }
   ],
   "source": [
    "# Evaluamos el Discriminador de GAIL en el TEST\n",
    "gan9.evaluate_D(X_test)\n"
   ]
  },
  {
   "cell_type": "code",
   "execution_count": 106,
   "metadata": {},
   "outputs": [
    {
     "name": "stdout",
     "output_type": "stream",
     "text": [
      "Episode  0 Total reward: -177.47390024851904\n",
      "Episode  1 Total reward: -272.60068566981835\n",
      "Episode  2 Total reward: -107.72785221370978\n",
      "Episode  3 Total reward: -45.018073822298135\n",
      "Episode  4 Total reward: -87.18656115306928\n",
      "Episode  5 Total reward: -31.240055607665454\n",
      "Episode  6 Total reward: -365.4599872459789\n",
      "Episode  7 Total reward: -74.20741250291458\n",
      "Episode  8 Total reward: 36.155331179445824\n",
      "Episode  9 Total reward: -18.954097411832393\n",
      "Episode  10 Total reward: -34.28525369274209\n",
      "Episode  11 Total reward: -39.21565407014517\n",
      "Episode  12 Total reward: 21.296126863052592\n",
      "Episode  13 Total reward: -203.9683886198651\n",
      "Episode  14 Total reward: 87.51771659343427\n",
      "Episode  15 Total reward: -101.72806977211054\n",
      "Episode  16 Total reward: -51.224192104087535\n",
      "Episode  17 Total reward: -58.160385243537036\n",
      "Episode  18 Total reward: -34.88016611510744\n",
      "Episode  19 Total reward: 52.6848961516693\n",
      "Episode  20 Total reward: -38.34661337209373\n",
      "Episode  21 Total reward: -13.729260711412943\n",
      "Episode  22 Total reward: -31.18593319695161\n",
      "Episode  23 Total reward: 40.07515456252639\n",
      "Episode  24 Total reward: -24.71692859660544\n",
      "Episode  25 Total reward: -57.79913952305685\n",
      "Episode  26 Total reward: -181.3415063476193\n",
      "Episode  27 Total reward: -11.074698596640062\n",
      "Episode  28 Total reward: -229.9665400536354\n",
      "Episode  29 Total reward: -41.03242567009549\n",
      "Episode  30 Total reward: -11.369068352259802\n",
      "Episode  31 Total reward: -29.080021273340606\n",
      "Episode  32 Total reward: -35.12638889607736\n",
      "Episode  33 Total reward: -254.38776284930353\n",
      "Episode  34 Total reward: -144.1712942326798\n",
      "Episode  35 Total reward: 109.39612313142759\n",
      "Episode  36 Total reward: 30.79529798726429\n",
      "Episode  37 Total reward: -24.499567016290584\n",
      "Episode  38 Total reward: -135.70081300406477\n",
      "Episode  39 Total reward: 102.19634135210114\n",
      "Episode  40 Total reward: 28.145742008049297\n",
      "Episode  41 Total reward: -115.93018728263215\n",
      "Episode  42 Total reward: -57.381320261177805\n",
      "Episode  43 Total reward: -36.39494346921302\n",
      "Episode  44 Total reward: -233.2091268442584\n",
      "Episode  45 Total reward: 117.26527188244559\n",
      "Episode  46 Total reward: -51.511707504803\n",
      "Episode  47 Total reward: -110.05166135018088\n",
      "Episode  48 Total reward: -43.77089835083139\n",
      "Episode  49 Total reward: 24.17921938162083\n"
     ]
    },
    {
     "data": {
      "image/png": "[encoded data removed]",
      "text/plain": [
       "<Figure size 640x480 with 1 Axes>"
      ]
     },
     "metadata": {},
     "output_type": "display_data"
    },
    {
     "name": "stdout",
     "output_type": "stream",
     "text": [
      "\n",
      "Recompensa de Media: -59.30802642311175 \n",
      "\n"
     ]
    }
   ],
   "source": [
    "# Evaluamos al Generador \n",
    "rewardMean=gan9.evaluate_G()\n",
    "print('\\nRecompensa de Media:', rewardMean, '\\n')"
   ]
  },
  {
   "cell_type": "markdown",
   "metadata": {},
   "source": [
    "## Experimento 10"
   ]
  },
  {
   "cell_type": "code",
   "execution_count": 107,
   "metadata": {},
   "outputs": [
    {
     "name": "stdout",
     "output_type": "stream",
     "text": [
      "\n",
      "\tEstados reales: \n",
      " [[-0.00655632  1.412633   -0.6640952  ...  0.15042743  0.\n",
      "   0.        ]\n",
      " [-0.01301994  1.4137701  -0.65149987 ...  0.1017526   0.\n",
      "   0.        ]\n",
      " [-0.01941118  1.414314   -0.6424104  ...  0.06514421  0.\n",
      "   0.        ]\n",
      " ...\n",
      " [-0.46665245 -0.0082029   0.03071342 ...  0.67170596  1.\n",
      "   1.        ]\n",
      " [-0.4661541  -0.01350838  0.02066027 ...  0.635882    1.\n",
      "   1.        ]\n",
      " [-0.46567154 -0.01838761  0.02184356 ...  0.58443296  1.\n",
      "   1.        ]]\n",
      "\tAcciones reales: \n",
      " [3 3 3 ... 0 3 3]\n"
     ]
    }
   ],
   "source": [
    "expert_observations = np.genfromtxt(\"observations_LunarLander.csv\",delimiter=\"\\t\",dtype=str)\n",
    "expert_actions = np.genfromtxt('actions_LunarLander.csv', dtype=np.int32)\n",
    "expert_num_tray=np.genfromtxt('n_trayectoria_LunarLander.csv', dtype=np.int32)\n",
    "\n",
    "# Reemplazar las comas\n",
    "expert_observations = np.core.defchararray.replace(expert_observations, ',', ' ')\n",
    "\n",
    "# Crear un nuevo array para almacenar los datos convertidos\n",
    "converted_observations = np.genfromtxt(expert_observations, delimiter=' ', dtype=float)\n",
    "\n",
    "print(\"\\n\\tEstados reales: \\n\", converted_observations)\n",
    "print(\"\\tAcciones reales: \\n\", expert_actions)"
   ]
  },
  {
   "cell_type": "code",
   "execution_count": 108,
   "metadata": {},
   "outputs": [
    {
     "name": "stdout",
     "output_type": "stream",
     "text": [
      "6310\n"
     ]
    }
   ],
   "source": [
    "longitud_trayectoria += np.count_nonzero(expert_num_tray == 9)\n",
    "print(longitud_trayectoria)"
   ]
  },
  {
   "cell_type": "code",
   "execution_count": 109,
   "metadata": {},
   "outputs": [],
   "source": [
    "converted_observations=converted_observations[0:longitud_trayectoria]\n",
    "expert_actions=expert_actions[0:longitud_trayectoria]"
   ]
  },
  {
   "cell_type": "code",
   "execution_count": 110,
   "metadata": {},
   "outputs": [
    {
     "name": "stdout",
     "output_type": "stream",
     "text": [
      "[[-0.00655632  1.412633   -0.6640952  ...  0.          0.\n",
      "   1.        ]\n",
      " [-0.01301994  1.4137701  -0.65149987 ...  0.          0.\n",
      "   1.        ]\n",
      " [-0.01941118  1.414314   -0.6424104  ...  0.          0.\n",
      "   1.        ]\n",
      " ...\n",
      " [-0.46665245 -0.0082029   0.03071342 ...  0.          0.\n",
      "   0.        ]\n",
      " [-0.4661541  -0.01350838  0.02066027 ...  0.          0.\n",
      "   1.        ]\n",
      " [-0.46567154 -0.01838761  0.02184356 ...  0.          0.\n",
      "   1.        ]]\n",
      "Nº de (ESTADOS,ACCIONES) en el conjunto de entrenamiento: 5048\n",
      "Nº de (ESTADOS,ACCIONES) en el conjunto de prueba: 1262\n"
     ]
    }
   ],
   "source": [
    "# Construimos el dataset [s,a] reales y lo dividimos en training y test\n",
    "expert_a_one_hot=np.eye(env.action_space.n)[expert_actions]\n",
    "\n",
    "dataset=np.concatenate([converted_observations,expert_a_one_hot],axis=1)\n",
    "\n",
    "\n",
    "print(dataset)\n",
    "\n",
    "# Divide los datos en conjuntos de entrenamiento y prueba\n",
    "X_train, X_test = train_test_split(dataset, test_size=0.2, random_state=0)\n",
    "\n",
    "\n",
    "#Imprime el número de elementos en el conjuntos de entrenamiento y prueba\n",
    "print('Nº de (ESTADOS,ACCIONES) en el conjunto de entrenamiento:', len(X_train))\n",
    "print('Nº de (ESTADOS,ACCIONES) en el conjunto de prueba:', len(X_test))"
   ]
  },
  {
   "cell_type": "code",
   "execution_count": 111,
   "metadata": {},
   "outputs": [],
   "source": [
    "env= gym.make('LunarLander-v2')\n",
    "obs,_= env.reset()\n",
    "\n",
    "# Generador\n",
    "generator=Policy_net( 'policy', env, obs)\n",
    "BATCH_SIZE= round(len(X_train)/300)\n",
    "\n",
    "# Generamos [s,a, s', r] falsas y las políticas theta_i y theta_i+1\n",
    "observations, actions, rewards, Old_Policy, Policy=generator.generate_fakes()\n",
    "\n",
    "# Discriminador\n",
    "discriminator=Discriminator(env, discriminator_net, converted_observations, expert_actions, observations, actions)"
   ]
  },
  {
   "cell_type": "markdown",
   "metadata": {},
   "source": [
    "### Definición de GAIL"
   ]
  },
  {
   "cell_type": "code",
   "execution_count": 112,
   "metadata": {},
   "outputs": [],
   "source": [
    "gan10=GAN(discriminator=discriminator,generator=generator)"
   ]
  },
  {
   "cell_type": "markdown",
   "metadata": {},
   "source": [
    "### Compilación de GAIL"
   ]
  },
  {
   "cell_type": "code",
   "execution_count": 113,
   "metadata": {},
   "outputs": [],
   "source": [
    "tf.config.run_functions_eagerly(True)\n",
    "gan10.compile(\n",
    "    d_optimizer=tf.keras.optimizers.Adam(learning_rate=LEARNING_RATE),\n",
    "    loss_fn_D=loss_fn_D\n",
    ")"
   ]
  },
  {
   "cell_type": "markdown",
   "metadata": {},
   "source": [
    "### Entrenamiento de GAIL"
   ]
  },
  {
   "cell_type": "code",
   "execution_count": null,
   "metadata": {},
   "outputs": [
    {
     "name": "stdout",
     "output_type": "stream",
     "text": [
      "\n",
      "\n",
      "\n",
      "d_loss= 2.2263265\n",
      "\n",
      "g_loss= 1.2751336\n",
      " 1/37 [..............................] - ETA: 6:06:21 - d_loss: 2.2263 - g_loss: 1.2751\n",
      "\n",
      "\n",
      "d_loss= 2.253498\n",
      "\n",
      "g_loss= 0.6420274\n",
      " 2/37 [>.............................] - ETA: 6:01:30 - d_loss: 2.2399 - g_loss: 0.9586\n",
      "\n",
      "\n",
      "d_loss= 2.2413805\n",
      "\n",
      "g_loss= 10.210431\n",
      " 3/37 [=>............................] - ETA: 5:49:33 - d_loss: 2.2404 - g_loss: 4.0425\n",
      "\n",
      "\n",
      "d_loss= 2.1521301\n",
      "\n",
      "g_loss= 1.540593\n",
      " 4/37 [==>...........................] - ETA: 5:40:09 - d_loss: 2.2183 - g_loss: 3.4170\n",
      "\n",
      "\n",
      "d_loss= 2.2152104\n",
      "\n",
      "g_loss= 9.263229\n",
      " 5/37 [===>..........................] - ETA: 5:29:11 - d_loss: 2.2177 - g_loss: 4.5863\n",
      "\n",
      "\n",
      "d_loss= 2.1911702\n",
      "\n",
      "g_loss= 2.8035722\n",
      " 6/37 [===>..........................] - ETA: 5:19:41 - d_loss: 2.2133 - g_loss: 4.2892\n",
      "\n",
      "\n",
      "d_loss= 2.1430357\n",
      "\n",
      "g_loss= 1.3909442\n",
      " 7/37 [====>.........................] - ETA: 5:09:16 - d_loss: 2.2033 - g_loss: 3.8751\n",
      "\n",
      "\n",
      "d_loss= 2.180944\n",
      "\n",
      "g_loss= 0.62355936\n",
      " 8/37 [=====>........................] - ETA: 4:58:34 - d_loss: 2.2005 - g_loss: 3.4687\n",
      "\n",
      "\n",
      "d_loss= 2.1466436\n",
      "\n",
      "g_loss= -1.4240041\n",
      " 9/37 [======>.......................] - ETA: 4:48:37 - d_loss: 2.1945 - g_loss: 2.9251\n",
      "\n",
      "\n",
      "d_loss= 2.1630504\n",
      "\n",
      "g_loss= 1.7070292\n",
      "10/37 [=======>......................] - ETA: 4:38:19 - d_loss: 2.1913 - g_loss: 2.8033\n",
      "\n",
      "\n",
      "d_loss= 2.1298273\n",
      "\n",
      "g_loss= -0.7709466\n",
      "11/37 [=======>......................] - ETA: 4:28:02 - d_loss: 2.1857 - g_loss: 2.4783\n",
      "\n",
      "\n",
      "d_loss= 2.1284018\n",
      "\n",
      "g_loss= 0.3872177\n",
      "12/37 [========>.....................] - ETA: 4:17:39 - d_loss: 2.1810 - g_loss: 2.3041\n",
      "\n",
      "\n",
      "d_loss= 2.137503\n",
      "\n",
      "g_loss= 2.4712772\n",
      "13/37 [=========>....................] - ETA: 4:07:34 - d_loss: 2.1776 - g_loss: 2.3169\n",
      "\n",
      "\n",
      "d_loss= 2.1553612\n",
      "\n",
      "g_loss= 0.3069033\n",
      "14/37 [==========>...................] - ETA: 3:57:16 - d_loss: 2.1760 - g_loss: 2.1734\n",
      "\n",
      "\n",
      "d_loss= 2.105753\n",
      "\n",
      "g_loss= 3.4443514\n",
      "15/37 [===========>..................] - ETA: 3:47:00 - d_loss: 2.1713 - g_loss: 2.2581\n",
      "\n",
      "\n",
      "d_loss= 2.1244643\n",
      "\n",
      "g_loss= -0.13058709\n",
      "16/37 [===========>..................] - ETA: 3:36:41 - d_loss: 2.1684 - g_loss: 2.1088\n",
      "\n",
      "\n",
      "d_loss= 2.1092796\n",
      "\n",
      "g_loss= -12.735314\n",
      "17/37 [============>.................] - ETA: 3:26:12 - d_loss: 2.1649 - g_loss: 1.2356\n",
      "\n",
      "\n",
      "d_loss= 2.0951483\n",
      "\n",
      "g_loss= 100.37053\n",
      "18/37 [=============>................] - ETA: 3:15:49 - d_loss: 2.1611 - g_loss: 6.7431\n",
      "\n",
      "\n",
      "d_loss= 2.1815608\n",
      "\n",
      "g_loss= 0.12140201\n",
      "19/37 [==============>...............] - ETA: 3:05:33 - d_loss: 2.1621 - g_loss: 6.3946\n",
      "\n",
      "\n",
      "d_loss= 2.098308\n",
      "\n",
      "g_loss= -0.68235755\n",
      "20/37 [===============>..............] - ETA: 2:55:19 - d_loss: 2.1590 - g_loss: 6.0407\n",
      "\n",
      "\n",
      "d_loss= 2.057498\n",
      "\n",
      "g_loss= -2.817317\n",
      "21/37 [================>.............] - ETA: 2:44:58 - d_loss: 2.1541 - g_loss: 5.6189\n",
      "\n",
      "\n",
      "d_loss= 2.1043534\n",
      "\n",
      "g_loss= 0.54348487\n",
      "22/37 [================>.............] - ETA: 2:34:41 - d_loss: 2.1519 - g_loss: 5.3882\n",
      "\n",
      "\n",
      "d_loss= 2.0176072\n",
      "\n",
      "g_loss= 4.1951265\n",
      "23/37 [=================>............] - ETA: 2:24:20 - d_loss: 2.1460 - g_loss: 5.3364\n",
      "\n",
      "\n",
      "d_loss= 2.0497997\n",
      "\n",
      "g_loss= -2.073594\n",
      "24/37 [==================>...........] - ETA: 2:14:03 - d_loss: 2.1420 - g_loss: 5.0276\n",
      "\n",
      "\n",
      "d_loss= 2.0772972\n",
      "\n",
      "g_loss= 2.2735438\n",
      "25/37 [===================>..........] - ETA: 2:03:43 - d_loss: 2.1394 - g_loss: 4.9174\n",
      "\n",
      "\n",
      "d_loss= 2.085468\n",
      "\n",
      "g_loss= 0.58477473\n",
      "26/37 [====================>.........] - ETA: 1:53:23 - d_loss: 2.1373 - g_loss: 4.7508\n",
      "\n",
      "\n",
      "d_loss= 2.0470574\n",
      "\n",
      "g_loss= 2.2560875\n",
      "27/37 [====================>.........] - ETA: 1:43:07 - d_loss: 2.1340 - g_loss: 4.6584\n",
      "\n",
      "\n",
      "d_loss= 2.0332823\n",
      "\n",
      "g_loss= -1.7318228\n",
      "28/37 [=====================>........] - ETA: 1:32:48 - d_loss: 2.1304 - g_loss: 4.4302\n",
      "\n",
      "\n",
      "d_loss= 2.0058799\n",
      "\n",
      "g_loss= -0.51564795\n",
      "29/37 [======================>.......] - ETA: 1:22:30 - d_loss: 2.1261 - g_loss: 4.2596\n",
      "\n",
      "\n",
      "d_loss= 2.046527\n",
      "\n",
      "g_loss= -1.8685577\n",
      "30/37 [=======================>......] - ETA: 1:12:12 - d_loss: 2.1235 - g_loss: 4.0554\n",
      "\n",
      "\n",
      "d_loss= 2.0024474\n",
      "\n",
      "g_loss= -1.9556742\n",
      "31/37 [========================>.....] - ETA: 1:01:53 - d_loss: 2.1196 - g_loss: 3.8615\n",
      "\n",
      "\n",
      "d_loss= 1.9892353\n",
      "\n",
      "g_loss= 2.2674534\n",
      "32/37 [========================>.....] - ETA: 51:33 - d_loss: 2.1155 - g_loss: 3.8117  \n",
      "\n",
      "\n",
      "d_loss= 2.040586\n",
      "\n",
      "g_loss= -0.3497727\n",
      "33/37 [=========================>....] - ETA: 41:15 - d_loss: 2.1132 - g_loss: 3.6855\n",
      "\n",
      "\n",
      "d_loss= 2.1097174\n",
      "\n",
      "g_loss= 0.14417133\n",
      "34/37 [==========================>...] - ETA: 30:56 - d_loss: 2.1131 - g_loss: 3.5814\n",
      "\n",
      "\n",
      "d_loss= 2.1153734\n",
      "\n",
      "g_loss= -0.116269134\n",
      "35/37 [===========================>..] - ETA: 20:37 - d_loss: 2.1132 - g_loss: 3.4757\n",
      "\n",
      "\n",
      "d_loss= 2.057051\n",
      "\n",
      "g_loss= 0.7523336\n",
      "36/37 [============================>.] - ETA: 10:19 - d_loss: 2.1116 - g_loss: 3.4001\n",
      "\n",
      "\n",
      "d_loss= 2.0302975\n",
      "\n",
      "g_loss= 0.3143023\n",
      "37/37 [==============================] - 22911s 619s/step - d_loss: 2.1094 - g_loss: 3.3167\n"
     ]
    }
   ],
   "source": [
    "# Deshabilitar los mensajes de información de TensorFlow\n",
    "os.environ['TF_CPP_MIN_LOG_LEVEL'] = '3'\n",
    "\n",
    "# Deshabilitar los mensajes de información de OpenAI Gym\n",
    "gym.logger.set_level(40)\n",
    "\n",
    "BATCH_SIZE=140\n",
    "\n",
    "history=gan10.fit(X_train,\n",
    "    epochs=EPOCHS, batch_size=BATCH_SIZE)\n"
   ]
  },
  {
   "cell_type": "markdown",
   "metadata": {},
   "source": [
    "### Evaluación de GAIL"
   ]
  },
  {
   "cell_type": "code",
   "execution_count": null,
   "metadata": {},
   "outputs": [
    {
     "name": "stdout",
     "output_type": "stream",
     "text": [
      "1/1 [==============================] - 0s 18ms/step - loss: 0.1090 - accuracy: 0.0000e+00\n",
      "1/1 [==============================] - 0s 17ms/step - loss: 0.0339 - accuracy: 0.0000e+00\n",
      ">Loss real: \n",
      "0.10895921289920807\n",
      ">Loss fake: \n",
      "0.03391684964299202\n"
     ]
    }
   ],
   "source": [
    "# Evaluamos el Discriminador de GAIL en el TEST\n",
    "gan10.evaluate_D(X_test)\n"
   ]
  },
  {
   "cell_type": "code",
   "execution_count": null,
   "metadata": {},
   "outputs": [
    {
     "name": "stdout",
     "output_type": "stream",
     "text": [
      "Episode  0 Total reward: 150.522584842905\n",
      "Episode  1 Total reward: -259.45595668292947\n",
      "Episode  2 Total reward: -78.02488009935205\n",
      "Episode  3 Total reward: -112.00692898484239\n",
      "Episode  4 Total reward: -88.8993516939883\n",
      "Episode  5 Total reward: -226.18427510426352\n",
      "Episode  6 Total reward: -14.44569921242946\n",
      "Episode  7 Total reward: 72.54648837965871\n",
      "Episode  8 Total reward: 4.400215522839304\n",
      "Episode  9 Total reward: -109.32725738220782\n",
      "Episode  10 Total reward: -98.77935435089992\n",
      "Episode  11 Total reward: -47.52661631099828\n",
      "Episode  12 Total reward: 25.954252129439567\n",
      "Episode  13 Total reward: -76.4951869285387\n",
      "Episode  14 Total reward: -20.531004211628115\n",
      "Episode  15 Total reward: -42.59974087142177\n",
      "Episode  16 Total reward: -77.7222007662748\n",
      "Episode  17 Total reward: -96.0532054396848\n",
      "Episode  18 Total reward: -11.08146533116249\n",
      "Episode  19 Total reward: -281.7259366549191\n",
      "Episode  20 Total reward: 202.18187661245054\n",
      "Episode  21 Total reward: 58.677337362824986\n",
      "Episode  22 Total reward: 0.3918183801818884\n",
      "Episode  23 Total reward: 77.7237643292755\n",
      "Episode  24 Total reward: -126.65726400047882\n",
      "Episode  25 Total reward: 183.70539761790613\n",
      "Episode  26 Total reward: -95.72994129917689\n",
      "Episode  27 Total reward: -23.9564275061023\n",
      "Episode  28 Total reward: -133.95381977498403\n",
      "Episode  29 Total reward: -48.84143206647565\n",
      "Episode  30 Total reward: -47.06776484414499\n",
      "Episode  31 Total reward: -106.55785143035023\n",
      "Episode  32 Total reward: -29.640036883812343\n",
      "Episode  33 Total reward: -51.029495382850705\n",
      "Episode  34 Total reward: -133.50282260547374\n",
      "Episode  35 Total reward: -22.596115395815673\n",
      "Episode  36 Total reward: -12.683563636730625\n",
      "Episode  37 Total reward: -249.28318053952452\n",
      "Episode  38 Total reward: -47.48593271189593\n",
      "Episode  39 Total reward: -65.86353333790278\n",
      "Episode  40 Total reward: 171.30249787678844\n",
      "Episode  41 Total reward: -46.1344581889651\n",
      "Episode  42 Total reward: -17.369072728916578\n",
      "Episode  43 Total reward: -176.810998261649\n",
      "Episode  44 Total reward: -45.900766654517476\n",
      "Episode  45 Total reward: 181.6573323244886\n",
      "Episode  46 Total reward: -119.92782249472282\n",
      "Episode  47 Total reward: 100.59513276495203\n",
      "Episode  48 Total reward: 15.923568838921724\n",
      "Episode  49 Total reward: -38.50635923664987\n"
     ]
    },
    {
     "data": {
      "image/png": "[encoded data removed]",
      "text/plain": [
       "<Figure size 640x480 with 1 Axes>"
      ]
     },
     "metadata": {},
     "output_type": "display_data"
    },
    {
     "name": "stdout",
     "output_type": "stream",
     "text": [
      "\n",
      "Recompensa de Media: -40.69550904048097 \n",
      "\n"
     ]
    }
   ],
   "source": [
    "# Evaluamos al Generador \n",
    "rewardMean=gan10.evaluate_G()\n",
    "print('\\nRecompensa de Media:', rewardMean, '\\n')"
   ]
  }
 ],
 "metadata": {
  "kernelspec": {
   "display_name": "luna",
   "language": "python",
   "name": "python3"
  },
  "language_info": {
   "codemirror_mode": {
    "name": "ipython",
    "version": 3
   },
   "file_extension": ".py",
   "mimetype": "text/x-python",
   "name": "python",
   "nbconvert_exporter": "python",
   "pygments_lexer": "ipython3",
   "version": "3.9.19"
  }
 },
 "nbformat": 4,
 "nbformat_minor": 2
}
