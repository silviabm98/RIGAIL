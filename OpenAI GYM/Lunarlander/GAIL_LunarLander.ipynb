{
 "cells": [
  {
   "cell_type": "code",
   "execution_count": 1,
   "metadata": {},
   "outputs": [
    {
     "name": "stdout",
     "output_type": "stream",
     "text": [
      "Sat Jun 29 17:31:28 2024       \n",
      "+-----------------------------------------------------------------------------------------+\n",
      "| NVIDIA-SMI 555.52.04              Driver Version: 555.52.04      CUDA Version: 12.5     |\n",
      "|-----------------------------------------+------------------------+----------------------+\n",
      "| GPU  Name                 Persistence-M | Bus-Id          Disp.A | Volatile Uncorr. ECC |\n",
      "| Fan  Temp   Perf          Pwr:Usage/Cap |           Memory-Usage | GPU-Util  Compute M. |\n",
      "|                                         |                        |               MIG M. |\n",
      "|=========================================+========================+======================|\n",
      "|   0  NVIDIA GeForce RTX 3060 ...    Off |   00000000:01:00.0 Off |                  N/A |\n",
      "| N/A   54C    P0             26W /  100W |      15MiB /   6144MiB |      0%      Default |\n",
      "|                                         |                        |                  N/A |\n",
      "+-----------------------------------------+------------------------+----------------------+\n",
      "                                                                                         \n",
      "+-----------------------------------------------------------------------------------------+\n",
      "| Processes:                                                                              |\n",
      "|  GPU   GI   CI        PID   Type   Process name                              GPU Memory |\n",
      "|        ID   ID                                                               Usage      |\n",
      "|=========================================================================================|\n",
      "|    0   N/A  N/A      3279      G   /usr/lib/xorg/Xorg                              4MiB |\n",
      "+-----------------------------------------------------------------------------------------+\n"
     ]
    }
   ],
   "source": [
    "#########################################################################\n",
    "## COMPROBAR GPU ASIGNADA EN COLABORATORY\n",
    "#########################################################################\n",
    "gpu_info = !nvidia-smi\n",
    "gpu_info = '\\n'.join(gpu_info)\n",
    "if gpu_info.find('failed') >= 0:\n",
    "  print('Not connected to a GPU')\n",
    "else:\n",
    "  print(gpu_info)"
   ]
  },
  {
   "cell_type": "code",
   "execution_count": 2,
   "metadata": {},
   "outputs": [
    {
     "name": "stderr",
     "output_type": "stream",
     "text": [
      "2024-06-29 17:31:28.980814: I tensorflow/stream_executor/platform/default/dso_loader.cc:49] Successfully opened dynamic library libcudart.so.10.1\n"
     ]
    }
   ],
   "source": [
    "#########################################################################\n",
    "## LIBRERIAS NECESARIAS\n",
    "#########################################################################\n",
    "import tensorflow as tf\n",
    "import gymnasium as gym\n",
    "from stable_baselines3 import PPO\n",
    "from tensorflow.keras.layers import concatenate\n",
    "import numpy as np\n",
    "import keras\n",
    "import matplotlib.pyplot as plt\n",
    "from keras import layers\n",
    "import copy\n",
    "from sklearn.model_selection import train_test_split\n",
    "\n",
    "import os\n",
    "from stable_baselines3.common.vec_env import DummyVecEnv"
   ]
  },
  {
   "cell_type": "code",
   "execution_count": 3,
   "metadata": {},
   "outputs": [
    {
     "name": "stdout",
     "output_type": "stream",
     "text": [
      "Num GPUs Available:  1\n"
     ]
    },
    {
     "name": "stderr",
     "output_type": "stream",
     "text": [
      "2024-06-29 17:31:32.016322: I tensorflow/compiler/jit/xla_cpu_device.cc:41] Not creating XLA devices, tf_xla_enable_xla_devices not set\n",
      "2024-06-29 17:31:32.016442: I tensorflow/stream_executor/platform/default/dso_loader.cc:49] Successfully opened dynamic library libcuda.so.1\n",
      "2024-06-29 17:31:32.059682: I tensorflow/stream_executor/cuda/cuda_gpu_executor.cc:941] successful NUMA node read from SysFS had negative value (-1), but there must be at least one NUMA node, so returning NUMA node zero\n",
      "2024-06-29 17:31:32.061445: I tensorflow/core/common_runtime/gpu/gpu_device.cc:1720] Found device 0 with properties: \n",
      "pciBusID: 0000:01:00.0 name: NVIDIA GeForce RTX 3060 Laptop GPU computeCapability: 8.6\n",
      "coreClock: 1.605GHz coreCount: 30 deviceMemorySize: 5.70GiB deviceMemoryBandwidth: 312.97GiB/s\n",
      "2024-06-29 17:31:32.061459: I tensorflow/stream_executor/platform/default/dso_loader.cc:49] Successfully opened dynamic library libcudart.so.10.1\n",
      "2024-06-29 17:31:32.078772: I tensorflow/stream_executor/platform/default/dso_loader.cc:49] Successfully opened dynamic library libcublas.so.10\n",
      "2024-06-29 17:31:32.078873: I tensorflow/stream_executor/platform/default/dso_loader.cc:49] Successfully opened dynamic library libcublasLt.so.10\n",
      "2024-06-29 17:31:32.088104: I tensorflow/stream_executor/platform/default/dso_loader.cc:49] Successfully opened dynamic library libcufft.so.10\n",
      "2024-06-29 17:31:32.088161: I tensorflow/stream_executor/platform/default/dso_loader.cc:49] Successfully opened dynamic library libcurand.so.10\n",
      "2024-06-29 17:31:32.106082: I tensorflow/stream_executor/platform/default/dso_loader.cc:49] Successfully opened dynamic library libcusolver.so.10\n",
      "2024-06-29 17:31:32.109285: I tensorflow/stream_executor/platform/default/dso_loader.cc:49] Successfully opened dynamic library libcusparse.so.10\n",
      "2024-06-29 17:31:32.146718: I tensorflow/stream_executor/platform/default/dso_loader.cc:49] Successfully opened dynamic library libcudnn.so.7\n",
      "2024-06-29 17:31:32.146950: I tensorflow/stream_executor/cuda/cuda_gpu_executor.cc:941] successful NUMA node read from SysFS had negative value (-1), but there must be at least one NUMA node, so returning NUMA node zero\n",
      "2024-06-29 17:31:32.148765: I tensorflow/stream_executor/cuda/cuda_gpu_executor.cc:941] successful NUMA node read from SysFS had negative value (-1), but there must be at least one NUMA node, so returning NUMA node zero\n",
      "2024-06-29 17:31:32.150329: I tensorflow/core/common_runtime/gpu/gpu_device.cc:1862] Adding visible gpu devices: 0\n"
     ]
    }
   ],
   "source": [
    "print(\"Num GPUs Available: \", len(tf.config.experimental.list_physical_devices('GPU')))"
   ]
  },
  {
   "cell_type": "code",
   "execution_count": 4,
   "metadata": {},
   "outputs": [],
   "source": [
    "############################################################################\n",
    "## Variables globales (hiperparámetros)\n",
    "###########################################################################\n",
    "EPOCHS=1\n",
    "BATCH_SIZE=140\n",
    "\n",
    "EPISODES=10\n",
    "EPISODES_EVALUATE_G=50\n",
    "\n",
    "TOTAL_TIMESTEPS_PPO_GENERATOR=40000 \n",
    "LEARNING_RATE=0.001"
   ]
  },
  {
   "cell_type": "markdown",
   "metadata": {},
   "source": [
    "# GYM Lunar Lander\n",
    "\n",
    "\n",
    "* **Entorno**:\n",
    "\n",
    "  Este entorno es un **problema clásico de optimización de trayectoria de un COHETE**. Según el principio del máximo de Pontryagin, es óptimo encender el motor a máxima potencia o apagarlo. Esta es la razón por la cual este entorno tiene acciones discretas: encender el motor o apagarlo.\n",
    "\n",
    " Existen dos versiones del entorno: discreta o continua. La plataforma de aterrizaje siempre se encuentra en las coordenadas (0,0). Las coordenadas son los primeros dos números en el vector de estado. Es posible aterrizar fuera de la plataforma de aterrizaje. El combustible es infinito, por lo que un agente puede aprender a volar y luego aterrizar en su primer intento.\n",
    "\n",
    "* **Acciones**: tenemos cuatro acciones discretas:\n",
    "\n",
    "  * **0**:No hacer nada\n",
    "  * **1**: Encender motor de orientación izquierdo\n",
    "  * **2**: Encender motor principal\n",
    "  * **3**: Encender motor de orientación derecho\n",
    "* **Observaciones**: es un vector de 8 dimensiones donde se almacenan las coordenadas (x,y), las velocidades lineales en x e y, su ángulo, su velocidad angular, y dos booleanos que representan si cada pata está en contacto con el suelo o no.\n"
   ]
  },
  {
   "cell_type": "markdown",
   "metadata": {},
   "source": [
    "## Instalación de Box2D"
   ]
  },
  {
   "cell_type": "code",
   "execution_count": 5,
   "metadata": {},
   "outputs": [],
   "source": [
    "!#cd pybox2d && python setup.py build && python setup.py install"
   ]
  },
  {
   "cell_type": "code",
   "execution_count": 5,
   "metadata": {},
   "outputs": [
    {
     "name": "stdout",
     "output_type": "stream",
     "text": [
      "4\n",
      "8\n"
     ]
    }
   ],
   "source": [
    "# Definimos el entorno\n",
    "env = gym.make(\"LunarLander-v2\")\n",
    "\n",
    "# Obtenemos el espacio de estados y acciones del entorno\n",
    "ob_space=env.observation_space\n",
    "ac_space=env.action_space\n",
    "\n",
    "# Mostramos el número de acciones del entorno\n",
    "print(env.action_space.n)\n",
    "# Mostramos el número de observaciones del entorno\n",
    "print(ob_space.shape[0])"
   ]
  },
  {
   "cell_type": "markdown",
   "metadata": {},
   "source": [
    "# Discriminador"
   ]
  },
  {
   "cell_type": "markdown",
   "metadata": {},
   "source": [
    "## Red neuronal del Discriminador"
   ]
  },
  {
   "cell_type": "code",
   "execution_count": 6,
   "metadata": {},
   "outputs": [
    {
     "name": "stdout",
     "output_type": "stream",
     "text": [
      "Model: \"discriminator_net\"\n",
      "_________________________________________________________________\n",
      "Layer (type)                 Output Shape              Param #   \n",
      "=================================================================\n",
      "layer1 (Dense)               (None, None, 10)          130       \n",
      "_________________________________________________________________\n",
      "layer2 (Dense)               (None, None, 10)          110       \n",
      "_________________________________________________________________\n",
      "layer3 (Dense)               (None, None, 10)          110       \n",
      "_________________________________________________________________\n",
      "prob (Dense)                 (None, None, 1)           11        \n",
      "=================================================================\n",
      "Total params: 361\n",
      "Trainable params: 361\n",
      "Non-trainable params: 0\n",
      "_________________________________________________________________\n"
     ]
    },
    {
     "name": "stderr",
     "output_type": "stream",
     "text": [
      "2024-06-29 17:31:40.579195: I tensorflow/core/platform/cpu_feature_guard.cc:142] This TensorFlow binary is optimized with oneAPI Deep Neural Network Library (oneDNN) to use the following CPU instructions in performance-critical operations:  SSE4.1 SSE4.2 AVX AVX2 FMA\n",
      "To enable them in other operations, rebuild TensorFlow with the appropriate compiler flags.\n",
      "2024-06-29 17:31:40.580230: I tensorflow/compiler/jit/xla_gpu_device.cc:99] Not creating XLA devices, tf_xla_enable_xla_devices not set\n",
      "2024-06-29 17:31:40.580424: I tensorflow/stream_executor/cuda/cuda_gpu_executor.cc:941] successful NUMA node read from SysFS had negative value (-1), but there must be at least one NUMA node, so returning NUMA node zero\n",
      "2024-06-29 17:31:40.584420: I tensorflow/core/common_runtime/gpu/gpu_device.cc:1720] Found device 0 with properties: \n",
      "pciBusID: 0000:01:00.0 name: NVIDIA GeForce RTX 3060 Laptop GPU computeCapability: 8.6\n",
      "coreClock: 1.605GHz coreCount: 30 deviceMemorySize: 5.70GiB deviceMemoryBandwidth: 312.97GiB/s\n",
      "2024-06-29 17:31:40.584448: I tensorflow/stream_executor/platform/default/dso_loader.cc:49] Successfully opened dynamic library libcudart.so.10.1\n",
      "2024-06-29 17:31:40.584488: I tensorflow/stream_executor/platform/default/dso_loader.cc:49] Successfully opened dynamic library libcublas.so.10\n",
      "2024-06-29 17:31:40.584497: I tensorflow/stream_executor/platform/default/dso_loader.cc:49] Successfully opened dynamic library libcublasLt.so.10\n",
      "2024-06-29 17:31:40.584503: I tensorflow/stream_executor/platform/default/dso_loader.cc:49] Successfully opened dynamic library libcufft.so.10\n",
      "2024-06-29 17:31:40.584508: I tensorflow/stream_executor/platform/default/dso_loader.cc:49] Successfully opened dynamic library libcurand.so.10\n",
      "2024-06-29 17:31:40.584514: I tensorflow/stream_executor/platform/default/dso_loader.cc:49] Successfully opened dynamic library libcusolver.so.10\n",
      "2024-06-29 17:31:40.584520: I tensorflow/stream_executor/platform/default/dso_loader.cc:49] Successfully opened dynamic library libcusparse.so.10\n",
      "2024-06-29 17:31:40.584527: I tensorflow/stream_executor/platform/default/dso_loader.cc:49] Successfully opened dynamic library libcudnn.so.7\n",
      "2024-06-29 17:31:40.584589: I tensorflow/stream_executor/cuda/cuda_gpu_executor.cc:941] successful NUMA node read from SysFS had negative value (-1), but there must be at least one NUMA node, so returning NUMA node zero\n",
      "2024-06-29 17:31:40.588354: I tensorflow/stream_executor/cuda/cuda_gpu_executor.cc:941] successful NUMA node read from SysFS had negative value (-1), but there must be at least one NUMA node, so returning NUMA node zero\n",
      "2024-06-29 17:31:40.591852: I tensorflow/core/common_runtime/gpu/gpu_device.cc:1862] Adding visible gpu devices: 0\n",
      "2024-06-29 17:31:40.592253: I tensorflow/stream_executor/platform/default/dso_loader.cc:49] Successfully opened dynamic library libcudart.so.10.1\n",
      "2024-06-29 17:31:42.375561: I tensorflow/core/common_runtime/gpu/gpu_device.cc:1261] Device interconnect StreamExecutor with strength 1 edge matrix:\n",
      "2024-06-29 17:31:42.375580: I tensorflow/core/common_runtime/gpu/gpu_device.cc:1267]      0 \n",
      "2024-06-29 17:31:42.375584: I tensorflow/core/common_runtime/gpu/gpu_device.cc:1280] 0:   N \n",
      "2024-06-29 17:31:42.376153: I tensorflow/stream_executor/cuda/cuda_gpu_executor.cc:941] successful NUMA node read from SysFS had negative value (-1), but there must be at least one NUMA node, so returning NUMA node zero\n",
      "2024-06-29 17:31:42.377999: I tensorflow/stream_executor/cuda/cuda_gpu_executor.cc:941] successful NUMA node read from SysFS had negative value (-1), but there must be at least one NUMA node, so returning NUMA node zero\n",
      "2024-06-29 17:31:42.379603: I tensorflow/stream_executor/cuda/cuda_gpu_executor.cc:941] successful NUMA node read from SysFS had negative value (-1), but there must be at least one NUMA node, so returning NUMA node zero\n",
      "2024-06-29 17:31:42.381184: I tensorflow/core/common_runtime/gpu/gpu_device.cc:1406] Created TensorFlow device (/job:localhost/replica:0/task:0/device:GPU:0 with 5233 MB memory) -> physical GPU (device: 0, name: NVIDIA GeForce RTX 3060 Laptop GPU, pci bus id: 0000:01:00.0, compute capability: 8.6)\n"
     ]
    }
   ],
   "source": [
    "################################################################################################################################################\n",
    "# Red neuronal del Discriminador\n",
    "################################################################################################################################################\n",
    "\n",
    "# Input: secuencias [s,a] reales o sintéticas, de longitud ob_space.shape[0] + ac_space.n.\n",
    "# Output: probabilidad de que la secuencia sea real, valor perteneciente al intervalo [0,1]\n",
    "discriminator_net=keras.Sequential(\n",
    "    [\n",
    "        keras.Input(shape=(None, ob_space.shape[0] + ac_space.n )),\n",
    "        layers.Dense(units=10,activation=tf.nn.relu, name='layer1'),\n",
    "        layers.Dense(units=10,activation=tf.nn.relu, name='layer2'),\n",
    "        layers.Dense(units=10, activation=tf.nn.relu, name='layer3'),\n",
    "        layers.Dense(units=1, activation=tf.sigmoid, name='prob'),\n",
    "\n",
    "    ],\n",
    "    name=\"discriminator_net\"\n",
    "\n",
    ")\n",
    "discriminator_net.summary()"
   ]
  },
  {
   "cell_type": "markdown",
   "metadata": {},
   "source": [
    "## Función de pérdida del Discriminador"
   ]
  },
  {
   "cell_type": "code",
   "execution_count": 7,
   "metadata": {},
   "outputs": [],
   "source": [
    "#########################################################################################################\n",
    "# Función de pérdida del Discriminador\n",
    "#########################################################################################################\n",
    "\n",
    "# prob1=> output de la red neuronal del Discriminador cuando recibe como entrada una secuencia REAL [s,a] de la base de datos\n",
    "# prob2=> output de la red neuronal del Discriminador cuando recibe como entrada una secuencia FALSA [s,a]\n",
    "def loss_fn_D(prob1, prob2):\n",
    "\n",
    "    # Esperanza del logaritmo de la D(x)=salida de la red neuronal cuando x=entrada REAL\n",
    "    loss_expert = tf.reduce_mean(tf.math.log(tf.clip_by_value(prob1, 0.01, 1)))\n",
    "\n",
    "    # Esperanza del logaritmo de 1-D(x) donde D(x)=salida de la red neuronal cuando x=entrada FALSA\n",
    "    loss_agent = tf.reduce_mean(tf.math.log(tf.clip_by_value(1 - prob2, 0.01,1)))\n",
    "\n",
    "    loss_expert = tf.cast(loss_expert, dtype=tf.float32)\n",
    "    loss_agent = tf.cast(loss_agent, dtype=tf.float32)\n",
    "\n",
    "    loss = loss_expert + loss_agent\n",
    "\n",
    "    loss = -loss\n",
    "\n",
    "    return loss"
   ]
  },
  {
   "cell_type": "markdown",
   "metadata": {},
   "source": [
    "## Clase del Discriminador"
   ]
  },
  {
   "cell_type": "code",
   "execution_count": 8,
   "metadata": {},
   "outputs": [],
   "source": [
    "# Clase DISCRIMINADOR\n",
    "class Discriminator:\n",
    "    def __init__(self, env, discriminator_net, expert_s, expert_a, agent_s, agent_a):\n",
    "        # -Red neuronal del Discriminador\n",
    "        self.discriminator_net=discriminator_net\n",
    "        # -Experto: [s,a]\n",
    "        self.expert_s=expert_s\n",
    "        self.expert_a=expert_a\n",
    "        expert_a_one_hot=tf.one_hot(self.expert_a,depth=env.action_space.n)\n",
    "        # Añadimos ruido para estabilizar el entrenamiento\n",
    "        expert_a_one_hot+= tf.random.normal(tf.shape(expert_a_one_hot), mean=0.2, stddev=0.1, dtype=tf.float32)/1.2\n",
    "        self.expert_s_a=tf.concat([self.expert_s,expert_a_one_hot],axis=1)\n",
    "\n",
    "        # -Agente:  [s,a]\n",
    "        self.agent_s=agent_s\n",
    "        self.agent_a=agent_a\n",
    "        agent_a_one_hot=tf.one_hot(self.agent_a,depth=env.action_space.n)\n",
    "        agent_a_one_hot+= tf.random.normal(tf.shape(agent_a_one_hot), mean=0.2, stddev=0.1, dtype=tf.float32)/1.2\n",
    "        self.agent_s_a=tf.concat([self.agent_s,agent_a_one_hot],axis=1)\n",
    "\n",
    "\n",
    "\n",
    "        # Calculamos la salida de la red para [s,a] del experto y del agente ya que lo necesitamos para reward\n",
    "\n",
    "        # -Salida de la red neuronal Discriminador para [s,a] expertos(verdaderos)\n",
    "        self.prob_expert=self.discriminator_net(self.expert_s_a)\n",
    "\n",
    "        # -Salida  de la red neuronal Discrimiinador para [s,a] Agente(falsos)\n",
    "        self.prob_agent=self.discriminator_net(self.agent_s_a)\n",
    "\n",
    "        #-Recompensa obtenida cuando el Agente realiza [s,a] falsas\n",
    "        self.rewards=tf.math.log(tf.clip_by_value(self.prob_agent,1e-10,1)) #log(P(expert|s,a)) cuando mas grande es mejor el agente\n",
    "\n",
    "\n",
    "    def getNet(self):\n",
    "        return self.discriminator_net\n",
    "\n",
    "    def getAgent_S_A(self):\n",
    "        return self.agent_s_a\n",
    "\n",
    "    def getExpert_S_A(self):\n",
    "        return self.expert_s_a\n",
    "\n",
    "    def getProb(self):\n",
    "        return self.prob_expert, self.prob_agent\n",
    "\n",
    "    def getRewards(self):\n",
    "        return self.rewards"
   ]
  },
  {
   "cell_type": "markdown",
   "metadata": {},
   "source": [
    "# Generador"
   ]
  },
  {
   "cell_type": "markdown",
   "metadata": {},
   "source": [
    "## Redes neuronales del Generador"
   ]
  },
  {
   "cell_type": "code",
   "execution_count": 10,
   "metadata": {},
   "outputs": [],
   "source": [
    "import keras"
   ]
  },
  {
   "cell_type": "code",
   "execution_count": 9,
   "metadata": {},
   "outputs": [
    {
     "name": "stdout",
     "output_type": "stream",
     "text": [
      "Model: \"generator_net_Act\"\n",
      "_________________________________________________________________\n",
      "Layer (type)                 Output Shape              Param #   \n",
      "=================================================================\n",
      "layer1 (Dense)               (None, None, 6)           54        \n",
      "_________________________________________________________________\n",
      "layer2 (Dense)               (None, None, 6)           42        \n",
      "_________________________________________________________________\n",
      "layer3 (Dense)               (None, None, 4)           28        \n",
      "_________________________________________________________________\n",
      "layer4 (Dense)               (None, None, 4)           20        \n",
      "=================================================================\n",
      "Total params: 144\n",
      "Trainable params: 144\n",
      "Non-trainable params: 0\n",
      "_________________________________________________________________\n"
     ]
    }
   ],
   "source": [
    "#####################################################################################################\n",
    "# Red neuronal del Generador donde se producen acciones\n",
    "####################################################################################################\n",
    "\n",
    "# Input: estados, listas de tamaño 8, s=[s1,s2,s3,s4,...,s8]\n",
    "# Output: acciones, listas de tamaño 4, a=[a1,a2,a3,a4]\n",
    "generator_net_Act = keras.Sequential(\n",
    "    [\n",
    "        keras.Input(shape=(None, ob_space.shape[0])),\n",
    "        layers.Dense(units=6, activation=\"sigmoid\",name='layer1'),\n",
    "        layers.Dense(units=6, activation=\"sigmoid\", name='layer2'),\n",
    "        layers.Dense(units=4, activation=\"sigmoid\", name='layer3'),\n",
    "        layers.Dense(units=ac_space.n, activation=tf.nn.softmax, name='layer4')\n",
    "\n",
    "    ],\n",
    "    name=\"generator_net_Act\"\n",
    ")\n",
    "\n",
    "generator_net_Act.summary()"
   ]
  },
  {
   "cell_type": "code",
   "execution_count": 10,
   "metadata": {},
   "outputs": [
    {
     "name": "stdout",
     "output_type": "stream",
     "text": [
      "Model: \"generator_v_preds\"\n",
      "_________________________________________________________________\n",
      "Layer (type)                 Output Shape              Param #   \n",
      "=================================================================\n",
      "layer1 (Dense)               (None, None, 6)           54        \n",
      "_________________________________________________________________\n",
      "layer2 (Dense)               (None, None, 6)           42        \n",
      "_________________________________________________________________\n",
      "layer3 (Dense)               (None, None, 1)           7         \n",
      "=================================================================\n",
      "Total params: 103\n",
      "Trainable params: 103\n",
      "Non-trainable params: 0\n",
      "_________________________________________________________________\n"
     ]
    }
   ],
   "source": [
    "#############################################################################################################\n",
    "# Red neuronal del Generador donde se producen v_pred\n",
    "#############################################################################################################\n",
    "\n",
    "# Input: estados, listas de tamaño 8, s=[s1,s2,s3,..,s8]\n",
    "# Output: v_pred, listas de tamaño 1, v_pred\n",
    "\n",
    "generator_net_v_preds=keras.Sequential(\n",
    "    [\n",
    "            keras.Input(shape=(None, ob_space.shape[0])),\n",
    "            layers.Dense(units=6, activation=\"sigmoid\",name='layer1'),\n",
    "            layers.Dense(units=6, activation=\"sigmoid\", name='layer2'),\n",
    "            layers.Dense(units=1, activation=None, name='layer3'),\n",
    "        ],\n",
    "    name=\"generator_v_preds\"\n",
    ")\n",
    "\n",
    "generator_net_v_preds.summary()"
   ]
  },
  {
   "cell_type": "markdown",
   "metadata": {},
   "source": [
    "## Función de pérdida del Generador"
   ]
  },
  {
   "cell_type": "code",
   "execution_count": 11,
   "metadata": {},
   "outputs": [],
   "source": [
    "##################################################################################################################\n",
    "# Función de pérdida del Generador: función objetivo de PPO \"clipped surrogated\"\n",
    "#################################################################################################################\n",
    "\n",
    "def loss_fn_ppo(act_probs,act_probs_old,gaes,clip_value=0.2):\n",
    "    ratios = tf.exp(tf.math.log(tf.clip_by_value(act_probs, 1e-10, 1.0))\n",
    "                    - tf.math.log(tf.clip_by_value(act_probs_old, 1e-10, 1.0)))\n",
    "\n",
    "    clipped_ratios = tf.clip_by_value(ratios,clip_value_min=1 -clip_value,clip_value_max=1 +clip_value)\n",
    "    loss_clip = tf.minimum( tf.multiply(gaes, ratios), tf.multiply(gaes, clipped_ratios))\n",
    "    loss_clip = tf.reduce_mean(loss_clip)\n",
    "\n",
    "    loss = -loss_clip\n",
    "    tf.summary.scalar('total', loss)\n",
    "\n",
    "    return loss"
   ]
  },
  {
   "cell_type": "markdown",
   "metadata": {},
   "source": [
    "## Clase del Generador"
   ]
  },
  {
   "cell_type": "code",
   "execution_count": 12,
   "metadata": {},
   "outputs": [],
   "source": [
    "#################################################################################################################\n",
    "# Clase del GENERADOR: política con su optimizador PPO\n",
    "################################################################################################################\n",
    "\n",
    "# Observesé que cada generador implementa una política distinta, por tanto, se ha decidido llamar a la clase Policy_net en lugar de generator\n",
    "class Policy_net:\n",
    "  def __init__(self, name: str, env, obs):\n",
    "        \"\"\"\n",
    "        env: gym env\n",
    "        obs:\n",
    "        \"\"\"\n",
    "        # -Entorno\n",
    "        self.env=env\n",
    "\n",
    "        env.reset()\n",
    "\n",
    "        # -Modelo PPO: algoritmo de Optimización de Política Proximal\n",
    "        self.model=PPO(policy=\"MlpPolicy\", env=env, verbose=0)\n",
    "\n",
    "\n",
    "        self.model.learn(total_timesteps=TOTAL_TIMESTEPS_PPO_GENERATOR)\n",
    "\n",
    "        # -Observación inicial a partir de la cual se crean las acciones iniciales haciendo uso de las redes neuronales del generador\n",
    "        self.obs=np.reshape(np.array(obs),(1,ob_space.shape[0])) \n",
    "        \n",
    "        # Utilizamos las dos redes neuronales que hemos creado : generator_net_Act y generator_net_v_preds\n",
    "        # V_pred=>recompensa media de que un agente ejecute una acción\n",
    "\n",
    "        # -Acción inicial generada con red neuronal y v_pred con red neuronal\n",
    "        self.act_probs =generator_net_Act(self.obs)\n",
    "        \n",
    "        self.v_preds = generator_net_v_preds(self.obs)\n",
    "\n",
    "        # -Accion estocástica inicial\n",
    "        self.act_stochastic = tf.random.categorical(tf.math.log(self.act_probs), num_samples=1)\n",
    "\n",
    "        # -Acción determinística inicial\n",
    "        self.act_deterministic = tf.argmax(self.act_probs, axis=1)\n",
    "\n",
    "\n",
    "\n",
    "  # Para cada estado obs me dice la acción que el agente va a ejecutar sobre el entorno junto con v_pred\n",
    "  # La elección de la acción puede ser estocástica o determinística\n",
    "  def act(self, stochastic=True):\n",
    "      if stochastic:\n",
    "          return self.act_stochastic, self.v_preds\n",
    "      else:\n",
    "          return self.act_deterministic, self.v_preds\n",
    "\n",
    "  def get_action_prob(self):\n",
    "      return self.act_probs\n",
    "\n",
    "  def get_v_preds(self):\n",
    "      return self.v_preds\n",
    "\n",
    "  def get_obs(self):\n",
    "      return self.obs\n",
    "\n",
    "  def get_model(self):\n",
    "      return self.model\n",
    "\n",
    "  def get_trainable_variables(self):\n",
    "      return self.model.get_parameters()\n",
    "\n",
    "  # Generar [s,a] falsos\n",
    "  def generate_fakes(self):\n",
    "\n",
    "      ob_space = env.observation_space\n",
    "      reward = 0\n",
    "      success_num = 0\n",
    "\n",
    "\n",
    "      # Por cada episodio\n",
    "      for iteration in range(EPISODES):\n",
    "          # Inicializo todas las variables\n",
    "          observations = []\n",
    "          actions = []\n",
    "          rewards = []\n",
    "          run_policy_steps = 0\n",
    "\n",
    "          truncated=False\n",
    "          terminated=False\n",
    "\n",
    "\n",
    "          #La primera acción de cada episodio se crea con la red neuronal\n",
    "\n",
    "          obs,_=env.reset()\n",
    "\n",
    "          Old_Policy = Policy_net('old_policy', env, obs=obs)\n",
    "\n",
    "          act, v_pred = Old_Policy.act(stochastic=True)\n",
    "\n",
    "          #Convertir de tensor a array\n",
    "          if type(act)=='Tensor':\n",
    "              # Crear una sesión de TensorFlow\n",
    "              sess = tf.compat.v1.Session()\n",
    "\n",
    "              # Evaluar el tensor dentro de la sesión y obtener el resultado como un objeto NumPy ndarray\n",
    "              act = sess.run(act)\n",
    "\n",
    "              # Cerrar la sesión\n",
    "              sess.close()\n",
    "\n",
    "          if isinstance(act, tf.Tensor):\n",
    "              act=act.numpy()\n",
    "\n",
    "          elif isinstance(act, np.ndarray):\n",
    "              act=act\n",
    "\n",
    "\n",
    "          action=int(act)\n",
    "\n",
    "          next_obs,reward,terminated,truncated, info=env.step(action)\n",
    "\n",
    "          # --Actualización de variables: ojo no introduzco el estado y accion inicial, solo introduzco los de PPO\n",
    "          observations.append(next_obs)  # S_0\n",
    "\n",
    "          Policy = Policy_net('policy',env, obs=[next_obs]) # tenemos una política entrenada\n",
    "\n",
    "          # Por cada steps en cada episodio, mientras no se llegue a un estado terminal o un estado malo\n",
    "          while terminated!= True and truncated!= True:\n",
    "              # --Aumentar el numero de steps\n",
    "              run_policy_steps += 1\n",
    "\n",
    "              # --Política para ver la acción asociada al estado\n",
    "              # Las observaciones son un de la forma [[s_0,s_1,s_2,s_3]] por eso su tamaño es (1,4)\n",
    "              action, states_oc = Policy.get_model().predict(next_obs)\n",
    "\n",
    "              action=int(action)\n",
    "\n",
    "              # --Muevo al Agente al siguiente estado\n",
    "              next_obs,reward,terminated,truncated,info=env.step(action)\n",
    "\n",
    "              # --Actualización de variables\n",
    "              actions.append(action) # A_i-1\n",
    "              rewards.append(reward) # R_i-1\n",
    "\n",
    "              # --Si llegamos a un estado final, el juego ha finalizado!!!\n",
    "              # --Se configura el tablero de nuevo\n",
    "              if terminated== True or truncated==True:\n",
    "                  obs = env.reset()\n",
    "                  reward = -1\n",
    "                  break\n",
    "              else:\n",
    "                  observations.append(next_obs) # O_i\n",
    "                  self.obs = next_obs\n",
    "\n",
    "          # Ver si el episodio ha obtendo una recompensa total igual o superior a 195\n",
    "          if sum(rewards) >= 195:\n",
    "              success_num += 1\n",
    "              if success_num >= 100:\n",
    "                  break\n",
    "          else:\n",
    "              success_num = 0\n",
    "\n",
    "\n",
    "      observations = np.reshape(observations, newshape=[-1] + list(ob_space.shape))\n",
    "      actions = np.array(actions).astype(dtype=np.int32)\n",
    "\n",
    "\n",
    "      return observations, actions, rewards, Old_Policy, Policy"
   ]
  },
  {
   "cell_type": "code",
   "execution_count": 13,
   "metadata": {},
   "outputs": [],
   "source": [
    "##########################################################################################################\n",
    "# Clase PPOTrain\n",
    "##########################################################################################################\n",
    "# Tenemos dos politica theta_i y theta_i+1\n",
    "# Almacenamos dos políticas Policy_net(cada una de ella con su PPO) y calculamos el valor gaes a partir de valores gamma, clip_value, c_1, c_2\n",
    "# Realizamos aqui el entrenamiento, cálculo de gradiente y función de pérdida del PPO para después usarlo en el generador de la GAN\n",
    "\n",
    "class PPOTrain:\n",
    "\n",
    "    def __init__(self, Policy, Old_Policy, obs, actions, rewards, gamma=0.95, clip_value=0.2, c_1=1, c_2=0.01):\n",
    "        \"\"\"\n",
    "        arg:\n",
    "            Policy\n",
    "            Old_Policy\n",
    "            gamma\n",
    "            clip_value\n",
    "            c_1 parámetro para la diferencia de valores\n",
    "            c_2 parámetro para el bonus de entropía\n",
    "        \"\"\"\n",
    "        self.Policy = Policy\n",
    "        self.Old_Policy = Old_Policy\n",
    "        self.gamma = gamma\n",
    "        self.obs=obs\n",
    "\n",
    "        self.pi_trainable = self.Policy.get_trainable_variables()\n",
    "        self.old_pi_trainable = self.Old_Policy.get_trainable_variables()\n",
    "\n",
    "\n",
    "        policy_name = \"policy\"\n",
    "        old_policy_name=\"policy\"\n",
    "\n",
    "        policy_dict_ = self.pi_trainable[policy_name]\n",
    "        old_policy_dict_=self.old_pi_trainable[old_policy_name]\n",
    "\n",
    "        self.pi=[]\n",
    "        if policy_name in self.pi_trainable and old_policy_name in self.old_pi_trainable:\n",
    "            for param_name, param_value in policy_dict_.items():\n",
    "                # Elimino los pesos que hay en old_policy\n",
    "                del old_policy_dict_[param_name]\n",
    "                # Introduzco los pesos de old_policy en policy\n",
    "                old_policy_dict_[param_name] = param_value\n",
    "                self.pi.append(param_value)\n",
    "        else:\n",
    "            print(f\"No se encontró la política con el nombre: {policy_name}\")\n",
    "\n",
    "\n",
    "        # Le asignamos old_pi_trainable=pi_trainable ya que ajustaremos unos nuevos pi_trainable\n",
    "\n",
    "\n",
    "        self.actions = actions\n",
    "        self.rewards=rewards\n",
    "        self.v_preds=self.Old_Policy.get_v_preds()\n",
    "        self.v_preds_next=self.Policy.get_v_preds()\n",
    "\n",
    "        #  generative advantage estimator(lambda = 1), ver ppo paper eq(11)\n",
    "        self.gaes =self.get_gaes(self.rewards, self.v_preds, self.v_preds_next)\n",
    "\n",
    "        act_probs =self.Policy.get_action_prob()\n",
    "        act_probs_old =self.Old_Policy.get_action_prob()\n",
    "\n",
    "        # la probabilidad de las acciones del agente cuando toma la actual política\n",
    "        act_probs = act_probs * tf.one_hot(indices=self.actions, depth=act_probs.shape[1])\n",
    "        self.act_probs = tf.reduce_sum(act_probs, axis=1)\n",
    "\n",
    "        # la probabilidad de las acciones del agente cuando toma la antigua política\n",
    "        act_probs_old = act_probs_old * tf.one_hot(indices=self.actions, depth=act_probs_old.shape[1])\n",
    "        self.act_probs_old = tf.reduce_sum(act_probs_old, axis=1)\n",
    "\n",
    "        self.loss=loss_fn_ppo(self.act_probs, self.act_probs_old, self.gaes)\n",
    "\n",
    "        self.optimizer =tf.keras.optimizers.Adam(learning_rate=LEARNING_RATE)\n",
    "\n",
    "    def loss_fn_G(self):\n",
    "        return loss_fn_ppo(self.act_probs, self.act_probs_old, self.gaes)\n",
    "\n",
    "    def get_pi_trainable(self):\n",
    "        return self.pi\n",
    "\n",
    "    def get_optimizer(self):\n",
    "        return self.optimizer\n",
    "\n",
    "    def get_OldPolicy(self):\n",
    "        return self.Old_Policy\n",
    "\n",
    "    def get_Policy(self):\n",
    "        return self.Policy\n",
    "\n",
    "    def get_gaes(self, rewards, v_preds, v_preds_next):\n",
    "        deltas = [r_t + self.gamma * v_next - v for r_t, v_next, v in zip(rewards, v_preds_next, v_preds)]\n",
    "        # calcular la estimación generative advantage (lambda = 1), ver ppo paper eq(11)\n",
    "        gaes = copy.deepcopy(deltas)\n",
    "        for t in reversed(range(len(gaes) - 1)):  # es T-1, donde T es timestep con el que se ejecuta la política\n",
    "            gaes[t] = gaes[t] + self.gamma * gaes[t + 1]\n",
    "        return gaes"
   ]
  },
  {
   "cell_type": "markdown",
   "metadata": {},
   "source": [
    "# GAIL"
   ]
  },
  {
   "cell_type": "code",
   "execution_count": 14,
   "metadata": {},
   "outputs": [],
   "source": [
    "####################################################################################################################\n",
    "# CLASE GAIL\n",
    "####################################################################################################################\n",
    "class GAN(keras.Model):\n",
    "    # Constructor\n",
    "    def __init__(self, discriminator, generator):\n",
    "        super().__init__()\n",
    "        self.discriminator = discriminator\n",
    "        self.generator=generator\n",
    "        self.i=0\n",
    "        self.d_loss_metric = keras.metrics.Mean(name=\"d_loss\")\n",
    "        self.g_loss_metric = keras.metrics.Mean(name=\"g_loss\")\n",
    "\n",
    "    # Compila el modelo GAN inicializando los optimizadores y la función de pérdida del modelo GAN\n",
    "    def compile(self,d_optimizer, loss_fn_D ):\n",
    "        super(GAN, self).compile(run_eagerly=True)\n",
    "        self.d_optimizer = d_optimizer\n",
    "        self.loss_fn_D=  loss_fn_D\n",
    "\n",
    "    # Devuelve las métricas obtenidas con el generador y discriminador\n",
    "    @property\n",
    "    def metrics(self):\n",
    "        return [self.d_loss_metric,self.g_loss_metric]\n",
    "\n",
    "    # Evaluación del Discriminador\n",
    "    def evaluate_D(self, X_test):\n",
    "        len_real = X_test.shape[0]\n",
    "\n",
    "        generate_observations, generate_actions, rewards, Old_Policy, Policy=self.generator.generate_fakes()\n",
    "\n",
    "        generate_a_one_hot=np.eye(env.action_space.n)[generate_actions]\n",
    "\n",
    "        dataset_gen=np.concatenate([generate_observations,generate_a_one_hot],axis=1)\n",
    "\n",
    "\n",
    "        len_fakes=dataset_gen.shape[0]\n",
    "\n",
    "        # Compilamos el discriminador como CNN\n",
    "        self.discriminator.discriminator_net.compile(optimizer=self.d_optimizer, loss=self.loss_fn_D, metrics=['accuracy'])\n",
    "\n",
    "        # Evaluamos como CNN\n",
    "        loss_real, acc_real=self.discriminator.discriminator_net.evaluate(X_test, tf.ones((len_real,1)), batch_size=len_real, verbose=1)\n",
    "\n",
    "        loss_fake, acc_fake=self.discriminator.discriminator_net.evaluate(dataset_gen,tf.ones((len_fakes,1)), batch_size=len_fakes, verbose=1)\n",
    "\n",
    "        print('>Loss real: ')\n",
    "        print(loss_real)\n",
    "        print('>Loss fake: ')\n",
    "        print(loss_fake)\n",
    "\n",
    "\n",
    "    # Evaluación del generador\n",
    "    def evaluate_G(self):\n",
    "        # Definimos el entorno\n",
    "        env= gym.make('LunarLander-v2')\n",
    "\n",
    "        # Lista donde amacenaremos la recompensa acumulada de cada episodio.\n",
    "        # NUESTRO OBJETIVO: Agente aprenda a tomar las acciones que maximicen la recompensa\n",
    "        rewards=[]\n",
    "\n",
    "        # Para cada episodio, el Agente se mueve por el Entorno mediante acciones hasta llegar a un estado final\n",
    "        # siguiendo la política que se ha aprendido en el entrenamiento de la GAN\n",
    "        for episode in range(EPISODES_EVALUATE_G):\n",
    "            truncated=False\n",
    "            terminated=False\n",
    "            R=0.0\n",
    "            reward=0.0\n",
    "\n",
    "            # Estado inicial del juego\n",
    "            obs,_=env.reset()\n",
    "\n",
    "            #Interactuamos con el Entorno hasta que lleguemos a un estado final\n",
    "            while terminated!= True and truncated!=True:\n",
    "                action, _=self.generator.get_model().predict(obs)\n",
    "                obs,reward,terminated,truncated, info=env.step(int(action))\n",
    "\n",
    "                # Incremento la recompensa del episodio i al haber ejecutado el step\n",
    "                R+=reward\n",
    "\n",
    "            rewards.append(R)\n",
    "\n",
    "            # Vemos para el episodio, su recompensa acumulada que es lo que se trata de maximizar\n",
    "            print(\"Episode  {} Total reward: {}\".format(episode,R))\n",
    "\n",
    "        # Cierro el entorno\n",
    "        env.close()\n",
    "\n",
    "        # Muestro las recompensas obtenidas en cada episodio\n",
    "        indices = range(0, EPISODES_EVALUATE_G)\n",
    "        plt.plot(indices,rewards)\n",
    "        plt.show()\n",
    "\n",
    "        return np.mean(rewards)\n",
    "\n",
    "    def train_step(self, X_train):\n",
    "\n",
    "\n",
    "        # 1) Generamos secuencias falsas [s,a]\n",
    "        generate_observations, generate_actions, rewards, Old_Policy, Policy=self.generator.generate_fakes()\n",
    "\n",
    "        generate_a_one_hot=np.eye(env.action_space.n)[generate_actions]\n",
    "\n",
    "        if generate_observations.shape[0] == generate_a_one_hot.shape[0]:\n",
    "          dataset_gen = np.concatenate([generate_observations, generate_a_one_hot], axis=1)\n",
    "        else:\n",
    "          generate_a_one_hot_resized = np.resize(generate_a_one_hot, (generate_observations.shape[0],ac_space.n))\n",
    "          dataset_gen = np.concatenate([generate_observations, generate_a_one_hot_resized], axis=1)\n",
    "\n",
    "        # 2) Seleccionamos la muestra de datos generador con la que vamos a trabajar en este  batch de entrenamiento  \n",
    "        random_indices = np.random.choice(len(dataset_gen), size=min(BATCH_SIZE,len(dataset_gen)), replace=False)\n",
    "        dataset_gen= dataset_gen[random_indices]\n",
    "        \n",
    "        # 3) Obtenemos las secuencias reales [s,a] de los datos de entrenamiento y las combinamos\n",
    "        combined_images = tf.concat([X_train, dataset_gen], axis=0)\n",
    "\n",
    "        # 4) Las etiquetas de las imagenes combinadas las tenemos que crear nosotros introduciendo algo de ruido con tf.random.uniform\n",
    "        labels = tf.concat([tf.ones((BATCH_SIZE, 1)), tf.zeros((BATCH_SIZE, 1))], axis=0)\n",
    "        labels += 0.05 * tf.random.uniform(tf.shape(labels))\n",
    "\n",
    "\n",
    "        ##############################################################################################################################################################\n",
    "        # PASO 1:  ENTRENAMIENTO DEL DISCRIMINADOR\n",
    "        #############################################################################################################################################################\n",
    "\n",
    "\n",
    "        # Entrenamiento del discriminador con las [s,a, s', r] del agente(falsas o sintéticas) y del experto (reales) combinadas, esto es,\n",
    "        # le pasamos un conjunto que tiene tanto secuencias reales como secuencias sintéticas\n",
    "        with tf.GradientTape() as tape:\n",
    "            predictions=np.zeros((2*BATCH_SIZE,6))\n",
    "            # Predicciones obtenidas con el discriminador\n",
    "            predictions = self.discriminator.discriminator_net(combined_images)\n",
    "            # Valor de la función de pérdida al comparar las predicciones con las etiquetas reales\n",
    "            d_loss = self.loss_fn_D(labels, predictions)\n",
    "\n",
    "        # Calculo del gradiente y actualización del gradiente\n",
    "        grads = tape.gradient(d_loss, self.discriminator.getNet().trainable_weights)\n",
    "\n",
    "        self.d_optimizer.apply_gradients(\n",
    "          zip(grads, self.discriminator.getNet().trainable_weights)\n",
    "        )\n",
    "\n",
    "\n",
    "        ################################################################################################################################################################\n",
    "        # PASO 2: ENTRENAMIENTO DEL GENERADOR=POLÍTICA\n",
    "        ###############################################################################################################################################################\n",
    "\n",
    "\n",
    "        ppotrain=PPOTrain(Policy,Old_Policy,actions=generate_actions,rewards=rewards, obs=generate_observations[0])\n",
    "\n",
    "\n",
    "        with tf.GradientTape() as tape:\n",
    "            g_loss = ppotrain.loss_fn_G()\n",
    "\n",
    "\n",
    "        g_loss = tf.cast(g_loss, dtype=tf.float32)\n",
    "\n",
    "\n",
    "        ############################################################################################################################################################\n",
    "\n",
    "        # Actualización de métricas del discriminador y generador\n",
    "        self.d_loss_metric.update_state(d_loss)\n",
    "        self.g_loss_metric.update_state(g_loss)\n",
    "        print(\"\\n\")\n",
    "        print(\"\\nd_loss=\",d_loss.numpy())\n",
    "        print(\"\\ng_loss=\",g_loss.numpy())\n",
    "\n",
    "\n",
    "        return {\"d_loss\": self.d_loss_metric.result(),\n",
    "                    \"g_loss\": self.g_loss_metric.result()}\n",
    "\n",
    "\n"
   ]
  },
  {
   "cell_type": "markdown",
   "metadata": {},
   "source": [
    "# Experimentación de GAIL con LunarLander"
   ]
  },
  {
   "cell_type": "markdown",
   "metadata": {},
   "source": [
    "## Experimento 1"
   ]
  },
  {
   "cell_type": "code",
   "execution_count": 15,
   "metadata": {},
   "outputs": [
    {
     "name": "stdout",
     "output_type": "stream",
     "text": [
      "\n",
      "\tEstados reales: \n",
      " [[-0.00655632  1.412633   -0.6640952  ...  0.15042743  0.\n",
      "   0.        ]\n",
      " [-0.01301994  1.4137701  -0.65149987 ...  0.1017526   0.\n",
      "   0.        ]\n",
      " [-0.01941118  1.414314   -0.6424104  ...  0.06514421  0.\n",
      "   0.        ]\n",
      " ...\n",
      " [-0.46665245 -0.0082029   0.03071342 ...  0.67170596  1.\n",
      "   1.        ]\n",
      " [-0.4661541  -0.01350838  0.02066027 ...  0.635882    1.\n",
      "   1.        ]\n",
      " [-0.46567154 -0.01838761  0.02184356 ...  0.58443296  1.\n",
      "   1.        ]]\n",
      "\tAcciones reales: \n",
      " [3 3 3 ... 0 3 3]\n"
     ]
    }
   ],
   "source": [
    "expert_observations = np.genfromtxt(\"observations_LunarLander.csv\",delimiter=\"\\t\",dtype=str)\n",
    "expert_actions = np.genfromtxt('actions_LunarLander.csv', dtype=np.int32)\n",
    "expert_num_tray=np.genfromtxt('n_trayectoria_LunarLander.csv', dtype=np.int32)\n",
    "\n",
    "# Reemplazar las comas\n",
    "expert_observations = np.core.defchararray.replace(expert_observations, ',', ' ')\n",
    "\n",
    "# Crear un nuevo array para almacenar los datos convertidos\n",
    "converted_observations = np.genfromtxt(expert_observations, delimiter=' ', dtype=float)\n",
    "\n",
    "print(\"\\n\\tEstados reales: \\n\", converted_observations)\n",
    "print(\"\\tAcciones reales: \\n\", expert_actions)"
   ]
  },
  {
   "cell_type": "code",
   "execution_count": 16,
   "metadata": {},
   "outputs": [
    {
     "name": "stdout",
     "output_type": "stream",
     "text": [
      "547\n"
     ]
    }
   ],
   "source": [
    "longitud_trayectoria = np.count_nonzero(expert_num_tray == 0)\n",
    "print(longitud_trayectoria)"
   ]
  },
  {
   "cell_type": "code",
   "execution_count": 19,
   "metadata": {},
   "outputs": [],
   "source": [
    "converted_observations=converted_observations[0:longitud_trayectoria]\n",
    "expert_actions=expert_actions[0:longitud_trayectoria]"
   ]
  },
  {
   "cell_type": "code",
   "execution_count": 20,
   "metadata": {},
   "outputs": [
    {
     "name": "stdout",
     "output_type": "stream",
     "text": [
      "[[-6.5563200e-03  1.4126330e+00 -6.6409520e-01 ...  0.0000000e+00\n",
      "   0.0000000e+00  1.0000000e+00]\n",
      " [-1.3019944e-02  1.4137701e+00 -6.5149987e-01 ...  0.0000000e+00\n",
      "   0.0000000e+00  1.0000000e+00]\n",
      " [-1.9411182e-02  1.4143140e+00 -6.4241040e-01 ...  0.0000000e+00\n",
      "   0.0000000e+00  1.0000000e+00]\n",
      " ...\n",
      " [-5.8399280e-01  5.7271480e-04  4.8840553e-02 ...  0.0000000e+00\n",
      "   0.0000000e+00  0.0000000e+00]\n",
      " [-5.8357376e-01 -3.8873695e-03  6.6003695e-02 ...  0.0000000e+00\n",
      "   0.0000000e+00  0.0000000e+00]\n",
      " [-5.8295580e-01 -8.0531975e-03  8.2983880e-02 ...  0.0000000e+00\n",
      "   0.0000000e+00  0.0000000e+00]]\n",
      "Nº de (ESTADOS,ACCIONES) en el conjunto de entrenamiento: 437\n",
      "Nº de (ESTADOS,ACCIONES) en el conjunto de prueba: 110\n"
     ]
    }
   ],
   "source": [
    "# Construimos el dataset [s,a] reales y lo dividimos en training y test\n",
    "expert_a_one_hot=np.eye(env.action_space.n)[expert_actions]\n",
    "\n",
    "dataset=np.concatenate([converted_observations,expert_a_one_hot],axis=1)\n",
    "\n",
    "\n",
    "print(dataset)\n",
    "\n",
    "# Divide los datos en conjuntos de entrenamiento y prueba\n",
    "X_train, X_test = train_test_split(dataset, test_size=0.2, random_state=0)\n",
    "\n",
    "\n",
    "#Imprime el número de elementos en el conjuntos de entrenamiento y prueba\n",
    "print('Nº de (ESTADOS,ACCIONES) en el conjunto de entrenamiento:', len(X_train))\n",
    "print('Nº de (ESTADOS,ACCIONES) en el conjunto de prueba:', len(X_test))"
   ]
  },
  {
   "cell_type": "code",
   "execution_count": 21,
   "metadata": {},
   "outputs": [
    {
     "name": "stderr",
     "output_type": "stream",
     "text": [
      "2024-06-27 17:15:46.562836: I tensorflow/stream_executor/platform/default/dso_loader.cc:49] Successfully opened dynamic library libcublas.so.10\n"
     ]
    }
   ],
   "source": [
    "env= gym.make('LunarLander-v2')\n",
    "obs,_= env.reset()\n",
    "\n",
    "# Generador\n",
    "generator=Policy_net( 'policy', env, obs)\n",
    "\n",
    "# Generamos [s,a, s', r] falsas y las políticas theta_i y theta_i+1\n",
    "observations, actions, rewards, Old_Policy, Policy=generator.generate_fakes()\n",
    "\n",
    "# Discriminador\n",
    "discriminator=Discriminator(env, discriminator_net, converted_observations, expert_actions, observations, actions)"
   ]
  },
  {
   "cell_type": "markdown",
   "metadata": {},
   "source": [
    "### Definición de GAIL"
   ]
  },
  {
   "cell_type": "code",
   "execution_count": 22,
   "metadata": {},
   "outputs": [],
   "source": [
    "gan1=GAN(discriminator=discriminator,generator=generator)"
   ]
  },
  {
   "cell_type": "markdown",
   "metadata": {},
   "source": [
    "### Compilación de GAIL"
   ]
  },
  {
   "cell_type": "code",
   "execution_count": 23,
   "metadata": {},
   "outputs": [],
   "source": [
    "tf.config.run_functions_eagerly(True)\n",
    "gan1.compile(\n",
    "    d_optimizer=tf.keras.optimizers.Adam(learning_rate=LEARNING_RATE),\n",
    "    loss_fn_D=loss_fn_D\n",
    ")"
   ]
  },
  {
   "cell_type": "markdown",
   "metadata": {},
   "source": [
    "### Entrenamiento de GAIL"
   ]
  },
  {
   "cell_type": "code",
   "execution_count": 24,
   "metadata": {},
   "outputs": [
    {
     "name": "stderr",
     "output_type": "stream",
     "text": [
      "/home/usuario/miniconda3/envs/luna/lib/python3.9/site-packages/tensorflow/python/data/ops/dataset_ops.py:3503: UserWarning: Even though the tf.config.experimental_run_functions_eagerly option is set, this option does not apply to tf.data functions. tf.data functions are still traced and executed as graphs.\n",
      "  warnings.warn(\n",
      "2024-06-27 17:29:39.438803: I tensorflow/compiler/mlir/mlir_graph_optimization_pass.cc:116] None of the MLIR optimization passes are enabled (registered 2)\n",
      "2024-06-27 17:29:39.440618: I tensorflow/core/platform/profile_utils/cpu_utils.cc:112] CPU Frequency: 2688000000 Hz\n"
     ]
    },
    {
     "name": "stdout",
     "output_type": "stream",
     "text": [
      "\n",
      "\n",
      "\n",
      "d_loss= 2.5869877\n",
      "\n",
      "g_loss= -1.7489645\n",
      "1/4 [======>.......................] - ETA: 43:02 - d_loss: 2.5870 - g_loss: -1.7490\n",
      "\n",
      "\n",
      "d_loss= 2.5900705\n",
      "\n",
      "g_loss= 0.52555335\n",
      "2/4 [==============>...............] - ETA: 24:03 - d_loss: 2.5885 - g_loss: -0.6117\n",
      "\n",
      "\n",
      "d_loss= 2.5642223\n",
      "\n",
      "g_loss= 3.6435153\n",
      "3/4 [=====================>........] - ETA: 11:28 - d_loss: 2.5804 - g_loss: 0.8067 \n",
      "\n",
      "\n",
      "d_loss= 2.607141\n",
      "\n",
      "g_loss= 1.4808834\n",
      "4/4 [==============================] - 2900s 680s/step - d_loss: 2.5871 - g_loss: 0.9752\n"
     ]
    }
   ],
   "source": [
    "# Deshabilitar los mensajes de información de TensorFlow\n",
    "os.environ['TF_CPP_MIN_LOG_LEVEL'] = '3'\n",
    "\n",
    "# Deshabilitar los mensajes de información de OpenAI Gym\n",
    "gym.logger.set_level(40)\n",
    "\n",
    "BATCH_SIZE=140\n",
    "\n",
    "history=gan1.fit(X_train,\n",
    "    epochs=EPOCHS, batch_size=BATCH_SIZE)\n"
   ]
  },
  {
   "cell_type": "markdown",
   "metadata": {},
   "source": [
    "### Evaluación de GAIL"
   ]
  },
  {
   "cell_type": "code",
   "execution_count": 25,
   "metadata": {},
   "outputs": [
    {
     "name": "stdout",
     "output_type": "stream",
     "text": [
      "1/1 [==============================] - 0s 57ms/step - loss: 0.6473 - accuracy: 0.0727\n",
      "1/1 [==============================] - 0s 19ms/step - loss: 0.6708 - accuracy: 0.2793\n",
      ">Loss real: \n",
      "0.6473046541213989\n",
      ">Loss fake: \n",
      "0.6707906723022461\n"
     ]
    }
   ],
   "source": [
    "# Evaluamos el Discriminador de GAIL en el TEST\n",
    "gan1.evaluate_D(X_test)\n"
   ]
  },
  {
   "cell_type": "code",
   "execution_count": 26,
   "metadata": {},
   "outputs": [
    {
     "name": "stdout",
     "output_type": "stream",
     "text": [
      "Episode  0 Total reward: -303.03492990060806\n",
      "Episode  1 Total reward: -168.20274883198556\n",
      "Episode  2 Total reward: -179.3666313009898\n",
      "Episode  3 Total reward: -46.50638557855475\n",
      "Episode  4 Total reward: 7.513713376916925\n",
      "Episode  5 Total reward: -136.86628345513495\n",
      "Episode  6 Total reward: 92.63721737952575\n",
      "Episode  7 Total reward: 11.082990495718747\n",
      "Episode  8 Total reward: 0.15854956393062025\n",
      "Episode  9 Total reward: -18.34278456052779\n",
      "Episode  10 Total reward: -212.06455805202245\n",
      "Episode  11 Total reward: -235.99362173925113\n",
      "Episode  12 Total reward: -263.2170792909418\n",
      "Episode  13 Total reward: -52.540531212556544\n",
      "Episode  14 Total reward: -123.84125642845201\n",
      "Episode  15 Total reward: -57.73309316897304\n",
      "Episode  16 Total reward: -105.81570415275837\n",
      "Episode  17 Total reward: -33.771759619632746\n",
      "Episode  18 Total reward: 8.498855578062333\n",
      "Episode  19 Total reward: -4.260664747044885\n",
      "Episode  20 Total reward: -227.2405688395984\n",
      "Episode  21 Total reward: -68.5609425619273\n",
      "Episode  22 Total reward: -85.80338245405119\n",
      "Episode  23 Total reward: -259.4749778747381\n",
      "Episode  24 Total reward: -146.97487639234652\n",
      "Episode  25 Total reward: -271.643501516587\n",
      "Episode  26 Total reward: -179.59754697297\n",
      "Episode  27 Total reward: -153.78425272148215\n",
      "Episode  28 Total reward: -132.6040918635813\n",
      "Episode  29 Total reward: 18.94306282547872\n",
      "Episode  30 Total reward: -23.290782201506715\n",
      "Episode  31 Total reward: -12.85091515982235\n",
      "Episode  32 Total reward: 0.3011617977723233\n",
      "Episode  33 Total reward: -130.7355534174813\n",
      "Episode  34 Total reward: -43.26488673703058\n",
      "Episode  35 Total reward: -161.68792261687105\n",
      "Episode  36 Total reward: 17.650243375120155\n",
      "Episode  37 Total reward: -37.51838488104893\n",
      "Episode  38 Total reward: -140.80234145923117\n",
      "Episode  39 Total reward: 23.96162779613023\n",
      "Episode  40 Total reward: -79.80157944200863\n",
      "Episode  41 Total reward: -17.030360137398347\n",
      "Episode  42 Total reward: -67.38506015551837\n",
      "Episode  43 Total reward: -42.01859011173046\n",
      "Episode  44 Total reward: -236.8641479222809\n",
      "Episode  45 Total reward: -17.501559706985034\n",
      "Episode  46 Total reward: 4.0896396070184835\n",
      "Episode  47 Total reward: -241.22794089021883\n",
      "Episode  48 Total reward: -79.46295107329499\n",
      "Episode  49 Total reward: -215.0657769196742\n"
     ]
    },
    {
     "data": {
      "image/png": "[encoded data removed]",
      "text/plain": [
       "<Figure size 640x480 with 1 Axes>"
      ]
     },
     "metadata": {},
     "output_type": "display_data"
    },
    {
     "name": "stdout",
     "output_type": "stream",
     "text": [
      "\n",
      "Recompensa de Media: -96.57827728546286 \n",
      "\n"
     ]
    }
   ],
   "source": [
    "# Evaluamos al Generador \n",
    "rewardMean=gan1.evaluate_G()\n",
    "print('\\nRecompensa de Media:', rewardMean, '\\n')"
   ]
  },
  {
   "cell_type": "markdown",
   "metadata": {},
   "source": [
    "## Experimento 2"
   ]
  },
  {
   "cell_type": "code",
   "execution_count": 27,
   "metadata": {},
   "outputs": [
    {
     "name": "stdout",
     "output_type": "stream",
     "text": [
      "\n",
      "\tEstados reales: \n",
      " [[-0.00655632  1.412633   -0.6640952  ...  0.15042743  0.\n",
      "   0.        ]\n",
      " [-0.01301994  1.4137701  -0.65149987 ...  0.1017526   0.\n",
      "   0.        ]\n",
      " [-0.01941118  1.414314   -0.6424104  ...  0.06514421  0.\n",
      "   0.        ]\n",
      " ...\n",
      " [-0.46665245 -0.0082029   0.03071342 ...  0.67170596  1.\n",
      "   1.        ]\n",
      " [-0.4661541  -0.01350838  0.02066027 ...  0.635882    1.\n",
      "   1.        ]\n",
      " [-0.46567154 -0.01838761  0.02184356 ...  0.58443296  1.\n",
      "   1.        ]]\n",
      "\tAcciones reales: \n",
      " [3 3 3 ... 0 3 3]\n"
     ]
    }
   ],
   "source": [
    "expert_observations = np.genfromtxt(\"observations_LunarLander.csv\",delimiter=\"\\t\",dtype=str)\n",
    "expert_actions = np.genfromtxt('actions_LunarLander.csv', dtype=np.int32)\n",
    "expert_num_tray=np.genfromtxt('n_trayectoria_LunarLander.csv', dtype=np.int32)\n",
    "\n",
    "# Reemplazar las comas\n",
    "expert_observations = np.core.defchararray.replace(expert_observations, ',', ' ')\n",
    "\n",
    "# Crear un nuevo array para almacenar los datos convertidos\n",
    "converted_observations = np.genfromtxt(expert_observations, delimiter=' ', dtype=float)\n",
    "\n",
    "print(\"\\n\\tEstados reales: \\n\", converted_observations)\n",
    "print(\"\\tAcciones reales: \\n\", expert_actions)"
   ]
  },
  {
   "cell_type": "code",
   "execution_count": 17,
   "metadata": {},
   "outputs": [
    {
     "name": "stdout",
     "output_type": "stream",
     "text": [
      "1127\n"
     ]
    }
   ],
   "source": [
    "longitud_trayectoria += np.count_nonzero(expert_num_tray == 1)\n",
    "print(longitud_trayectoria)"
   ]
  },
  {
   "cell_type": "code",
   "execution_count": 29,
   "metadata": {},
   "outputs": [],
   "source": [
    "converted_observations=converted_observations[0:longitud_trayectoria]\n",
    "expert_actions=expert_actions[0:longitud_trayectoria]"
   ]
  },
  {
   "cell_type": "code",
   "execution_count": 30,
   "metadata": {},
   "outputs": [
    {
     "name": "stdout",
     "output_type": "stream",
     "text": [
      "[[-6.5563200e-03  1.4126330e+00 -6.6409520e-01 ...  0.0000000e+00\n",
      "   0.0000000e+00  1.0000000e+00]\n",
      " [-1.3019944e-02  1.4137701e+00 -6.5149987e-01 ...  0.0000000e+00\n",
      "   0.0000000e+00  1.0000000e+00]\n",
      " [-1.9411182e-02  1.4143140e+00 -6.4241040e-01 ...  0.0000000e+00\n",
      "   0.0000000e+00  1.0000000e+00]\n",
      " ...\n",
      " [ 5.7585880e-01 -1.8368971e-01 -2.2056554e-08 ...  0.0000000e+00\n",
      "   0.0000000e+00  0.0000000e+00]\n",
      " [ 5.7585880e-01 -1.8368971e-01 -3.6117143e-08 ...  0.0000000e+00\n",
      "   0.0000000e+00  0.0000000e+00]\n",
      " [ 5.7585880e-01 -1.8368971e-01 -4.6132280e-08 ...  0.0000000e+00\n",
      "   0.0000000e+00  0.0000000e+00]]\n",
      "Nº de (ESTADOS,ACCIONES) en el conjunto de entrenamiento: 901\n",
      "Nº de (ESTADOS,ACCIONES) en el conjunto de prueba: 226\n"
     ]
    }
   ],
   "source": [
    "# Construimos el dataset [s,a] reales y lo dividimos en training y test\n",
    "expert_a_one_hot=np.eye(env.action_space.n)[expert_actions]\n",
    "\n",
    "dataset=np.concatenate([converted_observations,expert_a_one_hot],axis=1)\n",
    "\n",
    "\n",
    "print(dataset)\n",
    "\n",
    "# Divide los datos en conjuntos de entrenamiento y prueba\n",
    "X_train, X_test = train_test_split(dataset, test_size=0.2, random_state=0)\n",
    "\n",
    "\n",
    "#Imprime el número de elementos en el conjuntos de entrenamiento y prueba\n",
    "print('Nº de (ESTADOS,ACCIONES) en el conjunto de entrenamiento:', len(X_train))\n",
    "print('Nº de (ESTADOS,ACCIONES) en el conjunto de prueba:', len(X_test))"
   ]
  },
  {
   "cell_type": "code",
   "execution_count": 31,
   "metadata": {},
   "outputs": [],
   "source": [
    "env= gym.make('LunarLander-v2')\n",
    "obs,_= env.reset()\n",
    "\n",
    "# Generador\n",
    "generator=Policy_net( 'policy', env, obs)\n",
    "\n",
    "# Generamos [s,a, s', r] falsas y las políticas theta_i y theta_i+1\n",
    "observations, actions, rewards, Old_Policy, Policy=generator.generate_fakes()\n",
    "\n",
    "# Discriminador\n",
    "discriminator=Discriminator(env, discriminator_net, converted_observations, expert_actions, observations, actions)"
   ]
  },
  {
   "cell_type": "markdown",
   "metadata": {},
   "source": [
    "### Definición de GAIL"
   ]
  },
  {
   "cell_type": "code",
   "execution_count": 32,
   "metadata": {},
   "outputs": [],
   "source": [
    "gan2=GAN(discriminator=discriminator,generator=generator)"
   ]
  },
  {
   "cell_type": "markdown",
   "metadata": {},
   "source": [
    "### Compilación de GAIL"
   ]
  },
  {
   "cell_type": "code",
   "execution_count": 33,
   "metadata": {},
   "outputs": [],
   "source": [
    "tf.config.run_functions_eagerly(True)\n",
    "gan2.compile(\n",
    "    d_optimizer=tf.keras.optimizers.Adam(learning_rate=LEARNING_RATE),\n",
    "    loss_fn_D=loss_fn_D\n",
    ")"
   ]
  },
  {
   "cell_type": "markdown",
   "metadata": {},
   "source": [
    "### Entrenamiento de GAIL"
   ]
  },
  {
   "cell_type": "code",
   "execution_count": 34,
   "metadata": {},
   "outputs": [
    {
     "name": "stdout",
     "output_type": "stream",
     "text": [
      "\n",
      "\n",
      "\n",
      "d_loss= 2.604107\n",
      "\n",
      "g_loss= 1.6006018\n",
      "1/7 [===>..........................] - ETA: 1:05:49 - d_loss: 2.6041 - g_loss: 1.6006\n",
      "\n",
      "\n",
      "d_loss= 2.559779\n",
      "\n",
      "g_loss= -2.7332942\n",
      "2/7 [=======>......................] - ETA: 54:48 - d_loss: 2.5819 - g_loss: -0.5663 \n",
      "\n",
      "\n",
      "d_loss= 2.5663247\n",
      "\n",
      "g_loss= 1.5805186\n",
      "3/7 [===========>..................] - ETA: 43:50 - d_loss: 2.5767 - g_loss: 0.1493 \n",
      "\n",
      "\n",
      "d_loss= 2.5866117\n",
      "\n",
      "g_loss= 1.9192059\n",
      "4/7 [================>.............] - ETA: 32:57 - d_loss: 2.5792 - g_loss: 0.5918\n",
      "\n",
      "\n",
      "d_loss= 2.5854042\n",
      "\n",
      "g_loss= 0.6082139\n",
      "5/7 [====================>.........] - ETA: 21:59 - d_loss: 2.5804 - g_loss: 0.5950\n",
      "\n",
      "\n",
      "d_loss= 2.5499654\n",
      "\n",
      "g_loss= 2.6718738\n",
      "6/7 [========================>.....] - ETA: 10:59 - d_loss: 2.5754 - g_loss: 0.9412\n",
      "\n",
      "\n",
      "d_loss= 2.541269\n",
      "\n",
      "g_loss= -3.822152\n",
      "7/7 [==============================] - 4616s 660s/step - d_loss: 2.5705 - g_loss: 0.2607\n"
     ]
    }
   ],
   "source": [
    "# Deshabilitar los mensajes de información de TensorFlow\n",
    "os.environ['TF_CPP_MIN_LOG_LEVEL'] = '3'\n",
    "\n",
    "# Deshabilitar los mensajes de información de OpenAI Gym\n",
    "gym.logger.set_level(40)\n",
    "\n",
    "BATCH_SIZE=140 \n",
    "\n",
    "history=gan2.fit(X_train,\n",
    "    epochs=EPOCHS, batch_size=BATCH_SIZE)\n"
   ]
  },
  {
   "cell_type": "markdown",
   "metadata": {},
   "source": [
    "### Evaluación de GAIL"
   ]
  },
  {
   "cell_type": "code",
   "execution_count": 35,
   "metadata": {},
   "outputs": [
    {
     "name": "stdout",
     "output_type": "stream",
     "text": [
      "1/1 [==============================] - 0s 19ms/step - loss: 0.6281 - accuracy: 0.0044\n",
      "1/1 [==============================] - 0s 18ms/step - loss: 0.6427 - accuracy: 0.0460\n",
      ">Loss real: \n",
      "0.6281254887580872\n",
      ">Loss fake: \n",
      "0.6427103281021118\n"
     ]
    }
   ],
   "source": [
    "# Evaluamos el Discriminador de GAIL en el TEST\n",
    "gan2.evaluate_D(X_test)\n"
   ]
  },
  {
   "cell_type": "code",
   "execution_count": 36,
   "metadata": {},
   "outputs": [
    {
     "name": "stdout",
     "output_type": "stream",
     "text": [
      "Episode  0 Total reward: -47.25210251823657\n",
      "Episode  1 Total reward: -204.72213546560835\n",
      "Episode  2 Total reward: 82.81588684362062\n",
      "Episode  3 Total reward: -103.40654121304466\n",
      "Episode  4 Total reward: 65.39174037662697\n",
      "Episode  5 Total reward: -209.14573608762905\n",
      "Episode  6 Total reward: -43.935913827620524\n",
      "Episode  7 Total reward: 120.45478910979153\n",
      "Episode  8 Total reward: -63.833853269447175\n",
      "Episode  9 Total reward: -24.907417082563583\n",
      "Episode  10 Total reward: -4.134985556938093\n",
      "Episode  11 Total reward: 45.72158619166423\n",
      "Episode  12 Total reward: -86.64157478852984\n",
      "Episode  13 Total reward: -66.5651842822478\n",
      "Episode  14 Total reward: -115.23042087964134\n",
      "Episode  15 Total reward: 33.539963352721884\n",
      "Episode  16 Total reward: -117.32464000540905\n",
      "Episode  17 Total reward: -57.07664935140778\n",
      "Episode  18 Total reward: 9.293299678076195\n",
      "Episode  19 Total reward: -98.00023557363355\n",
      "Episode  20 Total reward: 55.49245671494538\n",
      "Episode  21 Total reward: 103.13735933320339\n",
      "Episode  22 Total reward: -129.3383366778604\n",
      "Episode  23 Total reward: -11.089979840922211\n",
      "Episode  24 Total reward: -63.236492288722324\n",
      "Episode  25 Total reward: -151.6695641817057\n",
      "Episode  26 Total reward: -100.1011080058968\n",
      "Episode  27 Total reward: -250.30838200464237\n",
      "Episode  28 Total reward: -164.97215140345992\n",
      "Episode  29 Total reward: -93.74570517302796\n",
      "Episode  30 Total reward: -70.61716116782868\n",
      "Episode  31 Total reward: -77.71645794790025\n",
      "Episode  32 Total reward: -44.84978975525647\n",
      "Episode  33 Total reward: 18.690429936734233\n",
      "Episode  34 Total reward: -157.9436733187797\n",
      "Episode  35 Total reward: -214.26194048558557\n",
      "Episode  36 Total reward: -19.86281998780258\n",
      "Episode  37 Total reward: -229.43226389974524\n",
      "Episode  38 Total reward: -24.414157317627044\n",
      "Episode  39 Total reward: -72.25067067208391\n",
      "Episode  40 Total reward: -34.19461977313851\n",
      "Episode  41 Total reward: -167.99330628424002\n",
      "Episode  42 Total reward: -17.52288852570031\n",
      "Episode  43 Total reward: 4.920954609691421\n",
      "Episode  44 Total reward: -11.65568214497334\n",
      "Episode  45 Total reward: -93.17249872431145\n",
      "Episode  46 Total reward: -175.61459283538764\n",
      "Episode  47 Total reward: -18.95768192311202\n",
      "Episode  48 Total reward: 1.9657281148670762\n",
      "Episode  49 Total reward: -183.52543045315485\n"
     ]
    },
    {
     "data": {
      "image/png": "[encoded data removed]",
      "text/plain": [
       "<Figure size 640x480 with 1 Axes>"
      ]
     },
     "metadata": {},
     "output_type": "display_data"
    },
    {
     "name": "stdout",
     "output_type": "stream",
     "text": [
      "\n",
      "Recompensa de Media: -65.5840110086576 \n",
      "\n"
     ]
    }
   ],
   "source": [
    "# Evaluamos al Generador \n",
    "rewardMean=gan2.evaluate_G()\n",
    "print('\\nRecompensa de Media:', rewardMean, '\\n')"
   ]
  },
  {
   "cell_type": "markdown",
   "metadata": {},
   "source": [
    "## Experimento 3"
   ]
  },
  {
   "cell_type": "code",
   "execution_count": 37,
   "metadata": {},
   "outputs": [
    {
     "name": "stdout",
     "output_type": "stream",
     "text": [
      "\n",
      "\tEstados reales: \n",
      " [[-0.00655632  1.412633   -0.6640952  ...  0.15042743  0.\n",
      "   0.        ]\n",
      " [-0.01301994  1.4137701  -0.65149987 ...  0.1017526   0.\n",
      "   0.        ]\n",
      " [-0.01941118  1.414314   -0.6424104  ...  0.06514421  0.\n",
      "   0.        ]\n",
      " ...\n",
      " [-0.46665245 -0.0082029   0.03071342 ...  0.67170596  1.\n",
      "   1.        ]\n",
      " [-0.4661541  -0.01350838  0.02066027 ...  0.635882    1.\n",
      "   1.        ]\n",
      " [-0.46567154 -0.01838761  0.02184356 ...  0.58443296  1.\n",
      "   1.        ]]\n",
      "\tAcciones reales: \n",
      " [3 3 3 ... 0 3 3]\n"
     ]
    }
   ],
   "source": [
    "expert_observations = np.genfromtxt(\"observations_LunarLander.csv\",delimiter=\"\\t\",dtype=str)\n",
    "expert_actions = np.genfromtxt('actions_LunarLander.csv', dtype=np.int32)\n",
    "expert_num_tray=np.genfromtxt('n_trayectoria_LunarLander.csv', dtype=np.int32)\n",
    "\n",
    "# Reemplazar las comas\n",
    "expert_observations = np.core.defchararray.replace(expert_observations, ',', ' ')\n",
    "\n",
    "# Crear un nuevo array para almacenar los datos convertidos\n",
    "converted_observations = np.genfromtxt(expert_observations, delimiter=' ', dtype=float)\n",
    "\n",
    "print(\"\\n\\tEstados reales: \\n\", converted_observations)\n",
    "print(\"\\tAcciones reales: \\n\", expert_actions)"
   ]
  },
  {
   "cell_type": "code",
   "execution_count": 18,
   "metadata": {},
   "outputs": [
    {
     "name": "stdout",
     "output_type": "stream",
     "text": [
      "1572\n"
     ]
    }
   ],
   "source": [
    "longitud_trayectoria += np.count_nonzero(expert_num_tray == 2)\n",
    "print(longitud_trayectoria)"
   ]
  },
  {
   "cell_type": "code",
   "execution_count": 39,
   "metadata": {},
   "outputs": [],
   "source": [
    "converted_observations=converted_observations[0:longitud_trayectoria]\n",
    "expert_actions=expert_actions[0:longitud_trayectoria]"
   ]
  },
  {
   "cell_type": "code",
   "execution_count": 40,
   "metadata": {},
   "outputs": [
    {
     "name": "stdout",
     "output_type": "stream",
     "text": [
      "[[-0.00655632  1.412633   -0.6640952  ...  0.          0.\n",
      "   1.        ]\n",
      " [-0.01301994  1.4137701  -0.65149987 ...  0.          0.\n",
      "   1.        ]\n",
      " [-0.01941118  1.414314   -0.6424104  ...  0.          0.\n",
      "   1.        ]\n",
      " ...\n",
      " [ 0.4179185   0.11636597 -0.10107721 ...  0.          1.\n",
      "   0.        ]\n",
      " [ 0.41688195  0.11385406 -0.10168035 ...  0.          1.\n",
      "   0.        ]\n",
      " [ 0.41580305  0.11141074 -0.10570452 ...  0.          1.\n",
      "   0.        ]]\n",
      "Nº de (ESTADOS,ACCIONES) en el conjunto de entrenamiento: 1257\n",
      "Nº de (ESTADOS,ACCIONES) en el conjunto de prueba: 315\n"
     ]
    }
   ],
   "source": [
    "# Construimos el dataset [s,a] reales y lo dividimos en training y test\n",
    "expert_a_one_hot=np.eye(env.action_space.n)[expert_actions]\n",
    "\n",
    "dataset=np.concatenate([converted_observations,expert_a_one_hot],axis=1)\n",
    "\n",
    "\n",
    "print(dataset)\n",
    "\n",
    "# Divide los datos en conjuntos de entrenamiento y prueba\n",
    "X_train, X_test = train_test_split(dataset, test_size=0.2, random_state=0)\n",
    "\n",
    "\n",
    "#Imprime el número de elementos en el conjuntos de entrenamiento y prueba\n",
    "print('Nº de (ESTADOS,ACCIONES) en el conjunto de entrenamiento:', len(X_train))\n",
    "print('Nº de (ESTADOS,ACCIONES) en el conjunto de prueba:', len(X_test))"
   ]
  },
  {
   "cell_type": "code",
   "execution_count": 41,
   "metadata": {},
   "outputs": [],
   "source": [
    "env= gym.make('LunarLander-v2')\n",
    "obs,_= env.reset()\n",
    "\n",
    "# Generador\n",
    "generator=Policy_net( 'policy', env, obs)\n",
    "\n",
    "# Generamos [s,a, s', r] falsas y las políticas theta_i y theta_i+1\n",
    "observations, actions, rewards, Old_Policy, Policy=generator.generate_fakes()\n",
    "\n",
    "# Discriminador\n",
    "discriminator=Discriminator(env, discriminator_net, converted_observations, expert_actions, observations, actions)"
   ]
  },
  {
   "cell_type": "markdown",
   "metadata": {},
   "source": [
    "### Definición de GAIL"
   ]
  },
  {
   "cell_type": "code",
   "execution_count": 42,
   "metadata": {},
   "outputs": [],
   "source": [
    "gan3=GAN(discriminator=discriminator,generator=generator)"
   ]
  },
  {
   "cell_type": "markdown",
   "metadata": {},
   "source": [
    "### Compilación de GAIL"
   ]
  },
  {
   "cell_type": "code",
   "execution_count": 43,
   "metadata": {},
   "outputs": [],
   "source": [
    "tf.config.run_functions_eagerly(True)\n",
    "gan3.compile(\n",
    "    d_optimizer=tf.keras.optimizers.Adam(learning_rate=LEARNING_RATE),\n",
    "    loss_fn_D=loss_fn_D\n",
    ")"
   ]
  },
  {
   "cell_type": "markdown",
   "metadata": {},
   "source": [
    "### Entrenamiento de GAIL"
   ]
  },
  {
   "cell_type": "code",
   "execution_count": 44,
   "metadata": {},
   "outputs": [
    {
     "name": "stdout",
     "output_type": "stream",
     "text": [
      "\n",
      "\n",
      "\n",
      "d_loss= 2.5267668\n",
      "\n",
      "g_loss= -0.87284565\n",
      "1/9 [==>...........................] - ETA: 1:27:38 - d_loss: 2.5268 - g_loss: -0.8728\n",
      "\n",
      "\n",
      "d_loss= 2.553796\n",
      "\n",
      "g_loss= 1.3850619\n",
      "2/9 [=====>........................] - ETA: 1:16:12 - d_loss: 2.5403 - g_loss: 0.2561 \n",
      "\n",
      "\n",
      "d_loss= 2.5088708\n",
      "\n",
      "g_loss= -3.0662274\n",
      "3/9 [=========>....................] - ETA: 1:05:32 - d_loss: 2.5298 - g_loss: -0.8513\n",
      "\n",
      "\n",
      "d_loss= 2.5280404\n",
      "\n",
      "g_loss= -1.6360327\n",
      "4/9 [============>.................] - ETA: 54:43 - d_loss: 2.5294 - g_loss: -1.0475  \n",
      "\n",
      "\n",
      "d_loss= 2.4858227\n",
      "\n",
      "g_loss= -3.5558338\n",
      "5/9 [===============>..............] - ETA: 43:47 - d_loss: 2.5207 - g_loss: -1.5492\n",
      "\n",
      "\n",
      "d_loss= 2.482568\n",
      "\n",
      "g_loss= -0.342203\n",
      "6/9 [===================>..........] - ETA: 32:51 - d_loss: 2.5143 - g_loss: -1.3480\n",
      "\n",
      "\n",
      "d_loss= 2.4920928\n",
      "\n",
      "g_loss= -3.0979366\n",
      "7/9 [======================>.......] - ETA: 21:55 - d_loss: 2.5111 - g_loss: -1.5980\n",
      "\n",
      "\n",
      "d_loss= 2.4426517\n",
      "\n",
      "g_loss= -2.161507\n",
      "8/9 [=========================>....] - ETA: 10:58 - d_loss: 2.5026 - g_loss: -1.6684\n",
      "\n",
      "\n",
      "d_loss= 2.5051637\n",
      "\n",
      "g_loss= 2.3262691\n",
      "9/9 [==============================] - 5923s 658s/step - d_loss: 2.5029 - g_loss: -1.2246\n"
     ]
    }
   ],
   "source": [
    "# Deshabilitar los mensajes de información de TensorFlow\n",
    "os.environ['TF_CPP_MIN_LOG_LEVEL'] = '3'\n",
    "\n",
    "# Deshabilitar los mensajes de información de OpenAI Gym\n",
    "gym.logger.set_level(40)\n",
    "\n",
    "BATCH_SIZE=140\n",
    "\n",
    "history=gan3.fit(X_train,\n",
    "    epochs=EPOCHS, batch_size=BATCH_SIZE)\n"
   ]
  },
  {
   "cell_type": "markdown",
   "metadata": {},
   "source": [
    "### Evaluación de GAIL"
   ]
  },
  {
   "cell_type": "code",
   "execution_count": 45,
   "metadata": {},
   "outputs": [
    {
     "name": "stdout",
     "output_type": "stream",
     "text": [
      "1/1 [==============================] - 0s 19ms/step - loss: 0.5857 - accuracy: 0.0000e+00\n",
      "1/1 [==============================] - 0s 17ms/step - loss: 0.6328 - accuracy: 0.0473\n",
      ">Loss real: \n",
      "0.5857214331626892\n",
      ">Loss fake: \n",
      "0.6327922344207764\n"
     ]
    }
   ],
   "source": [
    "# Evaluamos el Discriminador de GAIL en el TEST\n",
    "gan3.evaluate_D(X_test)\n"
   ]
  },
  {
   "cell_type": "code",
   "execution_count": 46,
   "metadata": {},
   "outputs": [
    {
     "name": "stdout",
     "output_type": "stream",
     "text": [
      "Episode  0 Total reward: -101.52949299712319\n",
      "Episode  1 Total reward: -232.4943924962734\n",
      "Episode  2 Total reward: -132.50555245188207\n",
      "Episode  3 Total reward: -54.30043973842365\n",
      "Episode  4 Total reward: -0.5579515216308724\n",
      "Episode  5 Total reward: -18.573043049059663\n",
      "Episode  6 Total reward: -151.86069515279752\n",
      "Episode  7 Total reward: -27.985945628395427\n",
      "Episode  8 Total reward: -210.06828832648216\n",
      "Episode  9 Total reward: 114.33270173525551\n",
      "Episode  10 Total reward: -165.4575183218056\n",
      "Episode  11 Total reward: -111.20829032146018\n",
      "Episode  12 Total reward: -31.9270046747002\n",
      "Episode  13 Total reward: -158.69579469168926\n",
      "Episode  14 Total reward: -50.68034828520197\n",
      "Episode  15 Total reward: 82.18635080632374\n",
      "Episode  16 Total reward: -66.5591843755714\n",
      "Episode  17 Total reward: -125.10344056239742\n",
      "Episode  18 Total reward: -88.94425184853378\n",
      "Episode  19 Total reward: 20.43669740667498\n",
      "Episode  20 Total reward: -183.97423178289284\n",
      "Episode  21 Total reward: -156.11094020797435\n",
      "Episode  22 Total reward: -8.441120847760615\n",
      "Episode  23 Total reward: -154.64204232197514\n",
      "Episode  24 Total reward: -97.99438170172343\n",
      "Episode  25 Total reward: -173.37922410343936\n",
      "Episode  26 Total reward: -335.65982950939554\n",
      "Episode  27 Total reward: -13.333671093931898\n",
      "Episode  28 Total reward: -159.90625391702898\n",
      "Episode  29 Total reward: 30.294267991210432\n",
      "Episode  30 Total reward: -48.608401630167464\n",
      "Episode  31 Total reward: -211.44786816857777\n",
      "Episode  32 Total reward: -134.93726413523055\n",
      "Episode  33 Total reward: -279.58685209517046\n",
      "Episode  34 Total reward: -173.16848215818393\n",
      "Episode  35 Total reward: -165.87560172550354\n",
      "Episode  36 Total reward: -127.131787784878\n",
      "Episode  37 Total reward: -157.02867133079212\n",
      "Episode  38 Total reward: -198.35007545836916\n",
      "Episode  39 Total reward: -32.03149831065441\n",
      "Episode  40 Total reward: 28.513196074127706\n",
      "Episode  41 Total reward: -136.24082369933848\n",
      "Episode  42 Total reward: 39.476845305036555\n",
      "Episode  43 Total reward: -54.01243500915934\n",
      "Episode  44 Total reward: -1.1516521719798476\n",
      "Episode  45 Total reward: 52.28605001783764\n",
      "Episode  46 Total reward: -20.09448003309707\n",
      "Episode  47 Total reward: -185.0581387351765\n",
      "Episode  48 Total reward: -63.26633348560732\n",
      "Episode  49 Total reward: -307.52161295847947\n"
     ]
    },
    {
     "data": {
      "image/png": "[encoded data removed]",
      "text/plain": [
       "<Figure size 640x480 with 1 Axes>"
      ]
     },
     "metadata": {},
     "output_type": "display_data"
    },
    {
     "name": "stdout",
     "output_type": "stream",
     "text": [
      "\n",
      "Recompensa de Media: -98.79758398966896 \n",
      "\n"
     ]
    }
   ],
   "source": [
    "# Evaluamos al Generador \n",
    "rewardMean=gan3.evaluate_G()\n",
    "print('\\nRecompensa de Media:', rewardMean, '\\n')"
   ]
  },
  {
   "cell_type": "markdown",
   "metadata": {},
   "source": [
    "## Experimento 4"
   ]
  },
  {
   "cell_type": "code",
   "execution_count": 47,
   "metadata": {},
   "outputs": [
    {
     "name": "stdout",
     "output_type": "stream",
     "text": [
      "\n",
      "\tEstados reales: \n",
      " [[-0.00655632  1.412633   -0.6640952  ...  0.15042743  0.\n",
      "   0.        ]\n",
      " [-0.01301994  1.4137701  -0.65149987 ...  0.1017526   0.\n",
      "   0.        ]\n",
      " [-0.01941118  1.414314   -0.6424104  ...  0.06514421  0.\n",
      "   0.        ]\n",
      " ...\n",
      " [-0.46665245 -0.0082029   0.03071342 ...  0.67170596  1.\n",
      "   1.        ]\n",
      " [-0.4661541  -0.01350838  0.02066027 ...  0.635882    1.\n",
      "   1.        ]\n",
      " [-0.46567154 -0.01838761  0.02184356 ...  0.58443296  1.\n",
      "   1.        ]]\n",
      "\tAcciones reales: \n",
      " [3 3 3 ... 0 3 3]\n"
     ]
    }
   ],
   "source": [
    "expert_observations = np.genfromtxt(\"observations_LunarLander.csv\",delimiter=\"\\t\",dtype=str)\n",
    "expert_actions = np.genfromtxt('actions_LunarLander.csv', dtype=np.int32)\n",
    "expert_num_tray=np.genfromtxt('n_trayectoria_LunarLander.csv', dtype=np.int32)\n",
    "\n",
    "# Reemplazar las comas\n",
    "expert_observations = np.core.defchararray.replace(expert_observations, ',', ' ')\n",
    "\n",
    "# Crear un nuevo array para almacenar los datos convertidos\n",
    "converted_observations = np.genfromtxt(expert_observations, delimiter=' ', dtype=float)\n",
    "\n",
    "print(\"\\n\\tEstados reales: \\n\", converted_observations)\n",
    "print(\"\\tAcciones reales: \\n\", expert_actions)"
   ]
  },
  {
   "cell_type": "code",
   "execution_count": 19,
   "metadata": {},
   "outputs": [
    {
     "name": "stdout",
     "output_type": "stream",
     "text": [
      "2168\n"
     ]
    }
   ],
   "source": [
    "longitud_trayectoria += np.count_nonzero(expert_num_tray == 3)\n",
    "print(longitud_trayectoria)"
   ]
  },
  {
   "cell_type": "code",
   "execution_count": 49,
   "metadata": {},
   "outputs": [],
   "source": [
    "converted_observations=converted_observations[0:longitud_trayectoria]\n",
    "expert_actions=expert_actions[0:longitud_trayectoria]"
   ]
  },
  {
   "cell_type": "code",
   "execution_count": 50,
   "metadata": {},
   "outputs": [
    {
     "name": "stdout",
     "output_type": "stream",
     "text": [
      "[[-6.5563200e-03  1.4126330e+00 -6.6409520e-01 ...  0.0000000e+00\n",
      "   0.0000000e+00  1.0000000e+00]\n",
      " [-1.3019944e-02  1.4137701e+00 -6.5149987e-01 ...  0.0000000e+00\n",
      "   0.0000000e+00  1.0000000e+00]\n",
      " [-1.9411182e-02  1.4143140e+00 -6.4241040e-01 ...  0.0000000e+00\n",
      "   0.0000000e+00  1.0000000e+00]\n",
      " ...\n",
      " [ 4.1053313e-01  4.4803914e-02  2.5128000e-04 ...  0.0000000e+00\n",
      "   0.0000000e+00  1.0000000e+00]\n",
      " [ 4.1053715e-01  4.4805490e-02  4.1009445e-04 ...  0.0000000e+00\n",
      "   0.0000000e+00  1.0000000e+00]\n",
      " [ 4.1053790e-01  4.4805700e-02  7.5154120e-05 ...  0.0000000e+00\n",
      "   0.0000000e+00  1.0000000e+00]]\n",
      "Nº de (ESTADOS,ACCIONES) en el conjunto de entrenamiento: 1734\n",
      "Nº de (ESTADOS,ACCIONES) en el conjunto de prueba: 434\n"
     ]
    }
   ],
   "source": [
    "# Construimos el dataset [s,a] reales y lo dividimos en training y test\n",
    "expert_a_one_hot=np.eye(env.action_space.n)[expert_actions]\n",
    "\n",
    "dataset=np.concatenate([converted_observations,expert_a_one_hot],axis=1)\n",
    "\n",
    "\n",
    "print(dataset)\n",
    "\n",
    "# Divide los datos en conjuntos de entrenamiento y prueba\n",
    "X_train, X_test = train_test_split(dataset, test_size=0.2, random_state=0)\n",
    "\n",
    "\n",
    "#Imprime el número de elementos en el conjuntos de entrenamiento y prueba\n",
    "print('Nº de (ESTADOS,ACCIONES) en el conjunto de entrenamiento:', len(X_train))\n",
    "print('Nº de (ESTADOS,ACCIONES) en el conjunto de prueba:', len(X_test))"
   ]
  },
  {
   "cell_type": "code",
   "execution_count": 51,
   "metadata": {},
   "outputs": [],
   "source": [
    "env= gym.make('LunarLander-v2')\n",
    "obs,_= env.reset()\n",
    "\n",
    "# Generador\n",
    "generator=Policy_net( 'policy', env, obs)\n",
    "\n",
    "# Generamos [s,a, s', r] falsas y las políticas theta_i y theta_i+1\n",
    "observations, actions, rewards, Old_Policy, Policy=generator.generate_fakes()\n",
    "\n",
    "# Discriminador\n",
    "discriminator=Discriminator(env, discriminator_net, converted_observations, expert_actions, observations, actions)"
   ]
  },
  {
   "cell_type": "markdown",
   "metadata": {},
   "source": [
    "### Definición de GAIL"
   ]
  },
  {
   "cell_type": "code",
   "execution_count": 52,
   "metadata": {},
   "outputs": [],
   "source": [
    "gan4=GAN(discriminator=discriminator,generator=generator)"
   ]
  },
  {
   "cell_type": "markdown",
   "metadata": {},
   "source": [
    "### Compilación de GAIL"
   ]
  },
  {
   "cell_type": "code",
   "execution_count": 53,
   "metadata": {},
   "outputs": [],
   "source": [
    "tf.config.run_functions_eagerly(True)\n",
    "gan4.compile(\n",
    "    d_optimizer=tf.keras.optimizers.Adam(learning_rate=LEARNING_RATE),\n",
    "    loss_fn_D=loss_fn_D\n",
    ")"
   ]
  },
  {
   "cell_type": "markdown",
   "metadata": {},
   "source": [
    "### Entrenamiento de GAIL"
   ]
  },
  {
   "cell_type": "code",
   "execution_count": 54,
   "metadata": {},
   "outputs": [
    {
     "name": "stdout",
     "output_type": "stream",
     "text": [
      "\n",
      "\n",
      "\n",
      "d_loss= 2.4952483\n",
      "\n",
      "g_loss= 2.7643912\n",
      " 1/13 [=>............................] - ETA: 2:11:27 - d_loss: 2.4952 - g_loss: 2.7644\n",
      "\n",
      "\n",
      "d_loss= 2.480114\n",
      "\n",
      "g_loss= -0.09686961\n",
      " 2/13 [===>..........................] - ETA: 2:01:32 - d_loss: 2.4877 - g_loss: 1.3338\n",
      "\n",
      "\n",
      "d_loss= 2.4860308\n",
      "\n",
      "g_loss= 0.50022715\n",
      " 3/13 [=====>........................] - ETA: 1:50:25 - d_loss: 2.4871 - g_loss: 1.0559\n",
      "\n",
      "\n",
      "d_loss= 2.4495173\n",
      "\n",
      "g_loss= 2.0130558\n",
      " 4/13 [========>.....................] - ETA: 1:39:22 - d_loss: 2.4777 - g_loss: 1.2952\n",
      "\n",
      "\n",
      "d_loss= 2.4811656\n",
      "\n",
      "g_loss= 0.7451735\n",
      " 5/13 [==========>...................] - ETA: 1:28:10 - d_loss: 2.4784 - g_loss: 1.1852\n",
      "\n",
      "\n",
      "d_loss= 2.5177455\n",
      "\n",
      "g_loss= 2.4858806\n",
      " 6/13 [============>.................] - ETA: 1:17:04 - d_loss: 2.4850 - g_loss: 1.4020\n",
      "\n",
      "\n",
      "d_loss= 2.46351\n",
      "\n",
      "g_loss= 0.7520756\n",
      " 7/13 [===============>..............] - ETA: 1:06:05 - d_loss: 2.4819 - g_loss: 1.3091\n",
      "\n",
      "\n",
      "d_loss= 2.485539\n",
      "\n",
      "g_loss= 0.588198\n",
      " 8/13 [=================>............] - ETA: 55:07 - d_loss: 2.4824 - g_loss: 1.2190  \n",
      "\n",
      "\n",
      "d_loss= 2.447686\n",
      "\n",
      "g_loss= -0.6342204\n",
      " 9/13 [===================>..........] - ETA: 44:05 - d_loss: 2.4785 - g_loss: 1.0131\n",
      "\n",
      "\n",
      "d_loss= 2.450051\n",
      "\n",
      "g_loss= 2.3265953\n",
      "10/13 [======================>.......] - ETA: 33:03 - d_loss: 2.4757 - g_loss: 1.1445\n",
      "\n",
      "\n",
      "d_loss= 2.4407074\n",
      "\n",
      "g_loss= -2.378991\n",
      "11/13 [========================>.....] - ETA: 22:02 - d_loss: 2.4725 - g_loss: 0.8241\n",
      "\n",
      "\n",
      "d_loss= 2.438006\n",
      "\n",
      "g_loss= 1.3328049\n",
      "12/13 [==========================>...] - ETA: 11:00 - d_loss: 2.4696 - g_loss: 0.8665\n",
      "\n",
      "\n",
      "d_loss= 2.4134836\n",
      "\n",
      "g_loss= 1.7159156\n",
      "13/13 [==============================] - 8592s 661s/step - d_loss: 2.4653 - g_loss: 0.9319\n"
     ]
    }
   ],
   "source": [
    "# Deshabilitar los mensajes de información de TensorFlow\n",
    "os.environ['TF_CPP_MIN_LOG_LEVEL'] = '3'\n",
    "\n",
    "# Deshabilitar los mensajes de información de OpenAI Gym\n",
    "gym.logger.set_level(40)\n",
    "\n",
    "BATCH_SIZE=140\n",
    "\n",
    "history=gan4.fit(X_train,\n",
    "    epochs=EPOCHS, batch_size=BATCH_SIZE)\n"
   ]
  },
  {
   "cell_type": "markdown",
   "metadata": {},
   "source": [
    "### Evaluación de GAIL"
   ]
  },
  {
   "cell_type": "code",
   "execution_count": 55,
   "metadata": {},
   "outputs": [
    {
     "name": "stdout",
     "output_type": "stream",
     "text": [
      "1/1 [==============================] - 0s 20ms/step - loss: 0.5387 - accuracy: 0.0000e+00\n",
      "1/1 [==============================] - 0s 16ms/step - loss: 0.5891 - accuracy: 0.0000e+00\n",
      ">Loss real: \n",
      "0.5386828780174255\n",
      ">Loss fake: \n",
      "0.5891191363334656\n"
     ]
    }
   ],
   "source": [
    "# Evaluamos el Discriminador de GAIL en el TEST\n",
    "gan4.evaluate_D(X_test)\n"
   ]
  },
  {
   "cell_type": "code",
   "execution_count": 56,
   "metadata": {},
   "outputs": [
    {
     "name": "stdout",
     "output_type": "stream",
     "text": [
      "Episode  0 Total reward: -60.17644063138499\n",
      "Episode  1 Total reward: -92.37430131610677\n",
      "Episode  2 Total reward: 137.20596433921827\n",
      "Episode  3 Total reward: -368.59161693154505\n",
      "Episode  4 Total reward: -80.22781664705707\n",
      "Episode  5 Total reward: -131.36907775462785\n",
      "Episode  6 Total reward: -176.93401457397454\n",
      "Episode  7 Total reward: -139.69321762552357\n",
      "Episode  8 Total reward: 62.88170796161248\n",
      "Episode  9 Total reward: 46.68974583684571\n",
      "Episode  10 Total reward: -170.18554123195565\n",
      "Episode  11 Total reward: 41.16638471316878\n",
      "Episode  12 Total reward: -53.45710856305838\n",
      "Episode  13 Total reward: -13.482785876203252\n",
      "Episode  14 Total reward: -64.2285662227612\n",
      "Episode  15 Total reward: -79.68055394337654\n",
      "Episode  16 Total reward: -218.09455866603662\n",
      "Episode  17 Total reward: -212.2053037416046\n",
      "Episode  18 Total reward: 15.45043671977649\n",
      "Episode  19 Total reward: -261.1485809599966\n",
      "Episode  20 Total reward: -58.195452731223064\n",
      "Episode  21 Total reward: -233.60437454648155\n",
      "Episode  22 Total reward: -176.9006745554941\n",
      "Episode  23 Total reward: -120.5744168999818\n",
      "Episode  24 Total reward: -64.825399882157\n",
      "Episode  25 Total reward: -60.06641879254256\n",
      "Episode  26 Total reward: -212.9276141639935\n",
      "Episode  27 Total reward: 138.47551556211383\n",
      "Episode  28 Total reward: -231.99984149630683\n",
      "Episode  29 Total reward: 62.26168943210945\n",
      "Episode  30 Total reward: -144.40615179155094\n",
      "Episode  31 Total reward: -6.553622880152616\n",
      "Episode  32 Total reward: -139.90840459938477\n",
      "Episode  33 Total reward: 14.940762809812767\n",
      "Episode  34 Total reward: -84.31325041940721\n",
      "Episode  35 Total reward: -35.67676115621926\n",
      "Episode  36 Total reward: -130.74043717860354\n",
      "Episode  37 Total reward: -43.476853554432836\n",
      "Episode  38 Total reward: -260.79626097082974\n",
      "Episode  39 Total reward: 2.9736080423763696\n",
      "Episode  40 Total reward: -35.89822216180025\n",
      "Episode  41 Total reward: -169.84750272430009\n",
      "Episode  42 Total reward: -191.0699595406339\n",
      "Episode  43 Total reward: 2.1895592887988187\n",
      "Episode  44 Total reward: -25.143844227028026\n",
      "Episode  45 Total reward: -99.73367883994078\n",
      "Episode  46 Total reward: 31.730150317376765\n",
      "Episode  47 Total reward: 70.64349901968559\n",
      "Episode  48 Total reward: -159.5322206087123\n",
      "Episode  49 Total reward: 42.16662741077722\n"
     ]
    },
    {
     "data": {
      "image/png": "[encoded data removed]",
      "text/plain": [
       "<Figure size 640x480 with 1 Axes>"
      ]
     },
     "metadata": {},
     "output_type": "display_data"
    },
    {
     "name": "stdout",
     "output_type": "stream",
     "text": [
      "\n",
      "Recompensa de Media: -82.78530393905432 \n",
      "\n"
     ]
    }
   ],
   "source": [
    "# Evaluamos al Generador \n",
    "rewardMean=gan4.evaluate_G()\n",
    "print('\\nRecompensa de Media:', rewardMean, '\\n')"
   ]
  },
  {
   "cell_type": "markdown",
   "metadata": {},
   "source": [
    "## Experimento 5"
   ]
  },
  {
   "cell_type": "code",
   "execution_count": 57,
   "metadata": {},
   "outputs": [
    {
     "name": "stdout",
     "output_type": "stream",
     "text": [
      "\n",
      "\tEstados reales: \n",
      " [[-0.00655632  1.412633   -0.6640952  ...  0.15042743  0.\n",
      "   0.        ]\n",
      " [-0.01301994  1.4137701  -0.65149987 ...  0.1017526   0.\n",
      "   0.        ]\n",
      " [-0.01941118  1.414314   -0.6424104  ...  0.06514421  0.\n",
      "   0.        ]\n",
      " ...\n",
      " [-0.46665245 -0.0082029   0.03071342 ...  0.67170596  1.\n",
      "   1.        ]\n",
      " [-0.4661541  -0.01350838  0.02066027 ...  0.635882    1.\n",
      "   1.        ]\n",
      " [-0.46567154 -0.01838761  0.02184356 ...  0.58443296  1.\n",
      "   1.        ]]\n",
      "\tAcciones reales: \n",
      " [3 3 3 ... 0 3 3]\n"
     ]
    }
   ],
   "source": [
    "expert_observations = np.genfromtxt(\"observations_LunarLander.csv\",delimiter=\"\\t\",dtype=str)\n",
    "expert_actions = np.genfromtxt('actions_LunarLander.csv', dtype=np.int32)\n",
    "expert_num_tray=np.genfromtxt('n_trayectoria_LunarLander.csv', dtype=np.int32)\n",
    "\n",
    "# Reemplazar las comas\n",
    "expert_observations = np.core.defchararray.replace(expert_observations, ',', ' ')\n",
    "\n",
    "# Crear un nuevo array para almacenar los datos convertidos\n",
    "converted_observations = np.genfromtxt(expert_observations, delimiter=' ', dtype=float)\n",
    "\n",
    "print(\"\\n\\tEstados reales: \\n\", converted_observations)\n",
    "print(\"\\tAcciones reales: \\n\", expert_actions)"
   ]
  },
  {
   "cell_type": "code",
   "execution_count": 20,
   "metadata": {},
   "outputs": [
    {
     "name": "stdout",
     "output_type": "stream",
     "text": [
      "3158\n"
     ]
    }
   ],
   "source": [
    "longitud_trayectoria += np.count_nonzero(expert_num_tray == 4)\n",
    "print(longitud_trayectoria)"
   ]
  },
  {
   "cell_type": "code",
   "execution_count": 59,
   "metadata": {},
   "outputs": [],
   "source": [
    "converted_observations=converted_observations[0:longitud_trayectoria]\n",
    "expert_actions=expert_actions[0:longitud_trayectoria]"
   ]
  },
  {
   "cell_type": "code",
   "execution_count": 60,
   "metadata": {},
   "outputs": [
    {
     "name": "stdout",
     "output_type": "stream",
     "text": [
      "[[-6.5563200e-03  1.4126330e+00 -6.6409520e-01 ...  0.0000000e+00\n",
      "   0.0000000e+00  1.0000000e+00]\n",
      " [-1.3019944e-02  1.4137701e+00 -6.5149987e-01 ...  0.0000000e+00\n",
      "   0.0000000e+00  1.0000000e+00]\n",
      " [-1.9411182e-02  1.4143140e+00 -6.4241040e-01 ...  0.0000000e+00\n",
      "   0.0000000e+00  1.0000000e+00]\n",
      " ...\n",
      " [ 6.7724630e-01  4.2385206e-02  5.4524446e-07 ...  0.0000000e+00\n",
      "   0.0000000e+00  0.0000000e+00]\n",
      " [ 6.7724630e-01  4.2385206e-02  1.1408074e-07 ...  0.0000000e+00\n",
      "   0.0000000e+00  0.0000000e+00]\n",
      " [ 6.7724630e-01  4.2385206e-02 -2.4774107e-07 ...  0.0000000e+00\n",
      "   0.0000000e+00  0.0000000e+00]]\n",
      "Nº de (ESTADOS,ACCIONES) en el conjunto de entrenamiento: 2526\n",
      "Nº de (ESTADOS,ACCIONES) en el conjunto de prueba: 632\n"
     ]
    }
   ],
   "source": [
    "# Construimos el dataset [s,a] reales y lo dividimos en training y test\n",
    "expert_a_one_hot=np.eye(env.action_space.n)[expert_actions]\n",
    "\n",
    "dataset=np.concatenate([converted_observations,expert_a_one_hot],axis=1)\n",
    "\n",
    "\n",
    "print(dataset)\n",
    "\n",
    "# Divide los datos en conjuntos de entrenamiento y prueba\n",
    "X_train, X_test = train_test_split(dataset, test_size=0.2, random_state=0)\n",
    "\n",
    "\n",
    "#Imprime el número de elementos en el conjuntos de entrenamiento y prueba\n",
    "print('Nº de (ESTADOS,ACCIONES) en el conjunto de entrenamiento:', len(X_train))\n",
    "print('Nº de (ESTADOS,ACCIONES) en el conjunto de prueba:', len(X_test))"
   ]
  },
  {
   "cell_type": "code",
   "execution_count": 61,
   "metadata": {},
   "outputs": [],
   "source": [
    "env= gym.make('LunarLander-v2')\n",
    "obs,_= env.reset()\n",
    "\n",
    "# Generador\n",
    "generator=Policy_net( 'policy', env, obs)\n",
    "\n",
    "# Generamos [s,a, s', r] falsas y las políticas theta_i y theta_i+1\n",
    "observations, actions, rewards, Old_Policy, Policy=generator.generate_fakes()\n",
    "\n",
    "# Discriminador\n",
    "discriminator=Discriminator(env, discriminator_net, converted_observations, expert_actions, observations, actions)"
   ]
  },
  {
   "cell_type": "markdown",
   "metadata": {},
   "source": [
    "### Definición de GAIL"
   ]
  },
  {
   "cell_type": "code",
   "execution_count": 62,
   "metadata": {},
   "outputs": [],
   "source": [
    "gan5=GAN(discriminator=discriminator,generator=generator)"
   ]
  },
  {
   "cell_type": "markdown",
   "metadata": {},
   "source": [
    "### Compilación de GAIL"
   ]
  },
  {
   "cell_type": "code",
   "execution_count": 63,
   "metadata": {},
   "outputs": [],
   "source": [
    "tf.config.run_functions_eagerly(True)\n",
    "gan5.compile(\n",
    "    d_optimizer=tf.keras.optimizers.Adam(learning_rate=LEARNING_RATE),\n",
    "    loss_fn_D=loss_fn_D\n",
    ")"
   ]
  },
  {
   "cell_type": "markdown",
   "metadata": {},
   "source": [
    "### Entrenamiento de GAIL"
   ]
  },
  {
   "cell_type": "code",
   "execution_count": 64,
   "metadata": {},
   "outputs": [
    {
     "name": "stdout",
     "output_type": "stream",
     "text": [
      "\n",
      "\n",
      "\n",
      "d_loss= 2.4756434\n",
      "\n",
      "g_loss= -3.9938421\n",
      " 1/19 [>.............................] - ETA: 3:19:24 - d_loss: 2.4756 - g_loss: -3.9938\n",
      "\n",
      "\n",
      "d_loss= 2.4672022\n",
      "\n",
      "g_loss= -1.1836365\n",
      " 2/19 [==>...........................] - ETA: 3:08:00 - d_loss: 2.4714 - g_loss: -2.5887\n",
      "\n",
      "\n",
      "d_loss= 2.474158\n",
      "\n",
      "g_loss= -0.3007898\n",
      " 3/19 [===>..........................] - ETA: 2:56:22 - d_loss: 2.4723 - g_loss: -1.8261\n",
      "\n",
      "\n",
      "d_loss= 2.46319\n",
      "\n",
      "g_loss= -1.2837243\n",
      " 4/19 [=====>........................] - ETA: 2:45:34 - d_loss: 2.4700 - g_loss: -1.6905\n",
      "\n",
      "\n",
      "d_loss= 2.4047008\n",
      "\n",
      "g_loss= 3.2574632\n",
      " 5/19 [======>.......................] - ETA: 2:34:32 - d_loss: 2.4570 - g_loss: -0.7009\n",
      "\n",
      "\n",
      "d_loss= 2.4165006\n",
      "\n",
      "g_loss= 0.7902651\n",
      " 6/19 [========>.....................] - ETA: 2:23:12 - d_loss: 2.4502 - g_loss: -0.4524\n",
      "\n",
      "\n",
      "d_loss= 2.4475524\n",
      "\n",
      "g_loss= 1.1426138\n",
      " 7/19 [==========>...................] - ETA: 2:12:18 - d_loss: 2.4498 - g_loss: -0.2245\n",
      "\n",
      "\n",
      "d_loss= 2.4990075\n",
      "\n",
      "g_loss= 1.2678804\n",
      " 8/19 [===========>..................] - ETA: 2:01:18 - d_loss: 2.4560 - g_loss: -0.0380\n",
      "\n",
      "\n",
      "d_loss= 2.4214828\n",
      "\n",
      "g_loss= 2.3430228\n",
      " 9/19 [=============>................] - ETA: 1:50:20 - d_loss: 2.4522 - g_loss: 0.2266 \n",
      "\n",
      "\n",
      "d_loss= 2.4219937\n",
      "\n",
      "g_loss= 1.1933556\n",
      "10/19 [==============>...............] - ETA: 1:39:16 - d_loss: 2.4491 - g_loss: 0.3233\n",
      "\n",
      "\n",
      "d_loss= 2.3841274\n",
      "\n",
      "g_loss= -2.0775106\n",
      "11/19 [================>.............] - ETA: 1:28:17 - d_loss: 2.4432 - g_loss: 0.1050\n",
      "\n",
      "\n",
      "d_loss= 2.3546312\n",
      "\n",
      "g_loss= 0.61934143\n",
      "12/19 [=================>............] - ETA: 1:17:17 - d_loss: 2.4358 - g_loss: 0.1479\n",
      "\n",
      "\n",
      "d_loss= 2.4027123\n",
      "\n",
      "g_loss= 2.805508\n",
      "13/19 [===================>..........] - ETA: 1:06:16 - d_loss: 2.4333 - g_loss: 0.3523\n",
      "\n",
      "\n",
      "d_loss= 2.415606\n",
      "\n",
      "g_loss= -3.6293554\n",
      "14/19 [=====================>........] - ETA: 55:11 - d_loss: 2.4320 - g_loss: 0.0679  \n",
      "\n",
      "\n",
      "d_loss= 2.4028807\n",
      "\n",
      "g_loss= 1.4269983\n",
      "15/19 [======================>.......] - ETA: 44:08 - d_loss: 2.4301 - g_loss: 0.1585\n",
      "\n",
      "\n",
      "d_loss= 2.3917732\n",
      "\n",
      "g_loss= 23.311764\n",
      "16/19 [========================>.....] - ETA: 33:06 - d_loss: 2.4277 - g_loss: 1.6056\n",
      "\n",
      "\n",
      "d_loss= 2.3853474\n",
      "\n",
      "g_loss= 3.0931334\n",
      "17/19 [=========================>....] - ETA: 22:04 - d_loss: 2.4252 - g_loss: 1.6931\n",
      "\n",
      "\n",
      "d_loss= 2.2826636\n",
      "\n",
      "g_loss= -0.58936995\n",
      "18/19 [===========================>..] - ETA: 11:01 - d_loss: 2.4173 - g_loss: 1.5663\n",
      "\n",
      "\n",
      "d_loss= 2.3058777\n",
      "\n",
      "g_loss= -1.3696426\n",
      "19/19 [==============================] - 12577s 662s/step - d_loss: 2.4114 - g_loss: 1.4118\n"
     ]
    }
   ],
   "source": [
    "# Deshabilitar los mensajes de información de TensorFlow\n",
    "os.environ['TF_CPP_MIN_LOG_LEVEL'] = '3'\n",
    "\n",
    "# Deshabilitar los mensajes de información de OpenAI Gym\n",
    "gym.logger.set_level(40)\n",
    "\n",
    "BACH_SIZE=140\n",
    "\n",
    "history=gan5.fit(X_train,\n",
    "    epochs=EPOCHS, batch_size=BATCH_SIZE)\n"
   ]
  },
  {
   "cell_type": "markdown",
   "metadata": {},
   "source": [
    "### Evaluación de GAIL"
   ]
  },
  {
   "cell_type": "code",
   "execution_count": 65,
   "metadata": {},
   "outputs": [
    {
     "name": "stdout",
     "output_type": "stream",
     "text": [
      "1/1 [==============================] - 0s 20ms/step - loss: 0.4738 - accuracy: 0.0000e+00\n",
      "1/1 [==============================] - 0s 18ms/step - loss: 0.4741 - accuracy: 0.0000e+00\n",
      ">Loss real: \n",
      "0.47378724813461304\n",
      ">Loss fake: \n",
      "0.47409510612487793\n"
     ]
    }
   ],
   "source": [
    "# Evaluamos el Discriminador de GAIL en el TEST\n",
    "gan5.evaluate_D(X_test)\n"
   ]
  },
  {
   "cell_type": "code",
   "execution_count": 66,
   "metadata": {},
   "outputs": [
    {
     "name": "stdout",
     "output_type": "stream",
     "text": [
      "Episode  0 Total reward: 7.919249645857093\n",
      "Episode  1 Total reward: -47.4938450040638\n",
      "Episode  2 Total reward: -232.71741930510618\n",
      "Episode  3 Total reward: 16.940478310752752\n",
      "Episode  4 Total reward: 166.03209077524224\n",
      "Episode  5 Total reward: -91.34079161461123\n",
      "Episode  6 Total reward: -151.240105201667\n",
      "Episode  7 Total reward: 58.05820010698422\n",
      "Episode  8 Total reward: 89.56905184817974\n",
      "Episode  9 Total reward: 190.85964270324934\n",
      "Episode  10 Total reward: -214.77168964869725\n",
      "Episode  11 Total reward: -32.43545174607007\n",
      "Episode  12 Total reward: -29.249706937984\n",
      "Episode  13 Total reward: 32.033387529043516\n",
      "Episode  14 Total reward: -189.53531067768088\n",
      "Episode  15 Total reward: -218.27550814505457\n",
      "Episode  16 Total reward: -36.88209187221227\n",
      "Episode  17 Total reward: -163.12773583339177\n",
      "Episode  18 Total reward: -4.121424053539499\n",
      "Episode  19 Total reward: 138.62001099931376\n",
      "Episode  20 Total reward: 199.29703160883025\n",
      "Episode  21 Total reward: 18.257182985011767\n",
      "Episode  22 Total reward: 184.78278135754914\n",
      "Episode  23 Total reward: 162.514940929423\n",
      "Episode  24 Total reward: -98.98328938348628\n",
      "Episode  25 Total reward: -101.13824382140447\n",
      "Episode  26 Total reward: 123.969799042554\n",
      "Episode  27 Total reward: -16.012656339508876\n",
      "Episode  28 Total reward: -119.23054287760141\n",
      "Episode  29 Total reward: -118.60008600414653\n",
      "Episode  30 Total reward: -83.09746729709526\n",
      "Episode  31 Total reward: -159.63688407105508\n",
      "Episode  32 Total reward: -75.65726609111597\n",
      "Episode  33 Total reward: 26.076058433005876\n",
      "Episode  34 Total reward: -33.21661775274413\n",
      "Episode  35 Total reward: 3.7265411985933383\n",
      "Episode  36 Total reward: -169.61918187082432\n",
      "Episode  37 Total reward: 92.66327132478817\n",
      "Episode  38 Total reward: -135.9517078201382\n",
      "Episode  39 Total reward: 100.83017221313098\n",
      "Episode  40 Total reward: -16.175710470061702\n",
      "Episode  41 Total reward: -16.59439636006188\n",
      "Episode  42 Total reward: -56.24048429866742\n",
      "Episode  43 Total reward: -152.12597294914224\n",
      "Episode  44 Total reward: -197.55604976922297\n",
      "Episode  45 Total reward: 138.30712844464907\n",
      "Episode  46 Total reward: -167.49455555013841\n",
      "Episode  47 Total reward: 42.98188735921762\n",
      "Episode  48 Total reward: -41.79643247859296\n",
      "Episode  49 Total reward: -111.64467103661643\n"
     ]
    },
    {
     "data": {
      "image/png": "[encoded data removed]",
      "text/plain": [
       "<Figure size 640x480 with 1 Axes>"
      ]
     },
     "metadata": {},
     "output_type": "display_data"
    },
    {
     "name": "stdout",
     "output_type": "stream",
     "text": [
      "\n",
      "Recompensa de Media: -29.77048778932655 \n",
      "\n"
     ]
    }
   ],
   "source": [
    "# Evaluamos al Generador \n",
    "rewardMean=gan5.evaluate_G()\n",
    "print('\\nRecompensa de Media:', rewardMean, '\\n')"
   ]
  },
  {
   "cell_type": "markdown",
   "metadata": {},
   "source": [
    "## Experimento 6"
   ]
  },
  {
   "cell_type": "code",
   "execution_count": 67,
   "metadata": {},
   "outputs": [
    {
     "name": "stdout",
     "output_type": "stream",
     "text": [
      "\n",
      "\tEstados reales: \n",
      " [[-0.00655632  1.412633   -0.6640952  ...  0.15042743  0.\n",
      "   0.        ]\n",
      " [-0.01301994  1.4137701  -0.65149987 ...  0.1017526   0.\n",
      "   0.        ]\n",
      " [-0.01941118  1.414314   -0.6424104  ...  0.06514421  0.\n",
      "   0.        ]\n",
      " ...\n",
      " [-0.46665245 -0.0082029   0.03071342 ...  0.67170596  1.\n",
      "   1.        ]\n",
      " [-0.4661541  -0.01350838  0.02066027 ...  0.635882    1.\n",
      "   1.        ]\n",
      " [-0.46567154 -0.01838761  0.02184356 ...  0.58443296  1.\n",
      "   1.        ]]\n",
      "\tAcciones reales: \n",
      " [3 3 3 ... 0 3 3]\n"
     ]
    }
   ],
   "source": [
    "expert_observations = np.genfromtxt(\"observations_LunarLander.csv\",delimiter=\"\\t\",dtype=str)\n",
    "expert_actions = np.genfromtxt('actions_LunarLander.csv', dtype=np.int32)\n",
    "expert_num_tray=np.genfromtxt('n_trayectoria_LunarLander.csv', dtype=np.int32)\n",
    "\n",
    "# Reemplazar las comas\n",
    "expert_observations = np.core.defchararray.replace(expert_observations, ',', ' ')\n",
    "\n",
    "# Crear un nuevo array para almacenar los datos convertidos\n",
    "converted_observations = np.genfromtxt(expert_observations, delimiter=' ', dtype=float)\n",
    "\n",
    "print(\"\\n\\tEstados reales: \\n\", converted_observations)\n",
    "print(\"\\tAcciones reales: \\n\", expert_actions)"
   ]
  },
  {
   "cell_type": "code",
   "execution_count": 21,
   "metadata": {},
   "outputs": [
    {
     "name": "stdout",
     "output_type": "stream",
     "text": [
      "4158\n"
     ]
    }
   ],
   "source": [
    "longitud_trayectoria += np.count_nonzero(expert_num_tray == 5)\n",
    "print(longitud_trayectoria)"
   ]
  },
  {
   "cell_type": "code",
   "execution_count": 69,
   "metadata": {},
   "outputs": [],
   "source": [
    "converted_observations=converted_observations[0:longitud_trayectoria]\n",
    "expert_actions=expert_actions[0:longitud_trayectoria]"
   ]
  },
  {
   "cell_type": "code",
   "execution_count": 70,
   "metadata": {},
   "outputs": [
    {
     "name": "stdout",
     "output_type": "stream",
     "text": [
      "[[-6.5563200e-03  1.4126330e+00 -6.6409520e-01 ...  0.0000000e+00\n",
      "   0.0000000e+00  1.0000000e+00]\n",
      " [-1.3019944e-02  1.4137701e+00 -6.5149987e-01 ...  0.0000000e+00\n",
      "   0.0000000e+00  1.0000000e+00]\n",
      " [-1.9411182e-02  1.4143140e+00 -6.4241040e-01 ...  0.0000000e+00\n",
      "   0.0000000e+00  1.0000000e+00]\n",
      " ...\n",
      " [ 3.2675964e-01 -5.1517500e-02 -1.6227339e-03 ...  0.0000000e+00\n",
      "   0.0000000e+00  0.0000000e+00]\n",
      " [ 3.2676880e-01 -5.1521648e-02  9.4594294e-04 ...  0.0000000e+00\n",
      "   0.0000000e+00  0.0000000e+00]\n",
      " [ 3.2677516e-01 -5.1524438e-02  6.5785140e-04 ...  0.0000000e+00\n",
      "   0.0000000e+00  0.0000000e+00]]\n",
      "Nº de (ESTADOS,ACCIONES) en el conjunto de entrenamiento: 3326\n",
      "Nº de (ESTADOS,ACCIONES) en el conjunto de prueba: 832\n"
     ]
    }
   ],
   "source": [
    "# Construimos el dataset [s,a] reales y lo dividimos en training y test\n",
    "expert_a_one_hot=np.eye(env.action_space.n)[expert_actions]\n",
    "\n",
    "dataset=np.concatenate([converted_observations,expert_a_one_hot],axis=1)\n",
    "\n",
    "\n",
    "print(dataset)\n",
    "\n",
    "# Divide los datos en conjuntos de entrenamiento y prueba\n",
    "X_train, X_test = train_test_split(dataset, test_size=0.2, random_state=0)\n",
    "\n",
    "\n",
    "#Imprime el número de elementos en el conjuntos de entrenamiento y prueba\n",
    "print('Nº de (ESTADOS,ACCIONES) en el conjunto de entrenamiento:', len(X_train))\n",
    "print('Nº de (ESTADOS,ACCIONES) en el conjunto de prueba:', len(X_test))"
   ]
  },
  {
   "cell_type": "code",
   "execution_count": 71,
   "metadata": {},
   "outputs": [],
   "source": [
    "env= gym.make('LunarLander-v2')\n",
    "obs,_= env.reset()\n",
    "\n",
    "# Generador\n",
    "generator=Policy_net( 'policy', env, obs)\n",
    "\n",
    "# Generamos [s,a, s', r] falsas y las políticas theta_i y theta_i+1\n",
    "observations, actions, rewards, Old_Policy, Policy=generator.generate_fakes()\n",
    "\n",
    "# Discriminador\n",
    "discriminator=Discriminator(env, discriminator_net, converted_observations, expert_actions, observations, actions)"
   ]
  },
  {
   "cell_type": "markdown",
   "metadata": {},
   "source": [
    "### Definición de GAIL"
   ]
  },
  {
   "cell_type": "code",
   "execution_count": 72,
   "metadata": {},
   "outputs": [],
   "source": [
    "gan6=GAN(discriminator=discriminator,generator=generator)"
   ]
  },
  {
   "cell_type": "markdown",
   "metadata": {},
   "source": [
    "### Compilación de GAIL"
   ]
  },
  {
   "cell_type": "code",
   "execution_count": 73,
   "metadata": {},
   "outputs": [],
   "source": [
    "tf.config.run_functions_eagerly(True)\n",
    "gan6.compile(\n",
    "    d_optimizer=tf.keras.optimizers.Adam(learning_rate=LEARNING_RATE),\n",
    "    loss_fn_D=loss_fn_D\n",
    ")"
   ]
  },
  {
   "cell_type": "markdown",
   "metadata": {},
   "source": [
    "### Entrenamiento de GAIL"
   ]
  },
  {
   "cell_type": "code",
   "execution_count": 74,
   "metadata": {},
   "outputs": [
    {
     "name": "stdout",
     "output_type": "stream",
     "text": [
      "\n",
      "\n",
      "\n",
      "d_loss= 2.3414257\n",
      "\n",
      "g_loss= 0.96710724\n",
      " 1/24 [>.............................] - ETA: 4:15:53 - d_loss: 2.3414 - g_loss: 0.9671\n",
      "\n",
      "\n",
      "d_loss= 2.3479059\n",
      "\n",
      "g_loss= -1.4936949\n",
      " 2/24 [=>............................] - ETA: 4:02:38 - d_loss: 2.3447 - g_loss: -0.2633\n",
      "\n",
      "\n",
      "d_loss= 2.3826447\n",
      "\n",
      "g_loss= 1.0446305\n",
      " 3/24 [==>...........................] - ETA: 3:52:05 - d_loss: 2.3573 - g_loss: 0.1727 \n",
      "\n",
      "\n",
      "d_loss= 2.3714185\n",
      "\n",
      "g_loss= 3.3770418\n",
      " 4/24 [====>.........................] - ETA: 3:40:52 - d_loss: 2.3608 - g_loss: 0.9738\n",
      "\n",
      "\n",
      "d_loss= 2.3258386\n",
      "\n",
      "g_loss= 1.0362056\n",
      " 5/24 [=====>........................] - ETA: 3:29:13 - d_loss: 2.3538 - g_loss: 0.9863\n",
      "\n",
      "\n",
      "d_loss= 2.3327937\n",
      "\n",
      "g_loss= 2.4594426\n",
      " 6/24 [======>.......................] - ETA: 3:18:24 - d_loss: 2.3503 - g_loss: 1.2318\n",
      "\n",
      "\n",
      "d_loss= 2.368942\n",
      "\n",
      "g_loss= -1.1463125\n",
      " 7/24 [=======>......................] - ETA: 3:07:21 - d_loss: 2.3530 - g_loss: 0.8921\n",
      "\n",
      "\n",
      "d_loss= 2.3329632\n",
      "\n",
      "g_loss= 2.8110087\n",
      " 8/24 [=========>....................] - ETA: 2:56:12 - d_loss: 2.3505 - g_loss: 1.1319\n",
      "\n",
      "\n",
      "d_loss= 2.2948613\n",
      "\n",
      "g_loss= 0.38374034\n",
      " 9/24 [==========>...................] - ETA: 2:45:21 - d_loss: 2.3443 - g_loss: 1.0488\n",
      "\n",
      "\n",
      "d_loss= 2.361373\n",
      "\n",
      "g_loss= 1.6108463\n",
      "10/24 [===========>..................] - ETA: 2:34:25 - d_loss: 2.3460 - g_loss: 1.1050\n",
      "\n",
      "\n",
      "d_loss= 2.3109293\n",
      "\n",
      "g_loss= 2.4255102\n",
      "11/24 [============>.................] - ETA: 2:23:31 - d_loss: 2.3428 - g_loss: 1.2250\n",
      "\n",
      "\n",
      "d_loss= 2.2884212\n",
      "\n",
      "g_loss= -0.6828062\n",
      "12/24 [==============>...............] - ETA: 2:12:29 - d_loss: 2.3383 - g_loss: 1.0661\n",
      "\n",
      "\n",
      "d_loss= 2.2540114\n",
      "\n",
      "g_loss= -0.6132585\n",
      "13/24 [===============>..............] - ETA: 2:01:30 - d_loss: 2.3318 - g_loss: 0.9369\n",
      "\n",
      "\n",
      "d_loss= 2.322684\n",
      "\n",
      "g_loss= 2.7415597\n",
      "14/24 [================>.............] - ETA: 1:50:24 - d_loss: 2.3312 - g_loss: 1.0658\n",
      "\n",
      "\n",
      "d_loss= 2.332112\n",
      "\n",
      "g_loss= 4.847189\n",
      "15/24 [=================>............] - ETA: 1:39:24 - d_loss: 2.3312 - g_loss: 1.3179\n",
      "\n",
      "\n",
      "d_loss= 2.3146918\n",
      "\n",
      "g_loss= 4.9556794\n",
      "16/24 [===================>..........] - ETA: 1:28:24 - d_loss: 2.3302 - g_loss: 1.5452\n",
      "\n",
      "\n",
      "d_loss= 2.2902746\n",
      "\n",
      "g_loss= -0.27030393\n",
      "17/24 [====================>.........] - ETA: 1:17:21 - d_loss: 2.3278 - g_loss: 1.4384\n",
      "\n",
      "\n",
      "d_loss= 2.3038013\n",
      "\n",
      "g_loss= 3.2226028\n",
      "18/24 [=====================>........] - ETA: 1:06:19 - d_loss: 2.3265 - g_loss: 1.5376\n",
      "\n",
      "\n",
      "d_loss= 2.2769344\n",
      "\n",
      "g_loss= 0.13444257\n",
      "19/24 [======================>.......] - ETA: 55:15 - d_loss: 2.3239 - g_loss: 1.4637  \n",
      "\n",
      "\n",
      "d_loss= 2.3489308\n",
      "\n",
      "g_loss= 11.840236\n",
      "20/24 [========================>.....] - ETA: 44:12 - d_loss: 2.3251 - g_loss: 1.9825\n",
      "\n",
      "\n",
      "d_loss= 2.2954688\n",
      "\n",
      "g_loss= 2.839117\n",
      "21/24 [=========================>....] - ETA: 33:10 - d_loss: 2.3237 - g_loss: 2.0233\n",
      "\n",
      "\n",
      "d_loss= 2.280726\n",
      "\n",
      "g_loss= 0.5484937\n",
      "22/24 [==========================>...] - ETA: 22:06 - d_loss: 2.3218 - g_loss: 1.9563\n",
      "\n",
      "\n",
      "d_loss= 2.310823\n",
      "\n",
      "g_loss= -1.7837828\n",
      "23/24 [===========================>..] - ETA: 11:03 - d_loss: 2.3213 - g_loss: 1.7937\n",
      "\n",
      "\n",
      "d_loss= 2.2126966\n",
      "\n",
      "g_loss= -0.5000558\n",
      "24/24 [==============================] - 15932s 664s/step - d_loss: 2.3168 - g_loss: 1.6981\n"
     ]
    }
   ],
   "source": [
    "# Deshabilitar los mensajes de información de TensorFlow\n",
    "os.environ['TF_CPP_MIN_LOG_LEVEL'] = '3'\n",
    "\n",
    "# Deshabilitar los mensajes de información de OpenAI Gym\n",
    "gym.logger.set_level(40)\n",
    "\n",
    "BATCH_SIZE=140\n",
    "\n",
    "history=gan6.fit(X_train,\n",
    "    epochs=EPOCHS, batch_size=BATCH_SIZE)\n"
   ]
  },
  {
   "cell_type": "markdown",
   "metadata": {},
   "source": [
    "### Evaluación de GAIL"
   ]
  },
  {
   "cell_type": "code",
   "execution_count": 75,
   "metadata": {},
   "outputs": [
    {
     "name": "stdout",
     "output_type": "stream",
     "text": [
      "1/1 [==============================] - 0s 20ms/step - loss: 0.3653 - accuracy: 0.0000e+00\n",
      "1/1 [==============================] - 0s 19ms/step - loss: 0.3245 - accuracy: 0.0000e+00\n",
      ">Loss real: \n",
      "0.3653477132320404\n",
      ">Loss fake: \n",
      "0.32447341084480286\n"
     ]
    }
   ],
   "source": [
    "# Evaluamos el Discriminador de GAIL en el TEST\n",
    "gan6.evaluate_D(X_test)\n"
   ]
  },
  {
   "cell_type": "code",
   "execution_count": 76,
   "metadata": {},
   "outputs": [
    {
     "name": "stdout",
     "output_type": "stream",
     "text": [
      "Episode  0 Total reward: -34.17219786437799\n",
      "Episode  1 Total reward: -111.21136760945579\n",
      "Episode  2 Total reward: -148.40356410631492\n",
      "Episode  3 Total reward: -175.13759623310307\n",
      "Episode  4 Total reward: -29.886574104313553\n",
      "Episode  5 Total reward: -63.63486504632145\n",
      "Episode  6 Total reward: 49.54819546558909\n",
      "Episode  7 Total reward: -18.066027715507616\n",
      "Episode  8 Total reward: -11.243037938700724\n",
      "Episode  9 Total reward: -86.09092443144581\n",
      "Episode  10 Total reward: 41.076087776643575\n",
      "Episode  11 Total reward: -491.5942740021038\n",
      "Episode  12 Total reward: -180.39053690898362\n",
      "Episode  13 Total reward: -198.74965365102298\n",
      "Episode  14 Total reward: 24.06399390260985\n",
      "Episode  15 Total reward: -55.5058455088423\n",
      "Episode  16 Total reward: -153.7564036789256\n",
      "Episode  17 Total reward: -49.20484354078064\n",
      "Episode  18 Total reward: -6.136118106388665\n",
      "Episode  19 Total reward: 44.6657662435809\n",
      "Episode  20 Total reward: 12.308700287859622\n",
      "Episode  21 Total reward: -69.21487559373718\n",
      "Episode  22 Total reward: 60.52487842222553\n",
      "Episode  23 Total reward: -180.38546566974563\n",
      "Episode  24 Total reward: -143.1768240609365\n",
      "Episode  25 Total reward: -28.504824706029737\n",
      "Episode  26 Total reward: 11.56135742299682\n",
      "Episode  27 Total reward: -13.836319327178856\n",
      "Episode  28 Total reward: -35.85773912665131\n",
      "Episode  29 Total reward: -92.47069469201222\n",
      "Episode  30 Total reward: -253.2128394404901\n",
      "Episode  31 Total reward: -16.265670158440216\n",
      "Episode  32 Total reward: -106.78856302723162\n",
      "Episode  33 Total reward: 58.87037806855558\n",
      "Episode  34 Total reward: -79.17897665800895\n",
      "Episode  35 Total reward: 65.05597500753014\n",
      "Episode  36 Total reward: -73.71551453333285\n",
      "Episode  37 Total reward: -80.93957489924315\n",
      "Episode  38 Total reward: -47.31220145243867\n",
      "Episode  39 Total reward: -2.5183767813949327\n",
      "Episode  40 Total reward: -11.108916881610128\n",
      "Episode  41 Total reward: -58.645962805722924\n",
      "Episode  42 Total reward: -251.0355093258735\n",
      "Episode  43 Total reward: 23.231345480216362\n",
      "Episode  44 Total reward: -156.7404492874707\n",
      "Episode  45 Total reward: -27.120114856845674\n",
      "Episode  46 Total reward: -32.85711288456547\n",
      "Episode  47 Total reward: -67.68004816711125\n",
      "Episode  48 Total reward: 21.269689668114353\n",
      "Episode  49 Total reward: -143.78394572909198\n"
     ]
    },
    {
     "data": {
      "image/png": "[encoded data removed]",
      "text/plain": [
       "<Figure size 640x480 with 1 Axes>"
      ]
     },
     "metadata": {},
     "output_type": "display_data"
    },
    {
     "name": "stdout",
     "output_type": "stream",
     "text": [
      "\n",
      "Recompensa de Media: -67.4671596553166 \n",
      "\n"
     ]
    }
   ],
   "source": [
    "# Evaluamos al Generador \n",
    "rewardMean=gan6.evaluate_G()\n",
    "print('\\nRecompensa de Media:', rewardMean, '\\n')"
   ]
  },
  {
   "cell_type": "markdown",
   "metadata": {},
   "source": [
    "## Experimento 7"
   ]
  },
  {
   "cell_type": "code",
   "execution_count": 77,
   "metadata": {},
   "outputs": [
    {
     "name": "stdout",
     "output_type": "stream",
     "text": [
      "\n",
      "\tEstados reales: \n",
      " [[-0.00655632  1.412633   -0.6640952  ...  0.15042743  0.\n",
      "   0.        ]\n",
      " [-0.01301994  1.4137701  -0.65149987 ...  0.1017526   0.\n",
      "   0.        ]\n",
      " [-0.01941118  1.414314   -0.6424104  ...  0.06514421  0.\n",
      "   0.        ]\n",
      " ...\n",
      " [-0.46665245 -0.0082029   0.03071342 ...  0.67170596  1.\n",
      "   1.        ]\n",
      " [-0.4661541  -0.01350838  0.02066027 ...  0.635882    1.\n",
      "   1.        ]\n",
      " [-0.46567154 -0.01838761  0.02184356 ...  0.58443296  1.\n",
      "   1.        ]]\n",
      "\tAcciones reales: \n",
      " [3 3 3 ... 0 3 3]\n"
     ]
    }
   ],
   "source": [
    "expert_observations = np.genfromtxt(\"observations_LunarLander.csv\",delimiter=\"\\t\",dtype=str)\n",
    "expert_actions = np.genfromtxt('actions_LunarLander.csv', dtype=np.int32)\n",
    "expert_num_tray=np.genfromtxt('n_trayectoria_LunarLander.csv', dtype=np.int32)\n",
    "\n",
    "# Reemplazar las comas\n",
    "expert_observations = np.core.defchararray.replace(expert_observations, ',', ' ')\n",
    "\n",
    "# Crear un nuevo array para almacenar los datos convertidos\n",
    "converted_observations = np.genfromtxt(expert_observations, delimiter=' ', dtype=float)\n",
    "\n",
    "print(\"\\n\\tEstados reales: \\n\", converted_observations)\n",
    "print(\"\\tAcciones reales: \\n\", expert_actions)"
   ]
  },
  {
   "cell_type": "code",
   "execution_count": 22,
   "metadata": {},
   "outputs": [
    {
     "name": "stdout",
     "output_type": "stream",
     "text": [
      "4680\n"
     ]
    }
   ],
   "source": [
    "longitud_trayectoria += np.count_nonzero(expert_num_tray == 6)\n",
    "print(longitud_trayectoria)"
   ]
  },
  {
   "cell_type": "code",
   "execution_count": 22,
   "metadata": {},
   "outputs": [],
   "source": [
    "converted_observations=converted_observations[0:longitud_trayectoria]\n",
    "expert_actions=expert_actions[0:longitud_trayectoria]"
   ]
  },
  {
   "cell_type": "code",
   "execution_count": 23,
   "metadata": {},
   "outputs": [
    {
     "name": "stdout",
     "output_type": "stream",
     "text": [
      "[[-6.5563200e-03  1.4126330e+00 -6.6409520e-01 ...  0.0000000e+00\n",
      "   0.0000000e+00  1.0000000e+00]\n",
      " [-1.3019944e-02  1.4137701e+00 -6.5149987e-01 ...  0.0000000e+00\n",
      "   0.0000000e+00  1.0000000e+00]\n",
      " [-1.9411182e-02  1.4143140e+00 -6.4241040e-01 ...  0.0000000e+00\n",
      "   0.0000000e+00  1.0000000e+00]\n",
      " ...\n",
      " [-8.6160660e-03 -1.2264752e-03  5.3442470e-08 ...  0.0000000e+00\n",
      "   0.0000000e+00  0.0000000e+00]\n",
      " [-8.6160660e-03 -1.2264752e-03  4.7162676e-08 ...  0.0000000e+00\n",
      "   0.0000000e+00  0.0000000e+00]\n",
      " [-8.6160660e-03 -1.2264752e-03  3.9814470e-08 ...  0.0000000e+00\n",
      "   0.0000000e+00  0.0000000e+00]]\n",
      "Nº de (ESTADOS,ACCIONES) en el conjunto de entrenamiento: 3744\n",
      "Nº de (ESTADOS,ACCIONES) en el conjunto de prueba: 936\n"
     ]
    }
   ],
   "source": [
    "# Construimos el dataset [s,a] reales y lo dividimos en training y test\n",
    "expert_a_one_hot=np.eye(env.action_space.n)[expert_actions]\n",
    "\n",
    "dataset=np.concatenate([converted_observations,expert_a_one_hot],axis=1)\n",
    "\n",
    "\n",
    "print(dataset)\n",
    "\n",
    "# Divide los datos en conjuntos de entrenamiento y prueba\n",
    "X_train, X_test = train_test_split(dataset, test_size=0.2, random_state=0)\n",
    "\n",
    "\n",
    "#Imprime el número de elementos en el conjuntos de entrenamiento y prueba\n",
    "print('Nº de (ESTADOS,ACCIONES) en el conjunto de entrenamiento:', len(X_train))\n",
    "print('Nº de (ESTADOS,ACCIONES) en el conjunto de prueba:', len(X_test))"
   ]
  },
  {
   "cell_type": "code",
   "execution_count": 26,
   "metadata": {},
   "outputs": [],
   "source": [
    "env= gym.make('LunarLander-v2')\n",
    "obs,_= env.reset()\n",
    "\n",
    "# Generador\n",
    "generator=Policy_net( 'policy', env, obs)\n",
    "\n",
    "# Generamos [s,a, s', r] falsas y las políticas theta_i y theta_i+1\n",
    "observations, actions, rewards, Old_Policy, Policy=generator.generate_fakes()\n",
    "\n",
    "# Discriminador\n",
    "discriminator=Discriminator(env, discriminator_net, converted_observations, expert_actions, observations, actions)"
   ]
  },
  {
   "cell_type": "markdown",
   "metadata": {},
   "source": [
    "### Definición de GAIL"
   ]
  },
  {
   "cell_type": "code",
   "execution_count": 27,
   "metadata": {},
   "outputs": [],
   "source": [
    "gan7=GAN(discriminator=discriminator,generator=generator)"
   ]
  },
  {
   "cell_type": "markdown",
   "metadata": {},
   "source": [
    "### Compilación de GAIL"
   ]
  },
  {
   "cell_type": "code",
   "execution_count": 28,
   "metadata": {},
   "outputs": [],
   "source": [
    "tf.config.run_functions_eagerly(True)\n",
    "gan7.compile(\n",
    "    d_optimizer=tf.keras.optimizers.Adam(learning_rate=LEARNING_RATE),\n",
    "    loss_fn_D=loss_fn_D\n",
    ")"
   ]
  },
  {
   "cell_type": "markdown",
   "metadata": {},
   "source": [
    "### Entrenamiento de GAIL"
   ]
  },
  {
   "cell_type": "code",
   "execution_count": 29,
   "metadata": {},
   "outputs": [
    {
     "name": "stderr",
     "output_type": "stream",
     "text": [
      "/home/usuario/miniconda3/envs/luna/lib/python3.9/site-packages/tensorflow/python/data/ops/dataset_ops.py:3503: UserWarning: Even though the tf.config.experimental_run_functions_eagerly option is set, this option does not apply to tf.data functions. tf.data functions are still traced and executed as graphs.\n",
      "  warnings.warn(\n",
      "2024-06-29 08:19:45.748195: I tensorflow/compiler/mlir/mlir_graph_optimization_pass.cc:116] None of the MLIR optimization passes are enabled (registered 2)\n",
      "2024-06-29 08:19:45.750128: I tensorflow/core/platform/profile_utils/cpu_utils.cc:112] CPU Frequency: 2688000000 Hz\n"
     ]
    },
    {
     "name": "stdout",
     "output_type": "stream",
     "text": [
      "\n",
      "\n",
      "\n",
      "d_loss= 2.5803287\n",
      "\n",
      "g_loss= 6.664351\n",
      " 1/27 [>.............................] - ETA: 4:31:59 - d_loss: 2.5803 - g_loss: 6.6644\n",
      "\n",
      "\n",
      "d_loss= 2.5795982\n",
      "\n",
      "g_loss= -1.1229023\n",
      " 2/27 [=>............................] - ETA: 4:20:09 - d_loss: 2.5800 - g_loss: 2.7707\n",
      "\n",
      "\n",
      "d_loss= 2.5189905\n",
      "\n",
      "g_loss= 2.439081\n",
      " 3/27 [==>...........................] - ETA: 4:09:08 - d_loss: 2.5596 - g_loss: 2.6602\n",
      "\n",
      "\n",
      "d_loss= 2.517967\n",
      "\n",
      "g_loss= 2.5893955\n",
      " 4/27 [===>..........................] - ETA: 3:58:49 - d_loss: 2.5492 - g_loss: 2.6425\n",
      "\n",
      "\n",
      "d_loss= 2.5217056\n",
      "\n",
      "g_loss= 0.5591513\n",
      " 5/27 [====>.........................] - ETA: 3:49:10 - d_loss: 2.5437 - g_loss: 2.2258\n",
      "\n",
      "\n",
      "d_loss= 2.5434637\n",
      "\n",
      "g_loss= -1.3269873\n",
      " 6/27 [=====>........................] - ETA: 3:38:34 - d_loss: 2.5437 - g_loss: 1.6337\n",
      "\n",
      "\n",
      "d_loss= 2.4784498\n",
      "\n",
      "g_loss= -0.46860218\n",
      " 7/27 [======>.......................] - ETA: 3:28:17 - d_loss: 2.5344 - g_loss: 1.3334\n",
      "\n",
      "\n",
      "d_loss= 2.499676\n",
      "\n",
      "g_loss= 0.4903454\n",
      " 8/27 [=======>......................] - ETA: 3:17:57 - d_loss: 2.5300 - g_loss: 1.2280\n",
      "\n",
      "\n",
      "d_loss= 2.5032017\n",
      "\n",
      "g_loss= -0.09645838\n",
      " 9/27 [=========>....................] - ETA: 3:07:30 - d_loss: 2.5270 - g_loss: 1.0808\n",
      "\n",
      "\n",
      "d_loss= 2.5028622\n",
      "\n",
      "g_loss= -0.22779071\n",
      "10/27 [==========>...................] - ETA: 2:57:10 - d_loss: 2.5246 - g_loss: 0.9500\n",
      "\n",
      "\n",
      "d_loss= 2.511008\n",
      "\n",
      "g_loss= -1.979604\n",
      "11/27 [===========>..................] - ETA: 2:46:49 - d_loss: 2.5234 - g_loss: 0.6836\n",
      "\n",
      "\n",
      "d_loss= 2.5066166\n",
      "\n",
      "g_loss= 4.0836387\n",
      "12/27 [============>.................] - ETA: 2:36:30 - d_loss: 2.5220 - g_loss: 0.9670\n",
      "\n",
      "\n",
      "d_loss= 2.4877887\n",
      "\n",
      "g_loss= 0.06815003\n",
      "13/27 [=============>................] - ETA: 2:26:03 - d_loss: 2.5194 - g_loss: 0.8978\n",
      "\n",
      "\n",
      "d_loss= 2.5121052\n",
      "\n",
      "g_loss= 1.0408965\n",
      "14/27 [==============>...............] - ETA: 2:15:36 - d_loss: 2.5188 - g_loss: 0.9080\n",
      "\n",
      "\n",
      "d_loss= 2.4966812\n",
      "\n",
      "g_loss= -0.3772498\n",
      "15/27 [===============>..............] - ETA: 2:05:10 - d_loss: 2.5174 - g_loss: 0.8224\n",
      "\n",
      "\n",
      "d_loss= 2.4506679\n",
      "\n",
      "g_loss= -3.948883\n",
      "16/27 [================>.............] - ETA: 1:54:44 - d_loss: 2.5132 - g_loss: 0.5242\n",
      "\n",
      "\n",
      "d_loss= 2.43171\n",
      "\n",
      "g_loss= 1.1235571\n",
      "17/27 [=================>............] - ETA: 1:44:14 - d_loss: 2.5084 - g_loss: 0.5594\n",
      "\n",
      "\n",
      "d_loss= 2.4477081\n",
      "\n",
      "g_loss= 2.5047655\n",
      "18/27 [===================>..........] - ETA: 1:33:51 - d_loss: 2.5050 - g_loss: 0.6675\n",
      "\n",
      "\n",
      "d_loss= 2.4656909\n",
      "\n",
      "g_loss= 2.1843839\n",
      "19/27 [====================>.........] - ETA: 1:23:25 - d_loss: 2.5030 - g_loss: 0.7473\n",
      "\n",
      "\n",
      "d_loss= 2.4307623\n",
      "\n",
      "g_loss= -0.9880615\n",
      "20/27 [=====================>........] - ETA: 1:12:59 - d_loss: 2.4993 - g_loss: 0.6606\n",
      "\n",
      "\n",
      "d_loss= 2.492841\n",
      "\n",
      "g_loss= 3.631276\n",
      "21/27 [======================>.......] - ETA: 1:02:58 - d_loss: 2.4990 - g_loss: 0.8020\n",
      "\n",
      "\n",
      "d_loss= 2.4265065\n",
      "\n",
      "g_loss= 1.1484071\n",
      "22/27 [=======================>......] - ETA: 53:04 - d_loss: 2.4957 - g_loss: 0.8178  \n",
      "\n",
      "\n",
      "d_loss= 2.456003\n",
      "\n",
      "g_loss= 2.5197883\n",
      "23/27 [========================>.....] - ETA: 43:22 - d_loss: 2.4940 - g_loss: 0.8918\n",
      "\n",
      "\n",
      "d_loss= 2.4313369\n",
      "\n",
      "g_loss= 1.3075718\n",
      "24/27 [=========================>....] - ETA: 33:04 - d_loss: 2.4914 - g_loss: 0.9091\n",
      "\n",
      "\n",
      "d_loss= 2.3992035\n",
      "\n",
      "g_loss= -4.375721\n",
      "25/27 [==========================>...] - ETA: 22:04 - d_loss: 2.4877 - g_loss: 0.6977\n",
      "\n",
      "\n",
      "d_loss= 2.4712977\n",
      "\n",
      "g_loss= 3.286893\n",
      "26/27 [===========================>..] - ETA: 11:00 - d_loss: 2.4871 - g_loss: 0.7973\n",
      "\n",
      "\n",
      "d_loss= 2.4250085\n",
      "\n",
      "g_loss= -2.213729\n",
      "27/27 [==============================] - 17778s 660s/step - d_loss: 2.4848 - g_loss: 0.6858\n"
     ]
    }
   ],
   "source": [
    "# Deshabilitar los mensajes de información de TensorFlow\n",
    "os.environ['TF_CPP_MIN_LOG_LEVEL'] = '3'\n",
    "\n",
    "# Deshabilitar los mensajes de información de OpenAI Gym\n",
    "gym.logger.set_level(40)\n",
    "\n",
    "BATCH_SIZE=140\n",
    "\n",
    "history=gan7.fit(X_train,\n",
    "    epochs=EPOCHS, batch_size=BATCH_SIZE)\n"
   ]
  },
  {
   "cell_type": "markdown",
   "metadata": {},
   "source": [
    "### Evaluación de GAIL"
   ]
  },
  {
   "cell_type": "code",
   "execution_count": 30,
   "metadata": {},
   "outputs": [
    {
     "name": "stdout",
     "output_type": "stream",
     "text": [
      "1/1 [==============================] - 0s 58ms/step - loss: 0.5142 - accuracy: 0.0000e+00\n",
      "1/1 [==============================] - 0s 18ms/step - loss: 0.4951 - accuracy: 0.0000e+00\n",
      ">Loss real: \n",
      "0.5142164826393127\n",
      ">Loss fake: \n",
      "0.4951418936252594\n"
     ]
    }
   ],
   "source": [
    "# Evaluamos el Discriminador de GAIL en el TEST\n",
    "gan7.evaluate_D(X_test)\n"
   ]
  },
  {
   "cell_type": "code",
   "execution_count": 31,
   "metadata": {},
   "outputs": [
    {
     "name": "stdout",
     "output_type": "stream",
     "text": [
      "Episode  0 Total reward: -59.558579784647584\n",
      "Episode  1 Total reward: -48.69188810634171\n",
      "Episode  2 Total reward: -107.29701570155612\n",
      "Episode  3 Total reward: 14.279578423588205\n",
      "Episode  4 Total reward: -64.44887389021288\n",
      "Episode  5 Total reward: 26.31311170589126\n",
      "Episode  6 Total reward: 14.341434416739148\n",
      "Episode  7 Total reward: 26.685341771568332\n",
      "Episode  8 Total reward: 106.59358496158131\n",
      "Episode  9 Total reward: 73.88100976551529\n",
      "Episode  10 Total reward: -8.96857011171833\n",
      "Episode  11 Total reward: 23.897586450424726\n",
      "Episode  12 Total reward: -15.092042984904282\n",
      "Episode  13 Total reward: -22.872450798373734\n",
      "Episode  14 Total reward: -14.912387696632791\n",
      "Episode  15 Total reward: 97.69065561760516\n",
      "Episode  16 Total reward: 51.1684450895748\n",
      "Episode  17 Total reward: 27.05572996985795\n",
      "Episode  18 Total reward: -241.3540512096171\n",
      "Episode  19 Total reward: -38.43941583724592\n",
      "Episode  20 Total reward: -105.48884518658728\n",
      "Episode  21 Total reward: -48.55619887851347\n",
      "Episode  22 Total reward: -29.70532771738344\n",
      "Episode  23 Total reward: -51.5856360227731\n",
      "Episode  24 Total reward: 7.816008712229021\n",
      "Episode  25 Total reward: 30.035998815745153\n",
      "Episode  26 Total reward: 69.1734393497692\n",
      "Episode  27 Total reward: -93.62934726045941\n",
      "Episode  28 Total reward: -114.61196476543523\n",
      "Episode  29 Total reward: -80.24869809286749\n",
      "Episode  30 Total reward: -16.557606903629747\n",
      "Episode  31 Total reward: -47.97022172715447\n",
      "Episode  32 Total reward: -39.441052661406914\n",
      "Episode  33 Total reward: 72.76549566856043\n",
      "Episode  34 Total reward: -48.79690836673399\n",
      "Episode  35 Total reward: -66.1434920220205\n",
      "Episode  36 Total reward: 23.69444930610379\n",
      "Episode  37 Total reward: 87.73639662062816\n",
      "Episode  38 Total reward: -167.90589662767542\n",
      "Episode  39 Total reward: 16.52380803675264\n",
      "Episode  40 Total reward: 28.8676781649952\n",
      "Episode  41 Total reward: -64.53445040600147\n",
      "Episode  42 Total reward: 28.137855439470115\n",
      "Episode  43 Total reward: -45.97620978493096\n",
      "Episode  44 Total reward: 42.633646763999074\n",
      "Episode  45 Total reward: 106.12819134874698\n",
      "Episode  46 Total reward: -31.7506621348644\n",
      "Episode  47 Total reward: -70.58519603636685\n",
      "Episode  48 Total reward: -6.10289700496395\n",
      "Episode  49 Total reward: 28.929138176176053\n"
     ]
    },
    {
     "data": {
      "image/png": "[encoded data removed]",
      "text/plain": [
       "<Figure size 640x480 with 1 Axes>"
      ]
     },
     "metadata": {},
     "output_type": "display_data"
    },
    {
     "name": "stdout",
     "output_type": "stream",
     "text": [
      "\n",
      "Recompensa de Media: -14.93754606290993 \n",
      "\n"
     ]
    }
   ],
   "source": [
    "# Evaluamos al Generador \n",
    "rewardMean=gan7.evaluate_G()\n",
    "print('\\nRecompensa de Media:', rewardMean, '\\n')"
   ]
  },
  {
   "cell_type": "markdown",
   "metadata": {},
   "source": [
    "## Experimento 8"
   ]
  },
  {
   "cell_type": "code",
   "execution_count": 32,
   "metadata": {},
   "outputs": [
    {
     "name": "stdout",
     "output_type": "stream",
     "text": [
      "\n",
      "\tEstados reales: \n",
      " [[-0.00655632  1.412633   -0.6640952  ...  0.15042743  0.\n",
      "   0.        ]\n",
      " [-0.01301994  1.4137701  -0.65149987 ...  0.1017526   0.\n",
      "   0.        ]\n",
      " [-0.01941118  1.414314   -0.6424104  ...  0.06514421  0.\n",
      "   0.        ]\n",
      " ...\n",
      " [-0.46665245 -0.0082029   0.03071342 ...  0.67170596  1.\n",
      "   1.        ]\n",
      " [-0.4661541  -0.01350838  0.02066027 ...  0.635882    1.\n",
      "   1.        ]\n",
      " [-0.46567154 -0.01838761  0.02184356 ...  0.58443296  1.\n",
      "   1.        ]]\n",
      "\tAcciones reales: \n",
      " [3 3 3 ... 0 3 3]\n"
     ]
    }
   ],
   "source": [
    "expert_observations = np.genfromtxt(\"observations_LunarLander.csv\",delimiter=\"\\t\",dtype=str)\n",
    "expert_actions = np.genfromtxt('actions_LunarLander.csv', dtype=np.int32)\n",
    "expert_num_tray=np.genfromtxt('n_trayectoria_LunarLander.csv', dtype=np.int32)\n",
    "\n",
    "# Reemplazar las comas\n",
    "expert_observations = np.core.defchararray.replace(expert_observations, ',', ' ')\n",
    "\n",
    "# Crear un nuevo array para almacenar los datos convertidos\n",
    "converted_observations = np.genfromtxt(expert_observations, delimiter=' ', dtype=float)\n",
    "\n",
    "print(\"\\n\\tEstados reales: \\n\", converted_observations)\n",
    "print(\"\\tAcciones reales: \\n\", expert_actions)"
   ]
  },
  {
   "cell_type": "code",
   "execution_count": 23,
   "metadata": {},
   "outputs": [
    {
     "name": "stdout",
     "output_type": "stream",
     "text": [
      "5314\n"
     ]
    }
   ],
   "source": [
    "longitud_trayectoria += np.count_nonzero(expert_num_tray == 7)\n",
    "print(longitud_trayectoria)"
   ]
  },
  {
   "cell_type": "code",
   "execution_count": 24,
   "metadata": {},
   "outputs": [],
   "source": [
    "converted_observations=converted_observations[0:longitud_trayectoria]\n",
    "expert_actions=expert_actions[0:longitud_trayectoria]"
   ]
  },
  {
   "cell_type": "code",
   "execution_count": 25,
   "metadata": {},
   "outputs": [
    {
     "name": "stdout",
     "output_type": "stream",
     "text": [
      "[[-6.5563200e-03  1.4126330e+00 -6.6409520e-01 ...  0.0000000e+00\n",
      "   0.0000000e+00  1.0000000e+00]\n",
      " [-1.3019944e-02  1.4137701e+00 -6.5149987e-01 ...  0.0000000e+00\n",
      "   0.0000000e+00  1.0000000e+00]\n",
      " [-1.9411182e-02  1.4143140e+00 -6.4241040e-01 ...  0.0000000e+00\n",
      "   0.0000000e+00  1.0000000e+00]\n",
      " ...\n",
      " [ 1.3379402e-01  3.4672476e-03  6.3765560e-08 ...  0.0000000e+00\n",
      "   0.0000000e+00  0.0000000e+00]\n",
      " [ 1.3379402e-01  3.4672476e-03  5.2665534e-08 ...  0.0000000e+00\n",
      "   0.0000000e+00  0.0000000e+00]\n",
      " [ 1.3379402e-01  3.4672476e-03  4.0811244e-08 ...  0.0000000e+00\n",
      "   0.0000000e+00  0.0000000e+00]]\n",
      "Nº de (ESTADOS,ACCIONES) en el conjunto de entrenamiento: 4251\n",
      "Nº de (ESTADOS,ACCIONES) en el conjunto de prueba: 1063\n"
     ]
    }
   ],
   "source": [
    "# Construimos el dataset [s,a] reales y lo dividimos en training y test\n",
    "expert_a_one_hot=np.eye(env.action_space.n)[expert_actions]\n",
    "\n",
    "dataset=np.concatenate([converted_observations,expert_a_one_hot],axis=1)\n",
    "\n",
    "\n",
    "print(dataset)\n",
    "\n",
    "# Divide los datos en conjuntos de entrenamiento y prueba\n",
    "X_train, X_test = train_test_split(dataset, test_size=0.2, random_state=0)\n",
    "\n",
    "\n",
    "#Imprime el número de elementos en el conjuntos de entrenamiento y prueba\n",
    "print('Nº de (ESTADOS,ACCIONES) en el conjunto de entrenamiento:', len(X_train))\n",
    "print('Nº de (ESTADOS,ACCIONES) en el conjunto de prueba:', len(X_test))"
   ]
  },
  {
   "cell_type": "code",
   "execution_count": 26,
   "metadata": {},
   "outputs": [
    {
     "name": "stderr",
     "output_type": "stream",
     "text": [
      "2024-06-29 17:33:32.879692: I tensorflow/stream_executor/platform/default/dso_loader.cc:49] Successfully opened dynamic library libcublas.so.10\n"
     ]
    }
   ],
   "source": [
    "env= gym.make('LunarLander-v2')\n",
    "obs,_= env.reset()\n",
    "\n",
    "# Generador\n",
    "generator=Policy_net( 'policy', env, obs)\n",
    "\n",
    "# Generamos [s,a, s', r] falsas y las políticas theta_i y theta_i+1\n",
    "observations, actions, rewards, Old_Policy, Policy=generator.generate_fakes()\n",
    "\n",
    "# Discriminador\n",
    "discriminator=Discriminator(env, discriminator_net, converted_observations, expert_actions, observations, actions)"
   ]
  },
  {
   "cell_type": "markdown",
   "metadata": {},
   "source": [
    "### Definición de GAIL"
   ]
  },
  {
   "cell_type": "code",
   "execution_count": 27,
   "metadata": {},
   "outputs": [],
   "source": [
    "gan8=GAN(discriminator=discriminator,generator=generator)"
   ]
  },
  {
   "cell_type": "markdown",
   "metadata": {},
   "source": [
    "### Compilación de GAIL"
   ]
  },
  {
   "cell_type": "code",
   "execution_count": 28,
   "metadata": {},
   "outputs": [],
   "source": [
    "tf.config.run_functions_eagerly(True)\n",
    "gan8.compile(\n",
    "    d_optimizer=tf.keras.optimizers.Adam(learning_rate=LEARNING_RATE),\n",
    "    loss_fn_D=loss_fn_D\n",
    ")"
   ]
  },
  {
   "cell_type": "markdown",
   "metadata": {},
   "source": [
    "### Entrenamiento de GAIL"
   ]
  },
  {
   "cell_type": "code",
   "execution_count": 29,
   "metadata": {},
   "outputs": [
    {
     "name": "stderr",
     "output_type": "stream",
     "text": [
      "/home/usuario/miniconda3/envs/luna/lib/python3.9/site-packages/tensorflow/python/data/ops/dataset_ops.py:3503: UserWarning: Even though the tf.config.experimental_run_functions_eagerly option is set, this option does not apply to tf.data functions. tf.data functions are still traced and executed as graphs.\n",
      "  warnings.warn(\n",
      "2024-06-29 17:44:13.370486: I tensorflow/compiler/mlir/mlir_graph_optimization_pass.cc:116] None of the MLIR optimization passes are enabled (registered 2)\n",
      "2024-06-29 17:44:13.371920: I tensorflow/core/platform/profile_utils/cpu_utils.cc:112] CPU Frequency: 2688000000 Hz\n"
     ]
    },
    {
     "name": "stdout",
     "output_type": "stream",
     "text": [
      "\n",
      "\n",
      "\n",
      "d_loss= 2.6422431\n",
      "\n",
      "g_loss= -10.358641\n",
      " 1/31 [..............................] - ETA: 5:10:54 - d_loss: 2.6422 - g_loss: -10.3586\n",
      "\n",
      "\n",
      "d_loss= 2.6933951\n",
      "\n",
      "g_loss= -1.2826923\n",
      " 2/31 [>.............................] - ETA: 4:59:09 - d_loss: 2.6678 - g_loss: -5.8207 \n",
      "\n",
      "\n",
      "d_loss= 2.6421814\n",
      "\n",
      "g_loss= 2.876808\n",
      " 3/31 [=>............................] - ETA: 4:51:42 - d_loss: 2.6593 - g_loss: -2.9215\n",
      "\n",
      "\n",
      "d_loss= 2.6125145\n",
      "\n",
      "g_loss= 0.80416924\n",
      " 4/31 [==>...........................] - ETA: 4:41:08 - d_loss: 2.6476 - g_loss: -1.9901\n",
      "\n",
      "\n",
      "d_loss= 2.7240653\n",
      "\n",
      "g_loss= -2.8045654\n",
      " 5/31 [===>..........................] - ETA: 4:30:09 - d_loss: 2.6629 - g_loss: -2.1530\n",
      "\n",
      "\n",
      "d_loss= 2.6499934\n",
      "\n",
      "g_loss= -3.3338046\n",
      " 6/31 [====>.........................] - ETA: 4:20:13 - d_loss: 2.6607 - g_loss: -2.3498\n",
      "\n",
      "\n",
      "d_loss= 2.6606765\n",
      "\n",
      "g_loss= -0.11997473\n",
      " 7/31 [=====>........................] - ETA: 4:10:01 - d_loss: 2.6607 - g_loss: -2.0312\n",
      "\n",
      "\n",
      "d_loss= 2.6686459\n",
      "\n",
      "g_loss= -3.6420572\n",
      " 8/31 [======>.......................] - ETA: 3:59:53 - d_loss: 2.6617 - g_loss: -2.2326\n",
      "\n",
      "\n",
      "d_loss= 2.6872191\n",
      "\n",
      "g_loss= 0.042269878\n",
      " 9/31 [=======>......................] - ETA: 3:49:26 - d_loss: 2.6645 - g_loss: -1.9798\n",
      "\n",
      "\n",
      "d_loss= 2.6410992\n",
      "\n",
      "g_loss= 1.8914967\n",
      "10/31 [========>.....................] - ETA: 3:39:06 - d_loss: 2.6622 - g_loss: -1.5927\n",
      "\n",
      "\n",
      "d_loss= 2.6296055\n",
      "\n",
      "g_loss= 0.6694894\n",
      "11/31 [=========>....................] - ETA: 3:28:58 - d_loss: 2.6592 - g_loss: -1.3870\n",
      "\n",
      "\n",
      "d_loss= 2.6331408\n",
      "\n",
      "g_loss= -1.3873173\n",
      "12/31 [==========>...................] - ETA: 3:18:37 - d_loss: 2.6571 - g_loss: -1.3871\n",
      "\n",
      "\n",
      "d_loss= 2.704963\n",
      "\n",
      "g_loss= -2.8244436\n",
      "13/31 [===========>..................] - ETA: 3:08:11 - d_loss: 2.6607 - g_loss: -1.4976\n",
      "\n",
      "\n",
      "d_loss= 2.5781436\n",
      "\n",
      "g_loss= -2.5466056\n",
      "14/31 [============>.................] - ETA: 2:57:40 - d_loss: 2.6548 - g_loss: -1.5726\n",
      "\n",
      "\n",
      "d_loss= 2.582769\n",
      "\n",
      "g_loss= 2.6752622\n",
      "15/31 [=============>................] - ETA: 2:47:17 - d_loss: 2.6500 - g_loss: -1.2894\n",
      "\n",
      "\n",
      "d_loss= 2.6220436\n",
      "\n",
      "g_loss= -1.3558222\n",
      "16/31 [==============>...............] - ETA: 2:36:49 - d_loss: 2.6483 - g_loss: -1.2935\n",
      "\n",
      "\n",
      "d_loss= 2.6526132\n",
      "\n",
      "g_loss= 1.9253632\n",
      "17/31 [===============>..............] - ETA: 2:26:27 - d_loss: 2.6485 - g_loss: -1.1042\n",
      "\n",
      "\n",
      "d_loss= 2.6537523\n",
      "\n",
      "g_loss= 2.6815116\n",
      "18/31 [================>.............] - ETA: 2:16:01 - d_loss: 2.6488 - g_loss: -0.8939\n",
      "\n",
      "\n",
      "d_loss= 2.7311807\n",
      "\n",
      "g_loss= 3.7314913\n",
      "19/31 [=================>............] - ETA: 2:05:32 - d_loss: 2.6532 - g_loss: -0.6504\n",
      "\n",
      "\n",
      "d_loss= 2.5806632\n",
      "\n",
      "g_loss= 0.20020756\n",
      "20/31 [==================>...........] - ETA: 1:55:04 - d_loss: 2.6495 - g_loss: -0.6079\n",
      "\n",
      "\n",
      "d_loss= 2.5678778\n",
      "\n",
      "g_loss= -1.0219322\n",
      "21/31 [===================>..........] - ETA: 1:44:35 - d_loss: 2.6457 - g_loss: -0.6276\n",
      "\n",
      "\n",
      "d_loss= 2.592691\n",
      "\n",
      "g_loss= -1.4923456\n",
      "22/31 [====================>.........] - ETA: 1:34:06 - d_loss: 2.6432 - g_loss: -0.6669\n",
      "\n",
      "\n",
      "d_loss= 2.57956\n",
      "\n",
      "g_loss= 1.5510706\n",
      "23/31 [=====================>........] - ETA: 1:23:39 - d_loss: 2.6405 - g_loss: -0.5705\n",
      "\n",
      "\n",
      "d_loss= 2.599092\n",
      "\n",
      "g_loss= -0.058815096\n",
      "24/31 [======================>.......] - ETA: 1:13:12 - d_loss: 2.6388 - g_loss: -0.5492\n",
      "\n",
      "\n",
      "d_loss= 2.5529418\n",
      "\n",
      "g_loss= 5.6675134\n",
      "25/31 [=======================>......] - ETA: 1:02:45 - d_loss: 2.6353 - g_loss: -0.3005\n",
      "\n",
      "\n",
      "d_loss= 2.585376\n",
      "\n",
      "g_loss= -0.8200258\n",
      "26/31 [========================>.....] - ETA: 52:17 - d_loss: 2.6334 - g_loss: -0.3205  \n",
      "\n",
      "\n",
      "d_loss= 2.575892\n",
      "\n",
      "g_loss= -0.83266145\n",
      "27/31 [=========================>....] - ETA: 41:50 - d_loss: 2.6313 - g_loss: -0.3394\n",
      "\n",
      "\n",
      "d_loss= 2.5775082\n",
      "\n",
      "g_loss= 1.9388741\n",
      "28/31 [==========================>...] - ETA: 31:22 - d_loss: 2.6294 - g_loss: -0.2581\n",
      "\n",
      "\n",
      "d_loss= 2.613611\n",
      "\n",
      "g_loss= 0.035080083\n",
      "29/31 [===========================>..] - ETA: 20:55 - d_loss: 2.6288 - g_loss: -0.2480\n",
      "\n",
      "\n",
      "d_loss= 2.5569232\n",
      "\n",
      "g_loss= -1.8707747\n",
      "30/31 [============================>.] - ETA: 10:27 - d_loss: 2.6264 - g_loss: -0.3021\n",
      "\n",
      "\n",
      "d_loss= 2.5865667\n",
      "\n",
      "g_loss= -4.1629157\n",
      "31/31 [==============================] - 19459s 628s/step - d_loss: 2.6251 - g_loss: -0.4266\n"
     ]
    }
   ],
   "source": [
    "# Deshabilitar los mensajes de información de TensorFlow\n",
    "os.environ['TF_CPP_MIN_LOG_LEVEL'] = '3'\n",
    "\n",
    "# Deshabilitar los mensajes de información de OpenAI Gym\n",
    "gym.logger.set_level(40)\n",
    "\n",
    "BATCH_SIZE=140\n",
    "\n",
    "history=gan8.fit(X_train,\n",
    "    epochs=EPOCHS, batch_size=BATCH_SIZE)\n"
   ]
  },
  {
   "cell_type": "markdown",
   "metadata": {},
   "source": [
    "### Evaluación de GAIL"
   ]
  },
  {
   "cell_type": "code",
   "execution_count": 30,
   "metadata": {},
   "outputs": [
    {
     "name": "stdout",
     "output_type": "stream",
     "text": [
      "1/1 [==============================] - 0s 56ms/step - loss: 0.6514 - accuracy: 0.0753\n",
      "1/1 [==============================] - 0s 17ms/step - loss: 0.6501 - accuracy: 0.0938\n",
      ">Loss real: \n",
      "0.6513626575469971\n",
      ">Loss fake: \n",
      "0.6501250267028809\n"
     ]
    }
   ],
   "source": [
    "# Evaluamos el Discriminador de GAIL en el TEST\n",
    "gan8.evaluate_D(X_test)\n"
   ]
  },
  {
   "cell_type": "code",
   "execution_count": 31,
   "metadata": {},
   "outputs": [
    {
     "name": "stdout",
     "output_type": "stream",
     "text": [
      "Episode  0 Total reward: 0.35950245008660886\n",
      "Episode  1 Total reward: -117.15498375926236\n",
      "Episode  2 Total reward: -111.6125342735213\n",
      "Episode  3 Total reward: -93.89183733851539\n",
      "Episode  4 Total reward: 37.75354586788377\n",
      "Episode  5 Total reward: 129.95515846617315\n",
      "Episode  6 Total reward: 78.15905339710524\n",
      "Episode  7 Total reward: 111.88117064759733\n",
      "Episode  8 Total reward: -86.57756749968344\n",
      "Episode  9 Total reward: -72.47542501961873\n",
      "Episode  10 Total reward: 3.0011409239041313\n",
      "Episode  11 Total reward: -7.755396297139441\n",
      "Episode  12 Total reward: -92.8844661885007\n",
      "Episode  13 Total reward: -85.20794681277039\n",
      "Episode  14 Total reward: -71.50194600991078\n",
      "Episode  15 Total reward: -103.91834672211527\n",
      "Episode  16 Total reward: 73.2589944408997\n",
      "Episode  17 Total reward: -80.9802119339403\n",
      "Episode  18 Total reward: -38.22772249150523\n",
      "Episode  19 Total reward: 40.124570872734544\n",
      "Episode  20 Total reward: -43.20471245122086\n",
      "Episode  21 Total reward: 118.15895940425256\n",
      "Episode  22 Total reward: 106.1971866150952\n",
      "Episode  23 Total reward: -96.16810960283753\n",
      "Episode  24 Total reward: -69.22549836321375\n",
      "Episode  25 Total reward: 40.945074608243\n",
      "Episode  26 Total reward: -134.81364719746284\n",
      "Episode  27 Total reward: -10.01507314137362\n",
      "Episode  28 Total reward: -103.57445944496841\n",
      "Episode  29 Total reward: -135.99515221469417\n",
      "Episode  30 Total reward: 35.72425234726919\n",
      "Episode  31 Total reward: -60.570515571464554\n",
      "Episode  32 Total reward: 78.71369076734045\n",
      "Episode  33 Total reward: -137.53687464715537\n",
      "Episode  34 Total reward: 14.947546219438086\n",
      "Episode  35 Total reward: -95.46693418521197\n",
      "Episode  36 Total reward: 0.21608514799862677\n",
      "Episode  37 Total reward: 56.680045478046736\n",
      "Episode  38 Total reward: 112.36600012768926\n",
      "Episode  39 Total reward: -47.55992694830121\n",
      "Episode  40 Total reward: 47.490814873387016\n",
      "Episode  41 Total reward: 65.30375291245852\n",
      "Episode  42 Total reward: 4.333078674696452\n",
      "Episode  43 Total reward: -17.12824767633238\n",
      "Episode  44 Total reward: -34.64464340562772\n",
      "Episode  45 Total reward: 29.784063101180855\n",
      "Episode  46 Total reward: -47.815963701206265\n",
      "Episode  47 Total reward: 73.50833825185886\n",
      "Episode  48 Total reward: 35.0453163379446\n",
      "Episode  49 Total reward: -8.846483130202687\n"
     ]
    },
    {
     "data": {
      "image/png": "[encoded data removed]",
      "text/plain": [
       "<Figure size 640x480 with 1 Axes>"
      ]
     },
     "metadata": {},
     "output_type": "display_data"
    },
    {
     "name": "stdout",
     "output_type": "stream",
     "text": [
      "\n",
      "Recompensa de Media: -14.216945681889458 \n",
      "\n"
     ]
    }
   ],
   "source": [
    "# Evaluamos al Generador \n",
    "rewardMean=gan8.evaluate_G()\n",
    "print('\\nRecompensa de Media:', rewardMean, '\\n')"
   ]
  },
  {
   "cell_type": "markdown",
   "metadata": {},
   "source": [
    "## Experimento 9"
   ]
  },
  {
   "cell_type": "code",
   "execution_count": 32,
   "metadata": {},
   "outputs": [
    {
     "name": "stdout",
     "output_type": "stream",
     "text": [
      "\n",
      "\tEstados reales: \n",
      " [[-0.00655632  1.412633   -0.6640952  ...  0.15042743  0.\n",
      "   0.        ]\n",
      " [-0.01301994  1.4137701  -0.65149987 ...  0.1017526   0.\n",
      "   0.        ]\n",
      " [-0.01941118  1.414314   -0.6424104  ...  0.06514421  0.\n",
      "   0.        ]\n",
      " ...\n",
      " [-0.46665245 -0.0082029   0.03071342 ...  0.67170596  1.\n",
      "   1.        ]\n",
      " [-0.4661541  -0.01350838  0.02066027 ...  0.635882    1.\n",
      "   1.        ]\n",
      " [-0.46567154 -0.01838761  0.02184356 ...  0.58443296  1.\n",
      "   1.        ]]\n",
      "\tAcciones reales: \n",
      " [3 3 3 ... 0 3 3]\n"
     ]
    }
   ],
   "source": [
    "expert_observations = np.genfromtxt(\"observations_LunarLander.csv\",delimiter=\"\\t\",dtype=str)\n",
    "expert_actions = np.genfromtxt('actions_LunarLander.csv', dtype=np.int32)\n",
    "expert_num_tray=np.genfromtxt('n_trayectoria_LunarLander.csv', dtype=np.int32)\n",
    "\n",
    "# Reemplazar las comas\n",
    "expert_observations = np.core.defchararray.replace(expert_observations, ',', ' ')\n",
    "\n",
    "# Crear un nuevo array para almacenar los datos convertidos\n",
    "converted_observations = np.genfromtxt(expert_observations, delimiter=' ', dtype=float)\n",
    "\n",
    "print(\"\\n\\tEstados reales: \\n\", converted_observations)\n",
    "print(\"\\tAcciones reales: \\n\", expert_actions)"
   ]
  },
  {
   "cell_type": "code",
   "execution_count": 33,
   "metadata": {},
   "outputs": [
    {
     "name": "stdout",
     "output_type": "stream",
     "text": [
      "5799\n"
     ]
    }
   ],
   "source": [
    "longitud_trayectoria += np.count_nonzero(expert_num_tray == 8)\n",
    "print(longitud_trayectoria)"
   ]
  },
  {
   "cell_type": "code",
   "execution_count": 34,
   "metadata": {},
   "outputs": [],
   "source": [
    "converted_observations=converted_observations[0:longitud_trayectoria]\n",
    "expert_actions=expert_actions[0:longitud_trayectoria]"
   ]
  },
  {
   "cell_type": "code",
   "execution_count": 35,
   "metadata": {},
   "outputs": [
    {
     "name": "stdout",
     "output_type": "stream",
     "text": [
      "[[-0.00655632  1.412633   -0.6640952  ...  0.          0.\n",
      "   1.        ]\n",
      " [-0.01301994  1.4137701  -0.65149987 ...  0.          0.\n",
      "   1.        ]\n",
      " [-0.01941118  1.414314   -0.6424104  ...  0.          0.\n",
      "   1.        ]\n",
      " ...\n",
      " [ 0.7474047   0.0260748  -0.02635835 ...  0.          0.\n",
      "   0.        ]\n",
      " [ 0.74719274  0.02124918 -0.04889769 ...  0.          0.\n",
      "   1.        ]\n",
      " [ 0.74685365  0.01683348 -0.05817185 ...  0.          0.\n",
      "   1.        ]]\n",
      "Nº de (ESTADOS,ACCIONES) en el conjunto de entrenamiento: 4639\n",
      "Nº de (ESTADOS,ACCIONES) en el conjunto de prueba: 1160\n"
     ]
    }
   ],
   "source": [
    "# Construimos el dataset [s,a] reales y lo dividimos en training y test\n",
    "expert_a_one_hot=np.eye(env.action_space.n)[expert_actions]\n",
    "\n",
    "dataset=np.concatenate([converted_observations,expert_a_one_hot],axis=1)\n",
    "\n",
    "\n",
    "print(dataset)\n",
    "\n",
    "# Divide los datos en conjuntos de entrenamiento y prueba\n",
    "X_train, X_test = train_test_split(dataset, test_size=0.2, random_state=0)\n",
    "\n",
    "\n",
    "#Imprime el número de elementos en el conjuntos de entrenamiento y prueba\n",
    "print('Nº de (ESTADOS,ACCIONES) en el conjunto de entrenamiento:', len(X_train))\n",
    "print('Nº de (ESTADOS,ACCIONES) en el conjunto de prueba:', len(X_test))"
   ]
  },
  {
   "cell_type": "code",
   "execution_count": 36,
   "metadata": {},
   "outputs": [],
   "source": [
    "env= gym.make('LunarLander-v2')\n",
    "obs,_= env.reset()\n",
    "\n",
    "# Generador\n",
    "generator=Policy_net( 'policy', env, obs)\n",
    "\n",
    "# Generamos [s,a, s', r] falsas y las políticas theta_i y theta_i+1\n",
    "observations, actions, rewards, Old_Policy, Policy=generator.generate_fakes()\n",
    "\n",
    "# Discriminador\n",
    "discriminator=Discriminator(env, discriminator_net, converted_observations, expert_actions, observations, actions)"
   ]
  },
  {
   "cell_type": "code",
   "execution_count": null,
   "metadata": {},
   "outputs": [],
   "source": []
  },
  {
   "cell_type": "markdown",
   "metadata": {},
   "source": [
    "### Definición de GAIL"
   ]
  },
  {
   "cell_type": "code",
   "execution_count": 37,
   "metadata": {},
   "outputs": [],
   "source": [
    "gan9=GAN(discriminator=discriminator,generator=generator)"
   ]
  },
  {
   "cell_type": "markdown",
   "metadata": {},
   "source": [
    "### Compilación de GAIL"
   ]
  },
  {
   "cell_type": "code",
   "execution_count": 38,
   "metadata": {},
   "outputs": [],
   "source": [
    "tf.config.run_functions_eagerly(True)\n",
    "gan9.compile(\n",
    "    d_optimizer=tf.keras.optimizers.Adam(learning_rate=LEARNING_RATE),\n",
    "    loss_fn_D=loss_fn_D\n",
    ")"
   ]
  },
  {
   "cell_type": "markdown",
   "metadata": {},
   "source": [
    "### Entrenamiento de GAIL"
   ]
  },
  {
   "cell_type": "code",
   "execution_count": 39,
   "metadata": {},
   "outputs": [
    {
     "name": "stdout",
     "output_type": "stream",
     "text": [
      "\n",
      "\n",
      "\n",
      "d_loss= 2.5399475\n",
      "\n",
      "g_loss= -2.078131\n",
      " 1/34 [..............................] - ETA: 5:44:12 - d_loss: 2.5399 - g_loss: -2.0781\n",
      "\n",
      "\n",
      "d_loss= 2.5033076\n",
      "\n",
      "g_loss= 3.5110385\n",
      " 2/34 [>.............................] - ETA: 5:31:43 - d_loss: 2.5216 - g_loss: 0.7165 \n",
      "\n",
      "\n",
      "d_loss= 2.5687623\n",
      "\n",
      "g_loss= 2.1938856\n",
      " 3/34 [=>............................] - ETA: 5:22:58 - d_loss: 2.5373 - g_loss: 1.2089\n",
      "\n",
      "\n",
      "d_loss= 2.547183\n",
      "\n",
      "g_loss= -0.17129393\n",
      " 4/34 [==>...........................] - ETA: 5:12:33 - d_loss: 2.5398 - g_loss: 0.8639\n",
      "\n",
      "\n",
      "d_loss= 2.5547194\n",
      "\n",
      "g_loss= 1.0558069\n",
      " 5/34 [===>..........................] - ETA: 5:02:45 - d_loss: 2.5428 - g_loss: 0.9023\n",
      "\n",
      "\n",
      "d_loss= 2.5306106\n",
      "\n",
      "g_loss= 1.7895995\n",
      " 6/34 [====>.........................] - ETA: 4:52:11 - d_loss: 2.5408 - g_loss: 1.0502\n",
      "\n",
      "\n",
      "d_loss= 2.5331416\n",
      "\n",
      "g_loss= -2.6238055\n",
      " 7/34 [=====>........................] - ETA: 4:41:11 - d_loss: 2.5397 - g_loss: 0.5253\n",
      "\n",
      "\n",
      "d_loss= 2.5100515\n",
      "\n",
      "g_loss= -3.4521604\n",
      " 8/34 [======>.......................] - ETA: 4:30:43 - d_loss: 2.5360 - g_loss: 0.0281\n",
      "\n",
      "\n",
      "d_loss= 2.522934\n",
      "\n",
      "g_loss= -1.7106984\n",
      " 9/34 [======>.......................] - ETA: 4:20:03 - d_loss: 2.5345 - g_loss: -0.1651\n",
      "\n",
      "\n",
      "d_loss= 2.531823\n",
      "\n",
      "g_loss= -0.45496005\n",
      "10/34 [=======>......................] - ETA: 4:09:47 - d_loss: 2.5342 - g_loss: -0.1941\n",
      "\n",
      "\n",
      "d_loss= 2.503377\n",
      "\n",
      "g_loss= 2.3424933\n",
      "11/34 [========>.....................] - ETA: 3:59:33 - d_loss: 2.5314 - g_loss: 0.0365 \n",
      "\n",
      "\n",
      "d_loss= 2.5127697\n",
      "\n",
      "g_loss= 4.183519\n",
      "12/34 [=========>....................] - ETA: 3:49:25 - d_loss: 2.5299 - g_loss: 0.3821\n",
      "\n",
      "\n",
      "d_loss= 2.5301208\n",
      "\n",
      "g_loss= 1.2721386\n",
      "13/34 [==========>...................] - ETA: 3:39:10 - d_loss: 2.5299 - g_loss: 0.4506\n",
      "\n",
      "\n",
      "d_loss= 2.5546625\n",
      "\n",
      "g_loss= 0.1670785\n",
      "14/34 [===========>..................] - ETA: 3:28:53 - d_loss: 2.5317 - g_loss: 0.4303\n",
      "\n",
      "\n",
      "d_loss= 2.485474\n",
      "\n",
      "g_loss= -0.023264326\n",
      "15/34 [============>.................] - ETA: 3:18:23 - d_loss: 2.5286 - g_loss: 0.4001\n",
      "\n",
      "\n",
      "d_loss= 2.5210154\n",
      "\n",
      "g_loss= 3.1095328\n",
      "16/34 [=============>................] - ETA: 3:07:49 - d_loss: 2.5281 - g_loss: 0.5694\n",
      "\n",
      "\n",
      "d_loss= 2.5393791\n",
      "\n",
      "g_loss= 2.5616755\n",
      "17/34 [==============>...............] - ETA: 2:57:29 - d_loss: 2.5288 - g_loss: 0.6866\n",
      "\n",
      "\n",
      "d_loss= 2.5256276\n",
      "\n",
      "g_loss= -1.2127849\n",
      "18/34 [==============>...............] - ETA: 2:47:07 - d_loss: 2.5286 - g_loss: 0.5811\n",
      "\n",
      "\n",
      "d_loss= 2.4746122\n",
      "\n",
      "g_loss= -0.9704777\n",
      "19/34 [===============>..............] - ETA: 2:36:34 - d_loss: 2.5258 - g_loss: 0.4994\n",
      "\n",
      "\n",
      "d_loss= 2.4956064\n",
      "\n",
      "g_loss= 0.12850899\n",
      "20/34 [================>.............] - ETA: 2:26:04 - d_loss: 2.5243 - g_loss: 0.4809\n",
      "\n",
      "\n",
      "d_loss= 2.5035262\n",
      "\n",
      "g_loss= 2.888384\n",
      "21/34 [=================>............] - ETA: 2:15:39 - d_loss: 2.5233 - g_loss: 0.5955\n",
      "\n",
      "\n",
      "d_loss= 2.5584857\n",
      "\n",
      "g_loss= -1.5644852\n",
      "22/34 [==================>...........] - ETA: 2:05:10 - d_loss: 2.5249 - g_loss: 0.4973\n",
      "\n",
      "\n",
      "d_loss= 2.4815629\n",
      "\n",
      "g_loss= -0.2918296\n",
      "23/34 [===================>..........] - ETA: 1:54:45 - d_loss: 2.5230 - g_loss: 0.4630\n",
      "\n",
      "\n",
      "d_loss= 2.5002918\n",
      "\n",
      "g_loss= -1.877235\n",
      "24/34 [====================>.........] - ETA: 1:44:22 - d_loss: 2.5220 - g_loss: 0.3655\n",
      "\n",
      "\n",
      "d_loss= 2.444138\n",
      "\n",
      "g_loss= 0.21851978\n",
      "25/34 [=====================>........] - ETA: 1:33:56 - d_loss: 2.5189 - g_loss: 0.3596\n",
      "\n",
      "\n",
      "d_loss= 2.5104237\n",
      "\n",
      "g_loss= 1.9971951\n",
      "26/34 [=====================>........] - ETA: 1:23:31 - d_loss: 2.5186 - g_loss: 0.4226\n",
      "\n",
      "\n",
      "d_loss= 2.5089586\n",
      "\n",
      "g_loss= 3.4281895\n",
      "27/34 [======================>.......] - ETA: 1:13:06 - d_loss: 2.5182 - g_loss: 0.5339\n",
      "\n",
      "\n",
      "d_loss= 2.465458\n",
      "\n",
      "g_loss= 1.0293899\n",
      "28/34 [=======================>......] - ETA: 1:02:39 - d_loss: 2.5164 - g_loss: 0.5516\n",
      "\n",
      "\n",
      "d_loss= 2.4400156\n",
      "\n",
      "g_loss= 2.322154\n",
      "29/34 [========================>.....] - ETA: 52:12 - d_loss: 2.5137 - g_loss: 0.6127  \n",
      "\n",
      "\n",
      "d_loss= 2.4889731\n",
      "\n",
      "g_loss= 0.11745533\n",
      "30/34 [=========================>....] - ETA: 41:45 - d_loss: 2.5129 - g_loss: 0.5962\n",
      "\n",
      "\n",
      "d_loss= 2.4306295\n",
      "\n",
      "g_loss= 0.96970123\n",
      "31/34 [==========================>...] - ETA: 31:19 - d_loss: 2.5102 - g_loss: 0.6082\n",
      "\n",
      "\n",
      "d_loss= 2.4932587\n",
      "\n",
      "g_loss= -0.1601454\n",
      "32/34 [===========================>..] - ETA: 20:53 - d_loss: 2.5097 - g_loss: 0.5842\n",
      "\n",
      "\n",
      "d_loss= 2.4562001\n",
      "\n",
      "g_loss= 2.8572607\n",
      "33/34 [============================>.] - ETA: 10:26 - d_loss: 2.5081 - g_loss: 0.6531\n",
      "\n",
      "\n",
      "d_loss= 2.4427247\n",
      "\n",
      "g_loss= -2.473075\n",
      "34/34 [==============================] - 21305s 627s/step - d_loss: 2.5062 - g_loss: 0.5612\n"
     ]
    }
   ],
   "source": [
    "# Deshabilitar los mensajes de información de TensorFlow\n",
    "os.environ['TF_CPP_MIN_LOG_LEVEL'] = '3'\n",
    "\n",
    "# Deshabilitar los mensajes de información de OpenAI Gym\n",
    "gym.logger.set_level(40)\n",
    "\n",
    "BATCH_SIZE=140\n",
    "\n",
    "history=gan9.fit(X_train,\n",
    "    epochs=EPOCHS, batch_size=BATCH_SIZE)\n"
   ]
  },
  {
   "cell_type": "markdown",
   "metadata": {},
   "source": [
    "### Evaluación de GAIL"
   ]
  },
  {
   "cell_type": "code",
   "execution_count": 40,
   "metadata": {},
   "outputs": [
    {
     "name": "stdout",
     "output_type": "stream",
     "text": [
      "1/1 [==============================] - 0s 19ms/step - loss: 0.5510 - accuracy: 0.0000e+00\n",
      "1/1 [==============================] - 0s 18ms/step - loss: 0.5445 - accuracy: 0.0000e+00\n",
      ">Loss real: \n",
      "0.5509620308876038\n",
      ">Loss fake: \n",
      "0.5445390343666077\n"
     ]
    }
   ],
   "source": [
    "# Evaluamos el Discriminador de GAIL en el TEST\n",
    "gan9.evaluate_D(X_test)\n"
   ]
  },
  {
   "cell_type": "code",
   "execution_count": 54,
   "metadata": {},
   "outputs": [
    {
     "name": "stdout",
     "output_type": "stream",
     "text": [
      "Episode  0 Total reward: 10.489458972956129\n",
      "Episode  1 Total reward: -178.21847126852538\n",
      "Episode  2 Total reward: -15.963941513569395\n",
      "Episode  3 Total reward: -66.65929581298602\n",
      "Episode  4 Total reward: -20.71182172974666\n",
      "Episode  5 Total reward: -43.985158251121526\n",
      "Episode  6 Total reward: -41.140983826110684\n",
      "Episode  7 Total reward: -42.732933492472156\n",
      "Episode  8 Total reward: -56.45714710972885\n",
      "Episode  9 Total reward: -173.9513462582605\n",
      "Episode  10 Total reward: -93.56586187667082\n",
      "Episode  11 Total reward: -63.15480519890768\n",
      "Episode  12 Total reward: -18.51756930923746\n",
      "Episode  13 Total reward: -238.48744329676768\n",
      "Episode  14 Total reward: -80.94136868547209\n",
      "Episode  15 Total reward: -76.05337297568633\n",
      "Episode  16 Total reward: -238.8475207124862\n",
      "Episode  17 Total reward: 75.1865602576378\n",
      "Episode  18 Total reward: -22.45898019632466\n",
      "Episode  19 Total reward: -161.4204037641074\n",
      "Episode  20 Total reward: -75.05004860180824\n",
      "Episode  21 Total reward: 121.02467918377864\n",
      "Episode  22 Total reward: -26.336317696399448\n",
      "Episode  23 Total reward: 23.190854540578343\n",
      "Episode  24 Total reward: 27.40597111002461\n",
      "Episode  25 Total reward: -122.044180648609\n",
      "Episode  26 Total reward: -49.57856858138474\n",
      "Episode  27 Total reward: 13.725245622271288\n",
      "Episode  28 Total reward: -17.188206272629927\n",
      "Episode  29 Total reward: 0.6408319303045715\n",
      "Episode  30 Total reward: -23.94761580107844\n",
      "Episode  31 Total reward: -228.28838468128197\n",
      "Episode  32 Total reward: 14.17251804246365\n",
      "Episode  33 Total reward: -17.19658341953513\n",
      "Episode  34 Total reward: -119.10165853564308\n",
      "Episode  35 Total reward: 98.58226030507545\n",
      "Episode  36 Total reward: -10.501991708469234\n",
      "Episode  37 Total reward: -73.0840288713662\n",
      "Episode  38 Total reward: -112.61534965113114\n",
      "Episode  39 Total reward: -64.06898311561974\n",
      "Episode  40 Total reward: 24.9835073355337\n",
      "Episode  41 Total reward: -74.81751079798596\n",
      "Episode  42 Total reward: 75.82387967496493\n",
      "Episode  43 Total reward: -74.31274968320947\n",
      "Episode  44 Total reward: 1.5669212386344782\n",
      "Episode  45 Total reward: -92.44441809637236\n",
      "Episode  46 Total reward: -106.18158871443708\n",
      "Episode  47 Total reward: 20.193705584042462\n",
      "Episode  48 Total reward: -39.85940777235133\n",
      "Episode  49 Total reward: -36.5308623263374\n"
     ]
    },
    {
     "data": {
      "image/png": "[encoded data removed]",
      "text/plain": [
       "<Figure size 640x480 with 1 Axes>"
      ]
     },
     "metadata": {},
     "output_type": "display_data"
    },
    {
     "name": "stdout",
     "output_type": "stream",
     "text": [
      "\n",
      "Recompensa de Media: -49.7886097291113 \n",
      "\n"
     ]
    }
   ],
   "source": [
    "# Evaluamos al Generador \n",
    "rewardMean=gan9.evaluate_G()\n",
    "print('\\nRecompensa de Media:', rewardMean, '\\n')"
   ]
  },
  {
   "cell_type": "markdown",
   "metadata": {},
   "source": [
    "## Experimento 10"
   ]
  },
  {
   "cell_type": "code",
   "execution_count": 42,
   "metadata": {},
   "outputs": [
    {
     "name": "stdout",
     "output_type": "stream",
     "text": [
      "\n",
      "\tEstados reales: \n",
      " [[-0.00655632  1.412633   -0.6640952  ...  0.15042743  0.\n",
      "   0.        ]\n",
      " [-0.01301994  1.4137701  -0.65149987 ...  0.1017526   0.\n",
      "   0.        ]\n",
      " [-0.01941118  1.414314   -0.6424104  ...  0.06514421  0.\n",
      "   0.        ]\n",
      " ...\n",
      " [-0.46665245 -0.0082029   0.03071342 ...  0.67170596  1.\n",
      "   1.        ]\n",
      " [-0.4661541  -0.01350838  0.02066027 ...  0.635882    1.\n",
      "   1.        ]\n",
      " [-0.46567154 -0.01838761  0.02184356 ...  0.58443296  1.\n",
      "   1.        ]]\n",
      "\tAcciones reales: \n",
      " [3 3 3 ... 0 3 3]\n"
     ]
    }
   ],
   "source": [
    "expert_observations = np.genfromtxt(\"observations_LunarLander.csv\",delimiter=\"\\t\",dtype=str)\n",
    "expert_actions = np.genfromtxt('actions_LunarLander.csv', dtype=np.int32)\n",
    "expert_num_tray=np.genfromtxt('n_trayectoria_LunarLander.csv', dtype=np.int32)\n",
    "\n",
    "# Reemplazar las comas\n",
    "expert_observations = np.core.defchararray.replace(expert_observations, ',', ' ')\n",
    "\n",
    "# Crear un nuevo array para almacenar los datos convertidos\n",
    "converted_observations = np.genfromtxt(expert_observations, delimiter=' ', dtype=float)\n",
    "\n",
    "print(\"\\n\\tEstados reales: \\n\", converted_observations)\n",
    "print(\"\\tAcciones reales: \\n\", expert_actions)"
   ]
  },
  {
   "cell_type": "code",
   "execution_count": 43,
   "metadata": {},
   "outputs": [
    {
     "name": "stdout",
     "output_type": "stream",
     "text": [
      "6310\n"
     ]
    }
   ],
   "source": [
    "longitud_trayectoria += np.count_nonzero(expert_num_tray == 9)\n",
    "print(longitud_trayectoria)"
   ]
  },
  {
   "cell_type": "code",
   "execution_count": 44,
   "metadata": {},
   "outputs": [],
   "source": [
    "converted_observations=converted_observations[0:longitud_trayectoria]\n",
    "expert_actions=expert_actions[0:longitud_trayectoria]"
   ]
  },
  {
   "cell_type": "code",
   "execution_count": 45,
   "metadata": {},
   "outputs": [
    {
     "name": "stdout",
     "output_type": "stream",
     "text": [
      "[[-0.00655632  1.412633   -0.6640952  ...  0.          0.\n",
      "   1.        ]\n",
      " [-0.01301994  1.4137701  -0.65149987 ...  0.          0.\n",
      "   1.        ]\n",
      " [-0.01941118  1.414314   -0.6424104  ...  0.          0.\n",
      "   1.        ]\n",
      " ...\n",
      " [-0.46665245 -0.0082029   0.03071342 ...  0.          0.\n",
      "   0.        ]\n",
      " [-0.4661541  -0.01350838  0.02066027 ...  0.          0.\n",
      "   1.        ]\n",
      " [-0.46567154 -0.01838761  0.02184356 ...  0.          0.\n",
      "   1.        ]]\n",
      "Nº de (ESTADOS,ACCIONES) en el conjunto de entrenamiento: 5048\n",
      "Nº de (ESTADOS,ACCIONES) en el conjunto de prueba: 1262\n"
     ]
    }
   ],
   "source": [
    "# Construimos el dataset [s,a] reales y lo dividimos en training y test\n",
    "expert_a_one_hot=np.eye(env.action_space.n)[expert_actions]\n",
    "\n",
    "dataset=np.concatenate([converted_observations,expert_a_one_hot],axis=1)\n",
    "\n",
    "\n",
    "print(dataset)\n",
    "\n",
    "# Divide los datos en conjuntos de entrenamiento y prueba\n",
    "X_train, X_test = train_test_split(dataset, test_size=0.2, random_state=0)\n",
    "\n",
    "\n",
    "#Imprime el número de elementos en el conjuntos de entrenamiento y prueba\n",
    "print('Nº de (ESTADOS,ACCIONES) en el conjunto de entrenamiento:', len(X_train))\n",
    "print('Nº de (ESTADOS,ACCIONES) en el conjunto de prueba:', len(X_test))"
   ]
  },
  {
   "cell_type": "code",
   "execution_count": 46,
   "metadata": {},
   "outputs": [],
   "source": [
    "env= gym.make('LunarLander-v2')\n",
    "obs,_= env.reset()\n",
    "\n",
    "# Generador\n",
    "generator=Policy_net( 'policy', env, obs)\n",
    "BATCH_SIZE= round(len(X_train)/300)\n",
    "\n",
    "# Generamos [s,a, s', r] falsas y las políticas theta_i y theta_i+1\n",
    "observations, actions, rewards, Old_Policy, Policy=generator.generate_fakes()\n",
    "\n",
    "# Discriminador\n",
    "discriminator=Discriminator(env, discriminator_net, converted_observations, expert_actions, observations, actions)"
   ]
  },
  {
   "cell_type": "markdown",
   "metadata": {},
   "source": [
    "### Definición de GAIL"
   ]
  },
  {
   "cell_type": "code",
   "execution_count": 47,
   "metadata": {},
   "outputs": [],
   "source": [
    "gan10=GAN(discriminator=discriminator,generator=generator)"
   ]
  },
  {
   "cell_type": "markdown",
   "metadata": {},
   "source": [
    "### Compilación de GAIL"
   ]
  },
  {
   "cell_type": "code",
   "execution_count": 48,
   "metadata": {},
   "outputs": [],
   "source": [
    "tf.config.run_functions_eagerly(True)\n",
    "gan10.compile(\n",
    "    d_optimizer=tf.keras.optimizers.Adam(learning_rate=LEARNING_RATE),\n",
    "    loss_fn_D=loss_fn_D\n",
    ")"
   ]
  },
  {
   "cell_type": "markdown",
   "metadata": {},
   "source": [
    "### Entrenamiento de GAIL"
   ]
  },
  {
   "cell_type": "code",
   "execution_count": 49,
   "metadata": {},
   "outputs": [
    {
     "name": "stdout",
     "output_type": "stream",
     "text": [
      "17\n"
     ]
    }
   ],
   "source": [
    "print(BATCH_SIZE)"
   ]
  },
  {
   "cell_type": "code",
   "execution_count": 50,
   "metadata": {},
   "outputs": [
    {
     "name": "stdout",
     "output_type": "stream",
     "text": [
      "\n",
      "\n",
      "\n",
      "d_loss= 2.477433\n",
      "\n",
      "g_loss= 4.338406\n",
      " 1/37 [..............................] - ETA: 6:11:00 - d_loss: 2.4774 - g_loss: 4.3384\n",
      "\n",
      "\n",
      "d_loss= 2.4704845\n",
      "\n",
      "g_loss= 1.1143048\n",
      " 2/37 [>.............................] - ETA: 6:09:58 - d_loss: 2.4740 - g_loss: 2.7264\n",
      "\n",
      "\n",
      "d_loss= 2.367797\n",
      "\n",
      "g_loss= 3.2293499\n",
      " 3/37 [=>............................] - ETA: 5:56:26 - d_loss: 2.4386 - g_loss: 2.8940\n",
      "\n",
      "\n",
      "d_loss= 2.4102514\n",
      "\n",
      "g_loss= -3.1550732\n",
      " 4/37 [==>...........................] - ETA: 5:45:58 - d_loss: 2.4315 - g_loss: 1.3817\n",
      "\n",
      "\n",
      "d_loss= 2.4821157\n",
      "\n",
      "g_loss= 2.3277428\n",
      " 5/37 [===>..........................] - ETA: 5:35:10 - d_loss: 2.4416 - g_loss: 1.5709\n",
      "\n",
      "\n",
      "d_loss= 2.4596353\n",
      "\n",
      "g_loss= -4.2956524\n",
      " 6/37 [===>..........................] - ETA: 5:23:41 - d_loss: 2.4446 - g_loss: 0.5932\n",
      "\n",
      "\n",
      "d_loss= 2.4337814\n",
      "\n",
      "g_loss= 3.0983393\n",
      " 7/37 [====>.........................] - ETA: 5:12:55 - d_loss: 2.4431 - g_loss: 0.9511\n",
      "\n",
      "\n",
      "d_loss= 2.4304287\n",
      "\n",
      "g_loss= -0.25162223\n",
      " 8/37 [=====>........................] - ETA: 5:02:35 - d_loss: 2.4415 - g_loss: 0.8007\n",
      "\n",
      "\n",
      "d_loss= 2.4148254\n",
      "\n",
      "g_loss= 1.9230679\n",
      " 9/37 [======>.......................] - ETA: 4:53:47 - d_loss: 2.4385 - g_loss: 0.9254\n",
      "\n",
      "\n",
      "d_loss= 2.3878746\n",
      "\n",
      "g_loss= -0.3128748\n",
      "10/37 [=======>......................] - ETA: 4:43:27 - d_loss: 2.4335 - g_loss: 0.8016\n",
      "\n",
      "\n",
      "d_loss= 2.3945782\n",
      "\n",
      "g_loss= -4.519266\n",
      "11/37 [=======>......................] - ETA: 4:33:15 - d_loss: 2.4299 - g_loss: 0.3179\n",
      "\n",
      "\n",
      "d_loss= 2.4204354\n",
      "\n",
      "g_loss= 2.228936\n",
      "12/37 [========>.....................] - ETA: 4:22:58 - d_loss: 2.4291 - g_loss: 0.4771\n",
      "\n",
      "\n",
      "d_loss= 2.3655183\n",
      "\n",
      "g_loss= -0.373346\n",
      "13/37 [=========>....................] - ETA: 4:12:26 - d_loss: 2.4242 - g_loss: 0.4117\n",
      "\n",
      "\n",
      "d_loss= 2.4590628\n",
      "\n",
      "g_loss= 0.08659947\n",
      "14/37 [==========>...................] - ETA: 4:02:44 - d_loss: 2.4267 - g_loss: 0.3885\n",
      "\n",
      "\n",
      "d_loss= 2.4488487\n",
      "\n",
      "g_loss= 2.5812726\n",
      "15/37 [===========>..................] - ETA: 3:53:02 - d_loss: 2.4282 - g_loss: 0.5347\n",
      "\n",
      "\n",
      "d_loss= 2.392395\n",
      "\n",
      "g_loss= -0.3465655\n",
      "16/37 [===========>..................] - ETA: 3:43:07 - d_loss: 2.4260 - g_loss: 0.4796\n",
      "\n",
      "\n",
      "d_loss= 2.4151018\n",
      "\n",
      "g_loss= 2.1841893\n",
      "17/37 [============>.................] - ETA: 3:32:29 - d_loss: 2.4253 - g_loss: 0.5799\n",
      "\n",
      "\n",
      "d_loss= 2.3763418\n",
      "\n",
      "g_loss= 3.2181292\n",
      "18/37 [=============>................] - ETA: 3:21:56 - d_loss: 2.4226 - g_loss: 0.7264\n",
      "\n",
      "\n",
      "d_loss= 2.370315\n",
      "\n",
      "g_loss= -0.65911317\n",
      "19/37 [==============>...............] - ETA: 3:11:24 - d_loss: 2.4199 - g_loss: 0.6535\n",
      "\n",
      "\n",
      "d_loss= 2.3993685\n",
      "\n",
      "g_loss= -0.9348028\n",
      "20/37 [===============>..............] - ETA: 3:00:37 - d_loss: 2.4188 - g_loss: 0.5741\n",
      "\n",
      "\n",
      "d_loss= 2.4101453\n",
      "\n",
      "g_loss= 1.2082051\n",
      "21/37 [================>.............] - ETA: 2:49:51 - d_loss: 2.4184 - g_loss: 0.6043\n",
      "\n",
      "\n",
      "d_loss= 2.382683\n",
      "\n",
      "g_loss= 1.4242982\n",
      "22/37 [================>.............] - ETA: 2:39:06 - d_loss: 2.4168 - g_loss: 0.6416\n",
      "\n",
      "\n",
      "d_loss= 2.3360407\n",
      "\n",
      "g_loss= -2.7732708\n",
      "23/37 [=================>............] - ETA: 2:28:25 - d_loss: 2.4133 - g_loss: 0.4931\n",
      "\n",
      "\n",
      "d_loss= 2.348687\n",
      "\n",
      "g_loss= -0.12387046\n",
      "24/37 [==================>...........] - ETA: 2:17:43 - d_loss: 2.4106 - g_loss: 0.4674\n",
      "\n",
      "\n",
      "d_loss= 2.320771\n",
      "\n",
      "g_loss= -0.09730969\n",
      "25/37 [===================>..........] - ETA: 2:07:05 - d_loss: 2.4070 - g_loss: 0.4448\n",
      "\n",
      "\n",
      "d_loss= 2.3752873\n",
      "\n",
      "g_loss= 3.3136914\n",
      "26/37 [====================>.........] - ETA: 1:56:28 - d_loss: 2.4058 - g_loss: 0.5551\n",
      "\n",
      "\n",
      "d_loss= 2.3251717\n",
      "\n",
      "g_loss= 2.8918664\n",
      "27/37 [====================>.........] - ETA: 1:45:51 - d_loss: 2.4028 - g_loss: 0.6417\n",
      "\n",
      "\n",
      "d_loss= 2.3631618\n",
      "\n",
      "g_loss= 1.1152611\n",
      "28/37 [=====================>........] - ETA: 1:35:12 - d_loss: 2.4014 - g_loss: 0.6586\n",
      "\n",
      "\n",
      "d_loss= 2.3322444\n",
      "\n",
      "g_loss= 1.345871\n",
      "29/37 [======================>.......] - ETA: 1:24:35 - d_loss: 2.3990 - g_loss: 0.6823\n",
      "\n",
      "\n",
      "d_loss= 2.3621886\n",
      "\n",
      "g_loss= 3.6596642\n",
      "30/37 [=======================>......] - ETA: 1:14:00 - d_loss: 2.3978 - g_loss: 0.7815\n",
      "\n",
      "\n",
      "d_loss= 2.3213747\n",
      "\n",
      "g_loss= 2.0375843\n",
      "31/37 [========================>.....] - ETA: 1:03:24 - d_loss: 2.3953 - g_loss: 0.8221\n",
      "\n",
      "\n",
      "d_loss= 2.318586\n",
      "\n",
      "g_loss= 2.1396966\n",
      "32/37 [========================>.....] - ETA: 52:49 - d_loss: 2.3929 - g_loss: 0.8632  \n",
      "\n",
      "\n",
      "d_loss= 2.38507\n",
      "\n",
      "g_loss= -1.0251716\n",
      "33/37 [=========================>....] - ETA: 42:15 - d_loss: 2.3927 - g_loss: 0.8060\n",
      "\n",
      "\n",
      "d_loss= 2.3538055\n",
      "\n",
      "g_loss= -0.5459668\n",
      "34/37 [==========================>...] - ETA: 31:40 - d_loss: 2.3915 - g_loss: 0.7663\n",
      "\n",
      "\n",
      "d_loss= 2.3090603\n",
      "\n",
      "g_loss= -0.92185295\n",
      "35/37 [===========================>..] - ETA: 21:06 - d_loss: 2.3892 - g_loss: 0.7180\n",
      "\n",
      "\n",
      "d_loss= 2.320065\n",
      "\n",
      "g_loss= 0.36942813\n",
      "36/37 [============================>.] - ETA: 10:33 - d_loss: 2.3872 - g_loss: 0.7083\n",
      "\n",
      "\n",
      "d_loss= 2.2728531\n",
      "\n",
      "g_loss= 0.7642849\n",
      "37/37 [==============================] - 23402s 633s/step - d_loss: 2.3842 - g_loss: 0.7098\n"
     ]
    }
   ],
   "source": [
    "# Deshabilitar los mensajes de información de TensorFlow\n",
    "os.environ['TF_CPP_MIN_LOG_LEVEL'] = '3'\n",
    "\n",
    "# Deshabilitar los mensajes de información de OpenAI Gym\n",
    "gym.logger.set_level(40)\n",
    "\n",
    "BATCH_SIZE=140\n",
    "\n",
    "history=gan10.fit(X_train,\n",
    "    epochs=EPOCHS, batch_size=BATCH_SIZE)\n"
   ]
  },
  {
   "cell_type": "markdown",
   "metadata": {},
   "source": [
    "### Evaluación de GAIL"
   ]
  },
  {
   "cell_type": "code",
   "execution_count": 51,
   "metadata": {},
   "outputs": [
    {
     "name": "stdout",
     "output_type": "stream",
     "text": [
      "1/1 [==============================] - 0s 18ms/step - loss: 0.4188 - accuracy: 0.0000e+00\n",
      "1/1 [==============================] - 0s 16ms/step - loss: 0.3475 - accuracy: 0.0000e+00\n",
      ">Loss real: \n",
      "0.41881686449050903\n",
      ">Loss fake: \n",
      "0.347489595413208\n"
     ]
    }
   ],
   "source": [
    "# Evaluamos el Discriminador de GAIL en el TEST\n",
    "gan10.evaluate_D(X_test)\n"
   ]
  },
  {
   "cell_type": "code",
   "execution_count": 52,
   "metadata": {},
   "outputs": [
    {
     "name": "stdout",
     "output_type": "stream",
     "text": [
      "Episode  0 Total reward: 20.490102709361963\n",
      "Episode  1 Total reward: -12.441499127431484\n",
      "Episode  2 Total reward: -70.29601486899625\n",
      "Episode  3 Total reward: -88.00126074637664\n",
      "Episode  4 Total reward: -32.4312060138696\n",
      "Episode  5 Total reward: 3.5020590428017044\n",
      "Episode  6 Total reward: -33.03013148939441\n",
      "Episode  7 Total reward: -165.50237975541748\n",
      "Episode  8 Total reward: -56.73392417973021\n",
      "Episode  9 Total reward: -25.879085761338615\n",
      "Episode  10 Total reward: -22.738408275021754\n",
      "Episode  11 Total reward: -121.11346992312222\n",
      "Episode  12 Total reward: -61.24045172288146\n",
      "Episode  13 Total reward: -21.867909426168865\n",
      "Episode  14 Total reward: -61.818500549142456\n",
      "Episode  15 Total reward: -31.308366668768045\n",
      "Episode  16 Total reward: -77.6780420732064\n",
      "Episode  17 Total reward: -6.502080722138288\n",
      "Episode  18 Total reward: -47.486088250915486\n",
      "Episode  19 Total reward: -2.148282341191887\n",
      "Episode  20 Total reward: -74.3285618674539\n",
      "Episode  21 Total reward: 108.13404424781453\n",
      "Episode  22 Total reward: -114.90963677242824\n",
      "Episode  23 Total reward: -9.155553974685887\n",
      "Episode  24 Total reward: -80.03111961397501\n",
      "Episode  25 Total reward: 85.27680597150821\n",
      "Episode  26 Total reward: 18.105774401808134\n",
      "Episode  27 Total reward: -39.70554794040267\n",
      "Episode  28 Total reward: -53.32760780417024\n",
      "Episode  29 Total reward: 4.900266322422652\n",
      "Episode  30 Total reward: 20.7279693278943\n",
      "Episode  31 Total reward: -29.72016625042926\n",
      "Episode  32 Total reward: 60.14953591594619\n",
      "Episode  33 Total reward: 1.2289057085705934\n",
      "Episode  34 Total reward: -86.58751295067913\n",
      "Episode  35 Total reward: 131.94322776592918\n",
      "Episode  36 Total reward: -59.161113551509004\n",
      "Episode  37 Total reward: -153.49362801227102\n",
      "Episode  38 Total reward: 29.279424614440902\n",
      "Episode  39 Total reward: -68.25593630054392\n",
      "Episode  40 Total reward: -48.06823590313368\n",
      "Episode  41 Total reward: -44.265513174549156\n",
      "Episode  42 Total reward: -59.72136653546102\n",
      "Episode  43 Total reward: 13.08301658904088\n",
      "Episode  44 Total reward: 28.493418065960498\n",
      "Episode  45 Total reward: -31.727181413434707\n",
      "Episode  46 Total reward: 0.9594497156625437\n",
      "Episode  47 Total reward: -66.87528564716781\n",
      "Episode  48 Total reward: -3.0597093236022204\n",
      "Episode  49 Total reward: -72.43880626838211\n"
     ]
    },
    {
     "data": {
      "image/png": "[encoded data removed]",
      "text/plain": [
       "<Figure size 640x480 with 1 Axes>"
      ]
     },
     "metadata": {},
     "output_type": "display_data"
    },
    {
     "name": "stdout",
     "output_type": "stream",
     "text": [
      "\n",
      "Recompensa de Media: -30.13551169600457 \n",
      "\n"
     ]
    }
   ],
   "source": [
    "# Evaluamos al Generador \n",
    "rewardMean=gan10.evaluate_G()\n",
    "print('\\nRecompensa de Media:', rewardMean, '\\n')"
   ]
  }
 ],
 "metadata": {
  "kernelspec": {
   "display_name": "Python 3",
   "language": "python",
   "name": "python3"
  },
  "language_info": {
   "codemirror_mode": {
    "name": "ipython",
    "version": 3
   },
   "file_extension": ".py",
   "mimetype": "text/x-python",
   "name": "python",
   "nbconvert_exporter": "python",
   "pygments_lexer": "ipython3",
   "version": "3.9.undefined"
  }
 },
 "nbformat": 4,
 "nbformat_minor": 2
}
